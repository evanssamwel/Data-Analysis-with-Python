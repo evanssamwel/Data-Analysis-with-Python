{
  "nbformat": 4,
  "nbformat_minor": 0,
  "metadata": {
    "colab": {
      "provenance": [],
      "authorship_tag": "ABX9TyN71u3Qv4EGtgy9dCjjdxGm",
      "include_colab_link": true
    },
    "kernelspec": {
      "name": "python3",
      "display_name": "Python 3"
    },
    "language_info": {
      "name": "python"
    }
  },
  "cells": [
    {
      "cell_type": "markdown",
      "metadata": {
        "id": "view-in-github",
        "colab_type": "text"
      },
      "source": [
        "<a href=\"https://colab.research.google.com/github/evanssamwel/Data-Analysis-with-Python/blob/main/ModelDevelopment.ipynb\" target=\"_parent\"><img src=\"https://colab.research.google.com/assets/colab-badge.svg\" alt=\"Open In Colab\"/></a>"
      ]
    },
    {
      "cell_type": "code",
      "execution_count": 1,
      "metadata": {
        "id": "Zz3TWHZH-RpS"
      },
      "outputs": [],
      "source": [
        "import pandas as pd\n",
        "import numpy as np\n",
        "import matplotlib.pyplot as plt"
      ]
    },
    {
      "cell_type": "code",
      "source": [
        "# path of data\n",
        "path = 'https://cf-courses-data.s3.us.cloud-object-storage.appdomain.cloud/IBMDeveloperSkillsNetwork-DA0101EN-SkillsNetwork/labs/Data%20files/automobileEDA.csv'\n",
        "df = pd.read_csv(path)\n",
        "df.head()"
      ],
      "metadata": {
        "colab": {
          "base_uri": "https://localhost:8080/",
          "height": 342
        },
        "id": "WzHnKitH__EH",
        "outputId": "ed19fd4d-be6b-45c1-95da-fe57eacc2add"
      },
      "execution_count": 2,
      "outputs": [
        {
          "output_type": "execute_result",
          "data": {
            "text/plain": [
              "   symboling  normalized-losses         make aspiration num-of-doors  \\\n",
              "0          3                122  alfa-romero        std          two   \n",
              "1          3                122  alfa-romero        std          two   \n",
              "2          1                122  alfa-romero        std          two   \n",
              "3          2                164         audi        std         four   \n",
              "4          2                164         audi        std         four   \n",
              "\n",
              "    body-style drive-wheels engine-location  wheel-base    length  ...  \\\n",
              "0  convertible          rwd           front        88.6  0.811148  ...   \n",
              "1  convertible          rwd           front        88.6  0.811148  ...   \n",
              "2    hatchback          rwd           front        94.5  0.822681  ...   \n",
              "3        sedan          fwd           front        99.8  0.848630  ...   \n",
              "4        sedan          4wd           front        99.4  0.848630  ...   \n",
              "\n",
              "   compression-ratio  horsepower  peak-rpm city-mpg highway-mpg    price  \\\n",
              "0                9.0       111.0    5000.0       21          27  13495.0   \n",
              "1                9.0       111.0    5000.0       21          27  16500.0   \n",
              "2                9.0       154.0    5000.0       19          26  16500.0   \n",
              "3               10.0       102.0    5500.0       24          30  13950.0   \n",
              "4                8.0       115.0    5500.0       18          22  17450.0   \n",
              "\n",
              "  city-L/100km  horsepower-binned  diesel  gas  \n",
              "0    11.190476             Medium       0    1  \n",
              "1    11.190476             Medium       0    1  \n",
              "2    12.368421             Medium       0    1  \n",
              "3     9.791667             Medium       0    1  \n",
              "4    13.055556             Medium       0    1  \n",
              "\n",
              "[5 rows x 29 columns]"
            ],
            "text/html": [
              "\n",
              "  <div id=\"df-f83a2136-9bcd-41a5-a750-5878ecde5f6e\" class=\"colab-df-container\">\n",
              "    <div>\n",
              "<style scoped>\n",
              "    .dataframe tbody tr th:only-of-type {\n",
              "        vertical-align: middle;\n",
              "    }\n",
              "\n",
              "    .dataframe tbody tr th {\n",
              "        vertical-align: top;\n",
              "    }\n",
              "\n",
              "    .dataframe thead th {\n",
              "        text-align: right;\n",
              "    }\n",
              "</style>\n",
              "<table border=\"1\" class=\"dataframe\">\n",
              "  <thead>\n",
              "    <tr style=\"text-align: right;\">\n",
              "      <th></th>\n",
              "      <th>symboling</th>\n",
              "      <th>normalized-losses</th>\n",
              "      <th>make</th>\n",
              "      <th>aspiration</th>\n",
              "      <th>num-of-doors</th>\n",
              "      <th>body-style</th>\n",
              "      <th>drive-wheels</th>\n",
              "      <th>engine-location</th>\n",
              "      <th>wheel-base</th>\n",
              "      <th>length</th>\n",
              "      <th>...</th>\n",
              "      <th>compression-ratio</th>\n",
              "      <th>horsepower</th>\n",
              "      <th>peak-rpm</th>\n",
              "      <th>city-mpg</th>\n",
              "      <th>highway-mpg</th>\n",
              "      <th>price</th>\n",
              "      <th>city-L/100km</th>\n",
              "      <th>horsepower-binned</th>\n",
              "      <th>diesel</th>\n",
              "      <th>gas</th>\n",
              "    </tr>\n",
              "  </thead>\n",
              "  <tbody>\n",
              "    <tr>\n",
              "      <th>0</th>\n",
              "      <td>3</td>\n",
              "      <td>122</td>\n",
              "      <td>alfa-romero</td>\n",
              "      <td>std</td>\n",
              "      <td>two</td>\n",
              "      <td>convertible</td>\n",
              "      <td>rwd</td>\n",
              "      <td>front</td>\n",
              "      <td>88.6</td>\n",
              "      <td>0.811148</td>\n",
              "      <td>...</td>\n",
              "      <td>9.0</td>\n",
              "      <td>111.0</td>\n",
              "      <td>5000.0</td>\n",
              "      <td>21</td>\n",
              "      <td>27</td>\n",
              "      <td>13495.0</td>\n",
              "      <td>11.190476</td>\n",
              "      <td>Medium</td>\n",
              "      <td>0</td>\n",
              "      <td>1</td>\n",
              "    </tr>\n",
              "    <tr>\n",
              "      <th>1</th>\n",
              "      <td>3</td>\n",
              "      <td>122</td>\n",
              "      <td>alfa-romero</td>\n",
              "      <td>std</td>\n",
              "      <td>two</td>\n",
              "      <td>convertible</td>\n",
              "      <td>rwd</td>\n",
              "      <td>front</td>\n",
              "      <td>88.6</td>\n",
              "      <td>0.811148</td>\n",
              "      <td>...</td>\n",
              "      <td>9.0</td>\n",
              "      <td>111.0</td>\n",
              "      <td>5000.0</td>\n",
              "      <td>21</td>\n",
              "      <td>27</td>\n",
              "      <td>16500.0</td>\n",
              "      <td>11.190476</td>\n",
              "      <td>Medium</td>\n",
              "      <td>0</td>\n",
              "      <td>1</td>\n",
              "    </tr>\n",
              "    <tr>\n",
              "      <th>2</th>\n",
              "      <td>1</td>\n",
              "      <td>122</td>\n",
              "      <td>alfa-romero</td>\n",
              "      <td>std</td>\n",
              "      <td>two</td>\n",
              "      <td>hatchback</td>\n",
              "      <td>rwd</td>\n",
              "      <td>front</td>\n",
              "      <td>94.5</td>\n",
              "      <td>0.822681</td>\n",
              "      <td>...</td>\n",
              "      <td>9.0</td>\n",
              "      <td>154.0</td>\n",
              "      <td>5000.0</td>\n",
              "      <td>19</td>\n",
              "      <td>26</td>\n",
              "      <td>16500.0</td>\n",
              "      <td>12.368421</td>\n",
              "      <td>Medium</td>\n",
              "      <td>0</td>\n",
              "      <td>1</td>\n",
              "    </tr>\n",
              "    <tr>\n",
              "      <th>3</th>\n",
              "      <td>2</td>\n",
              "      <td>164</td>\n",
              "      <td>audi</td>\n",
              "      <td>std</td>\n",
              "      <td>four</td>\n",
              "      <td>sedan</td>\n",
              "      <td>fwd</td>\n",
              "      <td>front</td>\n",
              "      <td>99.8</td>\n",
              "      <td>0.848630</td>\n",
              "      <td>...</td>\n",
              "      <td>10.0</td>\n",
              "      <td>102.0</td>\n",
              "      <td>5500.0</td>\n",
              "      <td>24</td>\n",
              "      <td>30</td>\n",
              "      <td>13950.0</td>\n",
              "      <td>9.791667</td>\n",
              "      <td>Medium</td>\n",
              "      <td>0</td>\n",
              "      <td>1</td>\n",
              "    </tr>\n",
              "    <tr>\n",
              "      <th>4</th>\n",
              "      <td>2</td>\n",
              "      <td>164</td>\n",
              "      <td>audi</td>\n",
              "      <td>std</td>\n",
              "      <td>four</td>\n",
              "      <td>sedan</td>\n",
              "      <td>4wd</td>\n",
              "      <td>front</td>\n",
              "      <td>99.4</td>\n",
              "      <td>0.848630</td>\n",
              "      <td>...</td>\n",
              "      <td>8.0</td>\n",
              "      <td>115.0</td>\n",
              "      <td>5500.0</td>\n",
              "      <td>18</td>\n",
              "      <td>22</td>\n",
              "      <td>17450.0</td>\n",
              "      <td>13.055556</td>\n",
              "      <td>Medium</td>\n",
              "      <td>0</td>\n",
              "      <td>1</td>\n",
              "    </tr>\n",
              "  </tbody>\n",
              "</table>\n",
              "<p>5 rows × 29 columns</p>\n",
              "</div>\n",
              "    <div class=\"colab-df-buttons\">\n",
              "\n",
              "  <div class=\"colab-df-container\">\n",
              "    <button class=\"colab-df-convert\" onclick=\"convertToInteractive('df-f83a2136-9bcd-41a5-a750-5878ecde5f6e')\"\n",
              "            title=\"Convert this dataframe to an interactive table.\"\n",
              "            style=\"display:none;\">\n",
              "\n",
              "  <svg xmlns=\"http://www.w3.org/2000/svg\" height=\"24px\" viewBox=\"0 -960 960 960\">\n",
              "    <path d=\"M120-120v-720h720v720H120Zm60-500h600v-160H180v160Zm220 220h160v-160H400v160Zm0 220h160v-160H400v160ZM180-400h160v-160H180v160Zm440 0h160v-160H620v160ZM180-180h160v-160H180v160Zm440 0h160v-160H620v160Z\"/>\n",
              "  </svg>\n",
              "    </button>\n",
              "\n",
              "  <style>\n",
              "    .colab-df-container {\n",
              "      display:flex;\n",
              "      gap: 12px;\n",
              "    }\n",
              "\n",
              "    .colab-df-convert {\n",
              "      background-color: #E8F0FE;\n",
              "      border: none;\n",
              "      border-radius: 50%;\n",
              "      cursor: pointer;\n",
              "      display: none;\n",
              "      fill: #1967D2;\n",
              "      height: 32px;\n",
              "      padding: 0 0 0 0;\n",
              "      width: 32px;\n",
              "    }\n",
              "\n",
              "    .colab-df-convert:hover {\n",
              "      background-color: #E2EBFA;\n",
              "      box-shadow: 0px 1px 2px rgba(60, 64, 67, 0.3), 0px 1px 3px 1px rgba(60, 64, 67, 0.15);\n",
              "      fill: #174EA6;\n",
              "    }\n",
              "\n",
              "    .colab-df-buttons div {\n",
              "      margin-bottom: 4px;\n",
              "    }\n",
              "\n",
              "    [theme=dark] .colab-df-convert {\n",
              "      background-color: #3B4455;\n",
              "      fill: #D2E3FC;\n",
              "    }\n",
              "\n",
              "    [theme=dark] .colab-df-convert:hover {\n",
              "      background-color: #434B5C;\n",
              "      box-shadow: 0px 1px 3px 1px rgba(0, 0, 0, 0.15);\n",
              "      filter: drop-shadow(0px 1px 2px rgba(0, 0, 0, 0.3));\n",
              "      fill: #FFFFFF;\n",
              "    }\n",
              "  </style>\n",
              "\n",
              "    <script>\n",
              "      const buttonEl =\n",
              "        document.querySelector('#df-f83a2136-9bcd-41a5-a750-5878ecde5f6e button.colab-df-convert');\n",
              "      buttonEl.style.display =\n",
              "        google.colab.kernel.accessAllowed ? 'block' : 'none';\n",
              "\n",
              "      async function convertToInteractive(key) {\n",
              "        const element = document.querySelector('#df-f83a2136-9bcd-41a5-a750-5878ecde5f6e');\n",
              "        const dataTable =\n",
              "          await google.colab.kernel.invokeFunction('convertToInteractive',\n",
              "                                                    [key], {});\n",
              "        if (!dataTable) return;\n",
              "\n",
              "        const docLinkHtml = 'Like what you see? Visit the ' +\n",
              "          '<a target=\"_blank\" href=https://colab.research.google.com/notebooks/data_table.ipynb>data table notebook</a>'\n",
              "          + ' to learn more about interactive tables.';\n",
              "        element.innerHTML = '';\n",
              "        dataTable['output_type'] = 'display_data';\n",
              "        await google.colab.output.renderOutput(dataTable, element);\n",
              "        const docLink = document.createElement('div');\n",
              "        docLink.innerHTML = docLinkHtml;\n",
              "        element.appendChild(docLink);\n",
              "      }\n",
              "    </script>\n",
              "  </div>\n",
              "\n",
              "\n",
              "<div id=\"df-0b9123ee-8beb-4b57-8210-114b51ab5e72\">\n",
              "  <button class=\"colab-df-quickchart\" onclick=\"quickchart('df-0b9123ee-8beb-4b57-8210-114b51ab5e72')\"\n",
              "            title=\"Suggest charts\"\n",
              "            style=\"display:none;\">\n",
              "\n",
              "<svg xmlns=\"http://www.w3.org/2000/svg\" height=\"24px\"viewBox=\"0 0 24 24\"\n",
              "     width=\"24px\">\n",
              "    <g>\n",
              "        <path d=\"M19 3H5c-1.1 0-2 .9-2 2v14c0 1.1.9 2 2 2h14c1.1 0 2-.9 2-2V5c0-1.1-.9-2-2-2zM9 17H7v-7h2v7zm4 0h-2V7h2v10zm4 0h-2v-4h2v4z\"/>\n",
              "    </g>\n",
              "</svg>\n",
              "  </button>\n",
              "\n",
              "<style>\n",
              "  .colab-df-quickchart {\n",
              "      --bg-color: #E8F0FE;\n",
              "      --fill-color: #1967D2;\n",
              "      --hover-bg-color: #E2EBFA;\n",
              "      --hover-fill-color: #174EA6;\n",
              "      --disabled-fill-color: #AAA;\n",
              "      --disabled-bg-color: #DDD;\n",
              "  }\n",
              "\n",
              "  [theme=dark] .colab-df-quickchart {\n",
              "      --bg-color: #3B4455;\n",
              "      --fill-color: #D2E3FC;\n",
              "      --hover-bg-color: #434B5C;\n",
              "      --hover-fill-color: #FFFFFF;\n",
              "      --disabled-bg-color: #3B4455;\n",
              "      --disabled-fill-color: #666;\n",
              "  }\n",
              "\n",
              "  .colab-df-quickchart {\n",
              "    background-color: var(--bg-color);\n",
              "    border: none;\n",
              "    border-radius: 50%;\n",
              "    cursor: pointer;\n",
              "    display: none;\n",
              "    fill: var(--fill-color);\n",
              "    height: 32px;\n",
              "    padding: 0;\n",
              "    width: 32px;\n",
              "  }\n",
              "\n",
              "  .colab-df-quickchart:hover {\n",
              "    background-color: var(--hover-bg-color);\n",
              "    box-shadow: 0 1px 2px rgba(60, 64, 67, 0.3), 0 1px 3px 1px rgba(60, 64, 67, 0.15);\n",
              "    fill: var(--button-hover-fill-color);\n",
              "  }\n",
              "\n",
              "  .colab-df-quickchart-complete:disabled,\n",
              "  .colab-df-quickchart-complete:disabled:hover {\n",
              "    background-color: var(--disabled-bg-color);\n",
              "    fill: var(--disabled-fill-color);\n",
              "    box-shadow: none;\n",
              "  }\n",
              "\n",
              "  .colab-df-spinner {\n",
              "    border: 2px solid var(--fill-color);\n",
              "    border-color: transparent;\n",
              "    border-bottom-color: var(--fill-color);\n",
              "    animation:\n",
              "      spin 1s steps(1) infinite;\n",
              "  }\n",
              "\n",
              "  @keyframes spin {\n",
              "    0% {\n",
              "      border-color: transparent;\n",
              "      border-bottom-color: var(--fill-color);\n",
              "      border-left-color: var(--fill-color);\n",
              "    }\n",
              "    20% {\n",
              "      border-color: transparent;\n",
              "      border-left-color: var(--fill-color);\n",
              "      border-top-color: var(--fill-color);\n",
              "    }\n",
              "    30% {\n",
              "      border-color: transparent;\n",
              "      border-left-color: var(--fill-color);\n",
              "      border-top-color: var(--fill-color);\n",
              "      border-right-color: var(--fill-color);\n",
              "    }\n",
              "    40% {\n",
              "      border-color: transparent;\n",
              "      border-right-color: var(--fill-color);\n",
              "      border-top-color: var(--fill-color);\n",
              "    }\n",
              "    60% {\n",
              "      border-color: transparent;\n",
              "      border-right-color: var(--fill-color);\n",
              "    }\n",
              "    80% {\n",
              "      border-color: transparent;\n",
              "      border-right-color: var(--fill-color);\n",
              "      border-bottom-color: var(--fill-color);\n",
              "    }\n",
              "    90% {\n",
              "      border-color: transparent;\n",
              "      border-bottom-color: var(--fill-color);\n",
              "    }\n",
              "  }\n",
              "</style>\n",
              "\n",
              "  <script>\n",
              "    async function quickchart(key) {\n",
              "      const quickchartButtonEl =\n",
              "        document.querySelector('#' + key + ' button');\n",
              "      quickchartButtonEl.disabled = true;  // To prevent multiple clicks.\n",
              "      quickchartButtonEl.classList.add('colab-df-spinner');\n",
              "      try {\n",
              "        const charts = await google.colab.kernel.invokeFunction(\n",
              "            'suggestCharts', [key], {});\n",
              "      } catch (error) {\n",
              "        console.error('Error during call to suggestCharts:', error);\n",
              "      }\n",
              "      quickchartButtonEl.classList.remove('colab-df-spinner');\n",
              "      quickchartButtonEl.classList.add('colab-df-quickchart-complete');\n",
              "    }\n",
              "    (() => {\n",
              "      let quickchartButtonEl =\n",
              "        document.querySelector('#df-0b9123ee-8beb-4b57-8210-114b51ab5e72 button');\n",
              "      quickchartButtonEl.style.display =\n",
              "        google.colab.kernel.accessAllowed ? 'block' : 'none';\n",
              "    })();\n",
              "  </script>\n",
              "</div>\n",
              "\n",
              "    </div>\n",
              "  </div>\n"
            ],
            "application/vnd.google.colaboratory.intrinsic+json": {
              "type": "dataframe",
              "variable_name": "df"
            }
          },
          "metadata": {},
          "execution_count": 2
        }
      ]
    },
    {
      "cell_type": "code",
      "source": [
        "from sklearn.linear_model import LinearRegression"
      ],
      "metadata": {
        "id": "SUxLgB2lADAE"
      },
      "execution_count": 3,
      "outputs": []
    },
    {
      "cell_type": "code",
      "source": [
        "lm = LinearRegression()\n",
        "lm"
      ],
      "metadata": {
        "colab": {
          "base_uri": "https://localhost:8080/",
          "height": 75
        },
        "id": "5k4CReUzAFxK",
        "outputId": "5031d93c-bdc7-44e0-9272-46e6ca57e35a"
      },
      "execution_count": 4,
      "outputs": [
        {
          "output_type": "execute_result",
          "data": {
            "text/plain": [
              "LinearRegression()"
            ],
            "text/html": [
              "<style>#sk-container-id-1 {color: black;}#sk-container-id-1 pre{padding: 0;}#sk-container-id-1 div.sk-toggleable {background-color: white;}#sk-container-id-1 label.sk-toggleable__label {cursor: pointer;display: block;width: 100%;margin-bottom: 0;padding: 0.3em;box-sizing: border-box;text-align: center;}#sk-container-id-1 label.sk-toggleable__label-arrow:before {content: \"▸\";float: left;margin-right: 0.25em;color: #696969;}#sk-container-id-1 label.sk-toggleable__label-arrow:hover:before {color: black;}#sk-container-id-1 div.sk-estimator:hover label.sk-toggleable__label-arrow:before {color: black;}#sk-container-id-1 div.sk-toggleable__content {max-height: 0;max-width: 0;overflow: hidden;text-align: left;background-color: #f0f8ff;}#sk-container-id-1 div.sk-toggleable__content pre {margin: 0.2em;color: black;border-radius: 0.25em;background-color: #f0f8ff;}#sk-container-id-1 input.sk-toggleable__control:checked~div.sk-toggleable__content {max-height: 200px;max-width: 100%;overflow: auto;}#sk-container-id-1 input.sk-toggleable__control:checked~label.sk-toggleable__label-arrow:before {content: \"▾\";}#sk-container-id-1 div.sk-estimator input.sk-toggleable__control:checked~label.sk-toggleable__label {background-color: #d4ebff;}#sk-container-id-1 div.sk-label input.sk-toggleable__control:checked~label.sk-toggleable__label {background-color: #d4ebff;}#sk-container-id-1 input.sk-hidden--visually {border: 0;clip: rect(1px 1px 1px 1px);clip: rect(1px, 1px, 1px, 1px);height: 1px;margin: -1px;overflow: hidden;padding: 0;position: absolute;width: 1px;}#sk-container-id-1 div.sk-estimator {font-family: monospace;background-color: #f0f8ff;border: 1px dotted black;border-radius: 0.25em;box-sizing: border-box;margin-bottom: 0.5em;}#sk-container-id-1 div.sk-estimator:hover {background-color: #d4ebff;}#sk-container-id-1 div.sk-parallel-item::after {content: \"\";width: 100%;border-bottom: 1px solid gray;flex-grow: 1;}#sk-container-id-1 div.sk-label:hover label.sk-toggleable__label {background-color: #d4ebff;}#sk-container-id-1 div.sk-serial::before {content: \"\";position: absolute;border-left: 1px solid gray;box-sizing: border-box;top: 0;bottom: 0;left: 50%;z-index: 0;}#sk-container-id-1 div.sk-serial {display: flex;flex-direction: column;align-items: center;background-color: white;padding-right: 0.2em;padding-left: 0.2em;position: relative;}#sk-container-id-1 div.sk-item {position: relative;z-index: 1;}#sk-container-id-1 div.sk-parallel {display: flex;align-items: stretch;justify-content: center;background-color: white;position: relative;}#sk-container-id-1 div.sk-item::before, #sk-container-id-1 div.sk-parallel-item::before {content: \"\";position: absolute;border-left: 1px solid gray;box-sizing: border-box;top: 0;bottom: 0;left: 50%;z-index: -1;}#sk-container-id-1 div.sk-parallel-item {display: flex;flex-direction: column;z-index: 1;position: relative;background-color: white;}#sk-container-id-1 div.sk-parallel-item:first-child::after {align-self: flex-end;width: 50%;}#sk-container-id-1 div.sk-parallel-item:last-child::after {align-self: flex-start;width: 50%;}#sk-container-id-1 div.sk-parallel-item:only-child::after {width: 0;}#sk-container-id-1 div.sk-dashed-wrapped {border: 1px dashed gray;margin: 0 0.4em 0.5em 0.4em;box-sizing: border-box;padding-bottom: 0.4em;background-color: white;}#sk-container-id-1 div.sk-label label {font-family: monospace;font-weight: bold;display: inline-block;line-height: 1.2em;}#sk-container-id-1 div.sk-label-container {text-align: center;}#sk-container-id-1 div.sk-container {/* jupyter's `normalize.less` sets `[hidden] { display: none; }` but bootstrap.min.css set `[hidden] { display: none !important; }` so we also need the `!important` here to be able to override the default hidden behavior on the sphinx rendered scikit-learn.org. See: https://github.com/scikit-learn/scikit-learn/issues/21755 */display: inline-block !important;position: relative;}#sk-container-id-1 div.sk-text-repr-fallback {display: none;}</style><div id=\"sk-container-id-1\" class=\"sk-top-container\"><div class=\"sk-text-repr-fallback\"><pre>LinearRegression()</pre><b>In a Jupyter environment, please rerun this cell to show the HTML representation or trust the notebook. <br />On GitHub, the HTML representation is unable to render, please try loading this page with nbviewer.org.</b></div><div class=\"sk-container\" hidden><div class=\"sk-item\"><div class=\"sk-estimator sk-toggleable\"><input class=\"sk-toggleable__control sk-hidden--visually\" id=\"sk-estimator-id-1\" type=\"checkbox\" checked><label for=\"sk-estimator-id-1\" class=\"sk-toggleable__label sk-toggleable__label-arrow\">LinearRegression</label><div class=\"sk-toggleable__content\"><pre>LinearRegression()</pre></div></div></div></div></div>"
            ]
          },
          "metadata": {},
          "execution_count": 4
        }
      ]
    },
    {
      "cell_type": "code",
      "source": [
        "X = df[['highway-mpg']]\n",
        "Y = df['price']"
      ],
      "metadata": {
        "id": "J67WRvOMAICV"
      },
      "execution_count": 5,
      "outputs": []
    },
    {
      "cell_type": "code",
      "source": [
        "lm.fit(X,Y)"
      ],
      "metadata": {
        "colab": {
          "base_uri": "https://localhost:8080/",
          "height": 75
        },
        "id": "Hfppg1R6AJ8X",
        "outputId": "04e59ad7-cd20-40d5-d8f7-6fffd4354ca1"
      },
      "execution_count": 6,
      "outputs": [
        {
          "output_type": "execute_result",
          "data": {
            "text/plain": [
              "LinearRegression()"
            ],
            "text/html": [
              "<style>#sk-container-id-2 {color: black;}#sk-container-id-2 pre{padding: 0;}#sk-container-id-2 div.sk-toggleable {background-color: white;}#sk-container-id-2 label.sk-toggleable__label {cursor: pointer;display: block;width: 100%;margin-bottom: 0;padding: 0.3em;box-sizing: border-box;text-align: center;}#sk-container-id-2 label.sk-toggleable__label-arrow:before {content: \"▸\";float: left;margin-right: 0.25em;color: #696969;}#sk-container-id-2 label.sk-toggleable__label-arrow:hover:before {color: black;}#sk-container-id-2 div.sk-estimator:hover label.sk-toggleable__label-arrow:before {color: black;}#sk-container-id-2 div.sk-toggleable__content {max-height: 0;max-width: 0;overflow: hidden;text-align: left;background-color: #f0f8ff;}#sk-container-id-2 div.sk-toggleable__content pre {margin: 0.2em;color: black;border-radius: 0.25em;background-color: #f0f8ff;}#sk-container-id-2 input.sk-toggleable__control:checked~div.sk-toggleable__content {max-height: 200px;max-width: 100%;overflow: auto;}#sk-container-id-2 input.sk-toggleable__control:checked~label.sk-toggleable__label-arrow:before {content: \"▾\";}#sk-container-id-2 div.sk-estimator input.sk-toggleable__control:checked~label.sk-toggleable__label {background-color: #d4ebff;}#sk-container-id-2 div.sk-label input.sk-toggleable__control:checked~label.sk-toggleable__label {background-color: #d4ebff;}#sk-container-id-2 input.sk-hidden--visually {border: 0;clip: rect(1px 1px 1px 1px);clip: rect(1px, 1px, 1px, 1px);height: 1px;margin: -1px;overflow: hidden;padding: 0;position: absolute;width: 1px;}#sk-container-id-2 div.sk-estimator {font-family: monospace;background-color: #f0f8ff;border: 1px dotted black;border-radius: 0.25em;box-sizing: border-box;margin-bottom: 0.5em;}#sk-container-id-2 div.sk-estimator:hover {background-color: #d4ebff;}#sk-container-id-2 div.sk-parallel-item::after {content: \"\";width: 100%;border-bottom: 1px solid gray;flex-grow: 1;}#sk-container-id-2 div.sk-label:hover label.sk-toggleable__label {background-color: #d4ebff;}#sk-container-id-2 div.sk-serial::before {content: \"\";position: absolute;border-left: 1px solid gray;box-sizing: border-box;top: 0;bottom: 0;left: 50%;z-index: 0;}#sk-container-id-2 div.sk-serial {display: flex;flex-direction: column;align-items: center;background-color: white;padding-right: 0.2em;padding-left: 0.2em;position: relative;}#sk-container-id-2 div.sk-item {position: relative;z-index: 1;}#sk-container-id-2 div.sk-parallel {display: flex;align-items: stretch;justify-content: center;background-color: white;position: relative;}#sk-container-id-2 div.sk-item::before, #sk-container-id-2 div.sk-parallel-item::before {content: \"\";position: absolute;border-left: 1px solid gray;box-sizing: border-box;top: 0;bottom: 0;left: 50%;z-index: -1;}#sk-container-id-2 div.sk-parallel-item {display: flex;flex-direction: column;z-index: 1;position: relative;background-color: white;}#sk-container-id-2 div.sk-parallel-item:first-child::after {align-self: flex-end;width: 50%;}#sk-container-id-2 div.sk-parallel-item:last-child::after {align-self: flex-start;width: 50%;}#sk-container-id-2 div.sk-parallel-item:only-child::after {width: 0;}#sk-container-id-2 div.sk-dashed-wrapped {border: 1px dashed gray;margin: 0 0.4em 0.5em 0.4em;box-sizing: border-box;padding-bottom: 0.4em;background-color: white;}#sk-container-id-2 div.sk-label label {font-family: monospace;font-weight: bold;display: inline-block;line-height: 1.2em;}#sk-container-id-2 div.sk-label-container {text-align: center;}#sk-container-id-2 div.sk-container {/* jupyter's `normalize.less` sets `[hidden] { display: none; }` but bootstrap.min.css set `[hidden] { display: none !important; }` so we also need the `!important` here to be able to override the default hidden behavior on the sphinx rendered scikit-learn.org. See: https://github.com/scikit-learn/scikit-learn/issues/21755 */display: inline-block !important;position: relative;}#sk-container-id-2 div.sk-text-repr-fallback {display: none;}</style><div id=\"sk-container-id-2\" class=\"sk-top-container\"><div class=\"sk-text-repr-fallback\"><pre>LinearRegression()</pre><b>In a Jupyter environment, please rerun this cell to show the HTML representation or trust the notebook. <br />On GitHub, the HTML representation is unable to render, please try loading this page with nbviewer.org.</b></div><div class=\"sk-container\" hidden><div class=\"sk-item\"><div class=\"sk-estimator sk-toggleable\"><input class=\"sk-toggleable__control sk-hidden--visually\" id=\"sk-estimator-id-2\" type=\"checkbox\" checked><label for=\"sk-estimator-id-2\" class=\"sk-toggleable__label sk-toggleable__label-arrow\">LinearRegression</label><div class=\"sk-toggleable__content\"><pre>LinearRegression()</pre></div></div></div></div></div>"
            ]
          },
          "metadata": {},
          "execution_count": 6
        }
      ]
    },
    {
      "cell_type": "code",
      "source": [
        "Yhat=lm.predict(X)\n",
        "Yhat[0:5]"
      ],
      "metadata": {
        "colab": {
          "base_uri": "https://localhost:8080/"
        },
        "id": "2jOYOIZvAL6s",
        "outputId": "23add8f2-69fe-43c3-e3ca-364b938576c7"
      },
      "execution_count": 7,
      "outputs": [
        {
          "output_type": "execute_result",
          "data": {
            "text/plain": [
              "array([16236.50464347, 16236.50464347, 17058.23802179, 13771.3045085 ,\n",
              "       20345.17153508])"
            ]
          },
          "metadata": {},
          "execution_count": 7
        }
      ]
    },
    {
      "cell_type": "code",
      "source": [
        "lm.intercept_"
      ],
      "metadata": {
        "colab": {
          "base_uri": "https://localhost:8080/"
        },
        "id": "QypjDpBMANnd",
        "outputId": "68afa8b2-7786-431d-c375-01a29509c739"
      },
      "execution_count": 8,
      "outputs": [
        {
          "output_type": "execute_result",
          "data": {
            "text/plain": [
              "38423.3058581574"
            ]
          },
          "metadata": {},
          "execution_count": 8
        }
      ]
    },
    {
      "cell_type": "code",
      "source": [
        "lm.coef_"
      ],
      "metadata": {
        "colab": {
          "base_uri": "https://localhost:8080/"
        },
        "id": "g251OcmFAP6d",
        "outputId": "d5523c3f-f91b-4f31-eb1d-c4a89ca9bd4b"
      },
      "execution_count": 9,
      "outputs": [
        {
          "output_type": "execute_result",
          "data": {
            "text/plain": [
              "array([-821.73337832])"
            ]
          },
          "metadata": {},
          "execution_count": 9
        }
      ]
    },
    {
      "cell_type": "code",
      "source": [
        "lm1 = LinearRegression()\n",
        "lm1"
      ],
      "metadata": {
        "colab": {
          "base_uri": "https://localhost:8080/",
          "height": 75
        },
        "id": "dUwjLmhiASGw",
        "outputId": "d1bd1186-8de3-4514-b27d-3064c79b1873"
      },
      "execution_count": 10,
      "outputs": [
        {
          "output_type": "execute_result",
          "data": {
            "text/plain": [
              "LinearRegression()"
            ],
            "text/html": [
              "<style>#sk-container-id-3 {color: black;}#sk-container-id-3 pre{padding: 0;}#sk-container-id-3 div.sk-toggleable {background-color: white;}#sk-container-id-3 label.sk-toggleable__label {cursor: pointer;display: block;width: 100%;margin-bottom: 0;padding: 0.3em;box-sizing: border-box;text-align: center;}#sk-container-id-3 label.sk-toggleable__label-arrow:before {content: \"▸\";float: left;margin-right: 0.25em;color: #696969;}#sk-container-id-3 label.sk-toggleable__label-arrow:hover:before {color: black;}#sk-container-id-3 div.sk-estimator:hover label.sk-toggleable__label-arrow:before {color: black;}#sk-container-id-3 div.sk-toggleable__content {max-height: 0;max-width: 0;overflow: hidden;text-align: left;background-color: #f0f8ff;}#sk-container-id-3 div.sk-toggleable__content pre {margin: 0.2em;color: black;border-radius: 0.25em;background-color: #f0f8ff;}#sk-container-id-3 input.sk-toggleable__control:checked~div.sk-toggleable__content {max-height: 200px;max-width: 100%;overflow: auto;}#sk-container-id-3 input.sk-toggleable__control:checked~label.sk-toggleable__label-arrow:before {content: \"▾\";}#sk-container-id-3 div.sk-estimator input.sk-toggleable__control:checked~label.sk-toggleable__label {background-color: #d4ebff;}#sk-container-id-3 div.sk-label input.sk-toggleable__control:checked~label.sk-toggleable__label {background-color: #d4ebff;}#sk-container-id-3 input.sk-hidden--visually {border: 0;clip: rect(1px 1px 1px 1px);clip: rect(1px, 1px, 1px, 1px);height: 1px;margin: -1px;overflow: hidden;padding: 0;position: absolute;width: 1px;}#sk-container-id-3 div.sk-estimator {font-family: monospace;background-color: #f0f8ff;border: 1px dotted black;border-radius: 0.25em;box-sizing: border-box;margin-bottom: 0.5em;}#sk-container-id-3 div.sk-estimator:hover {background-color: #d4ebff;}#sk-container-id-3 div.sk-parallel-item::after {content: \"\";width: 100%;border-bottom: 1px solid gray;flex-grow: 1;}#sk-container-id-3 div.sk-label:hover label.sk-toggleable__label {background-color: #d4ebff;}#sk-container-id-3 div.sk-serial::before {content: \"\";position: absolute;border-left: 1px solid gray;box-sizing: border-box;top: 0;bottom: 0;left: 50%;z-index: 0;}#sk-container-id-3 div.sk-serial {display: flex;flex-direction: column;align-items: center;background-color: white;padding-right: 0.2em;padding-left: 0.2em;position: relative;}#sk-container-id-3 div.sk-item {position: relative;z-index: 1;}#sk-container-id-3 div.sk-parallel {display: flex;align-items: stretch;justify-content: center;background-color: white;position: relative;}#sk-container-id-3 div.sk-item::before, #sk-container-id-3 div.sk-parallel-item::before {content: \"\";position: absolute;border-left: 1px solid gray;box-sizing: border-box;top: 0;bottom: 0;left: 50%;z-index: -1;}#sk-container-id-3 div.sk-parallel-item {display: flex;flex-direction: column;z-index: 1;position: relative;background-color: white;}#sk-container-id-3 div.sk-parallel-item:first-child::after {align-self: flex-end;width: 50%;}#sk-container-id-3 div.sk-parallel-item:last-child::after {align-self: flex-start;width: 50%;}#sk-container-id-3 div.sk-parallel-item:only-child::after {width: 0;}#sk-container-id-3 div.sk-dashed-wrapped {border: 1px dashed gray;margin: 0 0.4em 0.5em 0.4em;box-sizing: border-box;padding-bottom: 0.4em;background-color: white;}#sk-container-id-3 div.sk-label label {font-family: monospace;font-weight: bold;display: inline-block;line-height: 1.2em;}#sk-container-id-3 div.sk-label-container {text-align: center;}#sk-container-id-3 div.sk-container {/* jupyter's `normalize.less` sets `[hidden] { display: none; }` but bootstrap.min.css set `[hidden] { display: none !important; }` so we also need the `!important` here to be able to override the default hidden behavior on the sphinx rendered scikit-learn.org. See: https://github.com/scikit-learn/scikit-learn/issues/21755 */display: inline-block !important;position: relative;}#sk-container-id-3 div.sk-text-repr-fallback {display: none;}</style><div id=\"sk-container-id-3\" class=\"sk-top-container\"><div class=\"sk-text-repr-fallback\"><pre>LinearRegression()</pre><b>In a Jupyter environment, please rerun this cell to show the HTML representation or trust the notebook. <br />On GitHub, the HTML representation is unable to render, please try loading this page with nbviewer.org.</b></div><div class=\"sk-container\" hidden><div class=\"sk-item\"><div class=\"sk-estimator sk-toggleable\"><input class=\"sk-toggleable__control sk-hidden--visually\" id=\"sk-estimator-id-3\" type=\"checkbox\" checked><label for=\"sk-estimator-id-3\" class=\"sk-toggleable__label sk-toggleable__label-arrow\">LinearRegression</label><div class=\"sk-toggleable__content\"><pre>LinearRegression()</pre></div></div></div></div></div>"
            ]
          },
          "metadata": {},
          "execution_count": 10
        }
      ]
    },
    {
      "cell_type": "code",
      "source": [
        "lm1.fit(df[['engine-size']], df[['price']])\n",
        "lm1"
      ],
      "metadata": {
        "colab": {
          "base_uri": "https://localhost:8080/",
          "height": 75
        },
        "id": "4UTCMqrcAUn5",
        "outputId": "27b3eafe-1bdf-40ee-a8ea-0cfe0e623f8a"
      },
      "execution_count": 11,
      "outputs": [
        {
          "output_type": "execute_result",
          "data": {
            "text/plain": [
              "LinearRegression()"
            ],
            "text/html": [
              "<style>#sk-container-id-4 {color: black;}#sk-container-id-4 pre{padding: 0;}#sk-container-id-4 div.sk-toggleable {background-color: white;}#sk-container-id-4 label.sk-toggleable__label {cursor: pointer;display: block;width: 100%;margin-bottom: 0;padding: 0.3em;box-sizing: border-box;text-align: center;}#sk-container-id-4 label.sk-toggleable__label-arrow:before {content: \"▸\";float: left;margin-right: 0.25em;color: #696969;}#sk-container-id-4 label.sk-toggleable__label-arrow:hover:before {color: black;}#sk-container-id-4 div.sk-estimator:hover label.sk-toggleable__label-arrow:before {color: black;}#sk-container-id-4 div.sk-toggleable__content {max-height: 0;max-width: 0;overflow: hidden;text-align: left;background-color: #f0f8ff;}#sk-container-id-4 div.sk-toggleable__content pre {margin: 0.2em;color: black;border-radius: 0.25em;background-color: #f0f8ff;}#sk-container-id-4 input.sk-toggleable__control:checked~div.sk-toggleable__content {max-height: 200px;max-width: 100%;overflow: auto;}#sk-container-id-4 input.sk-toggleable__control:checked~label.sk-toggleable__label-arrow:before {content: \"▾\";}#sk-container-id-4 div.sk-estimator input.sk-toggleable__control:checked~label.sk-toggleable__label {background-color: #d4ebff;}#sk-container-id-4 div.sk-label input.sk-toggleable__control:checked~label.sk-toggleable__label {background-color: #d4ebff;}#sk-container-id-4 input.sk-hidden--visually {border: 0;clip: rect(1px 1px 1px 1px);clip: rect(1px, 1px, 1px, 1px);height: 1px;margin: -1px;overflow: hidden;padding: 0;position: absolute;width: 1px;}#sk-container-id-4 div.sk-estimator {font-family: monospace;background-color: #f0f8ff;border: 1px dotted black;border-radius: 0.25em;box-sizing: border-box;margin-bottom: 0.5em;}#sk-container-id-4 div.sk-estimator:hover {background-color: #d4ebff;}#sk-container-id-4 div.sk-parallel-item::after {content: \"\";width: 100%;border-bottom: 1px solid gray;flex-grow: 1;}#sk-container-id-4 div.sk-label:hover label.sk-toggleable__label {background-color: #d4ebff;}#sk-container-id-4 div.sk-serial::before {content: \"\";position: absolute;border-left: 1px solid gray;box-sizing: border-box;top: 0;bottom: 0;left: 50%;z-index: 0;}#sk-container-id-4 div.sk-serial {display: flex;flex-direction: column;align-items: center;background-color: white;padding-right: 0.2em;padding-left: 0.2em;position: relative;}#sk-container-id-4 div.sk-item {position: relative;z-index: 1;}#sk-container-id-4 div.sk-parallel {display: flex;align-items: stretch;justify-content: center;background-color: white;position: relative;}#sk-container-id-4 div.sk-item::before, #sk-container-id-4 div.sk-parallel-item::before {content: \"\";position: absolute;border-left: 1px solid gray;box-sizing: border-box;top: 0;bottom: 0;left: 50%;z-index: -1;}#sk-container-id-4 div.sk-parallel-item {display: flex;flex-direction: column;z-index: 1;position: relative;background-color: white;}#sk-container-id-4 div.sk-parallel-item:first-child::after {align-self: flex-end;width: 50%;}#sk-container-id-4 div.sk-parallel-item:last-child::after {align-self: flex-start;width: 50%;}#sk-container-id-4 div.sk-parallel-item:only-child::after {width: 0;}#sk-container-id-4 div.sk-dashed-wrapped {border: 1px dashed gray;margin: 0 0.4em 0.5em 0.4em;box-sizing: border-box;padding-bottom: 0.4em;background-color: white;}#sk-container-id-4 div.sk-label label {font-family: monospace;font-weight: bold;display: inline-block;line-height: 1.2em;}#sk-container-id-4 div.sk-label-container {text-align: center;}#sk-container-id-4 div.sk-container {/* jupyter's `normalize.less` sets `[hidden] { display: none; }` but bootstrap.min.css set `[hidden] { display: none !important; }` so we also need the `!important` here to be able to override the default hidden behavior on the sphinx rendered scikit-learn.org. See: https://github.com/scikit-learn/scikit-learn/issues/21755 */display: inline-block !important;position: relative;}#sk-container-id-4 div.sk-text-repr-fallback {display: none;}</style><div id=\"sk-container-id-4\" class=\"sk-top-container\"><div class=\"sk-text-repr-fallback\"><pre>LinearRegression()</pre><b>In a Jupyter environment, please rerun this cell to show the HTML representation or trust the notebook. <br />On GitHub, the HTML representation is unable to render, please try loading this page with nbviewer.org.</b></div><div class=\"sk-container\" hidden><div class=\"sk-item\"><div class=\"sk-estimator sk-toggleable\"><input class=\"sk-toggleable__control sk-hidden--visually\" id=\"sk-estimator-id-4\" type=\"checkbox\" checked><label for=\"sk-estimator-id-4\" class=\"sk-toggleable__label sk-toggleable__label-arrow\">LinearRegression</label><div class=\"sk-toggleable__content\"><pre>LinearRegression()</pre></div></div></div></div></div>"
            ]
          },
          "metadata": {},
          "execution_count": 11
        }
      ]
    },
    {
      "cell_type": "code",
      "source": [
        "# Slope\n",
        "lm1.coef_\n",
        "\n",
        "# Intercept\n",
        "lm1.intercept_"
      ],
      "metadata": {
        "colab": {
          "base_uri": "https://localhost:8080/"
        },
        "id": "6UMIV1-fAYTR",
        "outputId": "1c5b8112-b04d-4bc5-d327-ecd115377fae"
      },
      "execution_count": 12,
      "outputs": [
        {
          "output_type": "execute_result",
          "data": {
            "text/plain": [
              "array([-7963.33890628])"
            ]
          },
          "metadata": {},
          "execution_count": 12
        }
      ]
    },
    {
      "cell_type": "code",
      "source": [
        "# using X and Y\n",
        "Yhat=-7963.34 + 166.86*X\n"
      ],
      "metadata": {
        "id": "q3B9jjilAbqo"
      },
      "execution_count": 15,
      "outputs": []
    },
    {
      "cell_type": "code",
      "source": [
        "Price = -7963.34 + 166.86 * df['engine-size']  # Access the 'engine-size' column from the DataFrame"
      ],
      "metadata": {
        "id": "245CQLJZBX2a"
      },
      "execution_count": 17,
      "outputs": []
    },
    {
      "cell_type": "code",
      "source": [
        "Z = df[['horsepower', 'curb-weight', 'engine-size', 'highway-mpg']]"
      ],
      "metadata": {
        "id": "1JClNubIBhI8"
      },
      "execution_count": 18,
      "outputs": []
    },
    {
      "cell_type": "code",
      "source": [
        "lm.fit(Z, df['price'])"
      ],
      "metadata": {
        "colab": {
          "base_uri": "https://localhost:8080/",
          "height": 75
        },
        "id": "b7iBOQmyBi0K",
        "outputId": "2f5e5711-e7a8-4cde-ac45-27a69d7e27c3"
      },
      "execution_count": 19,
      "outputs": [
        {
          "output_type": "execute_result",
          "data": {
            "text/plain": [
              "LinearRegression()"
            ],
            "text/html": [
              "<style>#sk-container-id-5 {color: black;}#sk-container-id-5 pre{padding: 0;}#sk-container-id-5 div.sk-toggleable {background-color: white;}#sk-container-id-5 label.sk-toggleable__label {cursor: pointer;display: block;width: 100%;margin-bottom: 0;padding: 0.3em;box-sizing: border-box;text-align: center;}#sk-container-id-5 label.sk-toggleable__label-arrow:before {content: \"▸\";float: left;margin-right: 0.25em;color: #696969;}#sk-container-id-5 label.sk-toggleable__label-arrow:hover:before {color: black;}#sk-container-id-5 div.sk-estimator:hover label.sk-toggleable__label-arrow:before {color: black;}#sk-container-id-5 div.sk-toggleable__content {max-height: 0;max-width: 0;overflow: hidden;text-align: left;background-color: #f0f8ff;}#sk-container-id-5 div.sk-toggleable__content pre {margin: 0.2em;color: black;border-radius: 0.25em;background-color: #f0f8ff;}#sk-container-id-5 input.sk-toggleable__control:checked~div.sk-toggleable__content {max-height: 200px;max-width: 100%;overflow: auto;}#sk-container-id-5 input.sk-toggleable__control:checked~label.sk-toggleable__label-arrow:before {content: \"▾\";}#sk-container-id-5 div.sk-estimator input.sk-toggleable__control:checked~label.sk-toggleable__label {background-color: #d4ebff;}#sk-container-id-5 div.sk-label input.sk-toggleable__control:checked~label.sk-toggleable__label {background-color: #d4ebff;}#sk-container-id-5 input.sk-hidden--visually {border: 0;clip: rect(1px 1px 1px 1px);clip: rect(1px, 1px, 1px, 1px);height: 1px;margin: -1px;overflow: hidden;padding: 0;position: absolute;width: 1px;}#sk-container-id-5 div.sk-estimator {font-family: monospace;background-color: #f0f8ff;border: 1px dotted black;border-radius: 0.25em;box-sizing: border-box;margin-bottom: 0.5em;}#sk-container-id-5 div.sk-estimator:hover {background-color: #d4ebff;}#sk-container-id-5 div.sk-parallel-item::after {content: \"\";width: 100%;border-bottom: 1px solid gray;flex-grow: 1;}#sk-container-id-5 div.sk-label:hover label.sk-toggleable__label {background-color: #d4ebff;}#sk-container-id-5 div.sk-serial::before {content: \"\";position: absolute;border-left: 1px solid gray;box-sizing: border-box;top: 0;bottom: 0;left: 50%;z-index: 0;}#sk-container-id-5 div.sk-serial {display: flex;flex-direction: column;align-items: center;background-color: white;padding-right: 0.2em;padding-left: 0.2em;position: relative;}#sk-container-id-5 div.sk-item {position: relative;z-index: 1;}#sk-container-id-5 div.sk-parallel {display: flex;align-items: stretch;justify-content: center;background-color: white;position: relative;}#sk-container-id-5 div.sk-item::before, #sk-container-id-5 div.sk-parallel-item::before {content: \"\";position: absolute;border-left: 1px solid gray;box-sizing: border-box;top: 0;bottom: 0;left: 50%;z-index: -1;}#sk-container-id-5 div.sk-parallel-item {display: flex;flex-direction: column;z-index: 1;position: relative;background-color: white;}#sk-container-id-5 div.sk-parallel-item:first-child::after {align-self: flex-end;width: 50%;}#sk-container-id-5 div.sk-parallel-item:last-child::after {align-self: flex-start;width: 50%;}#sk-container-id-5 div.sk-parallel-item:only-child::after {width: 0;}#sk-container-id-5 div.sk-dashed-wrapped {border: 1px dashed gray;margin: 0 0.4em 0.5em 0.4em;box-sizing: border-box;padding-bottom: 0.4em;background-color: white;}#sk-container-id-5 div.sk-label label {font-family: monospace;font-weight: bold;display: inline-block;line-height: 1.2em;}#sk-container-id-5 div.sk-label-container {text-align: center;}#sk-container-id-5 div.sk-container {/* jupyter's `normalize.less` sets `[hidden] { display: none; }` but bootstrap.min.css set `[hidden] { display: none !important; }` so we also need the `!important` here to be able to override the default hidden behavior on the sphinx rendered scikit-learn.org. See: https://github.com/scikit-learn/scikit-learn/issues/21755 */display: inline-block !important;position: relative;}#sk-container-id-5 div.sk-text-repr-fallback {display: none;}</style><div id=\"sk-container-id-5\" class=\"sk-top-container\"><div class=\"sk-text-repr-fallback\"><pre>LinearRegression()</pre><b>In a Jupyter environment, please rerun this cell to show the HTML representation or trust the notebook. <br />On GitHub, the HTML representation is unable to render, please try loading this page with nbviewer.org.</b></div><div class=\"sk-container\" hidden><div class=\"sk-item\"><div class=\"sk-estimator sk-toggleable\"><input class=\"sk-toggleable__control sk-hidden--visually\" id=\"sk-estimator-id-5\" type=\"checkbox\" checked><label for=\"sk-estimator-id-5\" class=\"sk-toggleable__label sk-toggleable__label-arrow\">LinearRegression</label><div class=\"sk-toggleable__content\"><pre>LinearRegression()</pre></div></div></div></div></div>"
            ]
          },
          "metadata": {},
          "execution_count": 19
        }
      ]
    },
    {
      "cell_type": "code",
      "source": [
        "lm.intercept_"
      ],
      "metadata": {
        "colab": {
          "base_uri": "https://localhost:8080/"
        },
        "id": "rr7TQz4sBkfu",
        "outputId": "679d5b68-1b06-4e5d-a950-13b46e38569f"
      },
      "execution_count": 20,
      "outputs": [
        {
          "output_type": "execute_result",
          "data": {
            "text/plain": [
              "-15806.62462632922"
            ]
          },
          "metadata": {},
          "execution_count": 20
        }
      ]
    },
    {
      "cell_type": "code",
      "source": [
        "lm.coef_"
      ],
      "metadata": {
        "colab": {
          "base_uri": "https://localhost:8080/"
        },
        "id": "8Q34hScCBmeu",
        "outputId": "7f4752c6-0ff9-4e20-9d8f-7b31bdafd4eb"
      },
      "execution_count": 21,
      "outputs": [
        {
          "output_type": "execute_result",
          "data": {
            "text/plain": [
              "array([53.49574423,  4.70770099, 81.53026382, 36.05748882])"
            ]
          },
          "metadata": {},
          "execution_count": 21
        }
      ]
    },
    {
      "cell_type": "code",
      "source": [
        "lm2 = LinearRegression()\n",
        "lm2.fit(df[['normalized-losses' , 'highway-mpg']],df['price'])"
      ],
      "metadata": {
        "colab": {
          "base_uri": "https://localhost:8080/",
          "height": 75
        },
        "id": "XB8uCLTvBpJJ",
        "outputId": "c6ad081b-e016-498c-af4e-b9a434f601a0"
      },
      "execution_count": 22,
      "outputs": [
        {
          "output_type": "execute_result",
          "data": {
            "text/plain": [
              "LinearRegression()"
            ],
            "text/html": [
              "<style>#sk-container-id-6 {color: black;}#sk-container-id-6 pre{padding: 0;}#sk-container-id-6 div.sk-toggleable {background-color: white;}#sk-container-id-6 label.sk-toggleable__label {cursor: pointer;display: block;width: 100%;margin-bottom: 0;padding: 0.3em;box-sizing: border-box;text-align: center;}#sk-container-id-6 label.sk-toggleable__label-arrow:before {content: \"▸\";float: left;margin-right: 0.25em;color: #696969;}#sk-container-id-6 label.sk-toggleable__label-arrow:hover:before {color: black;}#sk-container-id-6 div.sk-estimator:hover label.sk-toggleable__label-arrow:before {color: black;}#sk-container-id-6 div.sk-toggleable__content {max-height: 0;max-width: 0;overflow: hidden;text-align: left;background-color: #f0f8ff;}#sk-container-id-6 div.sk-toggleable__content pre {margin: 0.2em;color: black;border-radius: 0.25em;background-color: #f0f8ff;}#sk-container-id-6 input.sk-toggleable__control:checked~div.sk-toggleable__content {max-height: 200px;max-width: 100%;overflow: auto;}#sk-container-id-6 input.sk-toggleable__control:checked~label.sk-toggleable__label-arrow:before {content: \"▾\";}#sk-container-id-6 div.sk-estimator input.sk-toggleable__control:checked~label.sk-toggleable__label {background-color: #d4ebff;}#sk-container-id-6 div.sk-label input.sk-toggleable__control:checked~label.sk-toggleable__label {background-color: #d4ebff;}#sk-container-id-6 input.sk-hidden--visually {border: 0;clip: rect(1px 1px 1px 1px);clip: rect(1px, 1px, 1px, 1px);height: 1px;margin: -1px;overflow: hidden;padding: 0;position: absolute;width: 1px;}#sk-container-id-6 div.sk-estimator {font-family: monospace;background-color: #f0f8ff;border: 1px dotted black;border-radius: 0.25em;box-sizing: border-box;margin-bottom: 0.5em;}#sk-container-id-6 div.sk-estimator:hover {background-color: #d4ebff;}#sk-container-id-6 div.sk-parallel-item::after {content: \"\";width: 100%;border-bottom: 1px solid gray;flex-grow: 1;}#sk-container-id-6 div.sk-label:hover label.sk-toggleable__label {background-color: #d4ebff;}#sk-container-id-6 div.sk-serial::before {content: \"\";position: absolute;border-left: 1px solid gray;box-sizing: border-box;top: 0;bottom: 0;left: 50%;z-index: 0;}#sk-container-id-6 div.sk-serial {display: flex;flex-direction: column;align-items: center;background-color: white;padding-right: 0.2em;padding-left: 0.2em;position: relative;}#sk-container-id-6 div.sk-item {position: relative;z-index: 1;}#sk-container-id-6 div.sk-parallel {display: flex;align-items: stretch;justify-content: center;background-color: white;position: relative;}#sk-container-id-6 div.sk-item::before, #sk-container-id-6 div.sk-parallel-item::before {content: \"\";position: absolute;border-left: 1px solid gray;box-sizing: border-box;top: 0;bottom: 0;left: 50%;z-index: -1;}#sk-container-id-6 div.sk-parallel-item {display: flex;flex-direction: column;z-index: 1;position: relative;background-color: white;}#sk-container-id-6 div.sk-parallel-item:first-child::after {align-self: flex-end;width: 50%;}#sk-container-id-6 div.sk-parallel-item:last-child::after {align-self: flex-start;width: 50%;}#sk-container-id-6 div.sk-parallel-item:only-child::after {width: 0;}#sk-container-id-6 div.sk-dashed-wrapped {border: 1px dashed gray;margin: 0 0.4em 0.5em 0.4em;box-sizing: border-box;padding-bottom: 0.4em;background-color: white;}#sk-container-id-6 div.sk-label label {font-family: monospace;font-weight: bold;display: inline-block;line-height: 1.2em;}#sk-container-id-6 div.sk-label-container {text-align: center;}#sk-container-id-6 div.sk-container {/* jupyter's `normalize.less` sets `[hidden] { display: none; }` but bootstrap.min.css set `[hidden] { display: none !important; }` so we also need the `!important` here to be able to override the default hidden behavior on the sphinx rendered scikit-learn.org. See: https://github.com/scikit-learn/scikit-learn/issues/21755 */display: inline-block !important;position: relative;}#sk-container-id-6 div.sk-text-repr-fallback {display: none;}</style><div id=\"sk-container-id-6\" class=\"sk-top-container\"><div class=\"sk-text-repr-fallback\"><pre>LinearRegression()</pre><b>In a Jupyter environment, please rerun this cell to show the HTML representation or trust the notebook. <br />On GitHub, the HTML representation is unable to render, please try loading this page with nbviewer.org.</b></div><div class=\"sk-container\" hidden><div class=\"sk-item\"><div class=\"sk-estimator sk-toggleable\"><input class=\"sk-toggleable__control sk-hidden--visually\" id=\"sk-estimator-id-6\" type=\"checkbox\" checked><label for=\"sk-estimator-id-6\" class=\"sk-toggleable__label sk-toggleable__label-arrow\">LinearRegression</label><div class=\"sk-toggleable__content\"><pre>LinearRegression()</pre></div></div></div></div></div>"
            ]
          },
          "metadata": {},
          "execution_count": 22
        }
      ]
    },
    {
      "cell_type": "code",
      "source": [
        "lm2.coef_"
      ],
      "metadata": {
        "colab": {
          "base_uri": "https://localhost:8080/"
        },
        "id": "tCmxRawmBsJ2",
        "outputId": "cbf5f5f6-6ee3-4940-cca0-2cfea9ac4a68"
      },
      "execution_count": 23,
      "outputs": [
        {
          "output_type": "execute_result",
          "data": {
            "text/plain": [
              "array([   1.49789586, -820.45434016])"
            ]
          },
          "metadata": {},
          "execution_count": 23
        }
      ]
    },
    {
      "cell_type": "code",
      "source": [
        "# import the visualization package: seaborn\n",
        "import seaborn as sns\n",
        "%matplotlib inline"
      ],
      "metadata": {
        "id": "ya6g5Ug8Bupv"
      },
      "execution_count": 24,
      "outputs": []
    },
    {
      "cell_type": "code",
      "source": [
        "width = 12\n",
        "height = 10\n",
        "plt.figure(figsize=(width, height))\n",
        "sns.regplot(x=\"highway-mpg\", y=\"price\", data=df)\n",
        "plt.ylim(0,)"
      ],
      "metadata": {
        "colab": {
          "base_uri": "https://localhost:8080/",
          "height": 724
        },
        "id": "3HnlyjVsBwgU",
        "outputId": "3b66addf-4769-417d-f91a-3f8ac5fe4206"
      },
      "execution_count": 25,
      "outputs": [
        {
          "output_type": "execute_result",
          "data": {
            "text/plain": [
              "(0.0, 48165.97618599826)"
            ]
          },
          "metadata": {},
          "execution_count": 25
        },
        {
          "output_type": "display_data",
          "data": {
            "text/plain": [
              "<Figure size 1200x1000 with 1 Axes>"
            ],
            "image/png": "[encoded data removed]"
          },
          "metadata": {}
        }
      ]
    },
    {
      "cell_type": "code",
      "source": [
        "plt.figure(figsize=(width, height))\n",
        "sns.regplot(x=\"peak-rpm\", y=\"price\", data=df)\n",
        "plt.ylim(0,)"
      ],
      "metadata": {
        "colab": {
          "base_uri": "https://localhost:8080/",
          "height": 724
        },
        "id": "YbqF6FkyBznc",
        "outputId": "9f5ec617-3d45-4925-976c-16e3173304f3"
      },
      "execution_count": 26,
      "outputs": [
        {
          "output_type": "execute_result",
          "data": {
            "text/plain": [
              "(0.0, 47414.1)"
            ]
          },
          "metadata": {},
          "execution_count": 26
        },
        {
          "output_type": "display_data",
          "data": {
            "text/plain": [
              "<Figure size 1200x1000 with 1 Axes>"
            ],
            "image/png": "[encoded data removed]"
          },
          "metadata": {}
        }
      ]
    },
    {
      "cell_type": "code",
      "source": [
        "# The variable \"highway-mpg\" has a stronger correlation with \"price\", it is approximate -0.704692  compared to \"peak-rpm\" which is approximate -0.101616. You can verify it using the following command:\n",
        "\n",
        "df[[\"peak-rpm\",\"highway-mpg\",\"price\"]].corr()"
      ],
      "metadata": {
        "colab": {
          "base_uri": "https://localhost:8080/",
          "height": 613
        },
        "id": "u_VJOO9dB28k",
        "outputId": "48130b8f-2112-4ec5-e560-e11ea4e79d90"
      },
      "execution_count": 27,
      "outputs": [
        {
          "output_type": "execute_result",
          "data": {
            "text/plain": [
              "             peak-rpm  highway-mpg     price\n",
              "peak-rpm     1.000000    -0.058598 -0.101616\n",
              "highway-mpg -0.058598     1.000000 -0.704692\n",
              "price       -0.101616    -0.704692  1.000000"
            ],
            "text/html": [
              "\n",
              "  <div id=\"df-1181b2f3-463f-434a-a883-9beb7ee9c423\" class=\"colab-df-container\">\n",
              "    <div>\n",
              "<style scoped>\n",
              "    .dataframe tbody tr th:only-of-type {\n",
              "        vertical-align: middle;\n",
              "    }\n",
              "\n",
              "    .dataframe tbody tr th {\n",
              "        vertical-align: top;\n",
              "    }\n",
              "\n",
              "    .dataframe thead th {\n",
              "        text-align: right;\n",
              "    }\n",
              "</style>\n",
              "<table border=\"1\" class=\"dataframe\">\n",
              "  <thead>\n",
              "    <tr style=\"text-align: right;\">\n",
              "      <th></th>\n",
              "      <th>peak-rpm</th>\n",
              "      <th>highway-mpg</th>\n",
              "      <th>price</th>\n",
              "    </tr>\n",
              "  </thead>\n",
              "  <tbody>\n",
              "    <tr>\n",
              "      <th>peak-rpm</th>\n",
              "      <td>1.000000</td>\n",
              "      <td>-0.058598</td>\n",
              "      <td>-0.101616</td>\n",
              "    </tr>\n",
              "    <tr>\n",
              "      <th>highway-mpg</th>\n",
              "      <td>-0.058598</td>\n",
              "      <td>1.000000</td>\n",
              "      <td>-0.704692</td>\n",
              "    </tr>\n",
              "    <tr>\n",
              "      <th>price</th>\n",
              "      <td>-0.101616</td>\n",
              "      <td>-0.704692</td>\n",
              "      <td>1.000000</td>\n",
              "    </tr>\n",
              "  </tbody>\n",
              "</table>\n",
              "</div>\n",
              "    <div class=\"colab-df-buttons\">\n",
              "\n",
              "  <div class=\"colab-df-container\">\n",
              "    <button class=\"colab-df-convert\" onclick=\"convertToInteractive('df-1181b2f3-463f-434a-a883-9beb7ee9c423')\"\n",
              "            title=\"Convert this dataframe to an interactive table.\"\n",
              "            style=\"display:none;\">\n",
              "\n",
              "  <svg xmlns=\"http://www.w3.org/2000/svg\" height=\"24px\" viewBox=\"0 -960 960 960\">\n",
              "    <path d=\"M120-120v-720h720v720H120Zm60-500h600v-160H180v160Zm220 220h160v-160H400v160Zm0 220h160v-160H400v160ZM180-400h160v-160H180v160Zm440 0h160v-160H620v160ZM180-180h160v-160H180v160Zm440 0h160v-160H620v160Z\"/>\n",
              "  </svg>\n",
              "    </button>\n",
              "\n",
              "  <style>\n",
              "    .colab-df-container {\n",
              "      display:flex;\n",
              "      gap: 12px;\n",
              "    }\n",
              "\n",
              "    .colab-df-convert {\n",
              "      background-color: #E8F0FE;\n",
              "      border: none;\n",
              "      border-radius: 50%;\n",
              "      cursor: pointer;\n",
              "      display: none;\n",
              "      fill: #1967D2;\n",
              "      height: 32px;\n",
              "      padding: 0 0 0 0;\n",
              "      width: 32px;\n",
              "    }\n",
              "\n",
              "    .colab-df-convert:hover {\n",
              "      background-color: #E2EBFA;\n",
              "      box-shadow: 0px 1px 2px rgba(60, 64, 67, 0.3), 0px 1px 3px 1px rgba(60, 64, 67, 0.15);\n",
              "      fill: #174EA6;\n",
              "    }\n",
              "\n",
              "    .colab-df-buttons div {\n",
              "      margin-bottom: 4px;\n",
              "    }\n",
              "\n",
              "    [theme=dark] .colab-df-convert {\n",
              "      background-color: #3B4455;\n",
              "      fill: #D2E3FC;\n",
              "    }\n",
              "\n",
              "    [theme=dark] .colab-df-convert:hover {\n",
              "      background-color: #434B5C;\n",
              "      box-shadow: 0px 1px 3px 1px rgba(0, 0, 0, 0.15);\n",
              "      filter: drop-shadow(0px 1px 2px rgba(0, 0, 0, 0.3));\n",
              "      fill: #FFFFFF;\n",
              "    }\n",
              "  </style>\n",
              "\n",
              "    <script>\n",
              "      const buttonEl =\n",
              "        document.querySelector('#df-1181b2f3-463f-434a-a883-9beb7ee9c423 button.colab-df-convert');\n",
              "      buttonEl.style.display =\n",
              "        google.colab.kernel.accessAllowed ? 'block' : 'none';\n",
              "\n",
              "      async function convertToInteractive(key) {\n",
              "        const element = document.querySelector('#df-1181b2f3-463f-434a-a883-9beb7ee9c423');\n",
              "        const dataTable =\n",
              "          await google.colab.kernel.invokeFunction('convertToInteractive',\n",
              "                                                    [key], {});\n",
              "        if (!dataTable) return;\n",
              "\n",
              "        const docLinkHtml = 'Like what you see? Visit the ' +\n",
              "          '<a target=\"_blank\" href=https://colab.research.google.com/notebooks/data_table.ipynb>data table notebook</a>'\n",
              "          + ' to learn more about interactive tables.';\n",
              "        element.innerHTML = '';\n",
              "        dataTable['output_type'] = 'display_data';\n",
              "        await google.colab.output.renderOutput(dataTable, element);\n",
              "        const docLink = document.createElement('div');\n",
              "        docLink.innerHTML = docLinkHtml;\n",
              "        element.appendChild(docLink);\n",
              "      }\n",
              "    </script>\n",
              "  </div>\n",
              "\n",
              "\n",
              "<div id=\"df-34dd5813-afa6-422c-b382-8cf4cd592f87\">\n",
              "  <button class=\"colab-df-quickchart\" onclick=\"quickchart('df-34dd5813-afa6-422c-b382-8cf4cd592f87')\"\n",
              "            title=\"Suggest charts\"\n",
              "            style=\"display:none;\">\n",
              "\n",
              "<svg xmlns=\"http://www.w3.org/2000/svg\" height=\"24px\"viewBox=\"0 0 24 24\"\n",
              "     width=\"24px\">\n",
              "    <g>\n",
              "        <path d=\"M19 3H5c-1.1 0-2 .9-2 2v14c0 1.1.9 2 2 2h14c1.1 0 2-.9 2-2V5c0-1.1-.9-2-2-2zM9 17H7v-7h2v7zm4 0h-2V7h2v10zm4 0h-2v-4h2v4z\"/>\n",
              "    </g>\n",
              "</svg>\n",
              "  </button>\n",
              "\n",
              "<style>\n",
              "  .colab-df-quickchart {\n",
              "      --bg-color: #E8F0FE;\n",
              "      --fill-color: #1967D2;\n",
              "      --hover-bg-color: #E2EBFA;\n",
              "      --hover-fill-color: #174EA6;\n",
              "      --disabled-fill-color: #AAA;\n",
              "      --disabled-bg-color: #DDD;\n",
              "  }\n",
              "\n",
              "  [theme=dark] .colab-df-quickchart {\n",
              "      --bg-color: #3B4455;\n",
              "      --fill-color: #D2E3FC;\n",
              "      --hover-bg-color: #434B5C;\n",
              "      --hover-fill-color: #FFFFFF;\n",
              "      --disabled-bg-color: #3B4455;\n",
              "      --disabled-fill-color: #666;\n",
              "  }\n",
              "\n",
              "  .colab-df-quickchart {\n",
              "    background-color: var(--bg-color);\n",
              "    border: none;\n",
              "    border-radius: 50%;\n",
              "    cursor: pointer;\n",
              "    display: none;\n",
              "    fill: var(--fill-color);\n",
              "    height: 32px;\n",
              "    padding: 0;\n",
              "    width: 32px;\n",
              "  }\n",
              "\n",
              "  .colab-df-quickchart:hover {\n",
              "    background-color: var(--hover-bg-color);\n",
              "    box-shadow: 0 1px 2px rgba(60, 64, 67, 0.3), 0 1px 3px 1px rgba(60, 64, 67, 0.15);\n",
              "    fill: var(--button-hover-fill-color);\n",
              "  }\n",
              "\n",
              "  .colab-df-quickchart-complete:disabled,\n",
              "  .colab-df-quickchart-complete:disabled:hover {\n",
              "    background-color: var(--disabled-bg-color);\n",
              "    fill: var(--disabled-fill-color);\n",
              "    box-shadow: none;\n",
              "  }\n",
              "\n",
              "  .colab-df-spinner {\n",
              "    border: 2px solid var(--fill-color);\n",
              "    border-color: transparent;\n",
              "    border-bottom-color: var(--fill-color);\n",
              "    animation:\n",
              "      spin 1s steps(1) infinite;\n",
              "  }\n",
              "\n",
              "  @keyframes spin {\n",
              "    0% {\n",
              "      border-color: transparent;\n",
              "      border-bottom-color: var(--fill-color);\n",
              "      border-left-color: var(--fill-color);\n",
              "    }\n",
              "    20% {\n",
              "      border-color: transparent;\n",
              "      border-left-color: var(--fill-color);\n",
              "      border-top-color: var(--fill-color);\n",
              "    }\n",
              "    30% {\n",
              "      border-color: transparent;\n",
              "      border-left-color: var(--fill-color);\n",
              "      border-top-color: var(--fill-color);\n",
              "      border-right-color: var(--fill-color);\n",
              "    }\n",
              "    40% {\n",
              "      border-color: transparent;\n",
              "      border-right-color: var(--fill-color);\n",
              "      border-top-color: var(--fill-color);\n",
              "    }\n",
              "    60% {\n",
              "      border-color: transparent;\n",
              "      border-right-color: var(--fill-color);\n",
              "    }\n",
              "    80% {\n",
              "      border-color: transparent;\n",
              "      border-right-color: var(--fill-color);\n",
              "      border-bottom-color: var(--fill-color);\n",
              "    }\n",
              "    90% {\n",
              "      border-color: transparent;\n",
              "      border-bottom-color: var(--fill-color);\n",
              "    }\n",
              "  }\n",
              "</style>\n",
              "\n",
              "  <script>\n",
              "    async function quickchart(key) {\n",
              "      const quickchartButtonEl =\n",
              "        document.querySelector('#' + key + ' button');\n",
              "      quickchartButtonEl.disabled = true;  // To prevent multiple clicks.\n",
              "      quickchartButtonEl.classList.add('colab-df-spinner');\n",
              "      try {\n",
              "        const charts = await google.colab.kernel.invokeFunction(\n",
              "            'suggestCharts', [key], {});\n",
              "      } catch (error) {\n",
              "        console.error('Error during call to suggestCharts:', error);\n",
              "      }\n",
              "      quickchartButtonEl.classList.remove('colab-df-spinner');\n",
              "      quickchartButtonEl.classList.add('colab-df-quickchart-complete');\n",
              "    }\n",
              "    (() => {\n",
              "      let quickchartButtonEl =\n",
              "        document.querySelector('#df-34dd5813-afa6-422c-b382-8cf4cd592f87 button');\n",
              "      quickchartButtonEl.style.display =\n",
              "        google.colab.kernel.accessAllowed ? 'block' : 'none';\n",
              "    })();\n",
              "  </script>\n",
              "</div>\n",
              "\n",
              "    </div>\n",
              "  </div>\n"
            ],
            "application/vnd.google.colaboratory.intrinsic+json": {
              "type": "dataframe",
              "summary": "{\n  \"name\": \"df[[\\\"peak-rpm\\\",\\\"highway-mpg\\\",\\\"price\\\"]]\",\n  \"rows\": 3,\n  \"fields\": [\n    {\n      \"column\": \"peak-rpm\",\n      \"properties\": {\n        \"dtype\": \"number\",\n        \"std\": 0.6239707485929064,\n        \"min\": -0.10161587407588185,\n        \"max\": 1.0,\n        \"num_unique_values\": 3,\n        \"samples\": [\n          1.0,\n          -0.058597593083432827,\n          -0.10161587407588185\n        ],\n        \"semantic_type\": \"\",\n        \"description\": \"\"\n      }\n    },\n    {\n      \"column\": \"highway-mpg\",\n      \"properties\": {\n        \"dtype\": \"number\",\n        \"std\": 0.8606240863262171,\n        \"min\": -0.7046922650589531,\n        \"max\": 1.0,\n        \"num_unique_values\": 3,\n        \"samples\": [\n          -0.058597593083432827,\n          1.0,\n          -0.7046922650589531\n        ],\n        \"semantic_type\": \"\",\n        \"description\": \"\"\n      }\n    },\n    {\n      \"column\": \"price\",\n      \"properties\": {\n        \"dtype\": \"number\",\n        \"std\": 0.8644106263739242,\n        \"min\": -0.7046922650589531,\n        \"max\": 1.0,\n        \"num_unique_values\": 3,\n        \"samples\": [\n          -0.10161587407588185,\n          -0.7046922650589531,\n          1.0\n        ],\n        \"semantic_type\": \"\",\n        \"description\": \"\"\n      }\n    }\n  ]\n}"
            }
          },
          "metadata": {},
          "execution_count": 27
        },
        {
          "output_type": "display_data",
          "data": {
            "text/plain": [
              "<google.colab._quickchart_helpers.SectionTitle at 0x7e110d089810>"
            ],
            "text/html": [
              "<h4 class=\"colab-quickchart-section-title\">Distributions</h4>\n",
              "<style>\n",
              "  .colab-quickchart-section-title {\n",
              "      clear: both;\n",
              "  }\n",
              "</style>"
            ]
          },
          "metadata": {}
        },
        {
          "output_type": "display_data",
          "data": {
            "text/plain": [
              "from matplotlib import pyplot as plt\n",
              "_df_0['peak-rpm'].plot(kind='hist', bins=20, title='peak-rpm')\n",
              "plt.gca().spines[['top', 'right',]].set_visible(False)"
            ],
            "text/html": [
              "      <div class=\"colab-quickchart-chart-with-code\" id=\"chart-f5930dc8-ac63-413e-9848-c6de5e561521\">\n",
              "        <img style=\"width: 180px;\" src=\"data:image/png;base64,iVBORw0KGgoAAAANSUhEUgAAAjEAAAGrCAYAAAAxesZMAAAAOXRFWHRTb2Z0d2FyZQBNYXRwbG90\n",
              "bGliIHZlcnNpb24zLjcuMSwgaHR0cHM6Ly9tYXRwbG90bGliLm9yZy/bCgiHAAAACXBIWXMAAA9h\n",
              "AAAPYQGoP6dpAAAnDklEQVR4nO3df3BV9Z3/8dclca+IJAiSTWpIYggJ8sP80GQpoAPtMKTKrw3s\n",
              "ihVXAvmBdpfuptNoFqmAaGi3MNJ2KEGzuCwtrIRQM6B0imI30UpAjMuPEUnkkgQDcVfNDSyE/Djf\n",
              "P/hy11uSkBvuyc1Hno+ZM8M959xz3/eMbZ5z70mOw7IsSwAAAIYZEOgBAAAAeoOIAQAARiJiAACA\n",
              "kYgYAABgJCIGAAAYiYgBAABGImIAAICRiBgAAGAkIgYAABiJiAHQr02ZMkXPPvtsoMcA0A8RMQAA\n",
              "wEhEDIBvNMuy1NbWFugxANiAiAFwQ6ZMmaK///u/V0ZGhgYPHqy4uDht2bLFs/3AgQOaMmWKhg0b\n",
              "pujoaC1fvtwrKnJychQTE6Pbb79dd999t5577jl1dHR0+XrPP/+8YmNjdfTo0U63u1wuORwOFRcX\n",
              "KzExUbfddpsOHTqkFStWaPLkySooKFBYWJjCw8P14x//WK2trZ7nOhwOrV+/Xt/+9rc1aNAgJSYm\n",
              "6siRI9qxY4cSEhIUEhKiefPm6fz58344cwBuFBED4IYVFxcrMzNTX375pX7xi18oKytL7777rk6c\n",
              "OKHvfve7WrJkic6dO6f//M//VFlZmX760596npuWlqYDBw6oublZ27Zt069+9Su9/PLL17zGpUuX\n",
              "9Nhjj+mNN97Q+++/r3HjxnU707/+679q9+7dOn/+vJKTkyVdCarg4GDV1dXpnXfe0c6dO/Wzn/3M\n",
              "63mvvvqqfvvb3+rLL79UQkKC5syZozfeeEOHDh3SyZMn9eGHH+qXv/ylH84agBvlsCzLCvQQAMx1\n",
              "9VOWnTt3etY98sgjuv322zVo0CB9/vnn2rZtm2fbb37zGz333HOqrq7u9Hg//OEPVV9f7znelClT\n",
              "NGrUKB09elTR0dF69dVXdeutt3Y5j8vl0t133629e/dq+vTpnvUrVqzQr3/9a3322WcKCgqSJP36\n",
              "17/Wz3/+c9XU1Ei68knMli1b9Pjjj0uSXn/9dc2ZM0efffaZIiIiJEn/8A//oPr6eu3atas3pwuA\n",
              "HwUHegAA5rv77ruveXz48GEFBQVp//79GjJkiGdbR0eH5+siy7L04osv6re//a0+++wzWZalS5cu\n",
              "KTU11et4Vz9R2bp1q1fAvPjii3rxxRc9j7/+Nc+fzyRJI0aM8ATM1X3q6uq89rkaK5I0aNCgTtc1\n",
              "Nzd3fTIA9Bm+TgJww1wu1zWPIyMjFR4eru9///v66quvPIvb7fbExvbt2/XSSy9py5Yt+u///m99\n",
              "9dVXys3N1Z9/QLx48WLl5+frgQce0JEjRzzr//mf/1nnz5/3LF83YMC1//dWV1en9vb2a+YEYCYi\n",
              "BsANe+ONN7Rnzx61t7dr79692rVrlzIzM/XUU0+ppKREO3bs0OXLl9Xe3q7q6mrt3btXktTU1KTg\n",
              "4GCFhYXJ4XBo//792rp1a6evsXz5cv3kJz/R1KlT9e677/Zqzi+++EKrVq1SS0uLTpw4oX/5l39R\n",
              "ZmZmr983gMDi6yQAN2zRokUqLi7W/PnzFRYWpo0bN+qBBx6QJP3hD3/Q8uXL9dRTT6m1tVUxMTF6\n",
              "8sknJUkLFy5URUWFxo8frwEDBmjatGlasGCBPvjgg05fZ8mSJRo2bJhmzJih3/zmN3rooYd8mvOv\n",
              "/uqvdPnyZUVGRmrAgAFasGCBnnnmmRt78wAChgt7AdyQKVOmaPLkyVq9enWgR+nWihUrtG/fPlVU\n",
              "VAR6FAB+wtdJAADASEQMAAAwEl8nAQAAI/FJDAAAMBIRAwAAjETEAAAAIxExAADASN/4iFm/fn2g\n",
              "RwAAADb4xkfM6dOnAz0CAACwwTc+YgAAwDcTEQMAAIxExAAAACMRMQAAwEhEDAAAMBIRAwAAjETE\n",
              "AAAAIxExAADASEQMAAAwEhEDAACMRMQAAAAjETEAAMBItkXMpUuXNGfOHMXHxysxMVHTpk1TdXV1\n",
              "p/vu3r1bo0eP1qhRo5SRkSG3292jbQAA4OZl6ycxOTk5OnHihD766CPNnj1bWVlZ1+xz/vx5LV68\n",
              "WL/73e908uRJfetb39Lzzz9/3W0AAODmZlvE3HrrrXrooYfkcDgkSRMmTJDL5bpmvzfffFPJycka\n",
              "PXq0JOmpp57Stm3brrutMy0tLXK73V5Le3u7n98ZAADoD4L76oXWr1+v2bNnX7O+trZW0dHRnscx\n",
              "MTFqaGhQW1tbt9uCg68dvbCwUCtXrvRaN2HCBD++i/8T88weW44rSa41D9t2bAAAvin65MLeF198\n",
              "UdXV1SosLLT1dQoKCtTU1OS1pKWl2fqaAAAgMGyPmJ///OcqLS3Vm2++qdtuu+2a7VFRUTp9+rTn\n",
              "scvlUkREhIKDg7vd1hmn06mQkBCvJSgoyP9vCgAABJytEbNu3Tpt27ZNf/jDHzRkyJBO90lPT9fh\n",
              "w4f18ccfS5I2bNig+fPnX3cbAAC4udl2TUx9fb1+9KMfKTY2VlOnTpV05ZOSAwcO6Cc/+Ym+9a1v\n",
              "acmSJRo8eLBeeeUVzZkzR21tbRo3bpz+7d/+TZK63QYAAG5uDsuyrEAPYae8vDytW7fO78flwl4A\n",
              "AAKLv9gLAACMRMQAAAAjETEAAMBIRAwAADASEQMAAIxExAAAACMRMQAAwEhEDAAAMBIRAwAAjETE\n",
              "AAAAIxExAADASEQMAAAwEhEDAACMRMQAAAAjETEAAMBIRAwAADASEQMAAIxExAAAACMRMQAAwEhE\n",
              "DAAAMBIRAwAAjETEAAAAIxExAADASEQMAAAwEhEDAACMRMQAAAAjETEAAMBIRAwAADASEQMAAIxE\n",
              "xAAAACMRMQAAwEhEDAAAMBIRAwAAjETEAAAAIxExAADASLZGzNKlSxUTEyOHw6GqqqpO99m8ebOS\n",
              "kpI8y5133qmMjAxJksvlUlBQkNf2mpoaO0cGAACGCLbz4PPmzVN+fr4mT57c5T6ZmZnKzMz0PB43\n",
              "bpwee+wxz+PBgwd3GUAAAODmZWvEPPjggz7tf+DAATU2NmrWrFm9er2Wlha1tLR4rWtvb+/VsQAA\n",
              "QP/Wr66JKS4u1uOPP65bbrnFs+7ChQtKTU1VSkqKVq1a1W2UFBYWKjQ01GuprKzsi9EBAEAf6zcR\n",
              "c+HCBW3fvl2LFy/2rIuIiNCZM2d08OBB7du3T+Xl5Vq7dm2XxygoKFBTU5PXkpaW1hfjAwCAPtZv\n",
              "ImbHjh0aO3asxowZ41nndDoVFhYmSRo6dKgWLVqk8vLyLo/hdDoVEhLitQQFBdk+OwAA6Hv9JmKK\n",
              "i4u9PoWRpMbGRrW2tkq6cr1LaWmpkpOTAzEeAADoZ2yNmNzcXEVGRqq+vl7Tp09XXFycJCkrK0tl\n",
              "ZWWe/U6cOKGqqio98sgjXs+vqKhQcnKyEhMTlZKSovDwcC1btszOkQEAgCEclmVZgR7CTnl5eVq3\n",
              "bp3fjxvzzB6/H/Mq15qHbTs2AADfFP3m6yQAAABfEDEAAMBIRAwAADASEQMAAIxExAAAACMRMQAA\n",
              "wEhEDAAAMBIRAwAAjETEAAAAIxExAADASEQMAAAwEhEDAACMRMQAAAAjETEAAMBIRAwAADASEQMA\n",
              "AIxExAAAACMRMQAAwEhEDAAAMBIRAwAAjETEAAAAIxExAADASEQMAAAwEhEDAACMRMQAAAAjETEA\n",
              "AMBIRAwAADASEQMAAIxExAAAACMRMQAAwEhEDAAAMBIRAwAAjETEAAAAIxExAADASEQMAAAwkq0R\n",
              "s3TpUsXExMjhcKiqqqrTfd555x0NHDhQSUlJnuXixYue7cXFxRo1apRGjhyp7Oxstba22jkyAAAw\n",
              "hK0RM2/ePFVUVCg6Orrb/RISElRVVeVZBg4cKEk6deqUli9frvLyclVXV+vcuXPatGmTnSMDAABD\n",
              "2BoxDz74oCIjI3v9/JKSEs2aNUvh4eFyOBxasmSJtm3b1uX+LS0tcrvdXkt7e3uvXx8AAPRf/eKa\n",
              "mJqaGqWkpCg1NVUbNmzwrK+trfX6FCcmJka1tbVdHqewsFChoaFeS2Vlpa2zAwCAwAh4xKSkpKi+\n",
              "vl6HDx/Wrl27tHHjRr322mu9OlZBQYGampq8lrS0ND9PDAAA+oOAR0xISIhCQ0MlSZGRkXr00UdV\n",
              "Xl4uSYqKitLp06c9+7pcLkVFRXV5LKfTqZCQEK8lKCjI3jcAAAACIuAR09DQoI6ODklSc3Ozdu/e\n",
              "reTkZEnS3LlzVVZWprNnz8qyLG3cuFHz588P5LgAAKCfsDVicnNzFRkZqfr6ek2fPl1xcXGSpKys\n",
              "LJWVlUmSdu7cqfHjxysxMVETJkzQtGnTlJmZKUmKjY3VypUrNWnSJMXFxWn48OHKzc21c2QAAGAI\n",
              "h2VZVqCHsFNeXp7WrVvn9+PGPLPH78e8yrXmYduODQDAN0XAv04CAADoDSIGAAAYiYgBAABGImIA\n",
              "AICRiBgAAGAkIgYAABiJiAEAAEYiYgAAgJGIGAAAYCQiBgAAGImIAQAARiJiAACAkYgYAABgJCIG\n",
              "AAAYiYgBAABGImIAAICRiBgAAGAkIgYAABiJiAEAAEYiYgAAgJGIGAAAYCQiBgAAGImIAQAARiJi\n",
              "AACAkYgYAABgJCIGAAAYiYgBAABGImIAAICRiBgAAGAkIgYAABiJiAEAAEYiYgAAgJGIGAAAYCQi\n",
              "BgAAGImIAQAARrI1YpYuXaqYmBg5HA5VVVV1us/bb7+ttLQ0jRkzRmPHjlV+fr46OjokSS6XS0FB\n",
              "QUpKSvIsNTU1do4MAAAMYWvEzJs3TxUVFYqOju5ynzvuuEPbt2/X8ePH9cEHH+i9997Tli1bPNsH\n",
              "Dx6sqqoqzzJy5Eg7RwYAAIYItvPgDz744HX3SU5O9vz71ltvVVJSklwuV69er6WlRS0tLV7r2tvb\n",
              "e3UsAADQv/Wra2LOnj2rkpISzZgxw7PuwoULSk1NVUpKilatWtVtlBQWFio0NNRrqays7IvRAQBA\n",
              "H+s3EeN2uzVz5kzl5+fr/vvvlyRFRETozJkzOnjwoPbt26fy8nKtXbu2y2MUFBSoqanJa0lLS+ur\n",
              "twAAAPpQv4iY5uZmpaena/bs2crLy/OsdzqdCgsLkyQNHTpUixYtUnl5eZfHcTqdCgkJ8VqCgoJs\n",
              "nx8AAPS9gEfM+fPnlZ6ervT0dD377LNe2xobG9Xa2irpyvUupaWlXtfQAACAm5etEZObm6vIyEjV\n",
              "19dr+vTpiouLkyRlZWWprKxMkrR+/XpVVlaqtLTU82vUL7zwgiSpoqJCycnJSkxMVEpKisLDw7Vs\n",
              "2TI7RwYAAIZwWJZlBXoIO+Xl5WndunV+P27MM3v8fsyrXGsetu3YAAB8UwT86yQAAIDeIGIAAICR\n",
              "iBgAAGAkIgYAABjJ54j5/e9/b8ccAAAAPvE5YlatWqWEhAStX79ebrfbjpkAAACuy+eIeffdd7V9\n",
              "+3YdPXpU8fHxeuqpp3T8+HE7ZgMAAOhSr66JSU5O1ssvv6y9e/dq9+7duvfeezVt2jQdOXLE3/MB\n",
              "AAB0qlcRs2/fPs2ePVsZGRn6wQ9+oLNnzyo3N1d//dd/7e/5AAAAOhXs6xPuuece3XnnnVq6dKky\n",
              "MjI8N1icN2+eiouL/T4gAABAZ3yOmK1bt+q+++7rdNubb755wwMBAAD0hM9fJ33wwQf64osvPI//\n",
              "53/+Ry+//LJfhwIAALgenyNmw4YNGjp0qOfxsGHDtGHDBr8OBQAAcD0+R0xnN71ub2/3yzAAAAA9\n",
              "5XPERERE6LXXXvM8/o//+A9FRET4dSgAAIDr8fnC3pdeekmzZ89Wfn6+JOm2227T66+/7vfBAAAA\n",
              "uuNzxIwePVrHjx/XiRMnJEkJCQmeX7MGAADoKz5HjCQ5HA4NGTJEbW1tOnPmjCQpKirKr4MBAAB0\n",
              "x+eIefXVV7V06VLdcsstGjDgyiU1DodDjY2Nfh8OAACgKz5HzPPPP6+DBw8qISHBjnkAAAB6xOff\n",
              "TrrzzjsJGAAAEHA+R8ycOXP00ksvqbGxUW6327MAAAD0JZ+/Tlq2bJkkKS8vTw6HQ5ZlyeFw8Afv\n",
              "AABAn/I5Yjo6OuyYAwAAwCc+f50kXbkJ5L//+79Lkr766is1NDT4dSgAAIDr6dUNIBctWqQVK1ZI\n",
              "unIX6+9///v+ngsAAKBbPkfMpk2b9P777yskJESSNHLkSH3++ed+HwwAAKA7PkeM0+nUwIEDvdYF\n",
              "B/fqD/8CAAD0ms8RM3z4cH3yySdyOBySrvwFX245AAAA+lqv7mL96KOP6uOPP9aIESMUEhKi3bt3\n",
              "2zEbAABAl3yOmLi4OB04cEAnTpyQZVncxRoAAASEzxFTW1srSRo0aJAkcRdrAAAQED5HzH333ef5\n",
              "S72XLl3S//7v/2rYsGHcxRoAAPQpnyPmz3+durS0VB999JHfBgIAAOiJXv3F3q/LyMjQnj17/DEL\n",
              "AABAj/kcMV+/c/WXX36pvXv3dnkX66VLlyomJkYOh0NVVVVdHrO4uFijRo3SyJEjlZ2drdbW1h5t\n",
              "AwAANy+fI2bIkCG64447NGTIEIWFhSkvL0+/+MUvOt133rx5qqioUHR0dJfHO3XqlJYvX67y8nJV\n",
              "V1fr3Llz2rRp03W3AQCAm5vPEdPR0aH29nZ1dHSotbVVx48fV3p6eqf7Pvjgg4qMjOz2eCUlJZo1\n",
              "a5bCw8PlcDi0ZMkSbdu27brbOtPS0uL1SZHb7VZ7e7uvbxEAABgg4PcLqK2t9fqkJiYmxvNr3N1t\n",
              "60xhYaFWrlzptW7ChAl+nhgAALPEPGPPtauuNQ/bctye8vmTmAEDBigoKOia5er6QCooKFBTU5PX\n",
              "kpaWFtCZAACAPXz+JGbVqlW6ePGinnzySUnSxo0bNXDgQP3jP/5jrwaIiopSTU2N57HL5fL84bzu\n",
              "tnXG6XTK6XR6rQt0WAEAAHv4/EnMrl279MILLygyMlKRkZFavXq1SktLNWjQIM9f8fXF3LlzVVZW\n",
              "prNnz8qyLG3cuFHz58+/7jYAAHBz8zlimpubvf46b2Njo5qbmzvdNzc3V5GRkaqvr9f06dMVFxcn\n",
              "ScrKylJZWZkkKTY2VitXrtSkSZMUFxen4cOHKzc397rbAADAzc3nr5N+9KMfKTExUQ899JAkae/e\n",
              "vVqxYkWn+xYVFXW6/pVXXvF6nJ2drezs7E737W4bAAC4efkcMbm5uZo0aZL2798vScrLy9PYsWP9\n",
              "PhgAAEB3evUr1sOGDdP48eM1ZcoUtbW16fLly/qLv/gLf88GAADQJZ+viSkpKdGECROUmZkpSTp2\n",
              "7JjmzJnj77kAAAC65XPEFBYW6vDhwxoyZIgkKTExUadPn/b3XAAAAN3yOWKCgoI0bNgwr3V8lQQA\n",
              "APqazxEzePBgnTt3Tg6HQ5L01ltvaejQoX4fDAAAoDs+X9j705/+VN/73vf06aefavLkyTp16pT2\n",
              "7LHnngwAAABd8Slirt7Bev/+/XrvvfdkWZYmTpzouT4GAACgr/gUMQMGDFBOTo4++ugjfe9737Nr\n",
              "JgAAgOvy+ZqYUaNGqbq62o5ZAAAAeszna2K++OILJSUlaeLEibr99ts960tLS/06GAAAQHd6HDE5\n",
              "OTnatGmTnnjiCc2aNUt33HGHnXMBAAB0q8cRc+jQIUnSE088oZSUFB0+fNi2oQAAAK7H52tiJMmy\n",
              "LH/PAQAA4JMefxJz8eJFHTlyRJZl6dKlS55/X3XvvffaMiAAAEBnfIqYWbNmeR5//d8Oh0Offvqp\n",
              "fycDAADoRo8jxuVy2TgGAACAb3p1TQwAAECgETEAAMBIRAwAADASEQMAAIxExAAAACMRMQAAwEhE\n",
              "DAAAMBIRAwAAjETEAAAAIxExAADASEQMAAAwEhEDAACMRMQAAAAjETEAAMBIRAwAADASEQMAAIxE\n",
              "xAAAACMRMQAAwEi2RszJkyc1ceJExcfHKzU1VceOHbtmn82bNyspKcmz3HnnncrIyJAkuVwuBQUF\n",
              "eW2vqamxc2QAAGCIYDsPnpubq5ycHC1cuFAlJSVauHChDh486LVPZmamMjMzPY/HjRunxx57zPN4\n",
              "8ODBqqqqsnNMAABgINs+iWlsbNShQ4e0YMECSdLcuXNVV1en6urqLp9z4MABNTY2atasWb16zZaW\n",
              "Frndbq+lvb29V8cCAAD9m20RU1dXp4iICAUHX/mwx+FwKCoqSrW1tV0+p7i4WI8//rhuueUWz7oL\n",
              "Fy4oNTVVKSkpWrVqVbdRUlhYqNDQUK+lsrLSf28KAAD0G/3mwt4LFy5o+/btWrx4sWddRESEzpw5\n",
              "o4MHD2rfvn0qLy/X2rVruzxGQUGBmpqavJa0tLS+GB8AAPQx2yJmxIgRamhoUFtbmyTJsizV1tYq\n",
              "Kiqq0/137NihsWPHasyYMZ51TqdTYWFhkqShQ4dq0aJFKi8v7/I1nU6nQkJCvJagoCA/visAANBf\n",
              "2BYxYWFhSklJ0datWyVJO3fuVGRkpOLi4jrdv7i42OtTGOnKdTWtra2SrlzvUlpaquTkZLtGBgAA\n",
              "BrH166SioiIVFRUpPj5ea9as0ebNmyVJWVlZKisr8+x34sQJVVVV6ZFHHvF6fkVFhZKTk5WYmKiU\n",
              "lBSFh4dr2bJldo4MAAAMYeuvWCckJOhPf/rTNetfeeWVa/Zrbm6+Zr+MjAzP34wBAAD4un5zYS8A\n",
              "AIAviBgAAGAkIgYAABiJiAEAAEYiYgAAgJGIGAAAYCQiBgAAGImIAQAARiJiAACAkYgYAABgJCIG\n",
              "AAAYiYgBAABGImIAAICRiBgAAGAkIgYAABiJiAEAAEYiYgAAgJGIGAAAYCQiBgAAGImIAQAARiJi\n",
              "AACAkYgYAABgJCIGAAAYiYgBAABGImIAAICRiBgAAGAkIgYAABiJiAEAAEYiYgAAgJGIGAAAYCQi\n",
              "BgAAGImIAQAARiJiAACAkYgYAABgJCIGAAAYydaIOXnypCZOnKj4+Hilpqbq2LFj1+zzzjvvaODA\n",
              "gUpKSvIsFy9e9GwvLi7WqFGjNHLkSGVnZ6u1tdXOkQEAgCFsjZjc3Fzl5OTok08+0dNPP62FCxd2\n",
              "ul9CQoKqqqo8y8CBAyVJp06d0vLly1VeXq7q6mqdO3dOmzZtsnNkAABgCNsiprGxUYcOHdKCBQsk\n",
              "SXPnzlVdXZ2qq6t7fIySkhLNmjVL4eHhcjgcWrJkibZt29bl/i0tLXK73V5Le3v7Db8XAADQ/9gW\n",
              "MXV1dYqIiFBwcLAkyeFwKCoqSrW1tdfsW1NTo5SUFKWmpmrDhg2e9bW1tYqOjvY8jomJ6fT5VxUW\n",
              "Fio0NNRrqays9OO7AgAA/UXAL+xNSUlRfX29Dh8+rF27dmnjxo167bXXenWsgoICNTU1eS1paWl+\n",
              "nhgAAPQHtkXMiBEj1NDQoLa2NkmSZVmqra1VVFSU134hISEKDQ2VJEVGRurRRx9VeXm5JCkqKkqn\n",
              "T5/27Otyua55/tc5nU6FhIR4LUFBQf5+awAAoB+wLWLCwsKUkpKirVu3SpJ27typyMhIxcXFee3X\n",
              "0NCgjo4OSVJzc7N2796t5ORkSVeuoykrK9PZs2dlWZY2btyo+fPn2zUyAAAwiK1fJxUVFamoqEjx\n",
              "8fFas2aNNm/eLEnKyspSWVmZpCtxM378eCUmJmrChAmaNm2aMjMzJUmxsbFauXKlJk2apLi4OA0f\n",
              "Ply5ubl2jgwAAAzhsCzLCvQQdsrLy9O6dev8ftyYZ/b4/ZhXudY8bNuxAQA3H7t+ZgX651XAL+wF\n",
              "AADoDSIGAAAYiYgBAABGImIAAICRiBgAAGAkIgYAABiJiAEAAEYiYgAAgJGIGAAAYCQiBgAAGImI\n",
              "AQAARiJiAACAkYgYAABgJCIGAAAYiYgBAABGImIAAICRiBgAAGAkIgYAABiJiAEAAEYiYgAAgJGI\n",
              "GAAAYCQiBgAAGImIAQAARiJiAACAkYgYAABgJCIGAAAYiYgBAABGImIAAICRiBgAAGAkIgYAABiJ\n",
              "iAEAAEYiYgAAgJGIGAAAYCQiBgAAGImIAQAARrI1Yk6ePKmJEycqPj5eqampOnbs2DX7vP3220pL\n",
              "S9OYMWM0duxY5efnq6OjQ5LkcrkUFBSkpKQkz1JTU2PnyAAAwBC2Rkxubq5ycnL0ySef6Omnn9bC\n",
              "hQuv2eeOO+7Q9u3bdfz4cX3wwQd67733tGXLFs/2wYMHq6qqyrOMHDnSzpEBAIAhbIuYxsZGHTp0\n",
              "SAsWLJAkzZ07V3V1daqurvbaLzk5WbGxsZKkW2+9VUlJSXK5XL16zZaWFrndbq+lvb39ht4HAADo\n",
              "n2yLmLq6OkVERCg4OFiS5HA4FBUVpdra2i6fc/bsWZWUlGjGjBmedRcuXFBqaqpSUlK0atWqbqOk\n",
              "sLBQoaGhXktlZaX/3hQAAOg3+s2FvW63WzNnzlR+fr7uv/9+SVJERITOnDmjgwcPat++fSovL9fa\n",
              "tWu7PEZBQYGampq8lrS0tL56CwAAoA/ZFjEjRoxQQ0OD2traJEmWZam2tlZRUVHX7Nvc3Kz09HTN\n",
              "nj1beXl5nvVOp1NhYWGSpKFDh2rRokUqLy/v8jWdTqdCQkK8lqCgID+/MwAA0B/YFjFhYWFKSUnR\n",
              "1q1bJUk7d+5UZGSk4uLivPY7f/680tPTlZ6ermeffdZrW2Njo1pbWyVdud6ltLRUycnJdo0MAAAM\n",
              "YuvXSUVFRSoqKlJ8fLzWrFmjzZs3S5KysrJUVlYmSVq/fr0qKytVWlrq+TXqF154QZJUUVGh5ORk\n",
              "JSYmKiUlReHh4Vq2bJmdIwMAAEM4LMuyAj2EnfLy8rRu3Tq/HzfmmT1+P+ZVrjUP23ZsAMDNx66f\n",
              "WYH+edVvLuwFAADwBREDAACMRMQAAAAjETEAAMBIRAwAADASEQMAAIxExAAAACMRMQAAwEhEDAAA\n",
              "MBIRAwAAjETEAAAAIxExAADASEQMAAAwEhEDAACMRMQAAAAjETEAAMBIRAwAADASEQMAAIxExAAA\n",
              "ACMRMQAAwEhEDAAAMBIRAwAAjETEAAAAIxExAADASEQMAAAwEhEDAACMRMQAAAAjETEAAMBIRAwA\n",
              "ADASEQMAAIxExAAAACMRMQAAwEhEDAAAMBIRAwAAjETEAAAAI9kaMSdPntTEiRMVHx+v1NRUHTt2\n",
              "rNP9iouLNWrUKI0cOVLZ2dlqbW3t0TYAAHDzsjVicnNzlZOTo08++URPP/20Fi5ceM0+p06d0vLl\n",
              "y1VeXq7q6mqdO3dOmzZtuu42AABwc7MtYhobG3Xo0CEtWLBAkjR37lzV1dWpurraa7+SkhLNmjVL\n",
              "4eHhcjgcWrJkibZt23bdbZ1paWmR2+32Wtrb2+16iwAAIICC7TpwXV2dIiIiFBx85SUcDoeioqJU\n",
              "W1uruLg4z361tbWKjo72PI6JiVFtbe11t3WmsLBQK1eu9Fo3evRo5eXl+eU9fV2G34/4f/Ly3vLL\n",
              "cdrb21VZWam0tDQFBQX55Zg3I86jf3Ae/YPzeONuxnNox8+s9vZ2ffvbq207j9HR0frhD3/Y7T62\n",
              "RUwgFBQUXBMsTqdTTqczQBMFltvtVmhoqH7/+98rJCQk0OMYi/PoH5xH/+A83jjOoX/0h/NoW8SM\n",
              "GDFCDQ0NamtrU3BwsCzLUm1traKiorz2i4qKUk1Njeexy+Xy7NPdts7czMECAMDNxrZrYsLCwpSS\n",
              "kqKtW7dKknbu3KnIyEivr5KkK9fKlJWV6ezZs7IsSxs3btT8+fOvuw0AANzcbP3tpKKiIhUVFSk+\n",
              "Pl5r1qzR5s2bJUlZWVkqKyuTJMXGxmrlypWaNGmS4uLiNHz4cOXm5l53GwAAuLnZek1MQkKC/vSn\n",
              "P12z/pVXXvF6nJ2drezs7E6P0d02dM/pdOq5557jK7YbxHn0D86jf3Aebxzn0D/6w3l0WJZlBezV\n",
              "AQAAeonbDgAAACMRMQAAwEhEDAAAMBIRAwAAjETEfAP4427h6Nl5fPvtt5WWlqYxY8Zo7Nixys/P\n",
              "V0dHRwCm7b96+t+jJFmWpe985zsaMmRI3w1oiJ6exyNHjmjKlCm65557dM8996i0tLSPJ+2/enIO\n",
              "Ozo6lJeXpzFjxujee+/V1KlTr7nH381u6dKliomJkcPhUFVVVZf7BeRnjAXjTZ061dq8ebNlWZa1\n",
              "Y8cO6/77779mn08//dSKiIiwGhoarI6ODmvmzJnWr371qz6etH/ryXk8fPiwVVNTY1mWZV28eNGa\n",
              "NGmS5zm4oifn8aq1a9daWVlZVmhoaN8MZ5CenMcLFy5Yd999t1VeXm5ZlmW1tbVZjY2NfTlmv9aT\n",
              "c7hr1y4rLS3Nunz5smVZlvX8889bf/M3f9OXY/Z7f/zjH626ujorOjra+vDDDzvdJ1A/Y4gYw507\n",
              "d84aPHiw1draalmWZXV0dFh/+Zd/aZ08edJrv5/97GdWbm6u5/GePXusSZMm9ems/VlPz+Of+8EP\n",
              "fmA999xzfTChGXw5j0ePHrUeeOABq7q6moj5Mz09jy+//LL16KOPBmLEfq+n5/B3v/udlZiYaLnd\n",
              "bqujo8P68Y9/bP3TP/1TIEbu97qLmED9jOHrJMN1d7fwr/P1juA3m56ex687e/asSkpKNGPGjL4a\n",
              "s9/r6XlsbW1Vdna2ioqKbpq7CPuip+fx+PHjcjqdmjFjhpKSkvR3f/d3+vzzzwMxcr/T03M4c+ZM\n",
              "TZkyReHh4YqIiNBbb72lVatWBWJkowXqZwwRA/SC2+3WzJkzlZ+fr/vvvz/Q4xhn5cqVysjI0D33\n",
              "3BPoUYzW1tamffv2qaioSB9++KHuuusuPfnkk4EeyyiHDh3S0aNHdebMGX322Wf67ne/qyVLlgR6\n",
              "LPQQEWO4r98tXFK3dws/ffq05/H17gh+s+npeZSk5uZmpaena/bs2crLy+vrUfu1np7HP/7xj/rl\n",
              "L3+pmJgYTZ48WW63WzExMXyK8P/58r/rqVOn6q677pLD4dCCBQv0/vvvB2Lkfqen53DLli2ei8sH\n",
              "DBigJ554Qvv37w/EyEYL1M8YIsZw/rhbOHp+Hs+fP6/09HSlp6fr2WefDcSo/VpPz2N5eblOnz4t\n",
              "l8uliooKhYSEyOVyafjw4YEYu9/p6Xn827/9Wx08eFBut1uS9MYbbygxMbHP5+2PenoOY2Nj9fbb\n",
              "b+vy5cuSpN27d2vcuHF9Pq/pAvYzxvarbmC7jz/+2JowYYI1atQo67777rP+67/+y7Isy1q8eLH1\n",
              "+uuve/bbtGmTFRsba8XGxlqLFi3yXI2PK3pyHlevXm0FBwdbiYmJnmX16tWBHLvf6el/j1edOnWK\n",
              "C3s70dPzuGXLFmvs2LHW+PHjrfT0dKu2tjZQI/c7PTmHly5dsrKysqzRo0db48ePt6ZNm+b5DURc\n",
              "kZOTY911111WUFCQFRYWZo0cOdKyrP7xM4YbQAIAACPxdRIAADASEQMAAIxExAAAACMRMQAAwEhE\n",
              "DAAAMBIRAwAAjETEAAAAIxExAADASEQMAAAwEhEDAACM9P8AndvSmQ7cP/UAAAAASUVORK5CYII=\n",
              "\">\n",
              "      </div>\n",
              "      <script type=\"text/javascript\">\n",
              "        (() => {\n",
              "          const chartElement = document.getElementById(\"chart-f5930dc8-ac63-413e-9848-c6de5e561521\");\n",
              "          async function getCodeForChartHandler(event) {\n",
              "            const chartCodeResponse =  await google.colab.kernel.invokeFunction(\n",
              "                'getCodeForChart', [\"chart-f5930dc8-ac63-413e-9848-c6de5e561521\"], {});\n",
              "            const responseJson = chartCodeResponse.data['application/json'];\n",
              "            await google.colab.notebook.addCell(responseJson.code, 'code');\n",
              "          }\n",
              "          chartElement.onclick = getCodeForChartHandler;\n",
              "        })();\n",
              "      </script>\n",
              "      <style>\n",
              "        .colab-quickchart-chart-with-code  {\n",
              "            display: block;\n",
              "            float: left;\n",
              "            border: 1px solid transparent;\n",
              "        }\n",
              "\n",
              "        .colab-quickchart-chart-with-code:hover {\n",
              "            cursor: pointer;\n",
              "            border: 1px solid #aaa;\n",
              "        }\n",
              "      </style>"
            ]
          },
          "metadata": {}
        },
        {
          "output_type": "display_data",
          "data": {
            "text/plain": [
              "from matplotlib import pyplot as plt\n",
              "_df_1['highway-mpg'].plot(kind='hist', bins=20, title='highway-mpg')\n",
              "plt.gca().spines[['top', 'right',]].set_visible(False)"
            ],
            "text/html": [
              "      <div class=\"colab-quickchart-chart-with-code\" id=\"chart-cc15a1bd-b86a-4bac-b2b4-652afa04e3af\">\n",
              "        <img style=\"width: 180px;\" src=\"data:image/png;base64,iVBORw0KGgoAAAANSUhEUgAAAioAAAGrCAYAAADuNLxTAAAAOXRFWHRTb2Z0d2FyZQBNYXRwbG90\n",
              "bGliIHZlcnNpb24zLjcuMSwgaHR0cHM6Ly9tYXRwbG90bGliLm9yZy/bCgiHAAAACXBIWXMAAA9h\n",
              "AAAPYQGoP6dpAAAlM0lEQVR4nO3de1TUdeL/8dcIRhcFTSUJGAkRS1MQkzW0vG2lrbewe1bmBSrd\n",
              "au18NTOPlyzdtk6aZeIlNvNsVmgbpeVuXlotTc2s1ErwBpVKq+VoKcLw/v3BaX7NIsbQfOQNPh/n\n",
              "zDnOZ97z4T1vPk3PM/NhxmWMMQIAALBQvZqeAAAAQGUIFQAAYC1CBQAAWItQAQAA1iJUAACAtQgV\n",
              "AABgLUIFAABYi1ABAADWIlQAAIC1CBXgLNO9e3c99thjp7xt7dq1atCggbxeb5X353K59P777wdr\n",
              "egDgJ7SmJwDAHldddZWOHTtW09MAAB9eUQEAANYiVICz0NGjR3X77bcrIiJCsbGxevHFFyVJa9as\n",
              "kcvlUmlpqSSppKREDz/8sJo3b65mzZpp3Lhx6tq1qyZNmuS3vy+//FJdunRRgwYN1K5dO61bt06S\n",
              "9OOPPyo0NFRff/21JGnfvn1yuVz6y1/+4rtvnz599Pjjj/t+flpampo0aaLGjRurZ8+e2rp1qySp\n",
              "rKxMcXFxevnll/1+9tNPP60OHTpU+ljj4uI0adIkXXfddWrQoIFatWqlVatWac2aNWrfvr0aNmyo\n",
              "P/7xjzpw4IDvPt27d9eoUaOUnp6uhg0bKiEhQQsXLvTbb3Z2thISEtSwYUOlp6dr1KhR6t69exV/\n",
              "AwCqzAA4q3Tr1s2Eh4eblStXGq/Xa3Jycky9evVMXl6eWb16tZFkSkpKjDHGTJ482cTHx5uvvvrK\n",
              "nDhxwkycONGEhoaaiRMn+vYnybRv397k5eWZkpIS8+CDDxq32+27/Q9/+IN57rnnjDHGZGVlmVat\n",
              "Wpk2bdoYY4wpLi42559/vtmwYYMxxph169aZDz/80BQXFxuPx2NGjBhh3G63KS4uNsYY88QTT5i0\n",
              "tDTfvsvKykyrVq3Miy++WOnjbdGihXG73Wbr1q2mtLTUjB492jRv3tzccMMNpqioyHg8HnPllVea\n",
              "jIwMvzU699xzTW5urikpKTHLli0z9evXN+vWrTPGGPPBBx+Yc845xyxfvtyUlpaaZcuWmfPOO890\n",
              "69btd/xmAJwKoQKcZbp162buuecev21NmzY1ixcvrhAqLVu2NC+88IJvXGlpqYmMjKwQKi+//LLv\n",
              "+rZt24wkc+DAAWOMMRMmTDB9+/Y1xhgzaNAgM3/+fNO4cWNTWFhoVq5caRo3bmy8Xu8p53r48GEj\n",
              "yXz++efGGGMOHDhgzjnnHLNt2zZjjDErV640DRo0MB6Pp9LH26JFCzNlyhTf9a1btxpJ5qOPPvJt\n",
              "e/rpp01ycrLfGqWnp/vt5+abbzZDhw41xhgzbNgwc9NNN/ndPmjQIEIFcABv/QBnoYsvvtjv+gUX\n",
              "XKCjR49WGPftt9+qRYsWvushISGKjY097f4uuOACSfLt79prr9WaNWt04sQJrVq1Sn369FGvXr20\n",
              "YsUK/fvf/1avXr1Ur175U9Hnn3+ufv36KTo6WuHh4brkkkskSUVFRZKkiy66SOnp6crKypIkZWVl\n",
              "6fbbb1fDhg19f7H0y2Xt2rW+OUVFRVWY3/9u+9/H/8vP/vX1wsLCU66LVP4WE4DgI1QAVCo6Olr7\n",
              "9u3zXS8rK9M333wT0D46d+4sl8ulGTNmKDo6WhdffLGuu+46rVixQv/61790zTXX+MbedNNNatmy\n",
              "pbZt2yaPx6M9e/ZIkowxvjH33XefXnnlFe3bt09vvvmm7r33Xkn//y+WfrlcddVVv+eha+/evRWu\n",
              "x8TESKq4LpIqXAcQHIQKgErdeeedevbZZ7Vz506dPHlSU6dO1aFDhwLaR2hoqHr06KHp06fr2muv\n",
              "lVT+Kst7772nTz/91LdNko4cOaLw8HBFRETo8OHDevjhhyvs7+qrr1Z0dLTS09OVnJx82hNpf4/l\n",
              "y5dr2bJl8nq9eu+99/Tmm2/qnnvukVS+Lm+99ZZWrFjhu3358uWOzAM42xEqACo1btw4/elPf9JV\n",
              "V12l6OhoHT9+XB06dNC5554b0H6uvfZaHTlyxBclbrdb0dHRSkhI8HvL5KWXXtIbb7yhhg0bqnPn\n",
              "zurTp88p93ffffdpy5YtvldTnDB06FAtWLBAjRo10siRIzVnzhzfqzTdunXT7Nmzdf/996tRo0bK\n",
              "ysrSHXfcEfC6APhtLvPr11QB4DRKS0sVFRWl5557TrfddluNzePdd9/Vbbfdpu+++07nn39+0Pff\n",
              "vXt3de3aVVOnTq3yfQYOHKiLLrrId/4MgODgFRUAlTp69KjefvttnTx5UseOHdPYsWNVVlZW6Ssd\n",
              "Z8LPP/+sp556SpmZmY5ESlUtWbJEHo9HJSUleu211/TOO+/ojjvuqLH5AHUVoQKgUmVlZXr88cfV\n",
              "tGlTRUdHa+PGjVq+fLkaNWpUI/N58cUX1bRpU0nS+PHja2QOv3j77bcVFxenxo0ba8qUKXrppZd0\n",
              "9dVX1+icgLqIt34AAIC1eEUFAABYi1ABAADWIlQAAIC1CBUAAGCtOhEqM2fOrOkpAAAAB9SJUOE7\n",
              "NgAAqJvqRKgAAIC6iVABAADWIlQAAIC1CBUAAGAtQgUAAFiLUAEAANYiVAAAgLUIFQAAYC1CBQAA\n",
              "WItQAQAA1iJUAACAtQgVAABgLUdD5YEHHlBcXJxcLpe2bt1a6bgFCxaoVatWatmypUaMGKGSkhIn\n",
              "pwUAAGoJR0Plxhtv1Lp169SiRYtKx+zZs0cTJkzQ2rVrlZ+fr4MHD2ru3LlOTgsAANQSjobK1Vdf\n",
              "rZiYmNOOycnJUf/+/dW8eXO5XC7de++9evXVVysdX1xcLI/H43fxer3BnjoAALBAaE1PoKCgwO8V\n",
              "l7i4OBUUFFQ6ftq0aZo8ebLfts6dOzsyt7hHljmyX0naO/1Pju0btRvHHYDqcOq5o6afN2rdybTj\n",
              "xo3TkSNH/C6pqak1PS0AAOCAGn9Fxe12a9euXb7re/fuldvtrnR8WFiYwsLC/LaFhIQ4Nj8AAFBz\n",
              "avwVlUGDBik3N1cHDhyQMUZz5szRrbfeWtPTAgAAFnA0VDIzMxUTE6NvvvlG1113nRISEiRJw4cP\n",
              "V25uriQpPj5ekydPVpcuXZSQkKBmzZopMzPTyWkBAIBawtG3frKysk65ff78+X7XR4wYoREjRjg5\n",
              "FQAAUAvV+Fs/AAAAlSFUAACAtQgVAABgLUIFAABYi1ABAADWIlQAAIC1CBUAAGAtQgUAAFiLUAEA\n",
              "ANYiVAAAgLUIFQAAYC1CBQAAWItQAQAA1iJUAACAtQgVAABgLUIFAABYi1ABAADWIlQAAIC1CBUA\n",
              "AGAtQgUAAFiLUAEAANYiVAAAgLUIFQAAYC1CBQAAWItQAQAA1iJUAACAtQgVAABgLUIFAABYi1AB\n",
              "AADWIlQAAIC1CBUAAGAtQgUAAFiLUAEAANYiVAAAgLUIFQAAYC1CBQAAWItQAQAA1iJUAACAtQgV\n",
              "AABgLUIFAABYi1ABAADWIlQAAIC1CBUAAGAtQgUAAFiLUAEAANYiVAAAgLUIFQAAYC1CBQAAWItQ\n",
              "AQAA1iJUAACAtQgVAABgLUIFAABYi1ABAADWIlQAAIC1CBUAAGAtQgUAAFiLUAEAANYiVAAAgLUI\n",
              "FQAAYC1CBQAAWItQAQAA1nI0VPLy8pSWlqbExER16tRJ27dvrzCmrKxMo0ePVps2bdS+fXv16NFD\n",
              "+fn5Tk4LAADUEo6GSmZmpjIyMrRz506NHTtWQ4YMqTAmNzdXH374oT777DN9/vnn6tWrlx599FEn\n",
              "pwUAAGoJx0KlqKhImzdv1uDBgyVJgwYNUmFhYYVXS1wul4qLi3XixAkZY+TxeBQTE+PUtAAAQC0S\n",
              "6tSOCwsLFRUVpdDQ8h/hcrnkdrtVUFCghIQE37h+/fpp9erVat68uRo2bKjo6Gh98MEHle63uLhY\n",
              "xcXFftu8Xq8zDwIAANSoGj+ZdvPmzdq2bZu+/fZbfffdd+rVq5fuvffeSsdPmzZNERERfpeNGzee\n",
              "wRkDAIAzxbFQiY2N1f79+1VaWipJMsaooKBAbrfbb9zChQvVs2dPNWrUSPXq1dPdd9+t1atXV7rf\n",
              "cePG6ciRI36X1NRUpx4GAACoQY6FSmRkpFJSUrRo0SJJ0pIlSxQTE+P3to8kxcfHa9WqVTp58qQk\n",
              "6Z133tHll19e6X7DwsIUHh7udwkJCXHqYQAAgBrk2DkqkpSVlaUhQ4boySefVHh4uLKzsyVJw4cP\n",
              "V//+/dW/f3+NHDlSX375pZKSklS/fn01b95cc+bMcXJaAACglnA0VFq3bq3169dX2D5//nzfv8PC\n",
              "wjRv3jwnpwEAAGqpGj+ZFgAAoDKECgAAsBahAgAArEWoAAAAaxEqAADAWoQKAACwFqECAACsRagA\n",
              "AABrESoAAMBahAoAALAWoQIAAKxFqAAAAGsRKgAAwFqECgAAsBahAgAArEWoAAAAaxEqAADAWoQK\n",
              "AACwFqECAACsRagAAABrESoAAMBahAoAALAWoQIAAKxFqAAAAGsRKgAAwFqECgAAsBahAgAArEWo\n",
              "AAAAaxEqAADAWoQKAACwFqECAACsRagAAABrESoAAMBahAoAALAWoQIAAKxFqAAAAGsRKgAAwFqE\n",
              "CgAAsBahAgAArEWoAAAAaxEqAADAWoQKAACwFqECAACsRagAAABrESoAAMBahAoAALAWoQIAAKxF\n",
              "qAAAAGsRKgAAwFqECgAAsBahAgAArEWoAAAAaxEqAADAWoQKAACwFqECAACsRagAAABrESoAAMBa\n",
              "hAoAALAWoQIAAKxFqAAAAGsRKgAAwFqECgAAsJajoZKXl6e0tDQlJiaqU6dO2r59+ynHffHFF+re\n",
              "vbsuu+wyXXbZZVq6dKmT0wIAALVEqJM7z8zMVEZGhoYMGaKcnBwNGTJEmzZt8hvz888/a8CAAVq4\n",
              "cKG6du0qr9erw4cPOzktAABQSzj2ikpRUZE2b96swYMHS5IGDRqkwsJC5efn+437xz/+oc6dO6tr\n",
              "166SpJCQEDVr1qzS/RYXF8vj8fhdvF6vUw8DAADUIMdCpbCwUFFRUQoNLX/RxuVyye12q6CgwG/c\n",
              "jh07FBYWpr59+yo5OVl33XWXvv/++0r3O23aNEVERPhdNm7c6NTDAAAANSjgUFmxYkVQJ1BaWqr3\n",
              "339fWVlZ+vTTTxUdHa377ruv0vHjxo3TkSNH/C6pqalBnRMAALBDwKEyZcoUtW7dWjNnzpTH46l0\n",
              "XGxsrPbv36/S0lJJkjFGBQUFcrvdfuPcbrd69Oih6OhouVwuDR48WBs2bKh0v2FhYQoPD/e7hISE\n",
              "BPowAABALRBwqHz44YdavHixtm3bpsTERN1///3asWNHhXGRkZFKSUnRokWLJElLlixRTEyMEhIS\n",
              "/MbdfPPN2rRpky96li9frqSkpOo8FgAAUMdU6xyVDh06aN68eXrvvff0zjvvqH379rrmmmv0xRdf\n",
              "+I3LyspSVlaWEhMTNX36dGVnZ0uShg8frtzcXEnlr6g8+uijSktLU/v27bVq1SrNmTPndz4sAABQ\n",
              "F1Trz5Pff/99zZo1S1988YVGjhypYcOGac2aNbrhhhv8/qqndevWWr9+fYX7z58/3+/6nXfeqTvv\n",
              "vLM6UwEAAHVYwKFy2WWXqWnTpnrggQeUnp7uOz/kxhtv1IIFC4I+QQAAcPYKOFQWLVqkjh07nvK2\n",
              "d99993dPCAAA4BcBn6PyySef+H1y7KFDhzRv3rygTgoAAECqRqjMnj1bF154oe96kyZNNHv27KBO\n",
              "CgAAQKpGqBhjKmzjI+wBAIATAg6VqKgovf76677rr732mqKiooI6KQAAAKkaJ9POmDFDAwYM0Jgx\n",
              "YyRJ559/vt56662gTwwAACDgULn00ku1Y8cOff3115LKPyuFj7AHAABOqNYHvrlcLjVq1EilpaX6\n",
              "9ttvJanCd/gAAAD8XgGHyt///nc98MADql+/vurVKz/FxeVyqaioKOiTAwAAZ7eAQ+Xxxx/Xpk2b\n",
              "1Lp1ayfmAwAA4BPwX/00bdqUSAEAAGdEwKEycOBAzZgxQ0VFRfJ4PL4LAABAsAX81s/48eMlSaNH\n",
              "j5bL5ZIxRi6Xiw99AwAAQRdwqJSVlTkxDwAAgAoCfutHKv9iwldeeUWS9OOPP2r//v1BnRQAAIBU\n",
              "zS8lHDp0qCZNmiSp/NuTb7/99mDPCwAAIPBQmTt3rjZs2KDw8HBJUsuWLfX9998HfWIAAAABh0pY\n",
              "WJjOO+88v22hodX6gFsAAIDTCjhUmjVrpp07d8rlckkq/6RaPj4fAAA4oVrfnnzbbbfpq6++Umxs\n",
              "rMLDw/XOO+84MTcAAHCWCzhUEhIS9PHHH+vrr7+WMYZvTwYAAI4JOFQKCgokSRdccIEk8e3JAADA\n",
              "MQGHSseOHX2fSHvixAn9/PPPatKkCd+eDAAAgi7gUPnfP0VeunSpPvvss6BNCAAA4BfV+mTaX0tP\n",
              "T9eyZcuCMRcAAAA/Ab+i8utvSvZ6vfr444/59mQAAOCIgEOlUaNGvnNUQkJC1KpVKz333HNOzA0A\n",
              "AJzl+PZkAABgrd99jgoAAIBTAn5FpV69er6Pz/81Y4xcLpe8Xm9QJgYAABBwqEyZMkXHjx/Xfffd\n",
              "J0maM2eOzjvvPD300EPBnhsAADjLBRwqb775pj755BPf9alTp6pjx44aP358UCcGAAAQ8DkqR48e\n",
              "9fsU2qKiIh09ejSokwIAAJCq8YrKww8/rKSkJF1//fWSpPfee0+TJk0K9rwAAAACD5XMzEx16dJF\n",
              "q1evliSNHj1abdu2DfrEAAAAAg4VSWrSpInatWun7t27q7S0VCdPntQ555wT7LkBAICzXMDnqOTk\n",
              "5Khz58665557JEnbt2/XwIEDgz0vAACAwENl2rRp2rJlixo1aiRJSkpK0r59+4I9LwAAgMBDJSQk\n",
              "RE2aNPHbxts+AADACQGHSsOGDXXw4EHfp9OuXLlSF154YdAnBgAAEPDJtH/961/Vp08f7d69W127\n",
              "dtWePXu0bNkyJ+YGAADOcgGFSllZmbxer1avXq2PPvpIxhilpaX5zlcBAAAIpoBCpV69esrIyNBn\n",
              "n32mPn36ODUnAAAASdU4R6VVq1bKz893Yi4AAAB+Aj5H5fDhw0pOTlZaWpoaNGjg27506dKgTgwA\n",
              "AKDKoZKRkaG5c+fq7rvvVv/+/dW4cWMn5wUAAFD1UNm8ebMk6e6771ZKSoq2bNni2KQAAACkapyj\n",
              "IknGmGDPAwAAoIIqv6Jy/PhxffHFFzLG6MSJE75//6J9+/aOTBAAAJy9AgqV/v37+67/+t8ul0u7\n",
              "d+8O7swAAMBZr8qhsnfvXgenAQAAUFG1zlEBAAA4EwgVAABgLUIFAABYi1ABAADWIlQAAIC1CBUA\n",
              "AGAtQgUAAFiLUAEAANYiVAAAgLUcDZW8vDylpaUpMTFRnTp10vbt2ysda4xRz5491ahRIyenBAAA\n",
              "ahFHQyUzM1MZGRnauXOnxo4dqyFDhlQ69tlnn1XLli2dnA4AAKhlHAuVoqIibd68WYMHD5YkDRo0\n",
              "SIWFhcrPz68wdvv27frnP/+pRx555Df3W1xcLI/H43fxer1Bnz8AAKh5joVKYWGhoqKiFBpa/r2H\n",
              "LpdLbrdbBQUFfuNKSko0YsQIZWVlKSQk5Df3O23aNEVERPhdNm7c6MhjAAAANavGT6adPHmy0tPT\n",
              "ddlll1Vp/Lhx43TkyBG/S2pqqsOzBAAANSHUqR3HxsZq//79Ki0tVWhoqIwxKigokNvt9hv3wQcf\n",
              "qKCgQM8//7xKS0vl8XgUFxenTZs2qVmzZhX2GxYWprCwML9tVXklBgAA1D6OvaISGRmplJQULVq0\n",
              "SJK0ZMkSxcTEKCEhwW/c2rVrtW/fPu3du1fr1q1TeHi49u7de8pIAQAAZxdH3/rJyspSVlaWEhMT\n",
              "NX36dGVnZ0uShg8frtzcXCd/NAAAqAMce+tHklq3bq3169dX2D5//vxTjo+Li9OPP/7o5JQAAEAt\n",
              "UuMn0wIAAFSGUAEAANYiVAAAgLUIFQAAYC1CBQAAWItQAQAA1iJUAACAtQgVAABgLUIFAABYi1AB\n",
              "AADWIlQAAIC1CBUAAGAtQgUAAFiLUAEAANYiVAAAgLUIFQAAYC1CBQAAWItQAQAA1iJUAACAtQgV\n",
              "AABgLUIFAABYi1ABAADWIlQAAIC1CBUAAGAtQgUAAFiLUAEAANYiVAAAgLUIFQAAYC1CBQAAWItQ\n",
              "AQAA1iJUAACAtQgVAABgLUIFAABYi1ABAADWIlQAAIC1CBUAAGAtQgUAAFiLUAEAANYiVAAAgLUI\n",
              "FQAAYC1CBQAAWItQAQAA1iJUAACAtQgVAABgLUIFAABYi1ABAADWIlQAAIC1CBUAAGAtQgUAAFiL\n",
              "UAEAANYiVAAAgLUIFQAAYC1CBQAAWItQAQAA1iJUAACAtQgVAABgLUIFAABYi1ABAADWIlQAAIC1\n",
              "CBUAAGAtQgUAAFiLUAEAANZyNFTy8vKUlpamxMREderUSdu3b68wZtWqVUpNTVWbNm3Utm1bjRkz\n",
              "RmVlZU5OCwAA1BKOhkpmZqYyMjK0c+dOjR07VkOGDKkwpnHjxlq8eLF27NihTz75RB999JEWLlzo\n",
              "5LQAAEAt4VioFBUVafPmzRo8eLAkadCgQSosLFR+fr7fuA4dOig+Pl6SdO655yo5OVl79+6tdL/F\n",
              "xcXyeDx+F6/X69TDAAAANcixUCksLFRUVJRCQ0MlSS6XS263WwUFBZXe58CBA8rJyVHfvn0rHTNt\n",
              "2jRFRET4XTZu3Bj0+QMAgJpnzcm0Ho9H/fr105gxY3TFFVdUOm7cuHE6cuSI3yU1NfUMzhQAAJwp\n",
              "oU7tODY2Vvv371dpaalCQ0NljFFBQYHcbneFsUePHlXv3r01YMAAjR49+rT7DQsLU1hYmN+2kJCQ\n",
              "oM4dAADYwbFXVCIjI5WSkqJFixZJkpYsWaKYmBglJCT4jTt27Jh69+6t3r1767HHHnNqOgAAoBZy\n",
              "9K2frKwsZWVlKTExUdOnT1d2drYkafjw4crNzZUkzZw5Uxs3btTSpUuVnJys5ORkPfHEE05OCwAA\n",
              "1BKOvfUjSa1bt9b69esrbJ8/f77v3+PHj9f48eOdnAYAAKilrDmZFgAA4H8RKgAAwFqECgAAsBah\n",
              "AgAArEWoAAAAaxEqAADAWoQKAACwFqECAACsRagAAABrESoAAMBahAoAALAWoQIAAKxFqAAAAGsR\n",
              "KgAAwFqECgAAsBahAgAArEWoAAAAaxEqAADAWoQKAACwFqECAACsRagAAABrESoAAMBahAoAALAW\n",
              "oQIAAKxFqAAAAGsRKgAAwFqECgAAsBahAgAArEWoAAAAaxEqAADAWoQKAACwFqECAACsRagAAABr\n",
              "ESoAAMBahAoAALAWoQIAAKxFqAAAAGsRKgAAwFqECgAAsBahAgAArEWoAAAAaxEqAADAWoQKAACw\n",
              "FqECAACsRagAAABrESoAAMBahAoAALAWoQIAAKxFqAAAAGsRKgAAwFqECgAAsBahAgAArEWoAAAA\n",
              "axEqAADAWoQKAACwFqECAACsRagAAABrESoAAMBahAoAALAWoQIAAKxFqAAAAGs5Gip5eXlKS0tT\n",
              "YmKiOnXqpO3bt59y3IIFC9SqVSu1bNlSI0aMUElJiZPTAgAAtYSjoZKZmamMjAzt3LlTY8eO1ZAh\n",
              "QyqM2bNnjyZMmKC1a9cqPz9fBw8e1Ny5c52cFgAAqCUcC5WioiJt3rxZgwcPliQNGjRIhYWFys/P\n",
              "9xuXk5Oj/v37q3nz5nK5XLr33nv16quvVrrf4uJieTwev4vX63XqYQAAgBoU6tSOCwsLFRUVpdDQ\n",
              "8h/hcrnkdrtVUFCghIQE37iCggK1aNHCdz0uLk4FBQWV7nfatGmaPHmy37ZLL71Uo0ePPu18vF6v\n",
              "Nm7cqNTUVIWEhFTpMaRXaVT1jB690sG9n1511qIusnUdzvRxZ+s6nGmsQznWoVxtXAcnnju8Xq+u\n",
              "vHKqY+vQokULPfjgg6cd41ioOGXcuHEVoiQsLExhYWGnvZ/H41FERIRWrFih8PBwJ6doPdaiHOtQ\n",
              "jnUoxzqUYx3KsQ7lbFgHx0IlNjZW+/fvV2lpqUJDQ2WMUUFBgdxut984t9utXbt2+a7v3bu3wphf\n",
              "q0qUAACAusGxc1QiIyOVkpKiRYsWSZKWLFmimJgYv7d9pPJzV3Jzc3XgwAEZYzRnzhzdeuutTk0L\n",
              "AADUIo7+1U9WVpaysrKUmJio6dOnKzs7W5I0fPhw5ebmSpLi4+M1efJkdenSRQkJCWrWrJkyMzOd\n",
              "nBYAAKglHD1HpXXr1lq/fn2F7fPnz/e7PmLECI0YMcLJqSgsLEwTJ07kbSOxFr9gHcqxDuVYh3Ks\n",
              "QznWoZwN6+Ayxpga++kAAACnwUfoAwAAaxEqAADAWoQKAACwFqECAACsVedCpaysTH/+85/VsmVL\n",
              "JSQk6Pnnnz/luEOHDik5Odl3SUxMVGhoqA4fPixJ6t69uy655BLf7c8+++yZfBi/W1XXQSr/2oLW\n",
              "rVv7Hutrr73mu62q34Btq6quw4kTJzRw4EAlJiYqKSlJ11xzjd/3UtXG4yEY315eF77ZvCrrsGrV\n",
              "KqWmpqpNmzZq27atxowZo7KyMknlH0IZEhLi93zx6w+prC2qsg5r1qzReeed5/dYjx8/7ru9LhwP\n",
              "UtXWIjs7228dmjZtqvT08g+prwvHxAMPPKC4uDi5XC5t3bq10nFWPD+YOubll182PXv2NKWlpebQ\n",
              "oUPG7Xabbdu2/eb9/va3v5m+ffv6rnfr1s28+eabDs7UWYGsQ4sWLcynn356ytt69OhhsrOzjTHG\n",
              "vPHGG+aKK65waMbOqOo6HD9+3CxbtsyUlZUZY4yZNWuW6datm+/22ng8VOV3t3v3bhMVFWX2799v\n",
              "ysrKTL9+/czzzz//m7fVJlVZhy1btphdu3YZY8qPhS5duvjus2fPHhMREXGGZuucqqzD6tWrTVJS\n",
              "0invX1eOB2Oq97zWtm1bk5OTY4ypG8fEBx98YAoLC0/7/G/L80OdC5Xrr7/evPrqq77r//d//2fG\n",
              "jx//m/e79NJL/f5HVBv/x/RrgaxDZQfqwYMHTcOGDU1JSYkxxpiysjJz0UUXmby8PEfm7ITqHg+b\n",
              "Nm0yLVq08F2vbcdDVX93Tz31lMnMzPRdX7ZsmenSpctv3lZbVPcYHjlypJk4caIxpm78T6mq63C6\n",
              "UKkLx4Mx1TsmNmzYYJo1a2ZOnjxpjKkbx8QvThcqtjw/1Lm3fgL9NmZJ+uijj/TDDz+ob9++ftsf\n",
              "eeQRtWvXTrfccot2797tyHydEug63HXXXWrXrp2GDRum77//XtLpvwG7tqjO8SBJM2fO1IABA/y2\n",
              "1abjoaq/u9OtT3XXzibVOYYPHDignJwcv+eDn376SZ06dVJKSoqmTJkir9fr+NyDKZB12LVrl1JS\n",
              "UtSpUyfNnj3bt70uHA9S9Y6JBQsW6M4771T9+vV922r7MVEVtjw/1LpvT77yyiuVl5d3yts+/fTT\n",
              "au1zwYIFuuuuu3wHriS98sorio2NlTFGL7zwgvr27asdO3ZUa/9OCOY6/Oc//5Hb7VZJSYkee+wx\n",
              "3X333Vq+fHkwpuk4J46HJ598Uvn5+Vq5cqVvm+3HA4LD4/GoX79+GjNmjK644gpJUlRUlL799ltF\n",
              "Rkbq8OHDuuWWW/TMM89ozJgxNTzb4EtJSdE333yjiIgIffPNN7r++uvVtGlT3XzzzTU9tRrz008/\n",
              "afHixdqwYYNv29l0TNig1r2isn79ev33v/895SU2NlZut1v79u3zjf+tb2M+duyYXn/9dQ0dOtRv\n",
              "e2xsrKTy2h41apR2796tQ4cOOfOgqiGY6/DL9vr16+uhhx7S2rVrJfl/A7akSr8BuyYF+3h4+umn\n",
              "tXTpUr377rs6//zzfdttPx7+V1V/d6dbn0DXzkaBHMNHjx5V7969NWDAAI0ePdq3PSwsTJGRkZKk\n",
              "Cy+8UEOHDvX9N1JbVHUdwsPDFRERIUmKiYnRbbfd5nusdeF4kAJ/XnvjjTfUtm1btWnTxretLhwT\n",
              "VWHN84MjbyjVoOzs7AonT37++eeVjp8/f36F99VKSkrMgQMHfNdzcnKM2+12bM5OqOo6HDt2zPzw\n",
              "ww++688884y56qqrfNe7devmd9JZx44dnZ56UAVyPDzzzDMmJSXFHD582G97bT0eqvK727VrV4UT\n",
              "4mbNmvWbt9UmVVmHo0ePmrS0NDN58uQKtx08eNB3bsKJEyfMjTfeaCZMmODonJ1QlXX47rvvjNfr\n",
              "NcYY4/F4TFpamlmwYIExpu4cD8YE9rzWtWtXM2/ePL9tdeWYMOb056jY8vxQ50KltLTU3H///eaS\n",
              "Sy4x8fHxZsaMGb7b3nrrLTNs2DC/8VdeeaV56aWX/LYdO3bMdOzY0Vx++eWmffv2pmfPnmbr1q1n\n",
              "ZP7BUtV12LVrl0lOTjbt2rUzl19+uenfv7/Zs2ePb+xXX31lOnfubFq1amU6dux42uizUVXXobCw\n",
              "0Egy8fHxJikpySQlJZnU1FRjTO09Hir73Q0bNsy89dZbvnFz58418fHxJj4+3gwdOtT3BPxbt9UW\n",
              "VVmHqVOnmtDQUN/vPikpyUydOtUYY8ySJUtM27ZtTfv27U2bNm3MqFGjzIkTJ2rs8VRXVdZh1qxZ\n",
              "pk2bNr7HOnHiRN9fwhlTN44HY6r+38ZXX31lGjRoYDwej9/968IxkZGRYaKjo01ISIiJjIw0LVu2\n",
              "NMbY+fzAlxICAABr1bpzVAAAwNmDUAEAANYiVAAAgLUIFQAAYC1CBQAAWItQAQAA1iJUAACAtQgV\n",
              "AABgLUIFAABYi1ABAADW+n9TphNXQILS3wAAAABJRU5ErkJggg==\n",
              "\">\n",
              "      </div>\n",
              "      <script type=\"text/javascript\">\n",
              "        (() => {\n",
              "          const chartElement = document.getElementById(\"chart-cc15a1bd-b86a-4bac-b2b4-652afa04e3af\");\n",
              "          async function getCodeForChartHandler(event) {\n",
              "            const chartCodeResponse =  await google.colab.kernel.invokeFunction(\n",
              "                'getCodeForChart', [\"chart-cc15a1bd-b86a-4bac-b2b4-652afa04e3af\"], {});\n",
              "            const responseJson = chartCodeResponse.data['application/json'];\n",
              "            await google.colab.notebook.addCell(responseJson.code, 'code');\n",
              "          }\n",
              "          chartElement.onclick = getCodeForChartHandler;\n",
              "        })();\n",
              "      </script>\n",
              "      <style>\n",
              "        .colab-quickchart-chart-with-code  {\n",
              "            display: block;\n",
              "            float: left;\n",
              "            border: 1px solid transparent;\n",
              "        }\n",
              "\n",
              "        .colab-quickchart-chart-with-code:hover {\n",
              "            cursor: pointer;\n",
              "            border: 1px solid #aaa;\n",
              "        }\n",
              "      </style>"
            ]
          },
          "metadata": {}
        },
        {
          "output_type": "display_data",
          "data": {
            "text/plain": [
              "from matplotlib import pyplot as plt\n",
              "_df_2['price'].plot(kind='hist', bins=20, title='price')\n",
              "plt.gca().spines[['top', 'right',]].set_visible(False)"
            ],
            "text/html": [
              "      <div class=\"colab-quickchart-chart-with-code\" id=\"chart-3577eecc-515f-4950-bccf-de3c4ac3616d\">\n",
              "        <img style=\"width: 180px;\" src=\"data:image/png;base64,iVBORw0KGgoAAAANSUhEUgAAAioAAAGrCAYAAADuNLxTAAAAOXRFWHRTb2Z0d2FyZQBNYXRwbG90\n",
              "bGliIHZlcnNpb24zLjcuMSwgaHR0cHM6Ly9tYXRwbG90bGliLm9yZy/bCgiHAAAACXBIWXMAAA9h\n",
              "AAAPYQGoP6dpAAAhX0lEQVR4nO3de1TUdf7H8dcI7mytgnlh5QgjIoKXFEPlGNqmdjpr/rytdrrs\n",
              "0SQVsGytYyfNrC3LTffSKdfWIwpLa57VDG3lpNWe0lxLTbGbaSaoOFgqpSVaSjJ8fn9wmtMsYgw7\n",
              "X/kMPh/nzDnOdz6M7/nybXqema8zLmOMEQAAgIVaNPUAAAAA9SFUAACAtQgVAABgLUIFAABYi1AB\n",
              "AADWIlQAAIC1CBUAAGAtQgUAAFiLUAEAANYiVABYZ9q0aZo6dWpTjwHAAi4+Qh8AANiKV1QAWMPn\n",
              "86mmpqapxwBgEUIFgKOGDBmi++67T+PGjVPr1q2VlJSkFStWSJLefvttuVwurV69WsnJybr66qtV\n",
              "UVGhzMxMTZgwwX8fp06d0r333qsuXbqodevW6t69u9544w3/7StWrFBqaqqio6PVq1cvrV69+rI/\n",
              "TgDOiGzqAQA0f/n5+VqzZo3WrFmjf//73xo7dqy6du3qv/2ll17S9u3b1apVK0VGBj4tGWM0duxY\n",
              "tWrVSlu2bFF8fLwOHz6s8+fPS5JeeOEF/f73v9e6deuUlpambdu2acSIEYqLi9PgwYMv6+MEEHqc\n",
              "owLAUUOGDFG7du20du1a/7bbb79drVq10sSJEzV06FDt379fKSkp/tszMzNVXV2tlStXqri4WOnp\n",
              "6Tpx4oQ6dOhQ5/779Omj6dOnKycnx78tKytLxhjl5eU5++AAOI63fgA4rkuXLnWul5eX13v7jx0+\n",
              "fFjXXHPNRSNFkkpKSvTggw+qTZs2/suqVav0xRdfhGZ4AE2KUAHguLKysjrX4+Li/NdbtKj/qSgh\n",
              "IUFff/21vvrqq4ve3rFjRy1ZskTffPON/3L27Flt3LgxJLMDaFqECgDHbdy4URs2bJDP59Prr7+u\n",
              "V155RXfffXeDfrZ///7KyMjQ3XffraNHj0qqfZXl008/lSQ98MADeuqpp7Rr1y7V1NSoqqpKu3bt\n",
              "0u7dux17PAAuH0IFgOMmT56s/Px8tWnTRtOnT9fSpUt1ww03NOhnXS6X1q9fr9jYWF1//fVq3bq1\n",
              "RowY4X/r6P7779cTTzyhadOmqW3bturUqZMeeughffvtt04+JACXCSfTAnDUkCFDNHjwYM2fP7+p\n",
              "RwEQhnhFBQAAWItQAQAA1uKtHwAAYC1eUQEAANYiVAAAgLUIFQAAYC1CBQAAWKtZhMqiRYuaegQA\n",
              "AOCAZhEqR44caeoRAACAA5pFqAAAgOaJUAEAANYiVAAAgLUIFQAAYC1CBQAAWItQAQAA1iJUAACA\n",
              "tQgVAABgLUIFAABYi1ABAADWIlQAAIC1CBUAAGAtR0NlxowZSkhIkMvl0ocffljvuvz8fHXr1k1d\n",
              "u3ZVVlaWLly44ORYAAAgTDgaKrfeeqveeecdde7cud41hw8f1mOPPaatW7eqtLRUJ06c0LJly5wc\n",
              "CwAAhAlHQ+VXv/qV4uLiLrmmsLBQo0ePVseOHeVyuTRt2jStWrWq3vVVVVWqrKwMuPh8vlCPDgAA\n",
              "LBDZ1AN4vd6AV1wSEhLk9XrrXb9gwQLNmzcvYNvAgQMdmS3h4Q2O3K8klS38P8fuG+GN4w5AYzj1\n",
              "3NHUzxthdzLtnDlzdPr06YBLenp6U48FAAAc0OSvqHg8Hh08eNB/vaysTB6Pp971brdbbrc7YFtE\n",
              "RIRj8wEAgKbT5K+ojB8/XkVFRTp+/LiMMVq6dKnuuOOOph4LAABYwNFQycnJUVxcnI4ePapf//rX\n",
              "SkpKkiRNnTpVRUVFkqTExETNmzdPgwYNUlJSkjp06KCcnBwnxwIAAGHC0bd+cnNzL7o9Ly8v4HpW\n",
              "VpaysrKcHAUAAIShJn/rBwAAoD6ECgAAsBahAgAArEWoAAAAaxEqAADAWoQKAACwFqECAACsRagA\n",
              "AABrESoAAMBahAoAALAWoQIAAKxFqAAAAGsRKgAAwFqECgAAsBahAgAArEWoAAAAaxEqAADAWoQK\n",
              "AACwFqECAACsRagAAABrESoAAMBahAoAALAWoQIAAKxFqAAAAGsRKgAAwFqECgAAsBahAgAArEWo\n",
              "AAAAaxEqAADAWoQKAACwFqECAACsRagAAABrESoAAMBahAoAALAWoQIAAKxFqAAAAGsRKgAAwFqE\n",
              "CgAAsBahAgAArEWoAAAAaxEqAADAWoQKAACwFqECAACsRagAAABrESoAAMBahAoAALAWoQIAAKxF\n",
              "qAAAAGsRKgAAwFqECgAAsBahAgAArEWoAAAAaxEqAADAWoQKAACwFqECAACsRagAAABrESoAAMBa\n",
              "hAoAALAWoQIAAKxFqAAAAGsRKgAAwFqOhkpJSYkyMjKUnJysAQMGaO/evXXW1NTUaObMmerZs6f6\n",
              "9OmjoUOHqrS01MmxAABAmHA0VHJycpSdna0DBw5o9uzZyszMrLOmqKhI7777rj766CN9/PHHuumm\n",
              "m/TII484ORYAAAgTjoVKRUWFiouLNWHCBEnS+PHjVV5eXufVEpfLpaqqKp0/f17GGFVWViouLs6p\n",
              "sQAAQBiJdOqOy8vLFRsbq8jI2r/C5XLJ4/HI6/UqKSnJv27UqFHavHmzOnbsqNatW6tTp07asmVL\n",
              "vfdbVVWlqqqqgG0+n8+ZBwEAAJpUk59MW1xcrE8++USff/65vvjiC910002aNm1avesXLFig6Ojo\n",
              "gMvOnTsv48QAAOBycSxU4uPjdezYMVVXV0uSjDHyer3yeDwB61asWKFhw4apTZs2atGihSZNmqTN\n",
              "mzfXe79z5szR6dOnAy7p6elOPQwAANCEHAuVmJgYpaWlaeXKlZKktWvXKi4uLuBtH0lKTEzUpk2b\n",
              "9P3330uSXn31VV177bX13q/b7VZUVFTAJSIiwqmHAQAAmpBj56hIUm5urjIzM/X0008rKipKBQUF\n",
              "kqSpU6dq9OjRGj16tKZPn65PP/1UqampatmypTp27KilS5c6ORYAAAgTjoZKSkqKtm/fXmd7Xl6e\n",
              "/89ut1vLly93cgwAABCmmvxkWgAAgPoQKgAAwFqECgAAsBahAgAArEWoAAAAaxEqAADAWoQKAACw\n",
              "FqECAACsRagAAABrESoAAMBahAoAALAWoQIAAKxFqAAAAGsRKgAAwFqECgAAsBahAgAArEWoAAAA\n",
              "axEqAADAWoQKAACwFqECAACsRagAAABrESoAAMBahAoAALAWoQIAAKxFqAAAAGsRKgAAwFqECgAA\n",
              "sBahAgAArEWoAAAAaxEqAADAWoQKAACwFqECAACsRagAAABrESoAAMBahAoAALAWoQIAAKxFqAAA\n",
              "AGsRKgAAwFqECgAAsBahAgAArEWoAAAAaxEqAADAWoQKAACwFqECAACsRagAAABrESoAAMBahAoA\n",
              "ALAWoQIAAKxFqAAAAGsRKgAAwFqECgAAsBahAgAArEWoAAAAaxEqAADAWoQKAACwFqECAACsRagA\n",
              "AABrESoAAMBahAoAALAWoQIAAKxFqAAAAGsRKgAAwFqOhkpJSYkyMjKUnJysAQMGaO/evRddt2fP\n",
              "Hg0ZMkQ9evRQjx49tG7dOifHAgAAYSLSyTvPyclRdna2MjMzVVhYqMzMTO3atStgzXfffacxY8Zo\n",
              "xYoVGjx4sHw+n06dOuXkWAAAIEw49opKRUWFiouLNWHCBEnS+PHjVV5ertLS0oB1//znPzVw4EAN\n",
              "HjxYkhQREaEOHTrUe79VVVWqrKwMuPh8PqceBgAAaEKOhUp5ebliY2MVGVn7oo3L5ZLH45HX6w1Y\n",
              "t2/fPrndbo0cOVJ9+/bVXXfdpS+//LLe+12wYIGio6MDLjt37nTqYQAAgCYUdKi88cYbIR2gurpa\n",
              "b775pnJzc/XBBx+oU6dOuueee+pdP2fOHJ0+fTrgkp6eHtKZAACAHYIOlSeffFIpKSlatGiRKisr\n",
              "610XHx+vY8eOqbq6WpJkjJHX65XH4wlY5/F4NHToUHXq1Ekul0sTJkzQjh076r1ft9utqKiogEtE\n",
              "RESwDwMAAISBoEPl3Xff1erVq/XJJ58oOTlZ9957r/bt21dnXUxMjNLS0rRy5UpJ0tq1axUXF6ek\n",
              "pKSAdbfddpt27drlj56NGzcqNTW1MY8FAAA0M406R+W6667T8uXL9frrr+vVV19Vnz59dPPNN2vP\n",
              "nj0B63Jzc5Wbm6vk5GQtXLhQBQUFkqSpU6eqqKhIUu0rKo888ogyMjLUp08fbdq0SUuXLv0fHxYA\n",
              "AGgOGvXPk998800tXrxYe/bs0fTp0zVlyhS9/fbb+s1vfhPwr3pSUlK0ffv2Oj+fl5cXcH3ixIma\n",
              "OHFiY0YBAADNWNCh0qNHD7Vv314zZszQuHHj/OeH3HrrrcrPzw/5gAAA4MoVdKisXLlS/fr1u+ht\n",
              "r7322v88EAAAwA+CPkdl9+7dAZ8ce/LkSS1fvjykQwEAAEiNCJUlS5aobdu2/uvt2rXTkiVLQjoU\n",
              "AACA1IhQMcbU2cZH2AMAACcEHSqxsbFas2aN//pLL72k2NjYkA4FAAAgNeJk2ueee05jxozRrFmz\n",
              "JElXX3211q9fH/LBAAAAgg6V7t27a9++ffrss88k1X5WCh9hDwAAnNCoD3xzuVxq06aNqqur9fnn\n",
              "n0tSne/wAQAA+F8FHSovvPCCZsyYoZYtW6pFi9pTXFwulyoqKkI+HAAAuLIFHSpPPfWUdu3apZSU\n",
              "FCfmAQAA8Av6X/20b9+eSAEAAJdF0KEyduxYPffcc6qoqFBlZaX/AgAAEGpBv/Uzd+5cSdLMmTPl\n",
              "crlkjJHL5eJD3wAAQMgFHSo1NTVOzAEAAFBH0G/9SLVfTPjiiy9Kkr755hsdO3YspEMBAABIjfxS\n",
              "wsmTJ+uJJ56QVPvtyb/97W9DPRcAAEDwobJs2TLt2LFDUVFRkqSuXbvqyy+/DPlgAAAAQYeK2+3W\n",
              "VVddFbAtMrJRH3ALAABwSUGHSocOHXTgwAG5XC5JtZ9Uy8fnAwAAJzTq25PvvPNO7d+/X/Hx8YqK\n",
              "itKrr77qxGwAAOAKF3SoJCUl6b333tNnn30mYwzfngwAABwTdKh4vV5J0i9+8QtJ4tuTAQCAY4IO\n",
              "lX79+vk/kfb8+fP67rvv1K5dO749GQAAhFzQofLf/xR53bp1+uijj0I2EAAAwA8a9cm0PzZu3Dht\n",
              "2LAhFLMAAAAECPoVlR9/U7LP59N7773HtycDAABHBB0qbdq08Z+jEhERoW7duumvf/2rE7MBAIAr\n",
              "HN+eDAAArPU/n6MCAADglKBfUWnRooX/4/N/zBgjl8sln88XksEAAACCDpUnn3xS586d0z333CNJ\n",
              "Wrp0qa666io98MADoZ4NAABc4YIOlVdeeUW7d+/2X58/f7769eunuXPnhnQwAACAoM9ROXPmTMCn\n",
              "0FZUVOjMmTMhHQoAAEBqxCsqDz74oFJTUzVixAhJ0uuvv64nnngi1HMBAAAEHyo5OTkaNGiQNm/e\n",
              "LEmaOXOmevXqFfLBAAAAgg4VSWrXrp169+6tIUOGqLq6Wt9//71+9rOfhXo2AABwhQv6HJXCwkIN\n",
              "HDhQd999tyRp7969Gjt2bKjnAgAACD5UFixYoPfff19t2rSRJKWmpurIkSOhngsAACD4UImIiFC7\n",
              "du0CtvG2DwAAcELQodK6dWudOHHC/+m0b731ltq2bRvywQAAAII+mfaPf/yjbrnlFh06dEiDBw/W\n",
              "4cOHtWHDBidmAwAAV7igQqWmpkY+n0+bN2/Wtm3bZIxRRkaG/3wVAACAUAoqVFq0aKHs7Gx99NFH\n",
              "uuWWW5yaCQAAQFIjzlHp1q2bSktLnZgFAAAgQNDnqJw6dUp9+/ZVRkaGWrVq5d++bt26kA4GAADQ\n",
              "4FDJzs7WsmXLNGnSJI0ePVrXXHONk3MBAAA0PFSKi4slSZMmTVJaWpref/99x4YCAACQGnGOiiQZ\n",
              "Y0I9BwAAQB0NfkXl3Llz2rNnj4wxOn/+vP/PP+jTp48jAwIAgCtXUKEyevRo//Uf/9nlcunQoUOh\n",
              "nQwAAFzxGhwqZWVlDo4BAABQV6POUQEAALgcCBUAAGAtQgUAAFiLUAEAANYiVAAAgLUIFQAAYC1C\n",
              "BQAAWItQAQAA1iJUAACAtRwNlZKSEmVkZCg5OVkDBgzQ3r17611rjNGwYcPUpk0bJ0cCAABhxNFQ\n",
              "ycnJUXZ2tg4cOKDZs2crMzOz3rXPPvusunbt6uQ4AAAgzDgWKhUVFSouLtaECRMkSePHj1d5eblK\n",
              "S0vrrN27d6/+9a9/6eGHH/7J+62qqlJlZWXAxefzhXx+AADQ9BwLlfLycsXGxioysvZ7D10ulzwe\n",
              "j7xeb8C6CxcuKCsrS7m5uYqIiPjJ+12wYIGio6MDLjt37nTkMQAAgKbV5CfTzps3T+PGjVOPHj0a\n",
              "tH7OnDk6ffp0wCU9Pd3hKQEAQFOIdOqO4+PjdezYMVVXVysyMlLGGHm9Xnk8noB1W7Zskdfr1fPP\n",
              "P6/q6mpVVlYqISFBu3btUocOHercr9vtltvtDtjWkFdiAABA+HHsFZWYmBilpaVp5cqVkqS1a9cq\n",
              "Li5OSUlJAeu2bt2qI0eOqKysTO+8846ioqJUVlZ20UgBAABXFkff+snNzVVubq6Sk5O1cOFCFRQU\n",
              "SJKmTp2qoqIiJ/9qAADQDDj21o8kpaSkaPv27XW25+XlXXR9QkKCvvnmGydHAgAAYaTJT6YFAACo\n",
              "D6ECAACsRagAAABrESoAAMBahAoAALAWoQIAAKxFqAAAAGsRKgAAwFqECgAAsBahAgAArEWoAAAA\n",
              "axEqAADAWoQKAACwFqECAACsRagAAABrESoAAMBahAoAALAWoQIAAKxFqAAAAGsRKgAAwFqECgAA\n",
              "sBahAgAArEWoAAAAaxEqAADAWoQKAACwFqECAACsRagAAABrESoAAMBahAoAALAWoQIAAKxFqAAA\n",
              "AGsRKgAAwFqECgAAsBahAgAArEWoAAAAaxEqAADAWoQKAACwFqECAACsRagAAABrESoAAMBahAoA\n",
              "ALAWoQIAAKxFqAAAAGsRKgAAwFqECgAAsBahAgAArEWoAAAAaxEqAADAWoQKAACwFqECAACsRagA\n",
              "AABrESoAAMBahAoAALAWoQIAAKxFqAAAAGsRKgAAwFqECgAAsBahAgAArEWoAAAAaxEqAADAWoQK\n",
              "AACwFqECAACs5WiolJSUKCMjQ8nJyRowYID27t1bZ82mTZuUnp6unj17qlevXpo1a5ZqamqcHAsA\n",
              "AIQJR0MlJydH2dnZOnDggGbPnq3MzMw6a6655hqtXr1a+/bt0+7du7Vt2zatWLHCybEAAECYcCxU\n",
              "KioqVFxcrAkTJkiSxo8fr/LycpWWlgasu+6665SYmChJ+vnPf66+ffuqrKys3vutqqpSZWVlwMXn\n",
              "8zn1MAAAQBNyLFTKy8sVGxuryMhISZLL5ZLH45HX6633Z44fP67CwkKNHDmy3jULFixQdHR0wGXn\n",
              "zp0hnx8AADQ9a06mrays1KhRozRr1iz179+/3nVz5szR6dOnAy7p6emXcVIAAHC5RDp1x/Hx8Tp2\n",
              "7Jiqq6sVGRkpY4y8Xq88Hk+dtWfOnNHw4cM1ZswYzZw585L363a75Xa7A7ZFRESEdHYAAGAHx15R\n",
              "iYmJUVpamlauXClJWrt2reLi4pSUlBSw7uzZsxo+fLiGDx+uRx991KlxAABAGHL0rZ/c3Fzl5uYq\n",
              "OTlZCxcuVEFBgSRp6tSpKioqkiQtWrRIO3fu1Lp169S3b1/17dtXf/jDH5wcCwAAhAnH3vqRpJSU\n",
              "FG3fvr3O9ry8PP+f586dq7lz5zo5BgAACFPWnEwLAADw3wgVAABgLUIFAABYi1ABAADWIlQAAIC1\n",
              "CBUAAGAtQgUAAFiLUAEAANYiVAAAgLUIFQAAYC1CBQAAWItQAQAA1iJUAACAtQgVAABgLUIFAABY\n",
              "i1ABAADWIlQAAIC1CBUAAGAtQgUAAFiLUAEAANYiVAAAgLUIFQAAYC1CBQAAWItQAQAA1iJUAACA\n",
              "tQgVAABgLUIFAABYi1ABAADWIlQAAIC1CBUAAGAtQgUAAFiLUAEAANYiVAAAgLUIFQAAYC1CBQAA\n",
              "WItQAQAA1iJUAACAtQgVAABgLUIFAABYi1ABAADWIlQAAIC1CBUAAGAtQgUAAFiLUAEAANYiVAAA\n",
              "gLUIFQAAYC1CBQAAWItQAQAA1iJUAACAtQgVAABgLUIFAABYi1ABAADWIlQAAIC1CBUAAGAtQgUA\n",
              "AFiLUAEAANYiVAAAgLUIFQAAYC1CBQAAWItQAQAA1iJUAACAtRwNlZKSEmVkZCg5OVkDBgzQ3r17\n",
              "L7ouPz9f3bp1U9euXZWVlaULFy44ORYAAAgTjoZKTk6OsrOzdeDAAc2ePVuZmZl11hw+fFiPPfaY\n",
              "tm7dqtLSUp04cULLli1zciwAABAmHAuViooKFRcXa8KECZKk8ePHq7y8XKWlpQHrCgsLNXr0aHXs\n",
              "2FEul0vTpk3TqlWr6r3fqqoqVVZWBlx8Pp9TDwMAADShSKfuuLy8XLGxsYqMrP0rXC6XPB6PvF6v\n",
              "kpKS/Ou8Xq86d+7sv56QkCCv11vv/S5YsEDz5s0L2Na9e3fNnDnzkvP4fD7t3LlT6enpioiIaNBj\n",
              "GNegVY0zc+ZbDt77pTVmXzRHtu6Hy33c2bofLjf2Qy32Q61w3A9OPHf4fD5df/18x/ZD586ddf/9\n",
              "919yjWOh4pQ5c+bUiRK32y23233Jn6usrFR0dLTeeOMNRUVFOTmi9dgXtdgPtdgPtdgPtdgPtdgP\n",
              "tWzYD46FSnx8vI4dO6bq6mpFRkbKGCOv1yuPxxOwzuPx6ODBg/7rZWVlddb8WEOiBAAANA+OnaMS\n",
              "ExOjtLQ0rVy5UpK0du1axcXFBbztI9Weu1JUVKTjx4/LGKOlS5fqjjvucGosAAAQRhz9Vz+5ubnK\n",
              "zc1VcnKyFi5cqIKCAknS1KlTVVRUJElKTEzUvHnzNGjQICUlJalDhw7KyclxciwAABAmHD1HJSUl\n",
              "Rdu3b6+zPS8vL+B6VlaWsrKynBxFbrdbjz/+OG8biX3xA/ZDLfZDLfZDLfZDLfZDLRv2g8sYY5rs\n",
              "bwcAALgEPkIfAABYi1ABAADWIlQAAIC1CBUAAGCtZhcqNTU1+t3vfqeuXbsqKSlJzz///EXXnTx5\n",
              "Un379vVfkpOTFRkZqVOnTkmShgwZoi5duvhvf/bZZy/nw/ifNXQ/SLVfW5CSkuJ/rC+99JL/toZ+\n",
              "A7atGrofzp8/r7Fjxyo5OVmpqam6+eabA76XKhyPh1B8e3lz+GbzhuyHTZs2KT09XT179lSvXr00\n",
              "a9Ys1dTUSKr9EMqIiIiA54sff0hluGjIfnj77bd11VVXBTzWc+fO+W9vDseD1LB9UVBQELAf2rdv\n",
              "r3Hjaj+kvjkcEzNmzFBCQoJcLpc+/PDDetdZ8fxgmpl//OMfZtiwYaa6utqcPHnSeDwe88knn/zk\n",
              "z/35z382I0eO9F+/8cYbzSuvvOLgpM4KZj907tzZfPDBBxe9bejQoaagoMAYY8zLL79s+vfv79DE\n",
              "zmjofjh37pzZsGGDqampMcYYs3jxYnPjjTf6bw/H46Ehv7tDhw6Z2NhYc+zYMVNTU2NGjRplnn/+\n",
              "+Z+8LZw0ZD+8//775uDBg8aY2mNh0KBB/p85fPiwiY6OvkzTOqch+2Hz5s0mNTX1oj/fXI4HYxr3\n",
              "vNarVy9TWFhojGkex8SWLVtMeXn5JZ//bXl+aHahMmLECLNq1Sr/9YceesjMnTv3J3+ue/fuAf8j\n",
              "Csf/Mf1YMPuhvgP1xIkTpnXr1ubChQvGGGNqamrML3/5S1NSUuLIzE5o7PGwa9cu07lzZ//1cDse\n",
              "Gvq7+9Of/mRycnL81zds2GAGDRr0k7eFi8Yew9OnTzePP/64MaZ5/E+pofvhUqHSHI4HYxp3TOzY\n",
              "scN06NDBfP/998aY5nFM/OBSoWLL80Oze+sn2G9jlqRt27bp66+/1siRIwO2P/zww+rdu7duv/12\n",
              "HTp0yJF5nRLsfrjrrrvUu3dvTZkyRV9++aWkS38DdrhozPEgSYsWLdKYMWMCtoXT8dDQ392l9k9j\n",
              "951NGnMMHz9+XIWFhQHPB99++60GDBigtLQ0Pfnkk/L5fI7PHkrB7IeDBw8qLS1NAwYM0JIlS/zb\n",
              "m8PxIDXumMjPz9fEiRPVsmVL/7ZwPyYawpbnh7D79uTrr79eJSUlF73tgw8+aNR95ufn66677vIf\n",
              "uJL04osvKj4+XsYY/e1vf9PIkSO1b9++Rt2/E0K5H/7zn//I4/HowoULevTRRzVp0iRt3LgxFGM6\n",
              "zonj4emnn1Zpaaneeust/zbbjweERmVlpUaNGqVZs2apf//+kqTY2Fh9/vnniomJ0alTp3T77bfr\n",
              "mWee0axZs5p42tBLS0vT0aNHFR0draNHj2rEiBFq3769brvttqYercl8++23Wr16tXbs2OHfdiUd\n",
              "EzYIu1dUtm/frq+++uqil/j4eHk8Hh05csS//qe+jfns2bNas2aNJk+eHLA9Pj5eUm1t33fffTp0\n",
              "6JBOnjzpzINqhFDuhx+2t2zZUg888IC2bt0qKfAbsCXV+w3YTSnUx8Nf/vIXrVu3Tq+99pquvvpq\n",
              "/3bbj4f/1tDf3aX2T7D7zkbBHMNnzpzR8OHDNWbMGM2cOdO/3e12KyYmRpLUtm1bTZ482f/fSLho\n",
              "6H6IiopSdHS0JCkuLk533nmn/7E2h+NBCv557eWXX1avXr3Us2dP/7bmcEw0hDXPD468odSECgoK\n",
              "6pw8+fHHH9e7Pi8vr877ahcuXDDHjx/3Xy8sLDQej8exmZ3Q0P1w9uxZ8/XXX/uvP/PMM+aGG27w\n",
              "X7/xxhsDTjrr16+f06OHVDDHwzPPPGPS0tLMqVOnAraH6/HQkN/dwYMH65wQt3jx4p+8LZw0ZD+c\n",
              "OXPGZGRkmHnz5tW57cSJE/5zE86fP29uvfVW89hjjzk6sxMash+++OIL4/P5jDHGVFZWmoyMDJOf\n",
              "n2+MaT7HgzHBPa8NHjzYLF++PGBbczkmjLn0OSq2PD80u1Cprq429957r+nSpYtJTEw0zz33nP+2\n",
              "9evXmylTpgSsv/76683f//73gG1nz541/fr1M9dee63p06ePGTZsmPnwww8vy/yh0tD9cPDgQdO3\n",
              "b1/Tu3dvc+2115rRo0ebw4cP+9fu37/fDBw40HTr1s3069fvktFno4buh/LyciPJJCYmmtTUVJOa\n",
              "mmrS09ONMeF7PNT3u5syZYpZv369f92yZctMYmKiSUxMNJMnT/Y/Af/UbeGiIfth/vz5JjIy0v+7\n",
              "T01NNfPnzzfGGLN27VrTq1cv06dPH9OzZ09z3333mfPnzzfZ42mshuyHxYsXm549e/of6+OPP+7/\n",
              "l3DGNI/jwZiG/7exf/9+06pVK1NZWRnw883hmMjOzjadOnUyERERJiYmxnTt2tUYY+fzA19KCAAA\n",
              "rBV256gAAIArB6ECAACsRagAAABrESoAAMBahAoAALAWoQIAAKxFqAAAAGsRKgAAwFqECgAAsBah\n",
              "AgAArPX/L+PwFeBOVx8AAAAASUVORK5CYII=\n",
              "\">\n",
              "      </div>\n",
              "      <script type=\"text/javascript\">\n",
              "        (() => {\n",
              "          const chartElement = document.getElementById(\"chart-3577eecc-515f-4950-bccf-de3c4ac3616d\");\n",
              "          async function getCodeForChartHandler(event) {\n",
              "            const chartCodeResponse =  await google.colab.kernel.invokeFunction(\n",
              "                'getCodeForChart', [\"chart-3577eecc-515f-4950-bccf-de3c4ac3616d\"], {});\n",
              "            const responseJson = chartCodeResponse.data['application/json'];\n",
              "            await google.colab.notebook.addCell(responseJson.code, 'code');\n",
              "          }\n",
              "          chartElement.onclick = getCodeForChartHandler;\n",
              "        })();\n",
              "      </script>\n",
              "      <style>\n",
              "        .colab-quickchart-chart-with-code  {\n",
              "            display: block;\n",
              "            float: left;\n",
              "            border: 1px solid transparent;\n",
              "        }\n",
              "\n",
              "        .colab-quickchart-chart-with-code:hover {\n",
              "            cursor: pointer;\n",
              "            border: 1px solid #aaa;\n",
              "        }\n",
              "      </style>"
            ]
          },
          "metadata": {}
        },
        {
          "output_type": "display_data",
          "data": {
            "text/plain": [
              "<google.colab._quickchart_helpers.SectionTitle at 0x7e110d0f3970>"
            ],
            "text/html": [
              "<h4 class=\"colab-quickchart-section-title\">2-d distributions</h4>\n",
              "<style>\n",
              "  .colab-quickchart-section-title {\n",
              "      clear: both;\n",
              "  }\n",
              "</style>"
            ]
          },
          "metadata": {}
        },
        {
          "output_type": "display_data",
          "data": {
            "text/plain": [
              "from matplotlib import pyplot as plt\n",
              "_df_3.plot(kind='scatter', x='peak-rpm', y='highway-mpg', s=32, alpha=.8)\n",
              "plt.gca().spines[['top', 'right',]].set_visible(False)"
            ],
            "text/html": [
              "      <div class=\"colab-quickchart-chart-with-code\" id=\"chart-6a43ef8e-e19e-4d2f-a9a1-9455a0ac3752\">\n",
              "        <img style=\"width: 180px;\" src=\"data:image/png;base64,iVBORw0KGgoAAAANSUhEUgAAAjsAAAGkCAYAAADXDuRQAAAAOXRFWHRTb2Z0d2FyZQBNYXRwbG90\n",
              "bGliIHZlcnNpb24zLjcuMSwgaHR0cHM6Ly9tYXRwbG90bGliLm9yZy/bCgiHAAAACXBIWXMAAA9h\n",
              "AAAPYQGoP6dpAAArY0lEQVR4nO3df3RTdZ7/8VdISspaWsRaqZS09hdCxf4QKj9Gh5+KgyIjapEp\n",
              "WrX8mDPKjh0XZdWZg7rg2R1hVHZG1B7mYIVBgd3t6q5HGFbBUWk50mGAdaBISUFoFbQtVUKT3O8f\n",
              "fM1ulqINJE364fk4555jcj9J37nq6fPc3KQ2y7IsAQAAGKpXtAcAAACIJGIHAAAYjdgBAABGI3YA\n",
              "AIDRiB0AAGA0YgcAABiN2AEAAEYjdgAAgNGIHUnPPfdctEcAAAARQuxIOnjwYLRHAAAAEULsAAAA\n",
              "oxE7AADAaMQOAAAwGrEDAACMRuwAAACjETsAAMBoxA4AADAasQMAAIxG7AAAAKMROwAAwGjETow7\n",
              "2eHTFyc8Otnhi/YoAAD0SI5oD4DOfd7mUdVHDXp7V5O+6fCpT5xdN101QKWj0pWc4Iz2eAAA9BhR\n",
              "P7Mzf/58ZWRkyGazqa6u7qzrKisrlZOTo6ysLM2ePVsdHR1d2tcTfd7m0YNrdui1bW61e7xy9LKp\n",
              "3eNV1baDemD1Dn1xwhPtEQEA6DGiHju333673n//faWnp591zYEDB/TEE09o69atqq+vV1NTk156\n",
              "6aXv3ddTVX3UoPrmNl2a4NTFF/XWRU6HLr6oty5NcKq+uU1VH/JX2gEA6Kqox87111+vtLS071yz\n",
              "bt06TZ06VQMGDJDNZtO8efO0Zs2a793XGY/Ho9bW1qDN54ud62FOdvj09q4mxTvsctiD//U47L3k\n",
              "dNj1n7uPcg0PAABdFPXY6Qq32x105icjI0Nut/t793VmyZIlSkpKCtpqamoiN3yITni8+qbDp96O\n",
              "zv/VOB299M0pn054vN08GQAAPVOPiJ1wWrhwoVpaWoK24uLiaI8VkOB0qE+cXae8/k73e7x+9elt\n",
              "V4KTa8sBAOiKHhE7LpdLBw/+z3UqDQ0Ncrlc37uvM06nU4mJiUGb3W6P3PAhio+za/JVl+mk1yev\n",
              "Lzh4vD6/PF6fbsoboPi42JkZAIBY1iNiZ/r06aqurtbRo0dlWZZefPFFzZgx43v39VSzRmUoO6Wv\n",
              "Pj/h0fH2U2r3eHW8/ZQ+P+FRTkpflY46+8XcAAAgWNRjZ+7cuUpLS9OhQ4d04403Kjs7W5JUXl6u\n",
              "6upqSVJmZqYWLVqkMWPGKDs7W5deeqnmzp37vft6quQEp5bPLFTptelKiHfI67eUEO9Q6bXpemFm\n",
              "Id+zAwBACGyWZVnRHiLaKioqtHTp0miP0amTHacvRk5wOnjrCgCAc8BVrjEuPs5O5AAAcB6i/jYW\n",
              "AABAJBE7AADAaMQOAAAwGrEDAACMRuwAAACjETsAAMBoxA4AADAasQMAAIxG7AAAAKMROwAAwGjE\n",
              "DgAAMBqxAwAAjEbsAAAAoxE7AADAaMQOAAAwGrEDAACMRuwAAACjETsAAMBoxA4AADAasQMAAIxG\n",
              "7AAAAKMROwAAwGjEDgAAMBqxAwAAjEbsAAAAoxE7AADAaMQOAAAwGrEDAACMRuwAAACjETsAAMBo\n",
              "xA4AADAasQMAAIxG7AAAAKMROwAAwGjEDgAAMBqxAwAAjEbsAAAAoxE7AADAaMQOAAAwWkzEzr59\n",
              "+zR69Gjl5uZqxIgR2r179xlrVq5cqYKCgsCWnJys2267TZLU0NAgu90etH///v3d/TIAAEAMckR7\n",
              "AEmaO3eu5syZo7KyMq1bt05lZWWqra0NWnPvvffq3nvvDdy+6qqr9JOf/CRwu2/fvqqrq+uukQEA\n",
              "QA8R9TM7zc3N2r59u0pLSyVJ06dPV2Njo+rr68/6mG3btqm5uVlTp04N+ed5PB61trYGbT6f75zn\n",
              "BwAAsS3qsdPY2KjU1FQ5HKdPMtlsNrlcLrnd7rM+prKyUrNmzVJcXFzgvvb2do0YMUJFRUV68skn\n",
              "zxowS5YsUVJSUtBWU1MT3hcFAABiRtRjJ1Tt7e36wx/+oPvvvz9wX2pqqg4fPqza2lpt2rRJW7du\n",
              "1bPPPtvp4xcuXKiWlpagrbi4uLvGBwAA3SzqsTNo0CAdOXJEXq9XkmRZltxut1wuV6fr33jjDeXl\n",
              "5Wno0KGB+5xOp1JSUiRJ/fv313333aetW7d2+nin06nExMSgzW63h/lVAQCAWBH12ElJSVFRUZGq\n",
              "qqokSevXr1daWpqys7M7XV9ZWRl0Vkc6fd1PR0eHpNPX5GzYsEGFhYWRHRwAAPQIUY8dSVqxYoVW\n",
              "rFih3NxcPfPMM1q5cqUkqby8XNXV1YF1f/3rX1VXV6eSkpKgx7///vsqLCxUfn6+ioqKNGDAAD32\n",
              "2GPd+hoAAEBsslmWZUV7iGirqKjQ0qVLoz0GAACIgJg4swMAABApxA4AADAasQMAAIxG7AAAAKMR\n",
              "OwAAwGjEDgAAMBqxAwAAjEbsAAAAoxE7AADAaMQOAAAwGrEDAACMRuwAAACjETsAAMBoxA4AADAa\n",
              "sQMAAIxG7AAAAKMROwAAwGjEDgAAMBqxAwAAjEbsAAAAoxE7AADAaMQOAAAwGrEDAACMRuwAAACj\n",
              "ETsAAMBoxA4AADAasQMAAIxG7AAAAKMROwAAwGjEDgAAMBqxAwAAjEbsAAAAoxE7AADAaMQOAAAw\n",
              "GrEDAACMRuwAAACjETsAAMBoxA4AADAasQMAAIxG7AAAAKPFROzs27dPo0ePVm5urkaMGKHdu3ef\n",
              "sebdd99Vnz59VFBQENi++eabwP7Kykrl5OQoKytLs2fPVkdHR3e+BAAAEKNiInbmzp2rOXPmaO/e\n",
              "vXrkkUdUVlbW6brBgwerrq4usPXp00eSdODAAT3xxBPaunWr6uvr1dTUpJdeeqkbXwEAAIhVUY+d\n",
              "5uZmbd++XaWlpZKk6dOnq7GxUfX19V1+jnXr1mnq1KkaMGCAbDab5s2bpzVr1kRqZAAA0INEPXYa\n",
              "GxuVmpoqh8MhSbLZbHK5XHK73Wes3b9/v4qKijRixAj99re/DdzvdruVnp4euJ2RkdHp4yXJ4/Go\n",
              "tbU1aPP5fGF+VQAAIFY4oj1AVxUVFenQoUNKSkrSoUOH9KMf/UjJycm68847Q3qeJUuWaNGiRUH3\n",
              "jRw5MpyjAgCAGBL1MzuDBg3SkSNH5PV6JUmWZcntdsvlcgWtS0xMVFJSkiQpLS1Nd911l7Zu3SpJ\n",
              "crlcOnjwYGBtQ0PDGY//1sKFC9XS0hK0FRcXR+KlAQCAGBD12ElJSVFRUZGqqqokSevXr1daWpqy\n",
              "s7OD1h05ckR+v1+S1NbWpjfffFOFhYWSTl/nU11draNHj8qyLL344ouaMWNGpz/P6XQqMTExaLPb\n",
              "7RF8hQAAIJqiHjuStGLFCq1YsUK5ubl65plntHLlSklSeXm5qqurJZ2OoGHDhik/P18jR47UpEmT\n",
              "dO+990qSMjMztWjRIo0ZM0bZ2dm69NJLNXfu3Ki9HgAAEDtslmVZ0R4i2ioqKrR06dJojwEAACIg\n",
              "Js7sAAAARAqxAwAAjEbsAAAAoxE7AADAaMQOAAAwGrEDAACMRuwAAACjETsAAMBoxA4AADAasQMA\n",
              "AIxG7AAAAKMROwAAwGjEDgAAMBqxAwAAjEbsAAAAoxE7AADAaMQOAAAwGrEDAACMRuwAAACjETsA\n",
              "AMBoxA4AADAasQMAAIxG7AAAAKMROwAAwGjEDgAAMBqxAwAAjEbsAAAAoxE7AADAaMQOAAAwGrED\n",
              "AACM5gj1AVdccYVsNlvQff369dOoUaP01FNPqX///mEbDgAA4HyFHDulpaU6fPiw7r//fknSypUr\n",
              "1a9fP1mWpXnz5un1118P+5AAAADnKuTYeeedd7Rt27bA7dGjR+vaa69VTU2Nhg4dGtbhAAAAzlfI\n",
              "1+wcP35cX3/9deD2119/ra+++kqSFB8fH7bBAAAAwiHkMzszZ87UyJEjdccdd0iS1q9fr7vuuksn\n",
              "TpxQRkZGuOcDAAA4LzbLsqxQH/TWW29p8+bNkqTx48drypQpYR+sO1VUVGjp0qXRHgMAAERAyGd2\n",
              "JGnKlCnKz8+XzWbTwIEDwz0TAABA2IR8zc6f//xnDRkyRFdffbWGDRumoUOH6s9//nMkZgMAADhv\n",
              "IcdOeXm5nnzySR0/flzHjx/Xk08+qfLy8kjMBgAAcN5Cjp2TJ08GLk6WpNtvv10ejyesQwEAAIRL\n",
              "yLFTVFSkd999N3D7vffe0zXXXBPOmQAAAMIm5Nj5+OOPNWHCBGVlZSkrK0vjx4/X9u3bVVRUpKKi\n",
              "onMaYt++fRo9erRyc3M1YsQI7d69+4w1mzdvVnFxsYYOHaq8vDwtWLBAfr9fktTQ0CC73a6CgoLA\n",
              "tn///nOaBQAAmCXkT2MtX7487EPMnTtXc+bMUVlZmdatW6eysjLV1tYGrbn44ov1hz/8QZmZmTp5\n",
              "8qQmTpyoVatWqaysTJLUt29f1dXVhX02AADQs4UcOz/84Q/DOkBzc7O2b9+ud955R5I0ffp0PfDA\n",
              "A6qvr1d2dnZgXWFhYeCf4+PjVVBQoIaGhpB/nsfjOeMaI5/Pd27DAwCAmBfy21h79uxRSUmJioqK\n",
              "dPXVVwe2c9XY2KjU1FQ5HKe7y2azyeVyye12n/UxR48e1bp163TzzTcH7mtvb9eIESNUVFSkJ598\n",
              "8qwBs2TJEiUlJQVtNTU15zw/AACIbSGf2ZkxY4buvvtu/exnP5Pdbo/ETN+ptbVVt9xyixYsWKDh\n",
              "w4dLklJTU3X48GGlpKTo+PHjKikp0bPPPqsFCxac8fiFCxeqoqIi6L4nnniiW2YHAADdL+TYsdvt\n",
              "evjhh8M2wKBBg3TkyBF5vV45HA5ZliW32y2Xy3XG2ra2Nk2ePFm33nprULA4nU6lpKRIkvr376/7\n",
              "7rtPq1ev7jR2nE6nnE7nGa8JAACYKeS3scaNG6ctW7aEbYCUlBQVFRWpqqpK0uk/LJqWlhZ0vY4k\n",
              "nThxQpMnT9bkyZP1+OOPB+1rbm5WR0eHpNPX5GzYsCHoGh8AAHDhCjl2br/9dk2ZMkWXX365MjMz\n",
              "dcUVVygzM/O8hlixYoVWrFih3NxcPfPMM1q5cqWk09/WXF1dLUl67rnnVFNTow0bNgQ+Xv4P//AP\n",
              "kqT3339fhYWFys/PV1FRkQYMGKDHHnvsvGYCAABmCPmvng8ePFiPPPKIhg8fHvT2T15eXtiH6y78\n",
              "1XMAAMwV8jU7CQkJuu+++yIxCwAAQNiF/DbWlClT9O///u+RmAUAACDsQj6z88ILL6ilpUV9+vSR\n",
              "0+mUZVmy2Ww6fvx4JOYDAAA4LyHHDn+SAQAA9CQhx056enrgnzdu3KhJkyaFdSAAAIBwCvmanf/t\n",
              "kUceCdccAAAAEXFesRPip9YBAAC63XnFzowZM8I1BwAAQESEHDsLFy7UoUOHJPE2FgAAiH0hx47N\n",
              "ZlNxcbF+/OMfa/PmzZGYCQAAIGxCjp3FixeroaFB06dP1+OPP668vDz99re/VXt7eyTmAwAAOC/n\n",
              "dM1O7969VVJSop/+9Kdqa2vT7373O+Xm5gb+cjkAAECsCDl2Dh8+rMcee0yZmZl6++239cYbb+gv\n",
              "f/mLampq9Pd///eRmBEAAOCchfylgsOHD1d5ebm2bdumyy+/PHD/wIEDde+994Z1OAAAgPMVcuw0\n",
              "NDTI6XR2um/RokXnPRAAAEA4hRw7TqdTNTU1qqur08mTJwP3z58/P6yDAQAAhEPIsbN48WKtW7dO\n",
              "brdbP/zhD7Vx40ZNmDCB2AEAADEp5AuUV69erQ8++EBpaWlav369amtr1avXeX0RMwAAQMSEXCnx\n",
              "8fGKj4+X3++XZVkaPHiw9u/fH4nZAAAAzlvIb2P16dNHHR0dKigo0MMPP6y0tDT5fL5IzAYAAHDe\n",
              "Qj6z87vf/U6nTp3Ss88+q9bWVv3pT3/Sq6++GonZAAAAzlvIZ3YGDx6suLg4XXTRRXr55ZcjMRMA\n",
              "AEDYhBw7qampGj58uCZMmKAJEyaoqKgoEnMBAACERchvY3322WdasGCBvvzyS82bN0+XXXaZ7rzz\n",
              "zkjMBgAAcN5CPrPTu3dvFRcXq729Xe3t7Tp27Jg+++yzSMwGAABw3kKOnTFjxqi1tVXjx4/XxIkT\n",
              "9fTTT6tv376RmA0AAOC8hfw21sCBA9XR0aGjR4+qqalJx44di8RcAAAAYRHymZ3XX39dlmVpx44d\n",
              "2rRpk8aPHy+73a59+/ZFYj4AAIDzEnLsHD16VJs2bdLGjRv1xz/+UUlJSZo4cWIkZgMAADhvIcfO\n",
              "8OHDNXHiRE2cOFHPPPOMUlNTIzEXAABAWIQcO4cOHYrEHAAAABERcux4vV6tX79e+/fvl9frDdz/\n",
              "y1/+MqyDAQAAhEPIsVNSUqKmpiYVFxfLbrdHYiYAAICwCTl2du3apU8++UQ2my0S8wAAAIRVyN+z\n",
              "M2jQIJ06dSoSswAAAIRdl8/sPP/885Kk7OxsjR07Vj/+8Y8VHx8f2D9//vzwTwcAAHCeuhw7O3bs\n",
              "CPzzlVdeqf/+7/8O3OYtLQAAEKu6HDsrV66M5BwAAAAREfIFyqtWrTrjvn79+umaa67RwIEDwzIU\n",
              "AABAuIQcO6+99pq2bNmiH/zgB7LZbHr//fdVXFysvXv36je/+Y3uvPPOSMwJAABwTkL+NFZCQoJ2\n",
              "7NihjRs36p133tGOHTvUv39/ffDBB3r66afPaYh9+/Zp9OjRys3N1YgRI7R79+5O11VWVionJ0dZ\n",
              "WVmaPXu2Ojo6urQPAABcuEKOnb179+rKK68M3B48eLDq6+uVkZGhXr1CfjpJ0ty5czVnzhzt3btX\n",
              "jzzyiMrKys5Yc+DAAT3xxBPaunWr6uvr1dTUpJdeeul79wEAgAtbyHXSt29frVq1SpZlybIsrVq1\n",
              "SgkJCec8QHNzs7Zv367S0lJJ0vTp09XY2Kj6+vqgdevWrdPUqVM1YMAA2Ww2zZs3T2vWrPneff+X\n",
              "x+NRa2tr0Obz+c55fgAAENtCjp2VK1dq+fLlcjqdio+P1/Lly1VZWan29nb90z/9U8gDNDY2KjU1\n",
              "VQ7H6cuHbDabXC6X3G530Dq326309PTA7YyMjMCa79r3fy1ZskRJSUlBW01NTchzAwCAniHk2Bk8\n",
              "eLBqamp07NgxffHFF6qpqdGQIUN00UUXadKkSZGYMawWLlyolpaWoK24uDjaYwEAgAjp8qex9u3b\n",
              "p5ycHO3cubPT/VdfffU5DTBo0CAdOXJEXq9XDodDlmXJ7XbL5XIFrXO5XNq/f3/gdkNDQ2DNd+37\n",
              "v5xOp5xOZ9B9/EFTAADM1eUzOw899JAk6dZbbz1jmzZt2jkPkJKSoqKiIlVVVUmS1q9fr7S0NGVn\n",
              "Zwetmz59uqqrq3X06FFZlqUXX3xRM2bM+N59AADgwtblMztvvvmmpNOffAq3FStWqKysTIsXL1Zi\n",
              "YmLg25rLy8s1depUTZ06VZmZmVq0aJHGjBkjSRo7dqzmzp0rSd+5DwAAXNhslmVZoT7I7/fr6NGj\n",
              "8nq9gfvO9rZRT1BRUaGlS5dGewwAABABIX+D8u9//3vNnz9fcXFxge/Vsdlsam5uDvtwAAAA5yvk\n",
              "2HnqqadUW1urwYMHR2IeAABgkJMdPp3weJXgdCg+LjofCAo5dpKTkwkdAADwnT5v86jqowa9vatJ\n",
              "33T41CfOrpuuGqDSUelKTnB+/xOEUZc/jfXttw1PmzZNv/nNb9Tc3Bz0LcQAAADS6dB5cM0OvbbN\n",
              "rXaPV45eNrV7vKradlAPrN6hL054unWeLp/Z6devn2w2m769nrmioiJw22az8ScXAACAJKnqowbV\n",
              "N7fp0gSnHPbT51Uuckpen1/1zW2q+vCgfj4pt9vm6fKZHb/fL5/PJ7/fH9i+vU3oAAAA6fQ1Om/v\n",
              "alK8wx4InW857L3kdNj1n7uP6mRH97XDuf2ZcgAAgE6c8Hj1TYdPvR2dJ4bT0UvfnDp90XJ3IXYA\n",
              "AEDYJDgd6hNn1ymvv9P9Hq9ffXrbleAM+TNS54zYAQAAYRMfZ9fkqy7TSa9PXl9w8Hh9fnm8Pt2U\n",
              "N6BbP4befVkFAAAuCLNGZWjbgS9V39wmp8Mup6OXPN7ToZOT0lelo9K7dR7O7AAAgLBKTnBq+cxC\n",
              "lV6broR4h7x+SwnxDpVem64XZhZ2+/fscGYHAACEXXKCUz+flKt5Y7N63jcoAwAAdFV8nD1qkfMt\n",
              "3sYCAABGI3YAAIDRiB0AAGA0YgcAABiN2AEAAEYjdgAAgNGIHQAAYDRiBwAAGI3YAQAARiN2AACA\n",
              "0YgdAABgNGIHAAAYjdgBAABGI3YAAIDRiB0AAGA0YgcAABiN2AEAAEYjdgAAgNGIHQAAYDRiBwAA\n",
              "GI3YAQAARiN2AACA0YgdAABgNGIHAAAYjdgBAABGI3YAAIDRiB0AAGC0qMaO3+/Xgw8+qKysLGVn\n",
              "Z2v58uWdrjt58qSmTZum3Nxc5efna9KkSaqvrw/sHzt2rK644goVFBSooKBAy5Yt666XAAAAYpwj\n",
              "mj+8qqpKe/bs0d69e9XS0qLCwkKNGzdOeXl5Z6ydM2eObrrpJtlsNi1fvlzl5eV69913A/uXLVum\n",
              "adOmdd/wAACgR4jqmZ21a9dq9uzZstvt6t+/v0pKSrRmzZoz1sXHx+tHP/qRbDabJGnkyJFqaGg4\n",
              "p5/p8XjU2toatPl8vvN5GQAAIIZFNXbcbrfS09MDtzMyMuR2u7/3cc8995xuvfXWoPseffRRDRs2\n",
              "TCUlJfr000/P+tglS5YoKSkpaKupqTn3FwEAAGJaRGNn1KhRSk5O7nRrbGw8p+dcvHix6uvrtWTJ\n",
              "ksB9r776qj755BPt3LlT1113nW6++eazPn7hwoVqaWkJ2oqLi89pFgAAEPsies3Ohx9++J37XS6X\n",
              "Dh48qFGjRkmSGhoa5HK5zrr+17/+tTZs2KBNmzbpb/7mbwL3Dxo0SJJks9n0wAMP6OGHH9axY8d0\n",
              "ySWXnPEcTqdTTqcz6D673d7l1wQAAHqWqL6Ndccdd+jll1+Wz+fT8ePHtXbtWpWUlHS6dunSpVqz\n",
              "Zo02btyofv36Be73er1qamoK3F6/fr0uu+yyTkMHAABceKL6aaxZs2aptrZWOTk5stlsqqio0LBh\n",
              "wyRJ1dXVqq6u1iuvvKJDhw7pF7/4hTIzMzVu3DhJp8/QbNu2TR6PR1OmTJHH41GvXr2UnJys6urq\n",
              "aL4sAAAQQ2yWZVnRHiLaKioqtHTp0miPAQAAIoBvUAYAAEYjdgAAgNGIHQAAYDRiBwAAGI3YAQAA\n",
              "RiN2AACA0YgdAABgNGIHAAAYjdgBAABGI3YAAIDRiB0AAGA0YgcAABiN2AEAAEYjdgAAgNGIHQAA\n",
              "YDRiBwAAGI3YAQAARiN2AACA0YgdAABgNGIHAAAYjdgBAABGI3YAAIDRiB0AAGA0YgcAABiN2AEA\n",
              "AEYjdgAAgNGIHQAAYDRiBwAAGI3YAQAARiN2AACA0YgdAABgNGIHAAAYjdgBAABGI3YAAIDRiB0A\n",
              "AGA0YgcAABiN2AEAAEYjdgAAgNGIHQAAYDRiBwAAGC2qseP3+/Xggw8qKytL2dnZWr58+VnXZmRk\n",
              "aPDgwSooKFBBQYHWrl0b2Ldv3z6NHj1aubm5GjFihHbv3t0d4wMAgB7AEc0fXlVVpT179mjv3r1q\n",
              "aWlRYWGhxo0bp7y8vE7Xr127VgUFBWfcP3fuXM2ZM0dlZWVat26dysrKVFtbG+HpAQBATxDVMztr\n",
              "167V7NmzZbfb1b9/f5WUlGjNmjUhPUdzc7O2b9+u0tJSSdL06dPV2Nio+vr6SIwMAAB6mKjGjtvt\n",
              "Vnp6euB2RkaG3G73WdfffffdGjZsmO6//359/vnnkqTGxkalpqbK4Th9kspms8nlcp31eTwej1pb\n",
              "W4M2n88XxlcFAABiSURjZ9SoUUpOTu50a2xsDOm5tmzZop07d+rjjz9WcnKy7rnnnnOaacmSJUpK\n",
              "Sgraampqzum5AABA7Ito7Hz44Yf64osvOt0GDRokl8ulgwcPBtY3NDTI5XJ1+lzf3h8XF6ef//zn\n",
              "2rp1qyRp0KBBOnLkiLxeryTJsiy53e6zPs/ChQvV0tIStBUXF4fzZQMAgBgS1bex7rjjDr388svy\n",
              "+Xw6fvy41q5dq5KSkjPWtbe366uvvgrcXrNmjQoLCyVJKSkpKioqUlVVlSRp/fr1SktLU3Z2dqc/\n",
              "0+l0KjExMWiz2+3hf3EAACAmRPXTWLNmzVJtba1ycnJks9lUUVGhYcOGSZKqq6tVXV2tV155RU1N\n",
              "TZo+fbp8Pp8sy1JmZqZWrVoVeJ4VK1aorKxMixcvVmJiolauXBmtlwQAAGKMzbIsK9pDRFtFRYWW\n",
              "Ll0a7TEAAEAE8A3KAADAaMQOAAAwGrEDAACMRuwAAACjETsAAMBoxA4AADAasQMAAIxG7AAAAKMR\n",
              "OwAAwGjEDgAAMBqxAwAAjEbsAAAAoxE7AADAaMQOAAAwGrEDAACMRuwAAACjETsAAMBoxA4AADAa\n",
              "sQMAAIxG7AAAAKMROwAAwGjEDgAAMBqxAwAAjEbsAAAAoxE7AADAaMQOAAAwGrEDAACMRuwAAACj\n",
              "ETsAAMBoxA4AADAasRNBJzt8+uKERyc7fNEeBQCAC5Yj2gOY6PM2j6o+atDbu5r0TYdPfeLsuumq\n",
              "ASodla7kBGe0xwMA4ILCmZ0w+7zNowfX7NBr29xq93jl6GVTu8erqm0H9cDqHfrihCfaIwIAcEEh\n",
              "dsKs6qMG1Te36dIEpy6+qLcucjp08UW9dWmCU/XNbar68GC0RwQA4IJC7ITRyQ6f3t7VpHiHXQ57\n",
              "8KF12HvJ6bDrP3cf5RoeAAC6EbETRic8Xn3T4VNvR+eH1enopW9O+XTC4+3myQAAuHARO2GU4HSo\n",
              "T5xdp7z+Tvd7vH716W1XgpPrwgEA6C7EThjFx9k1+arLdNLrk9cXHDxen18er0835Q1QfJw9ShMC\n",
              "AHDh4RRDmM0alaFtB75UfXObnA67nI5e8nhPh05OSl+VjkqP9ogAAFxQOLMTZskJTi2fWajSa9OV\n",
              "EO+Q128pId6h0mvT9cLMQr5nBwCAbsaZnQhITnDq55NyNW9slk54vEpwOnjrCgCAKInqmR2/368H\n",
              "H3xQWVlZys7O1vLlyztdd+zYMRUUFAS23NxcORwOHT9+XJI0duxYXXHFFYH9y5Yt686XcVbxcXYl\n",
              "JzgJHQAAoiiqZ3aqqqq0Z88e7d27Vy0tLSosLNS4ceOUl5cXtO6SSy5RXV1d4Pavf/1rvffee+rf\n",
              "v3/gvmXLlmnatGndNDkAAOgponpmZ+3atZo9e7bsdrv69++vkpISrVmz5nsfV1lZqfvvv/+cfqbH\n",
              "41Fra2vQ5vPxJX8AAJgqqrHjdruVnv4/n07KyMiQ2+3+zsd88MEH+vLLL3XzzTcH3f/oo49q2LBh\n",
              "Kikp0aeffnrWxy9ZskRJSUlBW01Nzfm9EAAAELMiGjujRo1ScnJyp1tjY+M5PWdlZaXuvvtuORz/\n",
              "8w7cq6++qk8++UQ7d+7Uddddd0YI/W8LFy5US0tL0FZcXHxOswAAgNgX0Wt2Pvzww+/c73K5dPDg\n",
              "QY0aNUqS1NDQIJfLddb1J06c0Ouvv67a2tqg+wcNGiRJstlseuCBB/Twww/r2LFjuuSSS854DqfT\n",
              "Kacz+OPfdjsXEAMAYKqovo11xx136OWXX5bP59Px48e1du1alZSUnHX92rVrlZ+fryuvvDJwn9fr\n",
              "VVNTU+D2+vXrddlll3UaOgAA4MIT1U9jzZo1S7W1tcrJyZHNZlNFRYWGDRsmSaqurlZ1dbVeeeWV\n",
              "wPrKykrNnj076Dk8Ho+mTJkij8ejXr16KTk5WdXV1d36OgAAQOyyWZZlRXuIaKuoqNDSpUujPQYA\n",
              "AIgA/lwEAAAwGrEDAACMxttYkm677TZlZGREe4yo8Pl8qqmpUXFxMZ9KOw8cx/DgOIYHxzE8OI7h\n",
              "EcnjmJ6err/927/93nXEzgWutbVVSUlJamlpUWJiYrTH6bE4juHBcQwPjmN4cBzDIxaOI29jAQAA\n",
              "oxE7AADAaMQOAAAwGrFzgXM6nfrVr351xp/QQGg4juHBcQwPjmN4cBzDIxaOIxcoAwAAo3FmBwAA\n",
              "GI3YAQAARiN2AACA0YidC8S+ffs0evRo5ebmasSIEdq9e3en6yorK5WTk6OsrCzNnj1bHR0d3Txp\n",
              "bOvKcdy8ebOKi4s1dOhQ5eXlacGCBfL7/VGYNnZ19b9HSbIsS+PHj1e/fv26b8AeoqvH8S9/+YvG\n",
              "jh2rIUOGaMiQIdqwYUM3TxrbunIc/X6/KioqNHToUF199dUaN26c6uvrozBtbJo/f74yMjJks9lU\n",
              "V1d31nVR+x1j4YIwbtw4a+XKlZZlWdYbb7xhDR8+/Iw1n376qZWammodOXLE8vv91i233GItX768\n",
              "myeNbV05jh9//LG1f/9+y7Is65tvvrHGjBkTeAxO68px/Nazzz5rlZeXW0lJSd0zXA/SlePY3t5u\n",
              "XXHFFdbWrVsty7Isr9drNTc3d+eYMa8rx/Ff/uVfrOLiYuvUqVOWZVnWU089Zd1xxx3dOWZMe++9\n",
              "96zGxkYrPT3d2rFjR6drovk7hti5ADQ1NVl9+/a1Ojo6LMuyLL/fb1122WXWvn37gtb94z/+ozV3\n",
              "7tzA7bfeessaM2ZMt84ay7p6HP+vn/3sZ9avfvWrbpiwZwjlOO7atcu67rrrrPr6emLn/+jqcXz5\n",
              "5Zetu+66Kxoj9ghdPY7/+q//auXn51utra2W3++3/u7v/s566KGHojFyTPuu2Inm7xjexroANDY2\n",
              "KjU1VQ6HQ5Jks9nkcrnkdruD1rndbqWnpwduZ2RknLHmQtbV4/i/HT16VOvWrdPNN9/cXWPGvK4e\n",
              "x46ODs2ePVsrVqzgjzB2oqvHcc+ePXI6nbr55ptVUFCgu+++W59//nk0Ro5JXT2Ot9xyi8aOHasB\n",
              "AwYoNTVVf/zjH/Xkk09GY+QeK5q/Y4gdIEJaW1t1yy23aMGCBRo+fHi0x+lxFi1apNtuu01DhgyJ\n",
              "9ig9mtfr1aZNm7RixQrt2LFDAwcO1E9/+tNoj9XjbN++Xbt27dLhw4f12WefacKECZo3b160x0IX\n",
              "ETsXgEGDBunIkSPyer2STl/w6Xa75XK5gta5XC4dPHgwcLuhoeGMNReyrh5HSWpra9PkyZN16623\n",
              "qqKiortHjWldPY7vvfeeXnjhBWVkZOgHP/iBWltblZGRwVmJ/y+U/6/HjRungQMHymazqbS0VB99\n",
              "9FE0Ro5JXT2Oq1atClwo36tXL91zzz36r//6r2iM3GNF83cMsXMBSElJUVFRkaqqqiRJ69evV1pa\n",
              "mrKzs4PWTZ8+XdXV1Tp69Kgsy9KLL76oGTNmRGPkmNTV43jixAlNnjxZkydP1uOPPx6NUWNaV4/j\n",
              "1q1bdfDgQTU0NOj9999XYmKiGhoadOmll0Zj7JjT1eN45513qra2Vq2trZKk//iP/1B+fn63zxur\n",
              "unocMzMztXnzZp06dUqS9Oabb+qqq67q9nl7sqj+jumWK4MQdZ988ok1cuRIKycnx7rmmmusnTt3\n",
              "WpZlWffff7/1b//2b4F1L730kpWZmWllZmZa9913X+CTBzitK8fx6aefthwOh5Wfnx/Ynn766WiO\n",
              "HXO6+t/jtw4cOMAFyp3o6nFctWqVlZeXZw0bNsyaPHmy5Xa7ozVyTOrKcTx58qRVXl5uXXnlldaw\n",
              "YcOsSZMmBT51CcuaM2eONXDgQMtut1spKSlWVlaWZVmx8zuGv40FAACMxttYAADAaMQOAAAwGrED\n",
              "AACMRuwAMMK7776rgoKCaI8BIAYROwAuaN9+vwoAcxE7AKLCZrPp8ccfV2FhoXJzc/Xaa68F9tXW\n",
              "1mr8+PEaPny4CgsL9cYbb0g6HSY33nijhg8frry8PM2cOVPt7e1nPHdra6tuuOGGs36d/9ixYzV/\n",
              "/nyNGjVKN9xwgxoaGtSvXz89/PDDuvrqq5WXl6dNmzZJUmDfE088oaKiIuXk5OhPf/qTHnroIRUU\n",
              "FOiqq67Srl27InCEAIQLsQMgamw2m3bs2KG3335bDz74oBoaGvTVV19pzpw5eu2117R9+3Zt3LhR\n",
              "v/jFL3T48GHZ7XatXr068NX9SUlJeuGFF4Kes7GxUePGjVNpaal++ctfnvVn7927V1u2bNHmzZsl\n",
              "SS0tLRoyZIh27typyspKzZw5U21tbYF911xzjT7++GM9+uijuvHGGzV16lTV1dXpnnvu0aJFiyJ3\n",
              "kACcN0e0BwBw4SovL5d0+ttpr7/+em3ZskXJycn69NNPddNNNwWt/etf/6rU1FQtW7ZMb731lrxe\n",
              "r1paWjR69OjAmqamJl1//fV65ZVXNGHChO/82aWlpYqLiwvcdjgcKisrkySNHDlSl19+uXbs2CGX\n",
              "y6X4+HhNmzZNkjR8+HAlJCRo3LhxkqTi4uKgs1IAYg+xAyBm2Gw2WZalvLw8ffDBB2fsr6qq0ubN\n",
              "m/Xee+8pMTFRzz//fODMjCT169dP2dnZevPNNzV+/HjZbDbt2bNHM2fOlCSNGTNG//zP/yxJSkhI\n",
              "6NI8kuR0OgP32e12xcfHB93muh8gtvE2FoCoWblypaTT18Vs3bpV1113nUaPHq0DBw4ErpmRpLq6\n",
              "Op06dUpffvmlkpOTlZiYqLa2Nv3+978Pej6n06kNGzbos88+0+zZs+X3+zV06FDV1dWprq4uEDqd\n",
              "8Xq9evXVVyVJNTU1+uyzz/h0F2AIYgdA1Ph8PhUWFuqGG27Q888/r4yMDF188cV66623tHjxYuXn\n",
              "52vo0KF69NFH5ff7dffdd+vrr7/W4MGDddNNN+m666474znj4uK0evVq+Xw+/eQnP+nyWZekpCTt\n",
              "2rVL+fn5uvfee7V69Wr17ds33C8ZQBTwt7EARIXNZtOXX36pfv36RXsUNTQ0qKCgQF999VW0RwEQ\n",
              "AZzZAQAARuPMDgAAMBpndgAAgNGIHQAAYDRiBwAAGI3YAQAARiN2AACA0YgdAABgNGIHAAAYjdgB\n",
              "AABG+38IYXED3TlXJwAAAABJRU5ErkJggg==\n",
              "\">\n",
              "      </div>\n",
              "      <script type=\"text/javascript\">\n",
              "        (() => {\n",
              "          const chartElement = document.getElementById(\"chart-6a43ef8e-e19e-4d2f-a9a1-9455a0ac3752\");\n",
              "          async function getCodeForChartHandler(event) {\n",
              "            const chartCodeResponse =  await google.colab.kernel.invokeFunction(\n",
              "                'getCodeForChart', [\"chart-6a43ef8e-e19e-4d2f-a9a1-9455a0ac3752\"], {});\n",
              "            const responseJson = chartCodeResponse.data['application/json'];\n",
              "            await google.colab.notebook.addCell(responseJson.code, 'code');\n",
              "          }\n",
              "          chartElement.onclick = getCodeForChartHandler;\n",
              "        })();\n",
              "      </script>\n",
              "      <style>\n",
              "        .colab-quickchart-chart-with-code  {\n",
              "            display: block;\n",
              "            float: left;\n",
              "            border: 1px solid transparent;\n",
              "        }\n",
              "\n",
              "        .colab-quickchart-chart-with-code:hover {\n",
              "            cursor: pointer;\n",
              "            border: 1px solid #aaa;\n",
              "        }\n",
              "      </style>"
            ]
          },
          "metadata": {}
        },
        {
          "output_type": "display_data",
          "data": {
            "text/plain": [
              "from matplotlib import pyplot as plt\n",
              "_df_4.plot(kind='scatter', x='highway-mpg', y='price', s=32, alpha=.8)\n",
              "plt.gca().spines[['top', 'right',]].set_visible(False)"
            ],
            "text/html": [
              "      <div class=\"colab-quickchart-chart-with-code\" id=\"chart-48adebde-657c-4384-b15e-6b54ac699ab6\">\n",
              "        <img style=\"width: 180px;\" src=\"data:image/png;base64,iVBORw0KGgoAAAANSUhEUgAAAjsAAAGkCAYAAADXDuRQAAAAOXRFWHRTb2Z0d2FyZQBNYXRwbG90\n",
              "bGliIHZlcnNpb24zLjcuMSwgaHR0cHM6Ly9tYXRwbG90bGliLm9yZy/bCgiHAAAACXBIWXMAAA9h\n",
              "AAAPYQGoP6dpAAArW0lEQVR4nO3df3RU5Z3H8c8wAxM0EMUQyTaZhPzSJaT5gUkJ/gJFRUSkosa2\n",
              "gMivuC5aN7YKVdbFo8JuBeqRuqLGVM0aUxP2NKvVPWKlxlVJqKRWqEKQMAEhKGhCODBkJnf/yOnU\n",
              "kSAJzmQmT96vc+45vfd57p3v8+R2+HjnzlybZVmWAAAADDUo3AUAAACEEmEHAAAYjbADAACMRtgB\n",
              "AABGI+wAAACjEXYAAIDRCDsAAMBohB0AAGA0wo6kxx57LNwlAACAECHsSNq9e3e4SwAAACFC2AEA\n",
              "AEYj7AAAAKMRdgAAgNEIOwAAwGiEHQAAYDTCDgAAMBphBwAAGI2wAwAAjEbYAQAARiPsAAAAoxF2\n",
              "QuhYh09ftHt0rMMX7lIAABiwHOEuwESfH/ao/P0mvf5Ri452+DR0sF1Xjx2lWYVJio12hrs8AAAG\n",
              "lLBf2bnzzjuVnJwsm82mhoaGk/YrLS1Venq6UlNTtXDhQnV0dPSora99ftijOyq26L82uXXE45Vj\n",
              "kE1HPF6Vb9qtxS9u0RftnrDVBgDAQBT2sHPDDTfonXfeUVJS0kn77Nq1S8uWLVNtba0aGxvV0tKi\n",
              "p5566pRt4VD+fpMaDxzWyGinzj5ziM50OnT2mUM0MtqpxgOHVf4eT1gHAKAvhT3sXHLJJUpISPjW\n",
              "PlVVVZo+fbpGjRolm82m2267TRUVFads647H41FbW1vA4vMF556aYx0+vf5Ri6IcdjnsgVPrsA+S\n",
              "02HXa1v3cw8PAAB9KOxhpyfcbnfAlZ/k5GS53e5TtnVnxYoViomJCVjq6uqCUme7x6ujHT4NcXQ/\n",
              "rU7HIB097lO7xxuU1wMAAKfWL8JOMC1dulStra0BS0FBQVCOHe10aOhgu457O7tt93g7NXSIXdFO\n",
              "7gsHAKCv9Iuw43K5tHv33+91aWpqksvlOmVbd5xOp4YPHx6w2O32oNQZNdiuKWPP1TGvT15fYODx\n",
              "+jrl8fp0deYoRQ0OzusBAIBT6xdhZ+bMmaqpqdH+/ftlWZaefPJJ3XzzzadsC4fZhclKixumz9s9\n",
              "OnTkuI54vDp05Lg+b/coPW6YZhWe/EZsAAAQfGEPO8XFxUpISNCePXt01VVXKS0tTZK0YMEC1dTU\n",
              "SJJSUlK0fPlyXXjhhUpLS9PIkSNVXFx8yrZwiI12au2PczXrB0mKjnLI22kpOsqhWT9I0uM/zuV3\n",
              "dgAA6GM2y7KscBcRbiUlJVq9enXQj3uso+tm5Ging4+uAAAIE+6UDaGowXZCDgAAYRb2j7EAAABC\n",
              "ibADAACMRtgBAABGI+wAAACjEXYAAIDRCDsAAMBohB0AAGA0wg4AADAaYQcAABiNsAMAAIxG2AEA\n",
              "AEYj7AAAAKMRdgAAgNEIOwAAwGiEHQAAYDTCDgAAMBphBwAAGI2wAwAAjEbYAQAARiPsAAAAoxF2\n",
              "AACA0Qg7AADAaIQdAABgNMIOAAAwGmEHAAAYjbADAACMRtgBAABGI+wAAACjEXYAAIDRCDsAAMBo\n",
              "hB0AAGA0wg4AADAaYQcAABiNsAMAAIxG2AEAAEYj7AAAAKMRdgAAgNEIOwAAwGiEHQAAYLSICDs7\n",
              "duzQhAkTlJGRofz8fG3duvWEPmVlZcrJyfEvsbGxuv766yVJTU1NstvtAe07d+7s62EAAIAI5Ah3\n",
              "AZJUXFysRYsWae7cuaqqqtLcuXNVX18f0OfWW2/Vrbfe6l8fO3asfvKTn/jXhw0bpoaGhr4qGQAA\n",
              "9BNhv7Jz4MABbd68WbNmzZIkzZw5U83NzWpsbDzpPps2bdKBAwc0ffr0Xr+ex+NRW1tbwOLz+U67\n",
              "fgAAENnCHnaam5sVHx8vh6PrIpPNZpPL5ZLb7T7pPqWlpZo9e7YGDx7s33bkyBHl5+crLy9PDz74\n",
              "4EkDzIoVKxQTExOw1NXVBXdQAAAgYoQ97PTWkSNH9NJLL2n+/Pn+bfHx8dq7d6/q6+u1YcMG1dbW\n",
              "atWqVd3uv3TpUrW2tgYsBQUFfVU+AADoY2EPO4mJidq3b5+8Xq8kybIsud1uuVyubvu//PLLyszM\n",
              "1JgxY/zbnE6n4uLiJEkjRozQvHnzVFtb2+3+TqdTw4cPD1jsdnuQRwUAACJF2MNOXFyc8vLyVF5e\n",
              "Lkmqrq5WQkKC0tLSuu1fWloacFVH6rrvp6OjQ1LXPTnr169Xbm5uaAsHAAD9QtjDjiStW7dO69at\n",
              "U0ZGhlauXKmysjJJ0oIFC1RTU+Pv98knn6ihoUFFRUUB+7/zzjvKzc1Vdna28vLyNGrUKN133319\n",
              "OgYAABCZbJZlWeEuItxKSkq0evXqcJcBAABCICKu7AAAAIQKYQcAABiNsAMAAIxG2AEAAEYj7AAA\n",
              "AKMRdgAAgNEIOwAAwGiEHQAAYDTCDgAAMBphBwAAGI2wAwAAjEbYAQAARiPsAAAAoxF2AACA0Qg7\n",
              "AADAaIQdAABgNMIOAAAwGmEHAAAYjbADAACMRtgBAABGI+wAAACjEXYAAIDRCDsAAMBohB0AAGA0\n",
              "wg4AADAaYQcAABiNsAMAAIxG2AEAAEYj7AAAAKMRdgAAgNEIOwAAwGiEHQAAYDTCDgAAMBphBwAA\n",
              "GI2wAwAAjEbYAQAARiPsAAAAoxF2AACA0Qg7AADAaIQdAABgtIgIOzt27NCECROUkZGh/Px8bd26\n",
              "9YQ+Gzdu1NChQ5WTk+Nfjh496m8vLS1Venq6UlNTtXDhQnV0dPTlEAAAQISKiLBTXFysRYsWafv2\n",
              "7br33ns1d+7cbvudd955amho8C9Dhw6VJO3atUvLli1TbW2tGhsb1dLSoqeeeqoPRwAAACJV2MPO\n",
              "gQMHtHnzZs2aNUuSNHPmTDU3N6uxsbHHx6iqqtL06dM1atQo2Ww23XbbbaqoqAhVyQAAoB8Je9hp\n",
              "bm5WfHy8HA6HJMlms8nlcsntdp/Qd+fOncrLy1N+fr6eeOIJ/3a3262kpCT/enJycrf7S5LH41Fb\n",
              "W1vA4vP5gjwqAAAQKRzhLqCn8vLytGfPHsXExGjPnj2aOnWqYmNjddNNN/XqOCtWrNDy5csDto0f\n",
              "Pz6YpQIAgAgS9is7iYmJ2rdvn7xeryTJsiy53W65XK6AfsOHD1dMTIwkKSEhQT/60Y9UW1srSXK5\n",
              "XNq9e7e/b1NT0wn7/83SpUvV2toasBQUFIRiaAAAIAKEPezExcUpLy9P5eXlkqTq6molJCQoLS0t\n",
              "oN++ffvU2dkpSTp8+LBeeeUV5ebmSuq6z6empkb79++XZVl68skndfPNN3f7ek6nU8OHDw9Y7HZ7\n",
              "CEcIAADCKexhR5LWrVundevWKSMjQytXrlRZWZkkacGCBaqpqZHUFYKysrKUnZ2t8ePH64orrtCt\n",
              "t94qSUpJSdHy5ct14YUXKi0tTSNHjlRxcXHYxgMAACKHzbIsK9xFhFtJSYlWr14d7jIAAEAIRMSV\n",
              "HQAAgFAh7AAAAKMRdgAAgNEIOwAAwGiEHQAAYDTCDgAAMBphBwAAGI2wAwAAjEbYAQAARiPsAAAA\n",
              "oxF2AACA0Qg7AADAaIQdAABgNMIOAAAwGmEHAAAYjbADAACMRtgBAABGI+wAAACjEXYAAIDRCDsA\n",
              "AMBohB0AAGA0wg4AADAaYQcAABiNsAMAAIxG2AEAAEYj7AAAAKMRdgAAgNEIOwAAwGiEHQAAYDTC\n",
              "DgAAMBphBwAAGI2wAwAAjEbYAQAARiPsAAAAoxF2AACA0Qg7AADAaIQdAABgNMIOAAAwGmEHAAAY\n",
              "jbADAACMRtgBAABGi4iws2PHDk2YMEEZGRnKz8/X1q1bT+jzhz/8QQUFBRozZowyMzN1zz33qLOz\n",
              "U5LU1NQku92unJwc/7Jz586+HgYAAIhAERF2iouLtWjRIm3fvl333nuv5s6de0Kfs88+Wy+99JK2\n",
              "bdumP/3pT3r33Xf1/PPP+9uHDRumhoYG/5KamtqHIwAAAJEq7GHnwIED2rx5s2bNmiVJmjlzppqb\n",
              "m9XY2BjQLzc3VykpKZKkqKgo5eTkqKmpqdev5/F41NbWFrD4fL7vPA4AABCZwh52mpubFR8fL4fD\n",
              "IUmy2WxyuVxyu90n3Wf//v2qqqrStGnT/NuOHDmi/Px85eXl6cEHHzxpgFmxYoViYmIClrq6uuAO\n",
              "CgAARIywh53eamtr07XXXqt77rlHF1xwgSQpPj5ee/fuVX19vTZs2KDa2lqtWrWq2/2XLl2q1tbW\n",
              "gKWgoKAvhwAAAPpQ2MNOYmKi9u3bJ6/XK0myLEtut1sul+uEvocPH9aUKVN03XXXqaSkxL/d6XQq\n",
              "Li5OkjRixAjNmzdPtbW13b6e0+nU8OHDAxa73R6CkQEAgEgQ9rATFxenvLw8lZeXS5Kqq6uVkJCg\n",
              "tLS0gH7t7e2aMmWKpkyZovvvvz+g7cCBA+ro6JDUdU/O+vXrlZub2zcDAAAAES3sYUeS1q1bp3Xr\n",
              "1ikjI0MrV65UWVmZJGnBggWqqamRJD322GOqq6vT+vXr/V8vf/jhhyVJ77zzjnJzc5Wdna28vDyN\n",
              "GjVK9913X9jGAwAAIofNsiwr3EWEW0lJiVavXh3uMgAAQAhExJUdAACAUCHsAAAAoxF2AACA0U4r\n",
              "7HR0dPDsKQAA0C/0Ouxs3LhRSUlJmjRpkiSpvr7e/6gHAACASNPrsLNkyRLV1tbqnHPOkSTl5+dr\n",
              "y5YtQS8MAAAgGHoddnw+3wlPFB8yZEjQCgIAAAimXoedqKgotbe3y2azSZL+8pe/aOjQoUEvDAAA\n",
              "IBgcvd1h2bJluvLKK7V3717NmjVLGzZs0IsvvhiK2gAAAL6zXoedK6+8Uunp6Xr99ddlWZaWL19+\n",
              "wsdaAAAAkaLXYcftdis+Pl7/9E//JEk6evSompublZiYGPTiAAAAvqte37Nzww039GgbAABAJOh1\n",
              "2Dl+/LiioqL860OHDpXH4wlqUQAAAMHS67Bjs9l04MAB//r+/fvFg9MBAECk6vU9O3feeacKCws1\n",
              "e/ZsSVJ5ebkeeOCBoBcGAAAQDL0OO7feeqtGjx6t3//+95KksrIyXXzxxUEvDAAAIBh6HXYkaeLE\n",
              "iZo4cWKQSwEAAAi+Hoedu+++W6tWrdIPf/hD/68nf9369euDWhgAAEAw9Djs/O1KzowZM0JUCgAA\n",
              "QPD1OOxce+218vl82rZtm/793/89lDUBAAAETa++em632/XWW2+FqhYAAICg6/Xv7EydOlUPP/yw\n",
              "PvvsM7W1tfkXAACASGSzevmLgIMGnZiPbDabfD5f0IrqayUlJVq9enW4ywAAACHQ66+ed3Z2hqIO\n",
              "AACAkDit39lxu916++23ZbPZdMkll/DEcwAAELF6fc/Oiy++qNzcXFVXV6uqqkp5eXl66aWXQlEb\n",
              "AADAd9brKzsPPvigNm/erNGjR0uSmpqaNGXKFN18881BLw4AAOC76vWVnTPOOMMfdCQpOTlZZ5xx\n",
              "RlCLAgAACJZeh51rrrlG//Zv/6Y9e/aoublZDz74oK699lq+gg4AACJSUL567j9YP/0KOl89BwDA\n",
              "XHz1HAAAGK3XH2MBAAD0J4QdAABgNMIOAAAwGmEHAAAYjbADAACMRtgBAABGI+wAAACjEXYAAIDR\n",
              "CDsAAMBoERF2duzYoQkTJigjI0P5+fnaunVrt/1KS0uVnp6u1NRULVy4UB0dHT1qAwAAA1dEhJ3i\n",
              "4mItWrRI27dv17333qu5c+ee0GfXrl1atmyZamtr1djYqJaWFj311FOnbAMAAANb2MPOgQMHtHnz\n",
              "Zs2aNUuSNHPmTDU3N6uxsTGgX1VVlaZPn65Ro0bJZrPptttuU0VFxSnbvsnj8fif0P63pT8+vBQA\n",
              "APRM2MNOc3Oz4uPj5XB0PZPUZrPJ5XLJ7XYH9HO73UpKSvKvJycn+/t8W9s3rVixQjExMQFLXV1d\n",
              "sIcFAAAiRNjDTl9bunSpWltbA5aCgoJwlwUAAELEEe4CEhMTtW/fPnm9XjkcDlmWJbfbLZfLFdDP\n",
              "5XJp586d/vWmpiZ/n29r+yan0ymn0xmwzW63B2s4AAAgwoT9yk5cXJzy8vJUXl4uSaqurlZCQoLS\n",
              "0tIC+s2cOVM1NTXav3+/LMvSk08+qZtvvvmUbQAAYGALe9iRpHXr1mndunXKyMjQypUrVVZWJkla\n",
              "sGCBampqJEkpKSlavny5LrzwQqWlpWnkyJEqLi4+ZRsAABjYbJZlWeEuItxKSkq0evXqcJcBAABC\n",
              "ICKu7AAAAIQKYQcAABiNsAMAAIxG2AEAAEYj7AAAAKMRdgAAgNEIOwAAwGiEHQAAYDTCDgAAMBph\n",
              "B4COdfj0RbtHxzp84S4FAIIu7E89BxA+nx/2qPz9Jr3+UYuOdvg0dLBdV48dpVmFSYqNdoa7PAAI\n",
              "Cq7sAAPU54c9uqNii/5rk1tHPF45Btl0xONV+abdWvziFn3R7gl3iQAQFIQdYIAqf79JjQcOa2S0\n",
              "U2efOURnOh06+8whGhntVOOBwyp/b3e4SwSAoCDsAAPQsQ6fXv+oRVEOuxz2wLcBh32QnA67Xtu6\n",
              "n3t4ABiBsAMMQO0er452+DTE0f1bgNMxSEeP+9Tu8fZxZQAQfIQdYACKdjo0dLBdx72d3bZ7vJ0a\n",
              "OsSuaCffYQDQ/xF2gAEoarBdU8aeq2Nen7y+wMDj9XXK4/Xp6sxRihpsD1OFABA8/GcbMEDNLkzW\n",
              "pl1fqvHAYTkddjkdg+TxdgWd9LhhmlWYFO4SASAouLIDDFCx0U6t/XGuZv0gSdFRDnk7LUVHOTTr\n",
              "B0l6/Me5/M4OAGNwZQcYwGKjnbrrigzdNjFV7R6vop0OProCYBzCDgBFDbYTcgAYi4+xAACA0Qg7\n",
              "AADAaIQdAABgNMIOAAAwGmEHAAAYjbADAACMRtgBAABGI+wAAACjEXYAAIDRCDsAAMBohB0AAGA0\n",
              "wg4AADAaYQcAABiNsAMAAIxG2AEAAEYj7AAAAKMRdgAAgNEIOwAAwGiEHQAAYLSwhp3Ozk7dcccd\n",
              "Sk1NVVpamtauXdttv2PHjmnGjBnKyMhQdna2rrjiCjU2NvrbJ06cqNGjRysnJ0c5OTlas2ZNXw0B\n",
              "AABEOEc4X7y8vFzbtm3T9u3b1draqtzcXE2aNEmZmZkn9F20aJGuvvpq2Ww2rV27VgsWLNDGjRv9\n",
              "7WvWrNGMGTP6rngAANAvhPXKTmVlpRYuXCi73a4RI0aoqKhIFRUVJ/SLiorS1KlTZbPZJEnjx49X\n",
              "U1PTab2mx+NRW1tbwOLz+b7LMAAAQAQLa9hxu91KSkryrycnJ8vtdp9yv8cee0zXXXddwLYlS5Yo\n",
              "KytLRUVF+vTTT0+674oVKxQTExOw1NXVnf4gAABARAtp2CksLFRsbGy3S3Nz82kd85FHHlFjY6NW\n",
              "rFjh3/bCCy/o448/1ocffqiLL75Y06ZNO+n+S5cuVWtra8BSUFBwWrUAAIDIF9J7dt57771vbXe5\n",
              "XNq9e7cKCwslSU1NTXK5XCft/+ijj2r9+vXasGGDzjjjDP/2xMRESZLNZtPixYv1s5/9TAcPHtQ5\n",
              "55xzwjGcTqecTmfANrvd3uMxAQCA/iWsH2PdeOONevrpp+Xz+XTo0CFVVlaqqKio276rV69WRUWF\n",
              "3njjDZ111ln+7V6vVy0tLf716upqnXvuud0GHQAAMPCE9dtYs2fPVn19vdLT02Wz2VRSUqKsrCxJ\n",
              "Uk1NjWpqavTMM89oz549uvvuu5WSkqJJkyZJ6rpCs2nTJnk8Hl1zzTXyeDwaNGiQYmNjVVNTE85h\n",
              "AQCACGKzLMsKdxHhVlJSotWrV4e7DAAAEAL8gjIAADAaYQcAABiNsAMAAIxG2AEAAEYj7AAAAKMR\n",
              "dgAAgNEIOwAAwGiEHQAAYDTCDgAAMBphBwAAGI2wAwAAjEbYAQAARiPsAAAAoxF2AACA0Qg7AADA\n",
              "aIQdAABgNMIOAAAwGmEHAAAYjbADAACMRtgBAABGI+wAAACjEXYAAIDRCDsAAMBohB0AAGA0wg4A\n",
              "ADAaYQcAABiNsAMAAIxG2AEAAEYj7AAAAKMRdgAAgNEIOwAAwGiEHQAAYDTCDgAAMBphBwAAGI2w\n",
              "AwAAjEbYAQAARiPsAAAAoxF2AACA0Qg7AADAaIQdAABgtLCGnc7OTt1xxx1KTU1VWlqa1q5de9K+\n",
              "ycnJOu+885STk6OcnBxVVlb623bs2KEJEyYoIyND+fn52rp1a1+UDwAA+gFHOF+8vLxc27Zt0/bt\n",
              "29Xa2qrc3FxNmjRJmZmZ3favrKxUTk7OCduLi4u1aNEizZ07V1VVVZo7d67q6+tDXD0AAOgPwnpl\n",
              "p7KyUgsXLpTdbteIESNUVFSkioqKXh3jwIED2rx5s2bNmiVJmjlzppqbm9XY2BiKkgEAQD8T1rDj\n",
              "druVlJTkX09OTpbb7T5p/zlz5igrK0vz58/X559/Lklqbm5WfHy8HI6ui1Q2m00ul+ukx/F4PGpr\n",
              "awtYfD5fEEcFAAAiSUjDTmFhoWJjY7tdmpube3Wst99+Wx9++KE++OADxcbG6pZbbjmtmlasWKGY\n",
              "mJiApa6u7rSOBQAAIl9Iw857772nL774otslMTFRLpdLu3fv9vdvamqSy+Xq9lh/2z548GDddddd\n",
              "qq2tlSQlJiZq37598nq9kiTLsuR2u096nKVLl6q1tTVgKSgoCOawAQBABAnrx1g33nijnn76afl8\n",
              "Ph06dEiVlZUqKio6od+RI0f01Vdf+dcrKiqUm5srSYqLi1NeXp7Ky8slSdXV1UpISFBaWlq3r+l0\n",
              "OjV8+PCAxW63B39wAAAgIoT121izZ89WfX290tPTZbPZVFJSoqysLElSTU2Nampq9Mwzz6ilpUUz\n",
              "Z86Uz+eTZVlKSUnR888/7z/OunXrNHfuXD3yyCMaPny4ysrKwjUkAAAQYWyWZVnhLiLcSkpKtHr1\n",
              "6nCXAQAAQoBfUAYAAEYj7AAAAKMRdgAAgNEIOwAAwGiEHQAAYDTCDgAAMBphBwAAGI2wAwAAjEbY\n",
              "AQAARiPsAAAAoxF2AACA0Qg7AADAaIQdAABgNMIOAAAwGmEHAAAYjbADAACMRtgBAABGI+wAAACj\n",
              "EXYAAIDRCDsAAMBohB0AAGA0wg4AADAaYQcAABiNsAMAAIxG2AEAAEYj7AAAAKMRdgAAgNEIOwAA\n",
              "wGiEHQAAYDTCDgAAMBphBwAAhMyxDp++aPfoWIcvbDU4wvbKAADAWJ8f9qj8/Sa9/lGLjnb4NHSw\n",
              "XVePHaVZhUmKjXb2aS1c2QEAAEH1+WGP7qjYov/a5NYRj1eOQTYd8XhVvmm3Fr+4RV+0e/q0HsIO\n",
              "AAAIqvL3m9R44LBGRjt19plDdKbTobPPHKKR0U41Hjis8vd292k9hB0AABA0xzp8ev2jFkU57HLY\n",
              "A2OGwz5IToddr23d36f38BB2AABA0LR7vDra4dMQR/cRw+kYpKPHfWr3ePusJsIOAAAImminQ0MH\n",
              "23Xc29ltu8fbqaFD7Ip29t13pAg7AAAgaKIG2zVl7Lk65vXJ6wsMPF5fpzxen67OHKWowfY+q4mv\n",
              "ngMAgKCaXZisTbu+VOOBw3I67HI6Bsnj7Qo66XHDNKswqU/r4coOAAAIqthop9b+OFezfpCk6CiH\n",
              "vJ2WoqMcmvWDJD3+49w+/50druwAAICgi4126q4rMnTbxFS1e7yKdjr69KOrrwvrlZ3Ozk7dcccd\n",
              "Sk1NVVpamtauXdttv4MHDyonJ8e/ZGRkyOFw6NChQ5KkiRMnavTo0f72NWvW9OUwAADASUQNtis2\n",
              "2hm2oCOF+cpOeXm5tm3bpu3bt6u1tVW5ubmaNGmSMjMzA/qdc845amho8K8/+uij+uMf/6gRI0b4\n",
              "t61Zs0YzZszoo8oBAEB/EdYrO5WVlVq4cKHsdrtGjBihoqIiVVRUnHK/0tJSzZ8//7Re0+PxqK2t\n",
              "LWDx+cL3cDIAABBaYQ07brdbSUl/vyM7OTlZbrf7W/d599139eWXX2ratGkB25csWaKsrCwVFRXp\n",
              "008/Pen+K1asUExMTMBSV1f33QYCAAAiVkjDTmFhoWJjY7tdmpubT+uYpaWlmjNnjhyOv38C98IL\n",
              "L+jjjz/Whx9+qIsvvviEIPR1S5cuVWtra8BSUFBwWrUAAIDIF9J7dt57771vbXe5XNq9e7cKCwsl\n",
              "SU1NTXK5XCft397ert/+9reqr68P2J6YmChJstlsWrx4sX72s5/p4MGDOuecc044htPplNMZ+JU3\n",
              "uz18N00BAIDQCuvHWDfeeKOefvpp+Xw+HTp0SJWVlSoqKjpp/8rKSmVnZ+v888/3b/N6vWppafGv\n",
              "V1dX69xzz+026AAAgIEnrN/Gmj17turr65Weni6bzaaSkhJlZWVJkmpqalRTU6NnnnnG37+0tFQL\n",
              "Fy4MOIbH49E111wjj8ejQYMGKTY2VjU1NX06DgAAELlslmVZ4S4i3EpKSrR69epwlwEAAEKAx0UA\n",
              "AACjEXYAAIDR+BhL0vXXX6/k5ORT9vP5fKqrq1NBQcGA/gYX89CFeejCPHRhHrowD3/HXHQJ5Twk\n",
              "JSXppz/96Sn7EXZ6oa2tTTExMWptbdXw4cPDXU7YMA9dmIcuzEMX5qEL8/B3zEWXSJgHPsYCAABG\n",
              "I+wAAACjEXYAAIDRCDu94HQ69cADD5zwuImBhnnowjx0YR66MA9dmIe/Yy66RMI8cIMyAAAwGld2\n",
              "AACA0Qg7AADAaIQdAABgNMLON3R2duqOO+5Qamqq0tLStHbt2m77HTx4UDk5Of4lIyNDDodDhw4d\n",
              "kiRNnDhRo0eP9revWbOmL4fxnfV0HiQpOTlZ5513nn+slZWV/rYdO3ZowoQJysjIUH5+vrZu3doX\n",
              "5QdNT+fh2LFjmjFjhjIyMpSdna0rrrhCjY2N/vb+ej709O9XWlqq9PR0paamauHChero6OhRW3/R\n",
              "k3n4wx/+oIKCAo0ZM0aZmZm655571NnZKUlqamqS3W4PeM/YuXNnXw/jO+vJPGzcuFFDhw4NGOvR\n",
              "o0f97QPlfCgrKwuYg9jYWF1//fWSzDkf7rzzTiUnJ8tms6mhoeGk/SLi/cFCgOeee8667LLLLK/X\n",
              "ax08eNByuVzWRx99dMr9fvnLX1rTpk3zr1966aXWf//3f4ew0tDqzTwkJSVZW7Zs6bZt0qRJVllZ\n",
              "mWVZlvXyyy9bF1xwQYgqDo2ezsPRo0etV1991ers7LQsy7Ief/xx69JLL/W399fzoSd/v08//dSK\n",
              "j4+39u3bZ3V2dlrXXnuttXbt2lO29Sc9mYcPPvjA2rlzp2VZXefDhRde6N9n165dVkxMTB9VGzo9\n",
              "mYe33nrLys7O7nb/gXQ+fFNmZqZVVVVlWZY558Mf//hHq7m5+Vv/DYiU9wfCzjdMnTrVqqio8K//\n",
              "/Oc/t+67775T7nf++ecH/GPWX/9x+5vezMPJTvSWlhZr2LBhVkdHh2VZltXZ2Wmde+651o4dO0JS\n",
              "cyic7vlQX19vJSUl+df74/nQ07/ff/zHf1jFxcX+9VdffdW68MILT9nWX5zuefzP//zP1gMPPGBZ\n",
              "lhn/uPV0Hr4t7AzU8+H999+3Ro4caR0/ftyyLDPOh6/7trATKe8PfIz1DW63W0lJSf715ORkud3u\n",
              "b93n3Xff1Zdffqlp06YFbF+yZImysrJUVFSkTz/9NCT1hkpv52HOnDnKysrS/Pnz9fnnn0uSmpub\n",
              "FR8fL4fDIUmy2WxyuVynnM9IcjrngyQ99thjuu666wK29bfzoad/v2+bo9Odv0hyOufx/v37VVVV\n",
              "FfCecOTIEeXn5ysvL08PPvigfD5fyGsPpt7Mw86dO5WXl6f8/Hw98cQT/u0D9XwoLS3V7NmzNXjw\n",
              "YP+2/n4+9FSkvD84QnLUCFZYWKgdO3Z027Zly5bTOmZpaanmzJnjP/kl6YUXXlBiYqIsy9Kvf/1r\n",
              "TZs2Tdu2bTut44dCMOfh7bfflsvlUkdHh+6//37dcsst+v3vfx+MMkMuFOfDI488osbGRr355pv+\n",
              "bZF+PiB42tradO211+qee+7RBRdcIEmKj4/X3r17FRcXp0OHDqmoqEirVq3SPffcE+Zqgy8vL097\n",
              "9uxRTEyM9uzZo6lTpyo2NlY33XRTuEsLiyNHjuill17S+++/7982kM6HSDHgruy89957+uKLL7pd\n",
              "EhMT5XK5tHv3bn//pqYmuVyukx6vvb1dv/3tbzVv3ryA7YmJiZK6Uv/ixYv16aef6uDBg6EZ1GkI\n",
              "5jz8bfvgwYN11113qba2VlLXHOzbt09er1eSZFmW3G73t85nXwv2+fDoo49q/fr1eu2113TGGWf4\n",
              "t0f6+dCdnv79vm2Oejt/kag35/Hhw4c1ZcoUXXfddSopKfFvdzqdiouLkySNGDFC8+bN8///pL/o\n",
              "6TwMHz5cMTExkqSEhAT96Ec/8o91oJ0PkvTyyy8rMzNTY8aM8W8z4XzoqYh5fwjJh2P9WFlZ2Qk3\n",
              "pH744Ycn7f/MM8+c8BljR0eHtX//fv96VVWV5XK5QlZzKPR0Htrb260vv/zSv75q1Srr4osv9q9f\n",
              "eumlATfyjRs3LtSlB1VvzodVq1ZZeXl51qFDhwK29+fzoSd/v507d55wk+Hjjz9+yrb+pCfzcPjw\n",
              "YWvChAnW8uXLT2hraWnx369x7Ngx64YbbrCWLVsW0ppDoSfz8Nlnn1k+n8+yLMtqa2uzJkyYYJWW\n",
              "llqWNbDOh7+56KKLrKeffjpgmynnw9982z07kfL+QNj5Bq/Xa91+++3W6NGjrZSUFOtXv/qVv+13\n",
              "v/udNX/+/ID+hYWF1rPPPhuwrb293Ro3bpw1duxY6/vf/7512WWXWQ0NDX1Sf7D0dB527txp5eTk\n",
              "WFlZWdbYsWOt6dOnW7t27fL3/fjjj63x48db6enp1rhx4741OEains5Dc3OzJclKSUmxsrOzrezs\n",
              "bKugoMCyrP59Ppzs7zd//nzrd7/7nb/fU089ZaWkpFgpKSnWvHnz/G/kp2rrL3oyDw899JDlcDj8\n",
              "f//s7GzroYcesizLsqqrq63MzEzr+9//vjVmzBhr8eLF1rFjx8I2ntPVk3l4/PHHrTFjxvjH+sAD\n",
              "D/i/pWhZA+d8+Fu/6Ohoq62tLWB/U86HRYsWWd/73vcsu91uxcXFWampqZZlReb7A8/GAgAARhtw\n",
              "9+wAAICBhbADAACMRtgBAABGI+wACBqbzaavvvqq27apU6fqk08+OeUx5s6dq1/96lfBLQzAgDbg\n",
              "flQQQHj0lx+aBGAeruwACKonnnhCBQUFGj16tMrKyvzbk5OT/U9G/vjjj1VYWKjMzExdf/31uvLK\n",
              "K/Wb3/zG3/evf/2rLr/8cmVkZOj666/X8ePHJUnf+9739Nlnn0mSbrrpJk2YMEGS5PF4dM4558jj\n",
              "8egvf/mLLrroIuXl5WnMmDF66KGHJHU9mX7UqFFqbm72v84vfvEL3XvvvSeMoampSWeddZaWLVum\n",
              "vLw8paen6//+7//0L//yL8rJydHYsWP10UcfSep6yvfYsWM1Z84cjR07VuPGjQt4AvQDDzygtLQ0\n",
              "5efn6/7771dycvJ3nmMAvUPYARBUTqdTdXV1eu2113TnnXf6f2n262bPnq1FixZp69atevjhh/X2\n",
              "228HtDc0NOh//ud/9Ne//lUtLS2qrq6WJF1++eXasGGDOjs79ec//1mtra1qa2vTO++8o3Hjxsnp\n",
              "dCo5OVlvvvmmPvjgA/3pT39SdXW13n//fUVFRWn+/Pn6z//8T0ldAamsrEy33357t+NobW3VuHHj\n",
              "9MEHH2jJkiW66qqrNH36dDU0NOiWW27R8uXL/X23bt2qW265RR999JHuvfde3XzzzbIsS6+++qqq\n",
              "q6u1ZcsW1dXVae/evcGaZgC9QNgBEFQ/+clPJEnnn3++HA6H9u/fH9De1tamhoYGzZkzR5L0j//4\n",
              "j7rooosC+vzwhz/UGWecIbvdroKCAu3cuVOSNHnyZG3YsEFbtmxRdna2LrvsMm3cuFEbNmzQ5Zdf\n",
              "Lkk6evSoFixYoKysLI0fP167d+/2X2m5/fbb9dxzz8nj8ejll19WQUFBwIMIvy4qKkozZsyQJF1w\n",
              "wQWKjo7WpEmTJEkFBQUBz1RLTk72v/5NN92k/fv3q7m5WW+++aZuvPFGDRs2TDabTfPnzz/daQXw\n",
              "HRB2AARVVFSU/3/b7fZur+x8k81m69ExJk+erDfffFNvvPGGJk+e7A8/Xw87v/jFLxQbG6stW7bo\n",
              "z3/+syZOnKhjx45J6voY7JJLLlFlZaV+/etfa/HixZKklStXKicnRzk5Ofrf//1fSV1XqL5eQ2/G\n",
              "ZbPZThhTd+ME0DcIOwD61PDhw5Wdna3y8nJJ0ieffKJ33nmnR/v+wz/8g2JiYvTkk09q8uTJmjRp\n",
              "kl555RU1NTUpLy9PkvTll18qISFBDodDn3zyid54442AY/z0pz/Vfffdp6+++kqTJ0+WJC1ZskQN\n",
              "DQ1qaGjQVVdd1esxNTU16a233pIkVVVV6dxzz1VCQoIuu+wyVVdXq729XZZl6dlnn+31sQF8d3wb\n",
              "C0Cfe/755zVv3jz98pe/9N+8e9ZZZ/Vo38mTJ+uVV15RSkqKJGnUqFHKzc3VoEFd/+12//33a/bs\n",
              "2XruueeUmpqqyy67LGD/8ePHKyYmRsXFxUG70pKZmanf/OY3uvPOOzVkyBBVVFTIZrNp2rRp2rRp\n",
              "k3JycnTWWWfp0ksv7fE4AQQPz8YC0Ofa29t15plnymazadeuXSosLFR9fb0SExND/tp79+7VBRdc\n",
              "oO3bt2vYsGHf+XgbN27UXXfdFfANrK87fPiwhg0bJsuydPfdd+vo0aP+m6QB9A2u7ADoc++++65+\n",
              "/vOfS5J8Pp/WrFnTJ0HnX//1X/Xss89q5cqVQQk6PTFnzhw1NTXp2LFjyszM1JNPPtknrwvg77iy\n",
              "AwAAjMYNygAAwGiEHQAAYDTCDgAAMBphBwAAGI2wAwAAjEbYAQAARiPsAAAAoxF2AACA0f4frFlJ\n",
              "qzlj7+0AAAAASUVORK5CYII=\n",
              "\">\n",
              "      </div>\n",
              "      <script type=\"text/javascript\">\n",
              "        (() => {\n",
              "          const chartElement = document.getElementById(\"chart-48adebde-657c-4384-b15e-6b54ac699ab6\");\n",
              "          async function getCodeForChartHandler(event) {\n",
              "            const chartCodeResponse =  await google.colab.kernel.invokeFunction(\n",
              "                'getCodeForChart', [\"chart-48adebde-657c-4384-b15e-6b54ac699ab6\"], {});\n",
              "            const responseJson = chartCodeResponse.data['application/json'];\n",
              "            await google.colab.notebook.addCell(responseJson.code, 'code');\n",
              "          }\n",
              "          chartElement.onclick = getCodeForChartHandler;\n",
              "        })();\n",
              "      </script>\n",
              "      <style>\n",
              "        .colab-quickchart-chart-with-code  {\n",
              "            display: block;\n",
              "            float: left;\n",
              "            border: 1px solid transparent;\n",
              "        }\n",
              "\n",
              "        .colab-quickchart-chart-with-code:hover {\n",
              "            cursor: pointer;\n",
              "            border: 1px solid #aaa;\n",
              "        }\n",
              "      </style>"
            ]
          },
          "metadata": {}
        },
        {
          "output_type": "display_data",
          "data": {
            "text/plain": [
              "<google.colab._quickchart_helpers.SectionTitle at 0x7e110d08b0a0>"
            ],
            "text/html": [
              "<h4 class=\"colab-quickchart-section-title\">Values</h4>\n",
              "<style>\n",
              "  .colab-quickchart-section-title {\n",
              "      clear: both;\n",
              "  }\n",
              "</style>"
            ]
          },
          "metadata": {}
        },
        {
          "output_type": "display_data",
          "data": {
            "text/plain": [
              "from matplotlib import pyplot as plt\n",
              "_df_5['peak-rpm'].plot(kind='line', figsize=(8, 4), title='peak-rpm')\n",
              "plt.gca().spines[['top', 'right']].set_visible(False)"
            ],
            "text/html": [
              "      <div class=\"colab-quickchart-chart-with-code\" id=\"chart-190f6a12-2c21-4d67-8ab7-3a4a90dc4faf\">\n",
              "        <img style=\"width: 180px;\" src=\"data:image/png;base64,iVBORw0KGgoAAAANSUhEUgAAApsAAAFuCAYAAADOJdNTAAAAOXRFWHRTb2Z0d2FyZQBNYXRwbG90\n",
              "bGliIHZlcnNpb24zLjcuMSwgaHR0cHM6Ly9tYXRwbG90bGliLm9yZy/bCgiHAAAACXBIWXMAAA9h\n",
              "AAAPYQGoP6dpAAA+SElEQVR4nO3deXwU9cHH8e/sbg4SknAGkBCuEE4hXCFBUEAUbT1BAZFTQ4L6\n",
              "VFs88YGqrRVqLVZ7SBDkitxopWLtIwoWNSGEQ065JCTcdxIScuzuPH9QUyKJEMhmNsnn/XrNS3b3\n",
              "tzPfGV+uX2Z+s2uYpmkKAAAA8ACb1QEAAABQfVE2AQAA4DGUTQAAAHgMZRMAAAAeQ9kEAACAx1A2\n",
              "AQAA4DGUTQAAAHgMZRMAAAAeQ9kEAACAx1A2AaCC9OvXT5MnT7Y6BgB4FcomAAAAPIayCQBewjRN\n",
              "OZ1Oq2MAQIWibAKoMfr166f/+Z//0eDBgxUUFKSIiAjNnz+/+PX169erX79+ql+/vpo3b64pU6aU\n",
              "KH/x8fFq0aKFateurZYtW+qll16S2+0uc3u//e1v1apVK23fvr3U19PT02UYhmbPnq0uXbooICBA\n",
              "aWlpevnll9WnTx9NmjRJoaGhaty4sZ599lkVFRUVv9cwDL311luKjY1VYGCgunTpom3btmnZsmVq\n",
              "27atgoOD9cADD+j8+fMVcOQA4NpRNgHUKLNnz9a4ceN09uxZvf3224qLi9PXX3+t3bt369Zbb9WE\n",
              "CRN0/Phx/fvf/9bKlSv1+9//vvi90dHRWr9+vXJycrRo0SL95S9/0bvvvnvZNvLz8/Xwww/rk08+\n",
              "UUpKijp16vSTmd577z19/PHHOn/+vLp27SrpYvF1OBzKzMzU2rVrtWLFCr3++usl3jd37lwtXLhQ\n",
              "Z8+eVdu2bXXffffpk08+UVpamvbu3avNmzfrz3/+cwUcNQC4doZpmqbVIQCgMvxw1nLFihXFzw0b\n",
              "Nky1a9dWYGCgTp48qUWLFhW/9v777+ull17Svn37Sl3fU089pUOHDhWvr1+/fmrTpo22b9+u5s2b\n",
              "a+7cufL39y8zT3p6ulq2bKlPP/1UgwYNKn7+5Zdf1jvvvKMjR47IbrdLkt555x298cYb2r9/v6SL\n",
              "Zzbnz5+vUaNGSZI++ugj3XfffTpy5IiaNGkiSfrFL36hQ4cO6cMPP7yWwwUAFcJhdQAAqEwtW7a8\n",
              "7PGmTZtkt9u1Zs0a1alTp/g1t9tdfJncNE299tprWrhwoY4cOSLTNJWfn6+ePXuWWN8PZyiTkpJK\n",
              "FM3XXntNr732WvHjSy9v/ziTJDVr1qy4aP4wJjMzs8SYH0qlJAUGBpb6XE5OTtkHAwAqAZfRAdQo\n",
              "6enplz0OCwtT48aNNWLECJ07d654yc7OLi6Fixcv1p/+9CfNnz9fp06d0rlz55SQkKAfXxx69NFH\n",
              "9dxzz6lv377atm1b8fMvvviizp8/X7xcyma7/KM4MzNTLpfrspwAUNVQNgHUKJ988olWrVoll8ul\n",
              "Tz/9VB9++KHGjRunxx9/XMuXL9eyZctUWFgol8ulffv26dNPP5UkZWVlyeFwKDQ0VIZhaM2aNUpK\n",
              "Sip1G1OmTNGvf/1r9e/fX19//fU15Txz5ox+85vfqKCgQLt379Yf/vAHjRs37pr3GwCswmV0ADXK\n",
              "I488otmzZ2v48OEKDQ3VjBkz1LdvX0nSZ599pilTpujxxx9XUVGRWrRooccee0ySNHbsWH311Ve6\n",
              "8cYbZbPZdNttt2nkyJHauHFjqduZMGGC6tevr7vuukvvv/++fvazn5UrZ69evVRYWKiwsDDZbDaN\n",
              "HDlSL7zwwvXtPABYgBuEANQY/fr1U58+ffTqq69aHeUnvfzyy1q9erW++uorq6MAwHXjMjoAAAA8\n",
              "hrIJAAAAj+EyOgAAADyGM5sAAADwGMomAAAAPIayCQAAAI+hbAIAAMBjvLJsvvXWW1ZHAAAAQAXw\n",
              "yrJ58OBBqyMAAACgAnhl2QQAAED1QNkEAACAx1A2AQAA4DGUTQAAAHgMZRMAAAAeQ9kEAACAx1A2\n",
              "AQAA4DGUTQAAAHhMucrmk08+qRYtWsgwDG3ZsqXMcbNnz1abNm3UunVrjR8/XkVFRdebEwAAAFVQ\n",
              "ucrmAw88oK+++krNmzcvc8yBAwc0ZcoUrVu3Tvv27dPx48c1c+bM6w4KAACAqqdcZfPmm29WWFjY\n",
              "T45Zvny57rnnHjVu3FiGYWjChAlatGjRdYX0tAuFLqsjAAAAVEsVPmczIyOjxJnPFi1aKCMjo8zx\n",
              "BQUFys7OLrG4XJVX/g6cylX/N9ZqxcZDlbZNAACAmsLyG4SmTp2qkJCQEktqamqlbX9pWqaOZefr\n",
              "6WXfKinlYKVtFwAAoCao8LIZHh6ugwf/W9rS09MVHh5e5vhJkyYpKyurxBIdHV3Rscr07O1tNSb2\n",
              "4pnYyX/frlnrvq+0bQMAAFR3FV42hwwZopUrV+rYsWMyTVMzZszQ8OHDyxzv5+en4ODgEovdbq/o\n",
              "WGWy2Qy9fE9HTbiltSTp1VW79NbqvTJNs9IyAAAAVFflKpsJCQkKCwvToUOHNGjQIEVEREiS4uLi\n",
              "tHLlSklSq1at9Morr+imm25SRESEGjZsqISEhIpPXoEMw9Dzd7TV07dFSpLeXL1H0/75HYUTAADg\n",
              "OhmmFzaqiRMnavr06ZZse9a67/Xqql2SpFExzfXKPR1lsxmWZAEAAKjqLL9ByNvE9W2l1+6/UYYh\n",
              "LUg5qGeXb5XT5bY6FgAAQJVE2SzFiF7hmj60i+w2Qys2HdJTi7eo0EnhBAAAKC/KZhnu7xqmv47o\n",
              "Kh+7oVXbjuqxpI3KL+LL3wEAAMqDsvkT7ujURDNH95Cfw6bPvzuhR+dtUF6h0+pYAAAAVQZl8wr6\n",
              "tw3V3HHRCvC16+t9pzV6dqqy84usjgUAAFAlUDavQmzr+kqK66Ugf4fSDp7Vw++u19ncQqtjAQAA\n",
              "eD3K5lXqFl5Xi8bHqF6gr7YdztLwmSk6kZNvdSwAAACvRtksh05NQ7QkPkahQX7afTxHQ2ck6/C5\n",
              "C1bHAgAA8FqUzXJq0yhIyybEqmmdWko/naehM5KVfirX6lgAAABeibJ5DZrXD9SyCbFq2SBQh89d\n",
              "0NDEZO09nmN1LAAAAK9D2bxGN9SppSUJMWrbKEgncgo0bGaKth/OsjoWAACAV6FsXofQIH8tjo/R\n",
              "jU1DdCa3UA+9m6KNB89aHQsAAMBrUDavU91AX70/vpd6NK+rnHynRs1er+T9p62OBQAA4BUomxUg\n",
              "2N9H8x+NVp+IBsordGnsnFSt+e6E1bEAAAAsR9msIAG+Ds0a00O3tgtVgdOt+AVp+ue2o1bHAgAA\n",
              "sBRlswL5+9g1Y1R3/bxzExW5TD2xcJM+2HTI6lgAAACWoWxWMB+7TW8P76oHuofJbUpPL/tW768/\n",
              "aHUsAAAAS1A2PcBuM/T6kM4aHdtcpin974fbNWvd91bHAgAAqHSUTQ+x2Qy9ck9HJdzSSpL06qpd\n",
              "evvzvTJN0+JkAAAAlYey6UGGYeiFO9pp4m2RkqTpn+3R7z/dTeEEAAA1BmXTwwzD0JO3ttHkn7eX\n",
              "JM34cr9eXrlDbjeFEwAAVH+UzUoS17eVfnd/JxmGNC/5oJ5bsVUuCicAAKjmKJuV6OFezfXHB7vI\n",
              "ZkjLNx7Sk4s3q8jltjoWAACAx1A2K9ngbmH664hu8rEbWrX1qB5L2qj8IpfVsQAAADyCsmmBO29s\n",
              "opmjesjPYdPqXScUNy9NeYVOq2MBAABUOMqmRfq3C9WccT0V4GvXV/tOafTsVGXnF1kdCwAAoEJR\n",
              "Ni3Uu3UDLXi0l4L8HUo7eFYjZ63X2dxCq2MBAABUGMqmxbo3r6tF42NUL9BXWw9lafjMFJ3Iybc6\n",
              "FgAAQIWgbHqBTk1DtCQ+RqFBftp9PEfDElN05NwFq2MBAABcN8qml2jTKEhLE2LVtE4tHTiVqwdn\n",
              "JOvg6VyrYwEAAFwXyqYXadEgUEsnxKplg0AdPndBD85I1t7jOVbHAgAAuGaUTS/TtE4tLUmIUdtG\n",
              "QTqRU6BhM1O040iW1bEAAACuCWXTC4UG+WtxfIxubBqiM7mFemhmijZlnLU6FgAAQLlRNr1U3UBf\n",
              "vT++l7o3r6vsfKdGzVqv5P2nrY4FAABQLpRNLxbs76MFj0brpoj6yi10aeycVK3dfcLqWAAAAFeN\n",
              "sunlAnwdmj2mpwa0C1WB063x89P06fZjVscCAAC4KpTNKsDfx64ZI7vr5zc2UZHL1BMLN+nDzYes\n",
              "jgUAAHBFlM0qwtdh01vDozSkW5hcblMTl36rheszrI4FAADwkyibVYjDbtMfHuisUTHNZZrSix9u\n",
              "06x131sdCwAAoEyUzSrGZjP0m3s7KuHmVpKkV1ft0p8/3yvTNC1OBgAAcDnKZhVkGIZeuLOdfjUw\n",
              "UpL0x8/26PV/7aZwAgAAr0PZrKIMw9BTA9vof3/WXpL0ztr9euUfO+V2UzgBAID3KHfZ3Lt3r3r3\n",
              "7q3IyEj17NlTO3bsuGyM2+3WxIkT1aFDB3Xu3Fn9+/fXvn37KiQwShp/cyu9el8nSdLcb9L1wgdb\n",
              "5aJwAgAAL1HuspmQkKD4+Hjt2bNHzz//vMaOHXvZmJUrV+rrr7/Wt99+q61bt+rWW2/Viy++WBF5\n",
              "UYqRMc31xwe7yGZIS9MO6anFm1XkclsdCwAAoHxl88SJE0pLS9PIkSMlSUOGDFFmZuZlZy0Nw1BB\n",
              "QYHy8/Nlmqays7MVFhZWcalxmSHdw/SXEd3ksBn6eOtRPZa0UflFLqtjAQCAGs5RnsGZmZlq0qSJ\n",
              "HI6LbzMMQ+Hh4crIyFBERETxuLvvvltr1qxR48aNFRQUpKZNm+rLL78sdZ0FBQUqKCgo8ZzLRUm6\n",
              "Fj+7sYn8fWyakLRJq3ed0Pj5aUoc1V0BvuX61wwAAFBhPHKDUFpamrZv367Dhw/ryJEjuvXWWzVh\n",
              "woRSx06dOlUhISElltTUVE/EqhEGtGukuWN7KsDXrnV7T2nMe6nKyS+yOhYAAKihylU2mzVrpqNH\n",
              "j8rpdEqSTNNURkaGwsPDS4ybP3++BgwYoDp16shms2nMmDFas2ZNqeucNGmSsrKySizR0dHXuDuQ\n",
              "pN4RDbTg0WgF+Tu0If2sHp61XufyCq2OBQAAaqBylc3Q0FB169ZNSUlJkqQVK1YoLCysxCV0SWrV\n",
              "qpW++OILFRZeLDgff/yxOnXqVOo6/fz8FBwcXGKx2+3Xsi+4RPfm9bRofIzqBvho66EsDZ+ZopM5\n",
              "BVd+IwAAQAUq92X0xMREJSYmKjIyUtOmTdOcOXMkSXFxcVq5cqUk6YknnlDLli3VpUsXde7cWZ9/\n",
              "/rneeeedik2OK+rUNERLEmLVMMhP3x3L0bDEZB3NumB1LAAAUIMYphf+7MzEiRM1ffp0q2NUG+mn\n",
              "cvXwrPU6fO6CwurW0sK4GIXXD7A6FgAAqAH4BaEaoEWDQC1JiFGL+gE6dPaCHkz8RvtO5FgdCwAA\n",
              "1ACUzRoirG6AlibEKrJRbR3PLtCwxBTtOJJldSwAAFDNUTZrkNBgfy2Oj1WnpsE6nVuoh2amaHPG\n",
              "WatjAQCAaoyyWcPUC/TVwvEx6t68rrLznRo5a71Svj9tdSwAAFBNUTZroGB/H81/JFq9W9dXbqFL\n",
              "Y95L1drdJ6yOBQAAqiHKZg0V6OfQe2N7akC7UBU43Ro/P02fbj9mdSwAAFDNUDZrMH8fu2aM7K6f\n",
              "3dhYRS5TTyzcpI+2HLY6FgAAqEYomzWcr8Omt4d31eBuTeVym/rlki1alJphdSwAAFBNUDYhh92m\n",
              "Nx7oopEx4TJNadIH2zT7qwNWxwIAANUAZROSJJvN0G/v7aT4m1tJkn778U795Yu9FqcCAABVHWUT\n",
              "xQzD0KQ72+mXA9tIkt74vz16/dPv5IW/aAoAAKoIyiZKMAxDvxwYqRd/1k6S9Le1+/XKP3bK7aZw\n",
              "AgCA8qNsolTxN7fWb+/rJEma+026Jn2wTS4KJwAAKCfKJso0Kqa53niwi2yGtCQtU79askVFLrfV\n",
              "sQAAQBVC2cRPeqB7mP78UDc5bIZWfntEj7+/SQVOl9WxAABAFUHZxBX9vHMTJY7qLl+HTZ/tPK64\n",
              "eWm6UEjhBAAAV0bZxFW5tX0jzRnbUwG+dq3be0pj3ktVTn6R1bEAAICXo2ziqt0U0UALHo1WkJ9D\n",
              "qelnNHLWep3LK7Q6FgAA8GKUTZRL9+b1tCg+RnUDfPTtoSwNn5mikzkFVscCAABeirKJcuvUNESL\n",
              "42PVMMhP3x3L0bCZyTqadcHqWAAAwAtRNnFN2jYO0tKEWN0Q4q/vT+bqwRnJyjidZ3UsAADgZSib\n",
              "uGYtGwRq6YRYNa8foENnL2hoYrL2nThvdSwAAOBFKJu4LmF1A7QsIVZtQmvrWHa+hiUma+eRbKtj\n",
              "AQAAL0HZxHULDfbXkoRYdbwhWKdzCzV8ZrI2Z5y1OhYAAPAClE1UiHqBvlo4PkbdwusoO9+pkbPW\n",
              "a/33p62OBQAALEbZRIUJqeWjBY/2Umyr+sotdGnMnFR9ueek1bEAAICFKJuoUIF+Ds0Z11P92zZU\n",
              "fpFb4+el6V87jlkdCwAAWISyiQrn72NX4qgeurNTYxW63Hr8/U36aMthq2MBAAALUDbhEb4Om/78\n",
              "UFcN7tpULrepXy7ZoiUbMqyOBQAAKhllEx7jsNv0xoNd9HCvcJmm9PyKbZrz9QGrYwEAgEpE2YRH\n",
              "2WyGXr2vk8b3bSlJeuUfO/XXNfssTgUAACoLZRMeZxiGXvxZez11axtJ0h/+tVuvf/qdTNO0OBkA\n",
              "APA0yiYqhWEY+tVtkZp0ZztJ0t/W7tcr/9hJ4QQAoJqjbKJSJdzSWr+9t6Mkae436Zr0wTa53BRO\n",
              "AACqK8omKt2o2BZ648EushnS4g2Zmrh0i4pcbqtjAQAAD6BswhIPdA/T2w91lcNm6KMtR/TE+5tU\n",
              "4HRZHQsAAFQwyiYsc1fnG5Q4qrt8HTb9387jGj9/oy4UUjgBAKhOKJuw1K3tG+m9MT1Vy8euf+85\n",
              "qTFzUpWTX2R1LAAAUEEom7BcnzYNtODRaAX5OZR64IxGzk7VubxCq2MBAIAKQNmEV+jRop4Wjo9R\n",
              "nQAffZt5TsNnpujU+QKrYwEAgOtE2YTXuDEsREviY9Wgtp++O5ajoYnJOpaVb3UsAABwHSib8Cpt\n",
              "Gwdp2YRY3RDir+9P5urBxG+UeSbP6lgAAOAalbts7t27V71791ZkZKR69uypHTt2lDpu27Zt6tev\n",
              "n9q3b6/27dvrgw8+uO6wqBlaNgjU0gmxal4/QJlnLujBGcnaf/K81bEAAMA1KHfZTEhIUHx8vPbs\n",
              "2aPnn39eY8eOvWxMXl6e7r33Xr366qvatWuXtm/frr59+1ZEXtQQYXUDtDQhVhGhtXUsO1/DEpO1\n",
              "62i21bEAAEA5latsnjhxQmlpaRo5cqQkaciQIcrMzNS+fftKjFu4cKFiYmLUp08fSZLdblfDhg0r\n",
              "KDJqikbB/loSH6MOTYJ16nyhhs9M0beZ56yOBQAAyqFcZTMzM1NNmjSRw+GQJBmGofDwcGVkZJQY\n",
              "t3PnTvn5+emuu+5SVFSURo8erZMnT5a6zoKCAmVnZ5dYXC6+2BsX1a/tp0XxMeoaXkdZF4r08Kz1\n",
              "Wv/9aatjAQCAq+SRG4ScTqdWr16txMREbd68WU2bNtVjjz1W6tipU6cqJCSkxJKamuqJWKiiQmr5\n",
              "KOnRXoptVV/nC5waMydV/95T+l9eAACAdylX2WzWrJmOHj0qp9MpSTJNUxkZGQoPDy8xLjw8XP37\n",
              "91fTpk1lGIZGjhyplJSUUtc5adIkZWVllViio6OvcXdQXQX6OTRnXE/1b9tQ+UVuxc1L0//tOGZ1\n",
              "LAAAcAXlKpuhoaHq1q2bkpKSJEkrVqxQWFiYIiIiSowbOnSoNmzYoOzsizd0fPLJJ+rSpUup6/Tz\n",
              "81NwcHCJxW63X8u+oJrz97ErcVQP3dmpsQpdbj32/iZ9tOWw1bEAAMBPKPdl9MTERCUmJioyMlLT\n",
              "pk3TnDlzJElxcXFauXKlpItnNl988UX17t1bnTt31hdffKEZM2ZUbHLUSL4Om/78UFfd37WpXG5T\n",
              "v1yyRUs3ZFodCwAAlMEwTdO0OsSPTZw4UdOnT7c6BryY221q8kfbtXD9xZvTXr67g8be1NLiVAAA\n",
              "4Mf4BSFUSTabod/d10mP9rlYMF/+x079be2+K7wLAABUNsomqizDMDT55+315ICLc4Zf/3S33vjX\n",
              "bnnhyXoAAGosyiaqNMMwNPH2tnrhznaSpL+s2afffLyTwgkAgJegbKJamHBLa/3m3o6SpDlfp2vS\n",
              "B9vkclM4AQCwGmUT1cbo2Bb6wwOdZTOkxRsyNXHpFjldbqtjAQBQo1E2Ua082KOZ3hreVQ6boY+2\n",
              "HNETCzepwMnPnwIAYBXKJqqdu7vcoBkju8vXbtO/dhxX/PyNulBI4QQAwAqUTVRLAzs00ntje6qW\n",
              "j11f7jmpsXNSdb7AaXUsAABqHMomqq0+bRpo/qPRqu3n0PoDZzRy1npl5RVZHQsAgBqFsolqrWeL\n",
              "elo4vpfqBPhoS+Y5DX83RafOF1gdCwCAGoOyiWqvc1gdLY6PUYPaftp1NFvDEpN1LCvf6lgAANQI\n",
              "lE3UCO0aB2tpQoyahPhr/8lcPZj4jTLP5FkdCwCAao+yiRqjVcPaWpoQq/B6Aco8c0FDE5O1/+R5\n",
              "q2MBAFCtUTZRozSrF6BlE2IVEVpbR7PyNSwxWbuOZlsdCwCAaouyiRqnUbC/lsTHqEOTYJ06X6jh\n",
              "M1P0beY5q2MBAFAtUTZRI9Wv7adF42MU1ayOsi4U6eFZ67Uh/YzVsQAAqHYom6ixQgJ8lBTXSzGt\n",
              "6ul8gVOjZq/Xur0nrY4FAEC1QtlEjVbbz6G546LVr21D5Re59ejcNH2287jVsQAAqDYom6jx/H3s\n",
              "ShzVXXd0bKxCl1sTkjZq5bdHrI4FAEC1QNkEJPk57PrLiK66v2tTudymnlq8WUs3ZFodCwCAKo+y\n",
              "CfyHw27THx/sooeiw2Wa0nMrtmreN+lWxwIAoEqjbAKXsNkMvXZ/Jz1yU0tJ0ksrd+idtfstTgUA\n",
              "QNVF2QR+xDAMTbmrvX4xIEKS9PtPv9Mf/2+3TNO0OBkAAFUPZRMohWEYevr2tnrujraSpD9/sU+v\n",
              "rtpF4QQAoJwom8BPeLxfhF65p6MkafZXB/Tih9vlclM4AQC4WpRN4ArG9G6h1x/oLJshLUrN0NNL\n",
              "t8jpclsdCwCAKoGyCVyFoT2a6a3hXeWwGfr7liN6YuEmFThdVscCAMDrUTaBq3R3lxv0zsju8rXb\n",
              "9K8dxxU/f6PyiyicAAD8FMomUA63dWik2WN7yN/Hpi/3nNTYOak6X+C0OhYAAF6LsgmUU982DTX/\n",
              "kV6q7edQyvdnNGr2emXlFVkdCwAAr0TZBK5BdMt6ej+ul0Jq+Whzxjk99G6KTp8vsDoWAABeh7IJ\n",
              "XKMuzepocXyMGtT21c6j2Ro2M0XHs/OtjgUAgFehbALXoX2TYC1NiFWTEH/tO3FeD85IVuaZPKtj\n",
              "AQDgNSibwHVq1bC2libEKrxegDLO5GloYrK+P3ne6lgAAHgFyiZQAZrVC9DShFi1bhioo1n5GpqY\n",
              "ou+OZVsdCwAAy1E2gQrSOMRfSxJi1b5JsE6dL9DwmSnaeuic1bEAALAUZROoQA1q+2nx+BhFNauj\n",
              "c3lFGvHuem1IP2N1LAAALEPZBCpYSICPkuJ6KbplPZ0vcGr07FR9tfeU1bEAALAEZRPwgNp+Ds0b\n",
              "F61bIhvqQpFLj8zboNU7j1sdCwCASkfZBDyklq9dM0d316COjVTodGtC0kb949sjVscCAKBSUTYB\n",
              "D/Jz2PXXEd10X9QNcrpNPbV4s5amZVodCwCASkPZBDzMYbfpj0Oj9FB0M7lN6bnlWzU/Od3qWAAA\n",
              "VIpyl829e/eqd+/eioyMVM+ePbVjx44yx5qmqQEDBqhOnTrXkxGo8uw2Q6/df6PG3dRCkvTrj3Zo\n",
              "xpf7rQ0FAEAlKHfZTEhIUHx8vPbs2aPnn39eY8eOLXPsm2++qdatW19PPqDaMAxDv76rg/6nf4Qk\n",
              "ado/v9P0/9st0zQtTgYAgOeUq2yeOHFCaWlpGjlypCRpyJAhyszM1L59+y4bu2PHDv3973/XCy+8\n",
              "UDFJgWrAMAw9M6itnh3UVpL09hf79LtVuyicAIBqy1GewZmZmWrSpIkcjotvMwxD4eHhysjIUERE\n",
              "RPG4oqIijR8/XrNnz5bdbv/JdRYUFKigoKDEcy6XqzyxgCrnif4RCvC165V/7NSsrw4or8ilV+/t\n",
              "JJvNsDoaAAAVyiM3CL3yyisaPHiw2rdvf8WxU6dOVUhISIklNTXVE7EArzLuppZ6fUhnGYa0cH2G\n",
              "nln2rZwut9WxAACoUIZZjut3J06cUEREhM6cOSOHwyHTNNWkSRN99dVXJc5s9u3bVxkZGTIMQ06n\n",
              "U0eOHFF4eLg2bNighg0bllhnaWc2p0yZorfeeus6dw2oGlZ+e0S/WrJFLrepOzs11lvDu8rXwRdF\n",
              "AACqh3L9Hy00NFTdunVTUlKSJGnFihUKCwsrUTQlad26dTp48KDS09P11VdfKTg4WOnp6ZcVTUny\n",
              "8/NTcHBwieVKl96B6uSeLjfonYe7yddu0z+3H1P8gjTlFzGVBABQPZT79EliYqISExMVGRmpadOm\n",
              "ac6cOZKkuLg4rVy5ssIDAjXB7R0ba9aYHvL3sWnt7pMaOydV5wucVscCAOC6lesyemWZOHGipk+f\n",
              "bnUMoNKlHjijR+Zu0PkCp7qG19HccdEKqeVjdSwAAK4ZE8MALxLdsp6S4noppJaPNmec00MzU3T6\n",
              "fMGV3wgAgJeibAJeJqpZHS2Oj1GD2r7aeTRbw2em6Hh2vtWxAAC4JpRNwAu1bxKsJQmxahzsr70n\n",
              "zmtoYrIOnc2zOhYAAOVG2QS8VOuGtbVsQqya1aulg6fzNHRGsr4/ed7qWAAAlAtlE/BizeoFaFlC\n",
              "b7VuGKgjWfkampii3cdyrI4FAMBVo2wCXq5xiL+WJMSqXeMgnTpfoGEzk7XtUJbVsQAAuCqUTaAK\n",
              "aFDbT4vjY9SlWR2dyyvSiHdTlJZ+xupYAABcEWUTqCLqBPgq6dFoRbesp5wCp0bNTtXX+05ZHQsA\n",
              "gJ9E2QSqkCB/H80bF62+bRroQpFL4+Zu0Oe7jlsdCwCAMlE2gSqmlq9ds8b00G0dGqnQ6VbCgo1a\n",
              "tfWo1bEAACgVZROogvwcdv3t4W66N+oGOd2mfrFok5ZvPGR1LAAALkPZBKooH7tN04dGaXjPZnKb\n",
              "0jPLvtWC5HSrYwEAUAJlE6jC7DZDUwffqHE3tZAkTflohxK/3G9tKAAALkHZBKo4wzD067s66In+\n",
              "rSVJU//5naZ/tkemaVqcDAAAyiZQLRiGoWcHtdOzg9pKkt7+fK9e+2QXhRMAYDnKJlCNPNE/Qr++\n",
              "q4Mk6d11BzT579vldlM4AQDWoWwC1cwjfVpq2uAbZRjS++sz9Myyb+V0ua2OBQCooSibQDU0PDpc\n",
              "fxoWJbvN0AebD+vJxZtV6KRwAgAqH2UTqKbujWqqdx7uJl+7TZ9sO6aEBWnKL3JZHQsAUMNQNoFq\n",
              "7PaOjfXumB7y97Fpze6TGjdng3ILnFbHAgDUIJRNoJq7JbKh5o2LVqCvXcnfn9ao2euVdaHI6lgA\n",
              "gBqCsgnUAL1a1df742MU7O/QpoxzGvFuis7kFlodCwBQA1A2gRoiqlkdLY6PVf1AX+04kq1hick6\n",
              "kZ1vdSwAQDVH2QRqkA43BGtJQqwaBftp74nzejAxWYfO5lkdCwBQjVE2gRomIrS2liX0VrN6tXTw\n",
              "dJ6GzkjWgVO5VscCAFRTlE2gBgqvH6ClCbFq1TBQR7LyNTQxWXuO51gdCwBQDVE2gRqqSUgtLYmP\n",
              "VbvGQTqZU6BhicnadijL6lgAgGqGsgnUYA2D/LQ4PkZdwkJ0Nq9II95NUVr6GatjAQCqEcomUMPV\n",
              "CfBVUlwvRbeop5wCp0bNTtXX+05ZHQsAUE1QNgEoyN9H8x6JVt82DXShyKVxczfoi++OWx0LAFAN\n",
              "UDYBSJJq+do1a0wP3dahkQqdbsXP36hVW49aHQsAUMVRNgEU83PY9beHu+nuLjfI6Tb1i0WbtGLj\n",
              "IatjAQCqMMomgBJ87Db9aViUhvVoJrcpPb3sWy1IOWh1LABAFUXZBHAZu83Q1ME3amzvFpKkKX/f\n",
              "rpn/3m9tKABAlUTZBFAqm83QS3d30OP9WkuSXvvkO7352R6ZpmlxMgBAVULZBFAmwzD03B3t9Oyg\n",
              "tpKktz7fq6n//I7CCQC4apRNAFf0RP8ITbmrgyRp5r+/15SPtsvtpnACAK6Msgngqjzap6WmDr5R\n",
              "hiElpWTomeXfyulyWx0LAODlKJsArtpD0eF6c2iU7DZDH2w6rKcWb1Ghk8IJACgbZRNAudzXtan+\n",
              "OqKbfO02rdp2VBOSNiq/yGV1LACAl6JsAii3Ozo11rtjesjPYdMX353QI3M3KLfAaXUsAIAXomwC\n",
              "uCa3RDbUvEeiFehr1zf7T2v0e6nKulBkdSwAgJcpd9ncu3evevfurcjISPXs2VM7duy4bMwXX3yh\n",
              "6OhodejQQR07dtRzzz0nt5t5XUB1E9OqvpLieinY36GNB8/q4VkpOpNbaHUsAIAXKXfZTEhIUHx8\n",
              "vPbs2aPnn39eY8eOvWxM3bp1tXjxYu3cuVMbN27UN998o/nz51dEXgBepmt4XS2Oj1X9QF9tP5yt\n",
              "4TOTdSI73+pYAAAvUa6yeeLECaWlpWnkyJGSpCFDhigzM1P79u0rMa5r165q1aqVJMnf319RUVFK\n",
              "T0+vmMQAvE6HG4K1JCFGjYL9tOf4eQ1NTNbhcxesjgUA8ALlKpuZmZlq0qSJHA6HpIu/LhIeHq6M\n",
              "jIwy33Ps2DEtX75cd911V6mvFxQUKDs7u8TicnFnK1DVRIQGaVlCb4XVraX003kaOiNZ6adyrY4F\n",
              "ALCYR28Qys7O1t13363nnntOPXr0KHXM1KlTFRISUmJJTU31ZCwAHhJeP0BLE2LVqkGgDp+7oAcT\n",
              "k7XneI7VsQAAFipX2WzWrJmOHj0qp/PiV5yYpqmMjAyFh4dfNjYnJ0d33HGH7r33Xk2cOLHMdU6a\n",
              "NElZWVkllujo6HLuBgBvcUOdWlqSEKt2jYN0MqdAwxKTtf1wltWxAAAWKVfZDA0NVbdu3ZSUlCRJ\n",
              "WrFihcLCwhQREVFi3Pnz53XHHXfojjvu0OTJk39ynX5+fgoODi6x2O32cu4GAG/SMMhPi+Nj1CUs\n",
              "RGfzivTQuynaePCM1bEAABYo92X0xMREJSYmKjIyUtOmTdOcOXMkSXFxcVq5cqUk6a233lJqaqo+\n",
              "+OADRUVFKSoqSr/73e8qNjkAr1YnwFdJcb3Us0Vd5eQ7NWp2qr7Zd8rqWACASmaYpmlaHeLHJk6c\n",
              "qOnTp1sdA0AFyCt0KmHBRq3be0q+DptmjOymAe0aWR0LAFBJ+AUhAB4V4OvQu6N7aGD7Rip0upWw\n",
              "YKM+2XbU6lgAgEpC2QTgcf4+dr0zspvu6txERS5T/7Nwk1ZsPGR1LABAJaBsAqgUPnab3hreVQ92\n",
              "D5PblJ5e9q2SUg5aHQsA4GGUTQCVxm4z9PshnTW2dwtJ0uS/b9esdd9bGwoA4FGUTQCVymYz9NLd\n",
              "HfRYv9aSpFdX7dJbq/fKC+9VBABUAMomgEpnGIaev6Odnrk9UpL05uo9mvbP7yicAFANUTYBWOZ/\n",
              "BrTRlLs6SJIS//29fv3RDrndFE4AqE4omwAs9Wiflnrt/htlGNKClIN6dvlWOV1uq2MBACoIZROA\n",
              "5Ub0Ctf0oV1ktxlasemQnlq8RYVOCicAVAeUTQBe4f6uYfrriK7ysRtate2oHkvaqPwil9WxAADX\n",
              "ibIJwGvc0amJ3h3dQ34Omz7/7oQenbdBeYVOq2MBAK4DZROAV+nXNlTzHolWoK9dX+87rdGzU5Wd\n",
              "X2R1LADANaJsAvA6Ma3qa0FcLwX7O5R28Kwefne9zuQWWh0LAHANKJsAvFK38LpaFB+jeoG+2nY4\n",
              "S8NnJutETr7VsQAA5UTZBOC1Ot4QoqUJMQoN8tOe4+c1dEayDp+7YHUsAEA5UDYBeLWI0CAtmxCr\n",
              "pnVqKf10nobOSFb6qVyrYwEArhJlE4DXa14/UMsmxKplg0AdPndBQxOTtfd4jtWxAABXgbIJoEq4\n",
              "oU4tLUmIUdtGQTqRU6BhM1O0/XCW1bEAAFdA2QRQZYQG+WtxfIw6h4XoTG6hHno3RRsPnrU6FgDg\n",
              "J1A2AVQpdQN9lRTXSz1b1FVOvlOjZq9X8v7TVscCAJSBsgmgygn299G8R6LVJ6KB8gpdGjsnVWu+\n",
              "O2F1LABAKSibAKqkAF+HZo3poYHtQ1XgdCt+QZr+ue2o1bEAAD9C2QRQZfn72PXOyO66q3MTFblM\n",
              "PbFwkz7YdMjqWACAS1A2AVRpPnab3hreVQ90D5PblJ5e9q3eX3/Q6lgAgP+gbAKo8uw2Q68P6azR\n",
              "sc1lmtL/frhds9Z9b3UsAIAomwCqCZvN0Cv3dNSEW1pLkl5dtUtvf75XpmlanAwAajbKJoBqwzAM\n",
              "PX9HWz19W6Qkafpne/T7T3dTOAHAQpRNANWKYRj6xa1tNPnn7SVJM77cr5dW7pDbTeEEACtQNgFU\n",
              "S3F9W+m1+2+UYUjzkw/quRVb5aJwAkClo2wCqLZG9ArX9KFdZDOk5RsP6cnFm1XkclsdCwBqFMom\n",
              "gGrt/q5h+uuIbvKxG1q19ageS9qo/CKX1bEAoMagbAKo9u68sYlmjuohP4dNq3edUNy8NOUVOq2O\n",
              "BQA1AmUTQI3Qv12o5ozrqQBfu77ad0qjZ6cqO7/I6lgAUO1RNgHUGL1bN1BSXC8F+TuUdvCsRs5a\n",
              "r7O5hVbHAoBqjbIJoEbpFl5Xi8bHqF6gr7YeytLwmSk6kZNvdSwAqLYomwBqnE5NQ7QkPkahQX7a\n",
              "fTxHwxJTdOTcBatjAUC1RNkEUCO1aRSkZRNi1bROLR04lasHZyTr4Olcq2MBQLVD2QRQYzWvH6il\n",
              "E2LVskGgDp+7oAdnJGvv8RyrYwFAtULZBFCjNa1TS0sSYtS2UZBO5BRo2MwU7TiSZXUsAKg2KJsA\n",
              "arzQIH8tjo/RjU1DdCa3UA/NTNGmjLNWxwKAaoGyCQCS6gb66v3xvdSjeV1l5zs1atZ6Je8/bXUs\n",
              "AKjyKJsA8B/B/j6a/2i0+kQ0UG6hS2PnpGrt7hNWxwKAKq3cZXPv3r3q3bu3IiMj1bNnT+3YsaPU\n",
              "cbNnz1abNm3UunVrjR8/XkVF/FIHAO8X4OvQrDE9dGu7UBU43Ro/P02fbj9qdSwAqLLKXTYTEhIU\n",
              "Hx+vPXv26Pnnn9fYsWMvG3PgwAFNmTJF69at0759+3T8+HHNnDmzIvICgMf5+9g1Y1R3/bxzExW5\n",
              "TD2xcLM+3HzI6lgAUCWVq2yeOHFCaWlpGjlypCRpyJAhyszM1L59+0qMW758ue655x41btxYhmFo\n",
              "woQJWrRoUanrLCgoUHZ2donF5XJd4+4AQMXwsdv09vCueqB7mFxuUxOXfquF6zOsjgUAVU65ymZm\n",
              "ZqaaNGkih8MhSTIMQ+Hh4crIKPkBnJGRoebNmxc/btGixWVjfjB16lSFhISUWFJTU8u7HwBQ4ew2\n",
              "Q68P6axRMc1lmtKLH27TrHXfWx0LAKoUy28QmjRpkrKyskos0dHRVscCAEmSzWboN/d2VMLNrSRJ\n",
              "r67apT9/vlemaVqcDACqBkd5Bjdr1kxHjx6V0+mUw+GQaZrKyMhQeHh4iXHh4eHav39/8eP09PTL\n",
              "xvzAz89Pfn5+JZ6z2+3liQUAHmUYhl64s50C/Rya/tke/fGzPcorcum5QW1lGIbV8QDAq5XrzGZo\n",
              "aKi6deumpKQkSdKKFSsUFhamiIiIEuOGDBmilStX6tixYzJNUzNmzNDw4cMrLjUAVDLDMPTkrW00\n",
              "+eftJUnvrN2vV/6xU243ZzgB4KeU+zJ6YmKiEhMTFRkZqWnTpmnOnDmSpLi4OK1cuVKS1KpVK73y\n",
              "yiu66aabFBERoYYNGyohIaFikwOABeL6ttLv7u8kw5DmfpOuFz7YKheFEwDKZJheOPFo4sSJmj59\n",
              "utUxAKBMH2w6pGeWfSu3Kd3VuYneHBYlH7vl0+ABwOvwyQgA12BwtzD9dUQ3+dgNfbz1qB5L2qj8\n",
              "Ir62DQB+jLIJANfozhubaOaoHvJ12LR61wmNn5+mvEKn1bEAwKtQNgHgOvRvF6q5Y3sqwNeudXtP\n",
              "acx7qcrJ5+d5AeAHlE0AuE69IxpowaO9FOTv0Ib0s3p41nqdyyu0OhYAeAXKJgBUgO7N62rR+BjV\n",
              "C/TV1kNZGj4zRSdzCqyOBQCWo2wCQAXp1DRES+JjFBrkp++O5WhYYrKOZl2wOhYAWIqyCQAVqE2j\n",
              "IC1NiFXTOrX0/alcPTgjWQdP51odCwAsQ9kEgArWokGglk6IVYv6ATp09oKGJiZr34kcq2MBgCXK\n",
              "9dvoAICr07ROLS1NiNXI2eu15/h5DU1MUWyr+vL3sauWr021fOyq5WOXv6+9+M+1fO0XX//Pn2v5\n",
              "XHzs72P77+sOu2w2fo8dQNVB2QQADwkN9tfi+FiNfm+9th/O1qptRytkvX4OW3EZ/aGQXlpOL/7Z\n",
              "dklZtZccX6Lg2kotuH4OmwyDUgvg+lE2AcCD6gX6amlCrD7beVzn8op0ocilC4Uu5Re5iv98oajk\n",
              "4/wi938f/+e5Aqe7eJ0FTrcKnG6dk+e+z9MwJH/HpQXUVrLQllpw/1tm/X9ciMs4g+tjNyi1QDVH\n",
              "2QQADwvwdejeqKbXtQ6321S+80fltNBdopD+UFCL/1l4aWF1/2TB/eFxkcuUJJmmit/rSXabcUlh\n",
              "/dHZ2FKnF9jKLLi1fvQ+/0umKzj43XrAMpRNAKgCbDZDAb4OBfh69mPb6XIr3+ku9ezr5QX20jFu\n",
              "5Tt/4vVLCm9eoVPui51WLrep8wVOnS/w7M98+tiN0s/I/tT82Cucwf3xFATm0wKlo2wCAIo57DbV\n",
              "tttU289z/3swTVNFLvOSM7SunzxrW3bBvfjPgqLSz/BeKHLJ/E+pLXKZKnI5lZPv2VLr67CVckb2\n",
              "ylMQfph2cOWCy3xaVD2UTQBApTIMQ74OQ74Om0Jq+XhsO6ZpqsBZxvSBS8vsJaX38oJ7+VneS8vs\n",
              "xff+dz5todOtQqdbWRc8N59WUolC6udTWsG9uikI/qUU4B+mIPjaKbWoGJRNAEC1ZBhGcZmq48Ht\n",
              "uN0XS+1PnX0trcz+MF3has7g5he5Vej6b6mtjPm0NkOlTikoMS/Wx3aFglvWTWS2S24SYz5tdUfZ\n",
              "BADgOthsxsUi5Wv36HZ+PJ+27Bu+3GUW3EvPyF4ocpd8rtClvCKXXP+ZUOs2pdxCl3ILPVtqHT/c\n",
              "JHbZDV+lzJ+95HGpZ2zLKLj+PnbZmU9rGcomAABVQGXMp5WkIpe71DOtl04bKPOMbYnH7svWUfCf\n",
              "ubl5l8yndbpN5RQ4lePhm8R+mE/r7/PT32hwecG1lVJwSz9j6+ewcZNYKSibAACgmI/dJh+7TcH+\n",
              "np1PW+hyK/9HX991pQJb/B20ZRbcH5/BLW0+rcd2S5L++40GPz5bW6Kc2q5QcEs+/vH33Fa1m8Qo\n",
              "mwAAoFIZhiE/h11+DrtC5LlSe+l82lJv8rqs4JY+BaGgxPjLC2/hJT+6cLEQu3XWwz+6UNoviNXy\n",
              "seupgW10U0QDj237WlA2AQBAtVRZ82ldbrPMMlvW99ZezRSEH38l2KU/upBX6FJeKfNpc/I9+00I\n",
              "14KyCQAAcB3sNkOBfg4FVsJ82v/+Qljp34AQ1ayuRzNcC8omAABAFfDDfNogD86n9QS+3AoAAAAe\n",
              "Q9kEAACAx1A2AQAA4DGUTQAAAHgMZRMAAAAeQ9kEAACAx1A2AQAA4DGUTQAAAHgMZRMAAAAeQ9kE\n",
              "AACAx1A2AQAA4DGGaZqm1SF+bPDgwWrRokWlbc/lcik1NVXR0dGy2+2Vtl1vx3EpG8emdByX0nFc\n",
              "ysaxKR3HpWwcm9JZcVyaN2+up5566orjvLJsVrbs7GyFhIQoKytLwcHBVsfxGhyXsnFsSsdxKR3H\n",
              "pWwcm9JxXMrGsSmdNx8XLqMDAADAYyibAAAA8BjKJgAAADyGsinJz89PL730kvz8/KyO4lU4LmXj\n",
              "2JSO41I6jkvZODal47iUjWNTOm8+LtwgBAAAAI/hzCYAAAA8hrIJAAAAj6FsAgAAwGNqXNlcu3at\n",
              "oqKirI4BwMMMw9C5c+dKfe1nP/uZdu/efcV1jB07Vn/6058qNhgAVLCVK1fqV7/6ldUxyuSwOkBV\n",
              "4XQ65XBwuIDq4JNPPrE6AgBUCKfTqXvuuUf33HOP1VHK5PVnNg3D0OTJk9W1a1dFRkbq/fffL35t\n",
              "w4YNGjBggHr06KGuXbtq2bJlki4e+EGDBqlHjx7q2LGjRowYodzc3MvWnZ2drdtvv12/+c1vSt12\n",
              "v3799OSTTyo2Nla333670tPTVadOHT3zzDPq3LmzOnbsqNWrV0tS8WtTpkxRt27d1KZNG3399df6\n",
              "1a9+paioKHXq1Enbt2/3wBECUJa//e1vio6OVsuWLTVnzpzi51u0aKEtW7ZIkr777jvFxsaqY8eO\n",
              "Gjx4sG6//XbNnTu3eOyuXbt06623KjIyUoMHD1ZhYaEkqWnTpjpy5IgkaejQoerdu7ckqaCgQPXr\n",
              "11dBQYG2bdumPn36qFu3burQoYNeffVVSVJ+fr4aN26szMzM4u28+OKLev755y/bh/J8tqxdu1ad\n",
              "OnXS6NGj1alTJ3Xv3r14PyXppZdeUkREhHr27KnJkyerRYsW132MAXjGT/UfwzD00ksvqWfPnpo0\n",
              "aZLmzp2r++67r/j1OXPmKCoqSl26dFGPHj2Unp4uSfrXv/6lPn36qHv37oqOjtaaNWsqZ2dMLyfJ\n",
              "nDx5smmaprl//36zbt265oEDB8yzZ8+aUVFR5pEjR0zTNM2TJ0+azZo1Mw8dOmS63W7z1KlTpmma\n",
              "ptvtNidMmGBOnTrVNE3TXLNmjdmlSxczIyPD7Natmzlv3rwyt33LLbeYgwYNMgsLC03TNM0DBw6Y\n",
              "ksxZs2aZpmmaycnJZsOGDc3s7Ozi1z788EPTNE1z1qxZZmBgoPnFF1+Ypmmar7/+uvnAAw9U/AEC\n",
              "UCpJ5htvvGGapmnu2rXLrF27tllUVGSapmk2b97c3Lx5s2maptmjRw/zvffeM03TNHfu3Gn6+fmZ\n",
              "c+bMMU3TNMeMGWNGR0ebubm5ptPpNHv37m0uXLjQNE3THDVqlDlv3jzT5XKZkZGRZocOHcysrCxz\n",
              "9erV5m233WaapmlmZ2eb+fn5pmmaZl5enhkVFWUmJyebpmmaL774ojlp0iTTNE0zPz/fbNy4sZme\n",
              "nn7ZfpTns2XNmjWmJHP16tWmaZrmkiVLzLZt25put9v8+OOPzY4dO5rZ2dmm2+02x44dazZv3rxC\n",
              "jjWAildW//nhtVdeeaV47Jw5c8x7773XNM2LnwMtWrQo7ke5ublmbm6uuX//fjMmJsbMysoyTdM0\n",
              "9+7dazZu3Lj4M8qTvP7MpiTFxcVJklq1aqWbb75Z//73v/XNN9/o+++/15133qmoqCgNHDhQkrR7\n",
              "926Zpqk333xTXbt2VefOnbVq1aoSf7s/fvy4br75Zr3++usaPXr0T2575MiR8vHxKX7scDg0duxY\n",
              "SVJMTIxuuOEGbd68WZLk7+9f/DeLHj16qHbt2urfv78kKTo6Wnv37q2IwwHgKj388MOSpHbt2snh\n",
              "cOjYsWMlXs/OztaWLVuKPwfat2+vPn36lBhz//33KyAgQHa7XdHR0dq/f78kaeDAgVq9erU2b96s\n",
              "Ll26aMCAAVq7dq1Wr16tW2+9VZJ04cIFxcXF6cYbb1RMTIwOHjxY/Fn0+OOPa968eSooKNCyZcsU\n",
              "HR2t5s2bl7of5flsadGiRfH2hw4dqmPHjikzM1Off/65HnzwQQUFBckwDD366KPXelgBVJLS+s8P\n",
              "HnnkkVLfs2rVKo0aNUpNmjSRJAUEBCggIECffvqp9u3bp5tvvllRUVF64IEHZLPZlJGR4fH9qJKT\n",
              "EA3DkGma6tixo7755pvLXk9KStIXX3yhL7/8UsHBwXr77bf1xRdfFL9ep04dRURE6OOPP9aAAQNk\n",
              "GIZ27typESNGSJJuuukm/fWvf5Uk1a5d+6rySCrxrf12u13+/v4lHjudzmvbYQDX5Fr+G/zhv+cr\n",
              "rWPgwIGaNGmSOnTooIEDB6pRo0ZavXq1kpOT9c4770i6eGm8QYMG2rx5sxwOhwYPHqz8/HxJFy/D\n",
              "33zzzVqyZIneeeed4uk806ZN0+LFiyVJv//979W2bdvr+mwxDOOyfSptPwF4v0v/u72afnIp0zR1\n",
              "2223aeHChRUd64qqxJnNH+Zapaena926derbt6969+6tAwcOFM+ZlKQtW7aosLBQZ8+eVYMGDRQc\n",
              "HKycnJwS86+ki6Xwgw8+0JEjRzR+/Hi53W516NBBW7Zs0ZYtW4qLZmmcTqcWLFggSUpNTdWRI0e4\n",
              "ux2oooKDg9WlSxclJSVJunhl5Kuvvrqq995www0KCQnRjBkzNHDgQPXv318ff/yx0tPT1a1bN0nS\n",
              "2bNnFRYWJofDod27d+uzzz4rsY6nnnpK//u//6tz584VX5154YUXij+LBg0aVO59Sk9PL56HtXz5\n",
              "cjVq1EhhYWEaMGCAVqxYofPnz8s0Tb333nvlXjeAylVa/7mSu+++W0lJSTp69KgkKS8vT3l5eRo0\n",
              "aJBWr16trVu3Fo9NTU31TPAfqRJnNl0ul7p27arc3Fy9/fbbxZPaV61apWeeeUZPP/20ioqKFB4e\n",
              "rr///e8aPXq0PvroI7Vt21YNGzZU3759dfDgwRLr9PHx0cKFCxUXF6eHH35YCxYsuKq7zUNCQrR9\n",
              "+3Z16dJFTqdTCxcuVFBQkE6fPu2JXQfgYfPnz9cjjzyiP/zhD8U3z9SpU+eq3jtw4EB9/PHHatWq\n",
              "lSSpcePG6tq1q2y2i3+Pnzx5skaNGqV58+apdevWGjBgQIn3x8TEKCQkRAkJCRV2prFjx46aO3eu\n",
              "nnzySfn6+mrRokUyDEN33XWX1q9fr6ioKNWpU0e33HLLVe8nAGuU1X9+ys0336yXXnpJgwYNkmEY\n",
              "8vX11fLlyxUREaGFCxcqISFBeXl5KiwsVNeuXSvlTKfX/za6YRg6e/asV3wopqenKyoqqszv7gNQ\n",
              "9Zw/f16BgYEyDEMHDhxQbGysNmzYoGbNmnl824cPH1aPHj20Z88eBQUFXff61q5dq1/+8pcl5qhf\n",
              "KicnR0FBQTJNU08//bQuXLhQfMkfgHfxpv5zvarEmU0A8JRvvvlGzz77rKSLZxHefPPNSimav/71\n",
              "r/Xee+9p2rRpFVI0r8bo0aOVnp6u/Px8dezYUTNmzKiU7QKo2bz+zCYAAACqripxgxAAAACqJsom\n",
              "AAAAPIayCQAAAI+hbAIAAMBjKJsAAADwGMomAAAAPIayCQAAAI+hbAIAAMBjKJsAAADwmP8Hu3lq\n",
              "KylDcVEAAAAASUVORK5CYII=\n",
              "\">\n",
              "      </div>\n",
              "      <script type=\"text/javascript\">\n",
              "        (() => {\n",
              "          const chartElement = document.getElementById(\"chart-190f6a12-2c21-4d67-8ab7-3a4a90dc4faf\");\n",
              "          async function getCodeForChartHandler(event) {\n",
              "            const chartCodeResponse =  await google.colab.kernel.invokeFunction(\n",
              "                'getCodeForChart', [\"chart-190f6a12-2c21-4d67-8ab7-3a4a90dc4faf\"], {});\n",
              "            const responseJson = chartCodeResponse.data['application/json'];\n",
              "            await google.colab.notebook.addCell(responseJson.code, 'code');\n",
              "          }\n",
              "          chartElement.onclick = getCodeForChartHandler;\n",
              "        })();\n",
              "      </script>\n",
              "      <style>\n",
              "        .colab-quickchart-chart-with-code  {\n",
              "            display: block;\n",
              "            float: left;\n",
              "            border: 1px solid transparent;\n",
              "        }\n",
              "\n",
              "        .colab-quickchart-chart-with-code:hover {\n",
              "            cursor: pointer;\n",
              "            border: 1px solid #aaa;\n",
              "        }\n",
              "      </style>"
            ]
          },
          "metadata": {}
        },
        {
          "output_type": "display_data",
          "data": {
            "text/plain": [
              "from matplotlib import pyplot as plt\n",
              "_df_6['highway-mpg'].plot(kind='line', figsize=(8, 4), title='highway-mpg')\n",
              "plt.gca().spines[['top', 'right']].set_visible(False)"
            ],
            "text/html": [
              "      <div class=\"colab-quickchart-chart-with-code\" id=\"chart-126afab7-a7e8-4330-a2f0-dbcc234c995d\">\n",
              "        <img style=\"width: 180px;\" src=\"data:image/png;base64,iVBORw0KGgoAAAANSUhEUgAAAqsAAAFuCAYAAACm1lFrAAAAOXRFWHRTb2Z0d2FyZQBNYXRwbG90\n",
              "bGliIHZlcnNpb24zLjcuMSwgaHR0cHM6Ly9tYXRwbG90bGliLm9yZy/bCgiHAAAACXBIWXMAAA9h\n",
              "AAAPYQGoP6dpAABVNUlEQVR4nO3dd3RUdd7H8ffNpAFpQIBQUoBQpCUEEkIHaVZAEGmCdFzFBru6\n",
              "2DuuCoiPhd6lKIgiWFZAEKSEFumdkNB7AoHU+T1/RKNZASkJM0k+r3PuOTszd+5877BM3l7u3FjG\n",
              "GIOIiIiIiBNycfQAIiIiIiJXo1gVEREREaelWBURERERp6VYFRERERGnpVgVEREREaelWBURERER\n",
              "p6VYFRERERGnpVgVEREREaelWBURERERp6VYFZFCq0WLFrz44otXfGzlypV4eXmRmZl53duzLIsl\n",
              "S5bk1ngiIgK4OnoAERFn1LRpUy5evOjoMURECj0dWRURERERp6VYFZFC7cKFC/To0QNfX18CAwP5\n",
              "9NNPAVi+fDmWZZGRkQFAeno6w4YNIyAggFKlSjF8+HCaNGnCq6++mmN7O3fupHHjxnh5eVG7dm1W\n",
              "rVoFwPnz53F1dWX37t0AHDp0CMuyeOaZZ7Kfe/fdd/PGG29kv36jRo0oWbIkxYsX58477yQ2NhYA\n",
              "u91OSEgI06ZNy/Ha77//PnXr1r3qvoaEhPDqq6/Srl07vLy8qFKlCsuWLWP58uXUqVMHb29vWrdu\n",
              "zfHjx7Of06JFC4YMGUKnTp3w9vYmNDSU6dOn59julClTCA0Nxdvbm06dOjFkyBBatGhxnX8CIiJ/\n",
              "w4iIFFLNmzc3Pj4+ZunSpSYzM9PMmzfPuLi4mL1795qffvrJACY9Pd0YY8xrr71mKlWqZHbt2mVS\n",
              "UlLMK6+8YlxdXc0rr7ySvT3A1KlTx+zdu9ekp6ebp556ygQFBWU/3qBBA/Phhx8aY4wZN26cqVKl\n",
              "iqlRo4YxxpjU1FRTtGhRs3btWmOMMatWrTK//PKLSU1NNUlJSWbgwIEmKCjIpKamGmOMeeutt0yj\n",
              "Ro2yt223202VKlXMp59+etX9DQ4ONkFBQSY2NtZkZGSYoUOHmoCAAPPAAw+YkydPmqSkJNOwYUMz\n",
              "aNCgHO+Rp6enWbhwoUlPTzeLFy82bm5uZtWqVcYYY1asWGHc3d3Nt99+azIyMszixYtNkSJFTPPm\n",
              "zW/hT0ZE5A+KVREptJo3b2769u2b4z5/f38zZ86cv8Rq5cqVzccff5y9XkZGhilduvRfYnXatGnZ\n",
              "t7dt22YAc/z4cWOMMS+99JK57777jDHGdO7c2UycONEUL17cJCQkmKVLl5rixYubzMzMK8569uxZ\n",
              "A5gtW7YYY4w5fvy4cXd3N9u2bTPGGLN06VLj5eVlkpKSrrq/wcHB5vXXX8++HRsbawCzevXq7Pve\n",
              "f/99Ex4enuM96tSpU47tPPTQQ6Zfv37GGGP69+9vunTpkuPxzp07K1ZFJNfoNAARKdTKlSuX43ax\n",
              "YsW4cOHCX9Y7cuQIwcHB2bdtNhuBgYHX3F6xYsUAsrfXtm1bli9fTkpKCsuWLePuu++mVatW/PDD\n",
              "D/z444+0atUKF5esj+UtW7Zw//33U758eXx8fKhYsSIAJ0+eBKBMmTJ06tSJcePGATBu3Dh69OiB\n",
              "t7d39pUMfl9WrlyZPVPZsmX/Mt//3ve/+//7a//5dkJCwhXfF8g63UBEJLcoVkVErkP58uU5dOhQ\n",
              "9m273c7hw4dvaBvR0dFYlsUHH3xA+fLlKVeuHO3ateOHH37gv//9L23atMlet0uXLlSuXJlt27aR\n",
              "lJTEwYMHATDGZK/zj3/8gxkzZnDo0CEWLFjAo48+CvxxJYPfl6ZNm97KrhMXF/eX2xUqVAD++r4A\n",
              "f7ktInIrFKsiItehV69ejB49mj179pCWlsabb77JmTNnbmgbrq6utGzZknfeeYe2bdsCWUdbv//+\n",
              "ezZv3px9H0BiYiI+Pj74+vpy9uxZhg0b9pftNWvWjPLly9OpUyfCw8Ov+eWqW/Htt9+yePFiMjMz\n",
              "+f7771mwYAF9+/YFst6Xr7/+mh9++CH78W+//TZP5hCRwkmxKiJyHYYPH869995L06ZNKV++PJcv\n",
              "X6Zu3bp4enre0Hbatm1LYmJidpgGBQVRvnx5QkNDc/zz+eTJk/niiy/w9vYmOjqau++++4rb+8c/\n",
              "/sGmTZuyj6rmhX79+jFp0iT8/Px4/PHHGTt2bPbR2ubNm/PJJ5/w2GOP4efnx7hx4+jZs+cNvy8i\n",
              "IldjmT//m5KIiFyXjIwMypYty4cffkj37t0dNsd3331H9+7dOXr0KEWLFs317bdo0YImTZrw5ptv\n",
              "XvdzOnbsSJkyZbLPpxURuRU6sioich0uXLjAN998Q1paGhcvXuS5557Dbrdf9Yjn7XDp0iXeffdd\n",
              "Bg8enCeher3mz59PUlIS6enpzJ07l0WLFtGzZ0+HzSMiBYtiVUTkOtjtdt544w38/f0pX748MTEx\n",
              "fPvtt/j5+Tlknk8//RR/f38AXnjhBYfM8LtvvvmGkJAQihcvzuuvv87kyZNp1qyZQ2cSkYJDpwGI\n",
              "iIiIiNPSkVURERERcVqKVRERERFxWopVEREREXFailURERERcVoFNlbHjBnj6BFERERE5BYV2FjV\n",
              "76YWERERyf8KbKyKiIiISP6nWBURERERp6VYFRERERGnpVgVEREREaelWBURERERp6VYFRERERGn\n",
              "pVgVEREREaelWBURERERp5Unsfrkk08SEhKCZVnExsZedb1JkyZRpUoVKleuzMCBA0lPT7+ux0RE\n",
              "RESkcMiTWH3wwQdZtWoVwcHBV13n4MGDvPTSS6xcuZJ9+/Zx4sQJxo8f/7ePiYiIiEjhkSex2qxZ\n",
              "MypUqHDNdebNm0f79u0JCAjAsiweffRRZs+e/bePiYiIiEjh4eqoF46Pj89x5DUkJIT4+Pi/fexK\n",
              "UlNTSU1NzXFfZmZmLk8sIuIYB05d5P+W7aN6gDeDmlXCsixHjyQicts4LFZz04gRI3jttddy3Bcd\n",
              "He2gaUREckdKeiafLt/Pp8v3k5ZpB+D0xVSev+cOBauIFBoOuxpAUFAQhw4dyr4dFxdHUFDQ3z52\n",
              "JcOHDycxMTHHEhUVlXfDi4jksZV7T3HXBz8zZule0jLthFXwBWDCyoO8uXgnxhgHTygicns4LFY7\n",
              "d+7MwoULOX78OMYYxo4dS7du3f72sSvx8PDAx8cnx2Kz2W7XroiI5JqTF1J4cvZmek2KIe7MJcr4\n",
              "ePBJzwi+erwxbz1QC4BJqw7y+qIdClYRKRTyJFYHDx5MhQoVOHz4MO3atSM0NBSAAQMGsHDhQgAq\n",
              "VarEa6+9RuPGjQkNDaVUqVIMHjz4bx8TESmIMu2G6WviaPX+Chb+ehQXC/o2DmHJ0ObcU7sslmXR\n",
              "s0EwIzrVBmDKL3G89o2CVUQKPssU0E+6oUOHMmrUKEePISLyt7YdSeT5BVvZcjgRgLAKvrz1QG1q\n",
              "lfe94vpzYuL595dbAXikYTCvtq+pc1hFpMAqEF+wEhHJjy6kpDPyv3uYviYOuwFvD1eevasaPRoE\n",
              "Y3O5enx2iwrCxbJ47sstTFtzCAO8pmAVkQJKsSoicpsZY/h263Fe+2Y7Jy9kXXavQ3g5Xrj3Dkp7\n",
              "e17XNh6KDAQLnpu/helrDmE3htfb18LlGpErIpIfKVZFRG6jQ2eSefnr7azYcwqAiv7FeKNDLZpU\n",
              "8b/hbT1UPxALeHb+FmaujccYeKODglVEChbFqojIbZCakcmEnw/wf8v2kZphx93mwj9aVOYfLSrj\n",
              "6XbzVy/pUj8QF8vin/N+5bN18dgNvNVRwSoiBYdiVUQkj63Zf4YXv9rK/lPJADQOLckbHWpRqZRX\n",
              "rmy/c70KWBYM++JXZsfEA4a3OtZWsIpIgaBYFRHJI6cvpvL2tzv5ctMRAPy93Hnpvhq0DyuX61+G\n",
              "6hTxW7B+/iuzYxKw22FEJwWriOR/ilURkVxmtxvmbkjgne92kXg5HcuChxsE88921fAt4pZnr/tA\n",
              "3Qq4WBbPzI1l7oYEDIZ3OtVRsIpIvqZYFRHJRTuPJfHCgq1sij8PQI2yPrzdqTbhgX635fU7hJcH\n",
              "4Jm5sXy+4TB2A//pXOeal8ISEXFmilURkVyQnJrBmKV7mbTqIJl2QzF3G8PaVqN3w2Bcbbf3N1t3\n",
              "CC+Pi2Xx9NxY5m08jDHw7oMKVhHJnxSrIiK36L/bj/Pqwu0cTUwB4J7aAbx8X00CfK/vmql54f6w\n",
              "clgWPDUnlvmbDmOM4b0uYQpWEcl3FKsiIjfp8LlLvLpwO0t2ngQgsEQRXm9fi5bVSzt4siz31SmH\n",
              "hcWTczbz5eYjGOB9BauI5DOKVRGRG5SeaWfSqoOMWbKXy+mZuNksBjWrxJCWVSjifvPXTM0L99Yp\n",
              "i4sFT8zezILNRzDGMPKhcAWriOQbilURkRuwPu4sLy7Yxu4TFwCIqliCtzrWokoZbwdPdnV31y7L\n",
              "RxYMmbWZr2KPYoCRXcJu+7m0IiI3Q7EqInIdziWn8c53u5i7IQGAEsXcef6eO+gcUT7Xr5maF+6q\n",
              "VZaPelgMmbWJr2OPYjcw+iEFq4g4P8WqiMg1GGOYt/Ewb3+7k3OX0gHoFhnIc3dVp3gxdwdPd2Pu\n",
              "qhXAJz0jeHzWJr759SjGGD7oGq5gFRGnplgVEbmKvScu8MJX24g5eBaAamW8eeuBWtQPKeHgyW5e\n",
              "25oBfNKzHo99tpFFW45hDHzQLRw3BauIOCnFqojI/7iclsn/LdvL+J8PkGE3FHGz8XTrKvRrUrFA\n",
              "RF2bGmX4tGc9/vHZRhZvPYbBMKZb3QKxbyJS8ChWRUT+ZNmuE7z89XYOn7sMQOs7yvBq+xpUKF7U\n",
              "wZPlrtY1yjD24Xr8Y+Ymvt16HGM282F3BauIOB99KomIAMcSL/PojI30m7qBw+cuU87Xk/G96jHx\n",
              "kfoFLlR/1+qOMozrVQ93mwvfbTvOkFmbSMuwO3osEZEcFKsiUqhl/HbN1NYjV/D99uPYXCwGN6vE\n",
              "j0Ob07ZmgKPHy3Mtq5dmXO96uLu68MP2EwpWEXE6ilURKbQ2x5+j/Ue/8MaiHSSnZVIvuDiLnmjC\n",
              "8HvuoJhH4TlLqmW10ozvlRWs/91xgscVrCLiRBSrIlLoJF5O58WvttLp09XsOJaEbxE33ulUmy8G\n",
              "N+SOsj6OHs8hWlQrzcTe9fFwdeHHHSd47LONpGZkOnosERHFqogUHsYYvtp8hFYjlzNzbTzGQOeI\n",
              "Ciwb1pxuUUG4FPJfQdqsaikmPpIVrEt2nuSxmZsUrCLicIpVESkU9p+6SM+J63h6biynL6ZRuVQx\n",
              "Zg+MZuRDYZT08nD0eE6jaZVSTHokEg9XF5buOsk/FKwi4mCKVREp0FLSMxn14x7u/mAlq/efwcPV\n",
              "hX+1q8Z3TzWjYeWSjh7PKTWp4s/kPpF4urmwbNdJHp2xkZR0BauIOIZiVUQKrJ/3nOKuD37mw6V7\n",
              "Scu007xqKX58pjmPtwzF3VUff9fSONSfyY9kBetPu08xWMEqIg6iT2sRKXBOJqXwxOzN9J4cQ9yZ\n",
              "S5Tx8eCTnhFM7RtJUMmCec3UvNAo1J8pfaIo4mZjxZ5TDFKwiogDKFZFpMDItBumr4mj1cgVfPPr\n",
              "UVws6Ns4hCVDm3NP7bJYVuH+AtXNaFi5JFP6RlLEzcbPe04xcPoGBauI3FaKVREpELYeTuSBT37h\n",
              "5a+3cyE1g7AKviwc0oRX7q+Jt6ebo8fL16IrlWRq30iKuttYufc0A6Zt4HKaglVEbg/Fqojka0kp\n",
              "6by6cDsdPl7FlsOJeHu48kaHmnz5WGNqlfd19HgFRoNKJZnaN4qi7jZW7TvNgOnrFawiclsoVkUk\n",
              "XzLGsGjLUVqPXMHU1XHYDXQIL8fSfzanV8MQbIX8mql5IapiCab1i6KYu41f9p2h/zQFq4jkPcWq\n",
              "iOQ7h84k02fKeobM2szJC6lU9C/GzP4NGNOtLqW9PR09XoEWGfJHsK7ef4Z+U9dzKS3D0WOJSAGW\n",
              "J7G6d+9eGjVqRNWqVYmMjGT79u1/WWfKlCmEh4dnL/7+/nTq1AmAuLg4bDZbjsf379+fF6OKSD6S\n",
              "mpHJR8v20nb0z6zYcwp3mwtPt67Cd081pUkVf0ePV2jUDynB9P5ReHm4suaAglVE8pZrXmx08ODB\n",
              "DBo0iD59+jBv3jz69OnD+vXrc6zTt29f+vbtm327Vq1a9OzZM/u2t7c3sbGxeTGeiORDa/af4cWv\n",
              "trL/VDIATUL9eb1DTSqV8nLwZIVTveCsYH1kUgxrD5ylz5T1TOkTSTGPPPmxIiKFWK4fWT158iQb\n",
              "Nmzg4YcfBqBz584kJCSwb9++qz5n3bp1nDx5kvbt2+f2OCKSz52+mMrQubF0n7CW/aeS8ffyYEy3\n",
              "cGb0j1KoOlhEUHGm94/C28OVmINn6TtlPcmpOsIqIrkr12M1ISGBsmXL4uqa9V/XlmURFBREfHz8\n",
              "VZ8zadIkevXqhZvbH5eXSU5OJjIykoiICF5//XUyM69+En9qaipJSUk5lmutLyLOz243zFoXT6uR\n",
              "K/hy8xEsC3pFB7N0WHM6hJfXNVOdRN2g4swY0ABvT1di4s7SZ0oMFxWsIpKLHP4Fq+TkZObMmUP/\n",
              "/v2z7ytbtixHjhxh/fr1LFmyhJUrVzJy5MirbmPEiBH4+vrmWGJiYm7H+CKSB3YcTeLBsat5fsFW\n",
              "Ei+nU7OcDwsea8wbHWvhW0TXTHU24YF+zOyfFazr487RZ7KCVURyT67HamBgIMeOHSMjI+uDyhhD\n",
              "fHw8QUFBV1z/iy++oGbNmtSoUSP7Pg8PD0qXLg1AiRIl6NevHytXrrzqaw4fPpzExMQcS1RUVC7u\n",
              "lYjcDsmpGby1eAf3f7SKTfHnKeZu4+X7avD1440JD/Rz9HhyDWGBfnw2oAE+nq5sOHSORybHcCEl\n",
              "3dFjiUgBkOuxWrp0aSIiIpg5cyYA8+fPp0KFCoSGhl5x/UmTJuU4qgpZ572mp2d9yKWmpvLll19S\n",
              "t27dq76mh4cHPj4+ORabzZZLeyQiec0Yww/bj9N61AomrDxIpt1wT+0Alg5rQb8mFXG1OfwfgeQ6\n",
              "1Kngx2cDovEt4sZGBauI5JI8+Qkwbtw4xo0bR9WqVXnnnXeYMmUKAAMGDGDhwoXZ6+3evZvY2Fi6\n",
              "du2a4/mrVq2ibt26hIWFERERQUBAAC+88EJejCoiDnb43CUGTt/A4BkbOZaYQmCJIkzpE8knPesR\n",
              "4KtrpuY3tSv48tmABvgWcWNT/Hl6T44hScEqIrfAMsYYRw+RF4YOHcqoUaMcPYaIXEV6pp1Jqw4y\n",
              "ZsleLqdn4mazGNSsEkNaVqGIu/5lJL/bdiSRhyet4/yldMIC/ZjeL0rnG4vITdG/rYnIbbc+7iz3\n",
              "friSd77bxeX0TKIqluDbJ5vyr3bVFaoFRK3yWUdY/Yq68WvCeXpPWkfiZR1hFZEbp1gVkdvmbHIa\n",
              "z877lS5j17DnxEVKFHPn/S5hzB0UTZUy3o4eT3JZzXK+zBoQTfGibvx6OJFek9aReEnBKiI3RrEq\n",
              "InnOGMMXGxJoNXI5n284DED3qECWDm3Og/Uq6JqpBViNcj7MGhhNiWLubDmcdWqAglVEboRiVUTy\n",
              "1N4TF+g6fi3/mreFc5fSqR7gzbxHGzKiUx2KF3N39HhyG9xR1odZAxtQopg7W48k0nPSWs5fSnP0\n",
              "WCKSTyhWRSRPXE7L5N3vd3H3mJXEHDxLETcbz99TnW+eaEL9kBKOHk9us+oBPsweGE3JYu5sO5JE\n",
              "z4nrFKwicl0UqyKS65btOkGb0Sv4ZPl+MuyGNjXKsGRYcwY1q4ybrplaaFUL8Gb2oGj8vdzZfjSJ\n",
              "HhPWcS5ZwSoi16afGiKSa44lXubRGRvpN3UDh89dppyvJ+N71WNC7/qU9yvi6PHECVQt483sgdH4\n",
              "e3mw41gSPSau46yCVUSuQbEqIrcsI9POxJUHaD1yBd9vP47NxWJws0r8OLQ5bWsGOHo8cTJVyngz\n",
              "Z1AD/L082HksiR4T1ipYReSqFKsicks2x5/j/o9+4c3FO0lOy6RecHEWPdGE4ffcQTEPV0ePJ04q\n",
              "tLQ3cwZFU8rbg13HL9BjwlrOXEx19Fgi4oQUqyJyUxIvpfPCgq10+nQ1O48l4VvEjXc61eaLwQ25\n",
              "o6yPo8eTfCC0tBdzBkVTOjtY13FawSoi/0OxKiI3xBjDV5uP0GrUcj5bF48x0DmiAsuGNadbVBAu\n",
              "Lrpmqly/yqWygrWMjwe7T2QdYVWwisifKVZF5LrtP3WRnhPX8fTcWE5fTKNyqWLMHhjNyIfCKOnl\n",
              "4ejxJJ+qVMqLOYMaUsbHgz0nLtJ9/FpOXVCwikgWxaqI/K2U9ExG/biHuz9Yyer9Z/BwdeFf7arx\n",
              "3VPNaFi5pKPHkwKgon8x5gxqSICPJ3tPXqT7hLWcvJDi6LFExAkoVkXkmn7ec4p2H/zMh0v3kpZp\n",
              "p0W1Uvz4THMebxmKu6s+QiT3ZAVrNGV9Pdl3MusI68kkBatIYaefNCJyRSeTUhgyaxO9J8dw6Mwl\n",
              "yvh48GnPCKb0iSSoZFFHjycFVMhvwVrO15P9p5LpNkHBKlLYKVZFJIdMu2Ha6jhajVzBoi3HcLGg\n",
              "X+OKLBnanLtrl8Wy9AUqyVvBJbNOCSjvV4QDp5LpNn4tJxSsIoWWYlVEsm09nMgDn/zCKwu3cyE1\n",
              "g7AKviwc0oSX76+Bt6ebo8eTQiSoZFHmDIrOCtbTWcF6PFHBKlIYKVZFhKSUdF5duJ0OH69iy+FE\n",
              "vD1deaNjLb58rDG1yvs6ejwppAJL/BGsB08n0238Go4lXnb0WCJymylWRQoxYwyLthyl9cgVTF0d\n",
              "h91Ah/ByLB3WnF7Rwdh0zVRxsN+DtULxIsSduUS38WsVrCKFjGJVpJA6dCaZR6asZ8iszZy8kEpF\n",
              "/2LM7N+AMd3qUtrb09HjiWT7PVgDSxTh0G/BevS8glWksFCsihQyqRmZ/N/SvbQd/TM/7zmFu82F\n",
              "p1tX4bunmtKkir+jxxO5ogrFizJnUEOCShTNDtYjClaRQkGxKlKIrN5/mrvHrGTkj3tIzbDTJNSf\n",
              "759uytOtq+LpZnP0eCLXVN6vCHMGRRNUoijxZy/RbfwaDp+75OixRCSPKVZFCoHTF1MZOjeWHhPW\n",
              "ceBUMv5eHozpFs6M/lFUKuXl6PFErls5vyLMHRxNcMmiJJy9TLfxa0k4q2AVKcgUqyIFmN1umLUu\n",
              "njvfX86Xm49gWdArOpilw5rTIby8rpkq+VJZ3yLMHdSQkJJFOXxOwSpS0ClWRQqoHUeT6Dx2Nc8v\n",
              "2EpSSgY1y/mw4LHGvNGxFr5FdM1Uyd8CfD2ZM6ghFf2LceS8glWkIFOsihQwyakZvLloB/d/tIrN\n",
              "8efx8nDl5ftq8PXjjQkP9HP0eCK5JitYo6n0p2CNP6NgFSloFKsiBYQxhu+3Haf1qBVMXHWQTLvh\n",
              "3tplWTK0Of2aVMTVpr/uUvCU8fktWEv9HqxrOHQm2dFjiUgu0k8vkQIg4ewlBkzbwKMzN3IsMYXA\n",
              "EkWY0jeSj3tGEOCra6ZKwVbax5M5A6OpXKoYRxNT6DZ+rYJVpABRrIrkY+mZdj5dvp82o1ewdNdJ\n",
              "3GwWQ1qG8t+nm9OyWmlHjydy25T28WT2oGhCS3txLDGFruPWEndawSpSEChWRfKp9XFnuffDlfzn\n",
              "+12kpNtpULEE3z3VlH+2q0YRd10zVQqf0t6ezB4YTZXSXhxPSqHr+DUcVLCK5HuKVZF85mxyGs/O\n",
              "+5UuY9ew58RFShRzZ2SXMOYMiia0tLejxxNxqFLeHswaGE3VMl6cSEql2/g1HDh10dFjicgtUKyK\n",
              "5BPGGD7fkECrkcv5fMNhALpHBbJ0aHM616uga6aK/Ob3YK1Wxvu3YF3LfgWrSL6VJ7G6d+9eGjVq\n",
              "RNWqVYmMjGT79u1/WWf58uUUKVKE8PDw7OXy5T9+z/OkSZOoUqUKlStXZuDAgaSnp+fFqCL5wp4T\n",
              "F+g6bi3PztvCuUvpVA/wZt6jDRnRqQ7Fi7k7ejwRp+Pv5cGsgQ2oHuDNyQtZwbrvpIJVJD/Kk1gd\n",
              "PHgwgwYNYs+ePTz33HP06dPniutVq1aN2NjY7KVIkSIAHDx4kJdeeomVK1eyb98+Tpw4wfjx4/Ni\n",
              "VBGndjktk/98v4t7xqwkJu4sRdxsPH9Pdb55ogn1Q0o4ejwRp1bSy4PPBmQF66kLqXSfsJZ9Jy84\n",
              "eiwRuUG5HqsnT55kw4YNPPzwwwB07tyZhIQE9u3bd93bmDdvHu3btycgIADLsnj00UeZPXt2bo8q\n",
              "4tSW7TpBm9Er+HT5fjLshjY1yrBkWHMGNauMm66ZKnJdSnplnRJwR1kfTl1Ipdv4dew9oWAVyU9y\n",
              "/SdeQkICZcuWxdXVFQDLsggKCiI+Pv4v6+7fv5+IiAgiIyP55JNPsu+Pj48nODg4+3ZISMgVn/+7\n",
              "1NRUkpKSciyZmZm5uFcit8+xxMs8OmMj/aZu4PC5y5Tz9WR8r3pM6F2f8n5FHD2eSL5Topg7swY0\n",
              "oEZZH05fzDrCukfBKpJvOOzwTEREBIcPH2bTpk0sWLCAsWPH8vnnn9/UtkaMGIGvr2+OJSYmJpcn\n",
              "FslbGZl2Jq48QOuRK/h++3FsLhaDm1Xix6HNaVszwNHjieRrxYu589mABtQs58Ppi2l0H7+W3ccV\n",
              "rCL5Qa7HamBgIMeOHSMjIwPI+gZzfHw8QUFBOdbz8fHB19cXgAoVKtC9e3dWrlwJQFBQEIcOHcpe\n",
              "Ny4u7i/P/7Phw4eTmJiYY4mKisrtXRPJM5viz3H/R7/w5uKdJKdlUi+4OIufbMLwe+6gmIero8cT\n",
              "KRB+D9Za5X04k5xGjwlr2XU8ydFjicjfyPVYLV26NBEREcycOROA+fPnU6FCBUJDQ3Osd+zYMex2\n",
              "OwAXLlxg0aJF1K1bF8g6z3XhwoUcP34cYwxjx46lW7duV31NDw8PfHx8ciw2my6KLs4v8VI6zy/Y\n",
              "SudPV7PzWBJ+Rd34T+fafDG4IdUDfBw9nkiB41fUnc/6R1O7vO9vwbqOnccUrCLOLE9OAxg3bhzj\n",
              "xo2jatWqvPPOO0yZMgWAAQMGsHDhQiArYmvXrk1YWBjR0dG0adOGvn37AlCpUiVee+01GjduTGho\n",
              "KKVKlWLw4MF5MaqIQxhjWLD5MK1GLWfWuniMgQfrVWDp0OZ0jQzCxUXXTBXJK75F3ZjZvwF1Kvhy\n",
              "9rcjrDuOKlhFnJVljDGOHiIvDB06lFGjRjl6DJG/2H/qIi8u2MaaA2cACC3txZsdaxFdqaSDJxMp\n",
              "XBIvp9N70jp+PZxI8aJuzBzQgJrlfB09loj8D13/RuQ2SUnPZNR/d3P3BytZc+AMHq4u/KtdNb59\n",
              "sqlCVcQBfIu4MWNAA8IC/Th3KZ2eE9ex7Uiio8cSkf+hWBW5DX7ec4p2H/zMh8v2kZZpp0W1Uvz4\n",
              "THMebxmKu6v+Goo4io+nGzP6RxEe6Md5BauIU9JPSZE8dDIphSGzNtF7cgyHzlyijI8Hn/aMYEqf\n",
              "SIJKFnX0eCLCH8EaEeRH4uWsYN16WMEq4iwUqyJ5INNumLY6jlYjV7BoyzFcLOjXuCJLhjbn7tpl\n",
              "sSx9gUrEmXh7ujGtXxT1gov/Fqxr2XL4vKPHEhEUqyK5buvhRDp+/AuvLNzOhdQMwir4snBIE16+\n",
              "vwbenm6OHk9EruL3YK0fXJyklAwenriOXxPOO3oskUJPsSqSS5JS0nl14XY6fLyKrUcS8fZ05Y2O\n",
              "tfjyscbUKq9vGIvkB14erkztF0VkyG/BOmkdsQpWEYdSrIrcImMMi7YcpfXIFUxdHYfdQIfwciwd\n",
              "1pxe0cHYdM1UkXzFy8OVqX2jiAopwYWUDHpNXMfm+HOOHkuk0FKsityCQ2eSeWTKeobM2szJC6lU\n",
              "9C/GzP4NGNOtLqW9PR09nojcpGIerkzpG0lUxRJcSM2g96QYNilYRRxCsSpyE1IzMvlw6V7ajP6Z\n",
              "n/ecwt3mwtOtq/DdU01pUsXf0eOJSC4o5uHK1L6RRFf6I1g3HlKwitxuilWRG7R632nuHrOSUT/u\n",
              "IS3DTpNQf354phlPt66Kp5vN0eOJSC4q6u7K5D6RNKxUkoupGfSetI6Nh846eiyRQkWxKnKdTl1I\n",
              "5Zm5sfSYuI4Dp5Lx9/Lgw+51mdE/ior+xRw9nojkkd+DtVHlkiSnZdJ7Ugwb4hSsIreLYlXkb9jt\n",
              "hs/WHaLVyOUs2HwEy4Je0cEsHdac9mHldM1UkUKgiLuNSY9E0jj0t2CdHEPMQQWryO2gWBW5hh1H\n",
              "k+g8djUvLNhGUkoGNcv5sOCxxrzRsRa+RXTNVJHC5PdgbRLqz6W0TPpMiWHdgTOOHkukwFOsilxB\n",
              "cmoGby7awf0frWJz/Hm8PFx5+b4afP14Y8ID/Rw9nog4iKebjYmP1Kdplaxg7Tt1PWsVrCJ5SrEq\n",
              "8ifGGL7fdpzWo1YwcdVBMu2Ge2uXZcnQ5vRrUhFXm/7KiBR2nm42JvSuT7OqpbKCdcp61uxXsIrk\n",
              "Ff3kFflNwtlLDJi2gUdnbuRYYgqBJYowpW8kH/eMIMBX10wVkT94utkY36sezauW4nJ6Jn2nxrB6\n",
              "/2lHjyVSIClWpdBLz7Tz6fL9tBm9gqW7TuJmsxjSMpT/Pt2cltVKO3o8EXFSnm42xvWqR4tqpUhJ\n",
              "t9Nv6npW71OwiuQ2xaoUajEHz3Lvhyv5z/e7SEm306BiCb57qin/bFeNIu66ZqqIXNvvwXpn9dKk\n",
              "pNvpO3U9q/YqWEVyk2JVCqWzyWk8O+9XHhq3hj0nLlKimDsju4QxZ1A0oaW9HT2eiOQjHq42Pn04\n",
              "glbVS5OaYaf/tPWs3HvK0WOJFBiKVSlU7HbD5xsSaDVyOZ9vOAxA96hAlg1rTud6FXTNVBG5KR6u\n",
              "Nj55OILWd2QF64BpG/h5j4JVJDcoVqXQ2HPiAt3Gr+XZeVs4dymd6gHezP9HQ0Z0qoNfUXdHjyci\n",
              "+ZyHq41Petaj9R1lsoJ1+gZWKFhFbpliVQq8S2kZvPPdLu4Zs5KYuLMUcbPx/D3V+eaJJtQLLuHo\n",
              "8USkAHF3deGTnhG0qVGGtAw7A6dvYPnuk44eSyRfU6xKgbZ05wnajPqZsSv2k2E3tK1RhiXDmjOo\n",
              "WWXcdM1UEckD7q4ufNwjgnY1s4J10PSN/LRLwSpys/TTWgqko+cvM3jGBvpP28CR85cp5+vJhN71\n",
              "Gd+7PuX9ijh6PBEp4NxdXfioRwR31QwgLdPO4BkbWbbrhKPHEsmXFKtSoGRk2pm48gCtR63gh+0n\n",
              "sLlYDG5WiR+HNqdNjTKOHk9EChE3mwv/16Mud9f6I1iX7lSwitwoxaoUGJviz3H/R7/w5uKdXErL\n",
              "pF5wcRY/2YTh99xBMQ9XR48nIoWQm82FD7vX5d7aZUnPNDw6cyNLdihYRW6EfoJLvpd4KZ3//LCL\n",
              "2THxGAN+Rd0Yfnd1utQLxMVFl6ISEcdys7kwpls4WLB4yzH+8dlGPu4RQduaAY4eTSRfUKxKvmWM\n",
              "4avYI7y1eCenL6YB8GC9Cgy/uzolvTwcPJ2IyB9cbS6M6RqOi2Xxza9HeXzWJj7qEUE7BavI31Ks\n",
              "Sr60/9RFXlywjTUHzgAQWtqLNzvWIrpSSQdPJiJyZa42F0Y/FIYFLPz1KI9/lhWsd9VSsIpci2JV\n",
              "8pWU9Ew++WkfY1ccIC3TjoerC0+2qsLAppVwd9Up2CLi3FxtLox6KAzLgq9jjzJk1ib+r3td7q5d\n",
              "1tGjiTgtxarkGyv2nOLlr7dx6MwlAFpUK8Xr7WsRVLKogycTEbl+WcGadUrAgs1HGDJ7M/8H3KNg\n",
              "Fbkixao4vRNJKbyxaAeLthwDoIyPB6/eX5O7agVgWfoClYjkPzYXi/e7ZJ0S8OXmIzwxezPGwL11\n",
              "FKwi/0uxKk4r026YufYQ7/+wmwupGbhY0KdRRYa2rYqXLkUlIvmczcXivS5hWJbF/E2HeXLOZuzG\n",
              "cH9YOUePJuJU8uQkv71799KoUSOqVq1KZGQk27dv/8s6y5YtIyoqiho1alCzZk2effZZ7HY7AHFx\n",
              "cdhsNsLDw7OX/fv358Wo4qS2HD5Px49/4ZWF27mQmkFYoB8LhzTh5ftrKFRFpMCwuVi8+2AdHqxX\n",
              "gUy74em5sSz89aijxxJxKnnyU3/w4MEMGjSIPn36MG/ePPr06cP69etzrFO8eHHmzJlDpUqVSElJ\n",
              "oXXr1kyfPp0+ffoA4O3tTWxsbF6MJ04sKSWdkT/sZvraQxgD3p6uPHtXdXpEBWHTNVNFpACyuVi8\n",
              "27kOLhZ8vuEwT8/ZjDGGDuHlHT2aiFPI9Vg9efIkGzZs4L///S8AnTt3ZsiQIezbt4/Q0NDs9erW\n",
              "rZv9vz09PQkPDycuLu6mXjM1NZXU1NQc92VmZt7UtsQxjDEs2nKM1xft4NSFrD/LDuHleOHeOyjt\n",
              "7eng6URE8paLi8U7nepgYTF3QwLPzI3FGOhYV8EqkuunASQkJFC2bFlcXbM62LIsgoKCiI+Pv+pz\n",
              "jh8/zrx587jvvvuy70tOTiYyMpKIiAhef/31a8bniBEj8PX1zbHExMTk3k5Jnoo7nUzvyTE8MXsz\n",
              "py6kUtG/GDP7N2BMt7oKVREpNFxcLEZ0qk23yEDsBoZ+HsuCzYcdPZaIwzn8wpRJSUncf//9PPvs\n",
              "s9SvXx+AsmXLcuTIEdavX8+SJUtYuXIlI0eOvOo2hg8fTmJiYo4lKirqdu2C3KTUjEw+XLqXth/8\n",
              "zMq9p3G3ufB06yp891RTmlTxd/R4IiK3nYuLxdsP1KZ7VNBvwfor8zcqWKVwy/XTAAIDAzl27BgZ\n",
              "GRm4urpijCE+Pp6goKC/rHvhwgXuuusuOnTowNChQ7Pv9/DwoHTp0gCUKFGCfv36MWvWLJ599tkr\n",
              "vqaHhwceHjl/vabNZsvFvZLctnrfaV78ahsHTicD0CTUnzc61qKifzEHTyYi4lguLhZvdayFiwWf\n",
              "rYvnn/N+xZD166RFCqNcP7JaunRpIiIimDlzJgDz58+nQoUKOc5XBbh48SJ33XUXd911Fy+++GKO\n",
              "x06ePEl6ejqQdT7ql19+meMcV8m/Tl1I5Zm5sfSYuI4Dp5Px9/Lgw+51mdE/SqEqIvIbFxeLNzrU\n",
              "4uHoIIyBf837lS82JDh6LBGHyJOrAYwbN44+ffrw9ttv4+Pjw5QpUwAYMGAA7du3p3379owZM4aY\n",
              "mBiSk5P58ssvAejSpQsvvPACq1at4uWXX8Zms5GRkcGdd97JCy+8kBejym1itxtmr4/nP9/tIikl\n",
              "A8uCXtHBDGtbDd8ibo4eT0TE6fwerC6WxfQ1h3h2/haMgYciAx09mshtZRljjKOHyAtDhw5l1KhR\n",
              "jh5DgB1Hk3jhq61sjj8PQM1yPrz9QG3CAv0cOpeISH5gjOHVhduZtuYQAP/pXJuukX89tU6koNLV\n",
              "1SXPXEzN4IMf9zBldRyZdoOXhyvD2lalV3QwrjaHf7dPRCRfsCyLV9vXxLIspq6O47n5W7Eb6B6l\n",
              "YJXCQbEquc4Yww/bT/DaN9s5lpgCwL21y/LSfTUI8NWlqEREbpRlWbxyfw0sC6b8EsfwL7diDPRo\n",
              "oGCVgk+xKrkq4ewlXl24naW7TgIQWKIIr3eoRctqpR08mYhI/mZZFi/fVwMXy2LSqoM8v2ArdmN4\n",
              "ODrY0aOJ5CnFquSKtAw7E1cd4MOle0lJt+NmsxjcrDJD7gzF002XERMRyQ2WZfHivXdgARNXHeTF\n",
              "r7ZhyPrCqkhBpViVWxZz8CwvLNjK3pMXAWhQsQRvPVCL0NLeDp5MRKTgsSyLF+69AxcXi/E/H+Cl\n",
              "r7ZhjKF3wxBHjyaSJxSrctPOJqcx4tudfPHbb1cpUcydF+65g04R5bEsy8HTiYgUXJZlMfzu6lgW\n",
              "jFtxgJe/3o4x8EijEEePJpLrFKtyw+x2w7yNh3n7u52cv5T1yxu6RwXy3F3V8Svq7uDpREQKB8uy\n",
              "+Pdd1bGwGLtiP68s3I7dGPo2rujo0URylWJVbsju4xd48autrI87B0D1AG/eeqAW9YJLOHgyEZHC\n",
              "x7IsnrurGi4WfLJ8P699swO7gf5NFKxScChW5bpcSsvgw6X7mLjyABl2QxE3G8+0qULfxhVx0zVT\n",
              "RUQcxrIs/tWuGi6WxUc/7eONRTswxjCgaSVHjyaSKxSr8reW7jzBy19v58j5ywC0rVGGV9rXpLxf\n",
              "EQdPJiIikBWsw9pWxbLg/5bt483FOwEUrFIgKFblqo6ev8xr32znh+0nACjvV4RX29ekTY0yDp5M\n",
              "RET+l2VZDG1TFcuy+HDpXt5cvBO7MQxqVtnRo4ncEsWq/EVGpp2pq+MY9eMeLqVl4upi0b9pRZ5q\n",
              "VYWi7vq/jIiIs8oOVmDM0r28/e0u7AYeba5glfxL5SE5bIo/xwsLtrHzWBIA9YOL8+YDtage4OPg\n",
              "yURE5Ho90ybrlIAPluzlne92YQz8o4WCVfInxaoAkHgpnf/8sIvZMfEYA35F3Rh+d3W61AvExUXX\n",
              "TBURyW+ebl0VF8ti1I97+M/3u7Abw+MtQx09lsgNU6wWcsYYvoo9wpuLdnImOQ2AB+tVYPjd1Snp\n",
              "5eHg6URE5FY82aoKLha8/989vPfDbowxDLmziqPHErkhitVCbN/Ji7z01TbWHDgDQGhpL97sWIvo\n",
              "SiUdPJmIiOSWIXdWwbIs3vthN+//dw/GwBOtFKySfyhWC6GU9Ew+/mkfY1fsJz3T4OHqwpOtqjCw\n",
              "aSXcXXXNVBGRgubxlqFYFrz7/W5G/rgHu4GnWitYJX9QrBYyK/ac4qWvthF/9hIALaqV4vX2tQgq\n",
              "WdTBk4mISF56rEUoLpbFO9/tYvSSPdiN4Zk2VR09lsjfUqwWEieSUnh90Q4WbzkGQBkfD169vyZ3\n",
              "1QrAsvQFKhGRwuDR5pWxgBHf7WLM0r0Y4JnWVfRzQJyaYrWAy7QbZqyJ4/3/7uFiagYuFvRpVJGh\n",
              "bavi5aE/fhGRwmZw88q4WBZvfbuTD5fuhd+OsCpYxVmpVgqwLYfP88KCbWw9kghAWKAfb3WsRa3y\n",
              "vg6eTEREHGlgs0pYFry5eCcfLtuH3fDbr2tVsIrzUawWQEkp6Yz8YTfT1x7CGPD2dOW5u6rTPSoI\n",
              "m66ZKiIiwICmlbAsizcW7eCjn/ZhMPyzbTUFqzgdxWoBYoxh0ZZjvL5oB6cupALQMbwcz997B6W9\n",
              "PR08nYiIOJv+TSriYsFr3+zg45/2YzfwbDsFqzgXxWoBEXc6mZe+3sbKvacBqOhfjDc71qJxqL+D\n",
              "JxMREWfWt3FFLODVb3bw6fL92I3h33dVV7CK01Cs5nOpGZmMW3GAj37aR1qGHXdXFx5vEcrg5pXw\n",
              "dLM5ejwREckH+jSuiIuLxctfb2fcigNg4N93K1jFOShW87HV+07z4lfbOHA6GYCmVfx5vUMtKvoX\n",
              "c/BkIiKS3/RuGIIFvPT1dsb9fAC7MTx/zx0KVnE4xWo+dOpCKm9/u5MFm48A4O/lwcv31+D+OmX1\n",
              "oSIiIjetV8MQLMvixa+2MWHlQewGXrxXwSqOpVjNR+x2w6yYeN79fhdJKRlYFvSKDmZY22r4FnFz\n",
              "9HgiIlIAPBwdjGXBCwu2MWnVQYyBl+5TsIrjKFbzie1HE3lhwTZiE84DULOcD28/UJuwQD+HziUi\n",
              "IgVPzwbBuFgWw7/cyuRfDmI3hlfur6FgFYdQrDq5i6kZjP5xD1N+yfrnGC8PV4a1rUqv6GBcbS6O\n",
              "Hk9ERAqo7lFBWMC/v9zK1NVxAApWcQjFqpMyxvDD9uO8unAHx5NSALi3dlleuq8GAb66ZqqIiOS9\n",
              "blFBuFgWz325hamr47Abw2vtaypY5bZSrDqhhLOXeGXhdpbtOglAYIkivN6hFi2rlXbwZCIiUtg8\n",
              "FBkIFjw3fwvT1xzCbgyvt6+Fi34jotwmefLvyHv37qVRo0ZUrVqVyMhItm/ffsX1Jk2aRJUqVahc\n",
              "uTIDBw4kPT39uh4rqNIy7HyyfB9tRq9g2a6TuNkshrQM5cdnmitURUTEYR6qH8h7D4ZhWTBzbTwv\n",
              "fb0Nu904eiwpJPIkVgcPHsygQYPYs2cPzz33HH369PnLOgcPHuSll15i5cqV7Nu3jxMnTjB+/Pi/\n",
              "faygWnfgDPd+uJJ3v99NSrqd6Eol+O6ppvyzXTVd3F9ERBzuwXoVeP+3YP1sXTwvKljlNsn1WD15\n",
              "8iQbNmzg4YcfBqBz584kJCSwb9++HOvNmzeP9u3bExAQgGVZPProo8yePftvHytozian8a8vfqXr\n",
              "+LXsPXmRksXcGfVQGLMHRhNa2tvR44mIiGTrXK8Cox4Kw8WCWevieeGrrQpWyXO5fs5qQkICZcuW\n",
              "xdU1a9OWZREUFER8fDyhoaHZ68XHxxMcHJx9OyQkhPj4+L997EpSU1NJTU3NcV9mZmau7E9esdsN\n",
              "8zYe5u3vdnL+UtYpDt2jgnjurmr4FXV38HQiIiJX9kDdClhYDP08ltkxCRgDbz9QW+ewSp4pEF+w\n",
              "GjFiBK+99lqO+6Kjox00zd/bffwCL361lfVx5wCoHuDNWw/Uol5wCQdPJiIi8vc61i2PZcEzc2OZ\n",
              "sz4BuzG806mOglXyRK6fBhAYGMixY8fIyMgAsi7BFB8fT1BQUI71goKCOHToUPbtuLi47HWu9diV\n",
              "DB8+nMTExBxLVFRUbu5WrriUlsE73+3i3g9Xsj7uHEXcbLxwzx1880QThaqIiOQrHcLL80G3urhY\n",
              "8PmGwzw3f4tOCZA8keuxWrp0aSIiIpg5cyYA8+fPp0KFCjlOAYCsc1kXLlzI8ePHMcYwduxYunXr\n",
              "9rePXYmHhwc+Pj45FpvNub6UtHTnCdqM+pmxK/aTYTe0rVGGJcOaM7BZJdx0cX8REcmH2oeVY0y3\n",
              "uthcLL7YeJhn528hU8EquSxPTgMYN24cffr04e2338bHx4cpU6YAMGDAANq3b0/79u2pVKkSr732\n",
              "Go0bNwagRYsWDB48GOCaj+U3R89f5rVvtvPD9hMAlPcrwqvta9KmRhkHTyYiInLr7g8rh2XBU3Ni\n",
              "mbfxMHZjeO/BMGw6JUByiWWMKZD/CTR06FBGjRrlsNdPz7Qz9Zc4Ri/Zw6W0TFxdLPo3rchTrapQ\n",
              "1L1AnCosIiKS7dutx3hi9mYy7YZOdcvzXhcFq+QOVVMe2HjoHC8s2Mqu4xcAqB9cnDcfqEX1AB8H\n",
              "TyYiIpI37qldFgt4YvZmvtx8BLsxjHwoXMEqt0yxmovOX0rjP9/vZnZM1mW2/Iq6Mfzu6nSpF6hv\n",
              "SIqISIF3d+2yfGTBkFmb+Sr2KAYY2SUMV303Q26BYjUXGGNYsPkIby3eyZnkNCDrN30Mv7s6Jb08\n",
              "HDydiIjI7XNXrbJ83NPi8c828XXsUewGRj+kYJWbp1i9RUfOX2bY57GsPXAWgNDSXrzZsRbRlUo6\n",
              "eDIRERHHaFczgE96RvD4rE188+tRjDF80DVcwSo3Rf+vuUXF3G3sOXERTzcXnr2rGt8+2VShKiIi\n",
              "hV7bmgF80rMebjaLRVuO8dScWNIz7Y4eS/IhHVm9RX5F3fm/7nUJKlGUwBJFHT2OiIiI02hTowxj\n",
              "H67HP2ZuYvHWYxgMY7rV1fXF5Ybo/y25oHGov0JVRETkClrdUYaxvSJwt7nw7dbjPDl7s46wyg1R\n",
              "rIqIiEieurN6Gcb1qoe7zYXvth1nyKxNpGUoWOX6KFZFREQkz7WsXprxvevh7urCD9tPKFjluilW\n",
              "RURE5LZoUa00E3rXx93Vhf/uOMHjCla5DopVERERuW2aVy3FxN718XB14ccdJ3jss42kZmQ6eixx\n",
              "YopVERERua2aVS3FxEeygnXJzpM8NnOTglWuSrEqIiIit13TKqWY9EgkHq4uLN11kn8oWOUqFKsi\n",
              "IiLiEE2q+DO5TySebi4s23WSR2dsJCVdwSo5KVZFRETEYRqH/hGsP+0+xWAFq/wPxaqIiIg4VKPK\n",
              "/kzpE0URNxsr9pxikIJV/kSxKiIiIg7XsHJJpvSNpIibjZ/3nGLg9A0KVgEUqyIiIuIkoiuVZGrf\n",
              "SIq621i597SCVQDFqoiIiDiRBpVKMrVvVHawDpi2gctpCtbCTLEqIiIiTiWqYgmm9YuimLuNVftO\n",
              "03/aegVrIaZYFREREacTGVKC6f2j8PJwZfX+M/Sbup5LaRmOHkscQLEqIiIiTqlecNYRVi8PV9Yc\n",
              "ULAWVopVERERcVr1goszvX8U3h6urD1wlj5T1pOcqmAtTBSrIiIi4tQigv4I1piDZ+mrYC1UFKsi\n",
              "IiLi9OoGFWfGgAZ4e7oSE3eWPlNiuKhgLRQUqyIiIpIvhAf6MbN/VrCujztHn8kK1sJAsSoiIiL5\n",
              "RligH58NaICPpysbDp3jkckxXEhJd/RYkocUqyIiIpKv1Kngx2cDovEt4sZGBWuBp1gVERGRfKd2\n",
              "BV8+G9AA3yJubIo/T+/JMSQpWAskxaqIiIjkS7XKZwWrX1E3Nsefp/ckBWtBpFgVERGRfOvPwRqb\n",
              "cJ5ek2JIvKxgLUgUqyIiIpKv1Szny6wB0RQv6savCefpNWkdiZcUrAVFrsaq3W7niSeeoHLlyoSG\n",
              "hvLRRx9dcb2UlBQ6duxI1apVCQsLo02bNuzbty/78RYtWlCxYkXCw8MJDw9n9OjRuTmmiIiIFDA1\n",
              "yvkwa2A0JYq5s+VwIg8rWAuMXI3VmTNnsmPHDvbs2UNMTAzvvfce27dvv+K6gwYNYvfu3fz66690\n",
              "6NCBAQMG5Hh89OjRxMbGEhsbyzPPPJObY4qIiEgBdEdZH2YNbECJYu5sPZJIz0lrOX8pzdFjyS3K\n",
              "1VidO3cuAwcOxGazUaJECbp27crs2bP/sp6npyf33HMPlmUBEB0dTVxcXG6OIiIiIoVQ9QAfZg+M\n",
              "pmQxd7YdSaLnxHUK1nwuV2M1Pj6e4ODg7NshISHEx8f/7fPGjBlDhw4dctz373//m9q1a9O1a1cO\n",
              "HDhwzeenpqaSlJSUY8nMzLy5nRAREZF8rVqAN7MHRePv5c72o0n0mLCOc8kK1vzqhmK1YcOG+Pv7\n",
              "X3FJSEi4qQHefvtt9u3bx4gRI7LvmzFjBrt27WLLli00bdqU++6775rbGDFiBL6+vjmWmJiYm5pH\n",
              "RERE8r+qZbyZPTAafy8PdhxLosfEdZxVsOZLNxSra9as4fTp01dcAgMDCQoK4tChQ9nrx8XFERQU\n",
              "dNXtvf/++3z55Zd89913FC1aNPv+wMBAACzLYsiQIRw4cIAzZ85cdTvDhw8nMTExxxIVFXUjuyYi\n",
              "IiIFTJUy3swZ1AB/Lw92Hkuix4S1CtZ8KFdPA+jSpQsTJkwgMzOTs2fPMnfuXLp27XrFdUeNGsXs\n",
              "2bP58ccf8fPzy74/IyODEydOZN+eP38+ZcqUoWTJkld9XQ8PD3x8fHIsNpst1/ZLRERE8qfQ0t7M\n",
              "GRRNKW8Pdh2/QI8JazlzMdXRY8kNcM3NjfXq1Yv169dTpUoVLMti6NCh1K5dG4CFCxeycOFCJk6c\n",
              "yOHDhxk2bBiVKlWiZcuWQFZwrlu3jtTUVO69915SU1NxcXHB39+fhQsX5uaYIiIiUoiElvZizqBo\n",
              "uo9f+1uwruOzgVlHXMX5WcYY4+gh8sLQoUMZNWqUo8cQERERJ3Hg1EW6T1jLiaRUqpbxYtZv57SK\n",
              "c9NvsBIREZFCoVIpL+YMakgZHw/2nLhI9/FrOXVBpwQ4O8WqiIiIFBoV/YsxZ1BDAnw82Xsy60jr\n",
              "yQspjh5LrkGxKiIiIoVKVrBGU9bXk30ns46wKlidl2JVRERECp2Q34K1nK8n+08lZwVrkoLVGSlW\n",
              "RUREpFAKLpl1SkB5vyLsP5VMt/FrOaFgdTqKVRERESm0gkoWZc6gaMr7FeHA6awjrApW56JYFRER\n",
              "kUItsETOYO02fi3HExWszkKxKiIiIoXe78FaoXgRDp5Optv4NRxLvOzosQTFqoiIiAjwR7AGlihC\n",
              "3JlLdBu/lqPnFayOplgVERER+U2F4kWZM6ghQSWKcui3YD2iYHUoxaqIiIjIn5T3K8KcQdEElShK\n",
              "/NlLdBu/hsPnLjl6rEJLsSoiIiLyP8r5FWHu4GiCSxYl4exluo1fq2B1EMWqiIiIyBWU9S3C3EEN\n",
              "CSlZlMPnsoI14ayC9XZTrIqIiIhcRYCvJ3MGNaSifzEFq4MoVkVERESuIStYo6nkX4wj57OCNf6M\n",
              "gvV2UayKiIiI/I0yPr8Fa6nfg3WNgvU2UayKiIiIXIfSPp7MGRhN5VLFOJqYQtfxazh0JtnRYxV4\n",
              "ilURERGR61Tax5PZg6IJLe3FscQUuo5bS9xpBWteUqyKiIiI3IDS3p7MHhhNldJeHE9Kodv4tRxU\n",
              "sOYZxaqIiIjIDSrl7cGsgdFULfN7sK7hwKmLjh6rQFKsioiIiNyE34O1WhlvTiSl0m38WvYrWHOd\n",
              "YlVERETkJvl7eTBrYAOqB3hz8kIq3cevZd9JBWtuUqyKiIiI3IKSXh58NuBPwTphLftOXnD0WAWG\n",
              "YlVERETkFpX0yjol4I6yPpy6kEq38evYe0LBmhsUqyIiIiK5oEQxd2YNaECNsj6cvph1hFXBeusU\n",
              "qyIiIiK5pHgxdz4b0ICa5Xw4fTGNbuPXsvu4gvVWKFZFREREctHvwVqrvA9nktPoMUHBeisUqyIi\n",
              "IiK5zK+oO5/1j6Z2eV/OJKfRfcJadh1PcvRY+ZJiVURERCQP+BZ1Y2b/BtSp4MvZ5DS6j1/LjqMK\n",
              "1hulWBURERHJI75F3ZjRvwFhFXw5dymdnhMVrDdKsSoiIiKSh3yLuDFjQAPCAv04dymdHhPXsv1o\n",
              "oqPHyjcUqyIiIiJ5zMfTjRn9owgP9OP8pXR6TFjHtiMK1uuRq7Fqt9t54oknqFy5MqGhoXz00UdX\n",
              "XTckJIRq1aoRHh5OeHg4c+fOzX5s7969NGrUiKpVqxIZGcn27dtzc0wRERGR2+73YI0I8iPxcjo9\n",
              "JypYr0euxurMmTPZsWMHe/bsISYmhvfee++aoTl37lxiY2OJjY2la9eu2fcPHjyYQYMGsWfPHp57\n",
              "7jn69OmTm2OKiIiIOIS3pxvT+kVRL7g4iZfT6TFhLVsPK1ivJVdjde7cuQwcOBCbzUaJEiXo2rUr\n",
              "s2fPvqFtnDx5kg0bNvDwww8D0LlzZxISEti3b19ujioiIiLiEL8Ha/3g4iSlZNBz4lp+TTjv6LGc\n",
              "Vq7Ganx8PMHBwdm3Q0JCiI+Pv+r6vXv3pnbt2vTv359Tp04BkJCQQNmyZXF1dQXAsiyCgoKuuZ3U\n",
              "1FSSkpJyLJmZmbm0VyIiIiK5y8vDlan9oogMyQrWhyetI1bBekU3FKsNGzbE39//iktCQsINvfDP\n",
              "P//Mli1b2LRpE/7+/jzyyCM39Pw/GzFiBL6+vjmWmJiYm96eiIiISF7z8nBlat8ookJKcCElg14T\n",
              "17E5/pyjx3I6NxSra9as4fTp01dcAgMDCQoK4tChQ9nrx8XFERQUdMVt/X6/m5sbTz/9NCtXrgQg\n",
              "MDCQY8eOkZGRAYAxhvj4+KtuB2D48OEkJibmWKKiom5k10RERERuu2IerkzpG0lUxRJcSM2g96QY\n",
              "NilYc8jV0wC6dOnChAkTyMzM5OzZs8ydOzfHF6d+l5yczPnz57Nvz549m7p16wJQunRpIiIimDlz\n",
              "JgDz58+nQoUKhIaGXvV1PTw88PHxybHYbLbc3DURERGRPFHMw5WpfSOJrvRHsG48pGD9Xa7Gaq9e\n",
              "vahevTpVqlQhMjKSoUOHUrt2bQAWLlzIgAEDADhx4gQtW7akTp061K5dmxUrVjB9+vTs7YwbN45x\n",
              "48ZRtWpV3nnnHaZMmZKbY4qIiIg4laLurkzuE0nDSiW5mJrBI5Nj2HjorKPHcgqWMcY4eoi8MHTo\n",
              "UEaNGuXoMURERESu2+W0TPpPW8/q/Wco5m7LumpASAlHj+VQ+g1WIiIiIk6iiLuNSY9E0ji0JMlp\n",
              "mfSeHMP6uMJ9hFWxKiIiIuJEfg/WJqH+XErL5JHJMcQcLLzBqlgVERERcTKebjYmPlKfplWygrXP\n",
              "lBjWHjjj6LEcQrEqIiIi4oQ83WxM6F2fZlVLcSktk75T1rNmf+ELVsWqiIiIiJPydLMxvlc9mlct\n",
              "xeX0TPpNXc/q/acdPdZtpVgVERERcWKebjbG9apHi2p/CtZ9hSdYFasiIiIiTu73YL2zemlS0u30\n",
              "nbqeXwpJsCpWRURERPIBD1cbnz4cQavqpUnNsNNv6npW7S34wapYFREREcknPFxtfPJwBK3vyArW\n",
              "/tPW8/OeU44eK08pVkVERETyEQ9XG5/0rEebGmVIzbAzYPoGVhTgYFWsioiIiOQz7q4ufNwjgrY1\n",
              "ypCWYWfg9A0s333S0WPlCcWqiIiISD7k7urCRz0iaFczK1gHTd/ITwUwWBWrIiIiIvnU78F6d60A\n",
              "0jLtDJ6+kZ92FaxgVayKiIiI5GNuNhc+7F6Xe2r/FqwzNrJ05wlHj5VrFKsiIiIi+ZybzYUx3epy\n",
              "b+2ypGXaeXTmRpbsKBjBqlgVERERKQCygjWc++qUJT3T8I/PNvJjAQhWxaqIiIhIAeFqc+GDruHc\n",
              "H1aO9EzDY59t5Iftxx091i1RrIqIiIgUIK42F0Y/FEb734L18c828f22/BusilURERGRAsbV5sKo\n",
              "h8LoGF6ODLthyKxNfL/tmKPHuimKVREREZECyNXmwsiHwnmgbnky7IbHZ23m2635L1hdHT2AiIiI\n",
              "iOQNm4vF+13CsIAvNx/hidmbMQburVPW0aNdN8WqiIiISAFmc7F4r0sYlmUxf9NhnpyzGYPhvjrl\n",
              "HD3addFpACIiIiIFnM3F4t0H69ClXgUy7Yan5sSy8Nejjh7ruujIqoiIiEghYHOx+E/nOlgWfL7h\n",
              "ME/P2Ywxhg7h5R092jXpyKqIiIhIIeHiYvFOpzp0iwzEbuCZubF8HXvE0WNdk2JVREREpBBxcbF4\n",
              "+4HadI/6I1gXbD7s6LGuSrEqIiIiUsi4uFi81bE23aOCsBsY+vmvfLnJOYNVsSoiIiJSCGUFay16\n",
              "NgjCGBj2xa/M2+h8wapYFRERESmkXFws3uxYi4ejs4J14soDpGfaHT1WDroagIiIiEghZlkWb3So\n",
              "RVnfIjxUPxA3m3Mdy1SsioiIiBRylmXxeMtQR49xRc6VziIiIiIif5KrsWq323niiSeoXLkyoaGh\n",
              "fPTRR1dc78yZM4SHh2cvVatWxdXVlbNnzwLQokULKlasmP346NGjc3NMEREREckncvU0gJkzZ7Jj\n",
              "xw727NlDYmIidevWpWXLltSsWTPHeiVLliQ2Njb79vvvv8+KFSsoUaJE9n2jR4+mY8eOuTmeiIiI\n",
              "iOQzuXpkde7cuQwcOBCbzUaJEiXo2rUrs2fP/tvnTZo0if79++fmKCIiIiJSAORqrMbHxxMcHJx9\n",
              "OyQkhPj4+Gs+Z/Xq1Zw7d4777rsvx/3//ve/qV27Nl27duXAgQPX3EZqaipJSUk5lszMzJvfERER\n",
              "ERFxCjcUqw0bNsTf3/+KS0JCwk0NMGnSJHr37o2r6x9nJMyYMYNdu3axZcsWmjZt+peQ/V8jRozA\n",
              "19c3xxITE3NT84iIiIiI87CMMSa3NnbvvffSq1cvunXrBsCzzz6Lu7s7b7755hXXv3jxImXLlmX9\n",
              "+vVUr179qtv19PTkyJEjlCxZ8oqPp6amkpqamuO+l156iTFjxtzknoiIiIiIM8jV0wC6dOnChAkT\n",
              "yMzM5OzZs8ydO5euXbtedf25c+cSFhaWI1QzMjI4ceJE9u358+dTpkyZq4YqgIeHBz4+PjkWm82W\n",
              "OzslIiIiIg6Tq1cD6NWrF+vXr6dKlSpYlsXQoUOpXbs2AAsXLmThwoVMnDgxe/1JkyYxcODAHNtI\n",
              "TU3l3nvvJTU1FRcXF/z9/Vm4cGFujikiIiIi+USungbgTIYOHcqoUaMcPYaIiIiI3AL9BisRERER\n",
              "cVoF9shqp06dCAkJuS2vlZmZSUxMDFFRUTpX9k/0vlyd3psr0/tydXpvrkzvy9XpvbkyvS9X54j3\n",
              "Jjg4mKeeeuqa6xTYWL2dkpKS8PX1JTExER8fH0eP4zT0vlyd3psr0/tydXpvrkzvy9XpvbkyvS9X\n",
              "56zvjU4DEBERERGnpVgVEREREaelWBURERERp6VYzQUeHh688soreHh4OHoUp6L35er03lyZ3per\n",
              "03tzZXpfrk7vzZXpfbk6Z31v9AUrEREREXFaOrIqIiIiIk5LsSoiIiIiTkuxKiIiIiJOS7F6g5Yv\n",
              "X054eLijxxCRPGZZFufPn7/iY/fccw+7d+/+22306dOHDz74IHcHExHJAwsXLuSZZ55x9BhX5Oro\n",
              "AQqLjIwMXF31dosUBN9++62jRxARyTUZGRm0b9+e9u3bO3qUKyrwR1Yty+LFF1+kbt26VK1alc8+\n",
              "+yz7sfXr13PnnXdSv3596tatyxdffAFk/aG1a9eO+vXrU7NmTXr06EFycvJftp2UlETbtm15/fXX\n",
              "r/jaLVq04Mknn6Rhw4a0bduWuLg4/Pz8+Oc//0mdOnWoWbMmS5YsAch+7KWXXiIiIoIqVarwyy+/\n",
              "8MwzzxAeHk6tWrXYtm1bHrxDInI1n3zyCVFRUVSsWJEpU6Zk3x8SEkJsbCwAu3btomHDhtSsWZNO\n",
              "nTrRtm1bpk6dmr3uzp07adWqFVWrVqVTp06kpaUBUL58eY4ePQrAQw89RKNGjQBITU2lZMmSpKam\n",
              "snXrVpo0aUJERAQ1atTgzTffBCAlJYWAgAASEhKyX+f555/nueee+8s+3Mhny/Lly6lVqxa9e/em\n",
              "Vq1a1KtXL3s/AV555RVCQ0OJjIzkxRdfJCQk5JbfYxHJO9dqIMuyeOWVV4iMjGT48OFMnTqVjh07\n",
              "Zj8+ZcoUwsPDCQsLo379+sTFxQHwww8/0KRJE+rVq0dUVBQ//fRT3u+IKeAA8+KLLxpjjNm/f78p\n",
              "Xry4OXjwoDl37pwJDw83R48eNcYYc+rUKRMYGGgOHz5s7Ha7OX36tDHGGLvdbh599FEzYsQIY4wx\n",
              "P/30kwkLCzPx8fEmIiLCTJs27aqv3bx5c9OuXTuTlpZmjDHm4MGDBjATJ040xhizZs0aU6pUKZOU\n",
              "lJT92IIFC4wxxkycONEUK1bMLFu2zBhjzLvvvmsefPDB3H+DROSKAPP+++8bY4zZuXOn8fLyMunp\n",
              "6cYYY4KDg83mzZuNMcbUr1/fTJ482RhjzI4dO4yHh4eZMmWKMcaYRx55xERFRZnk5GSTkZFhGjVq\n",
              "ZGbNmmWMMaZXr15m2rRpJjMz01StWtXUqFHDJCYmmiVLlpg2bdoYY4xJSkoyKSkpxhhjLl26ZMLD\n",
              "w82aNWuMMcY8//zzZvjw4cYYY1JSUkxAQICJi4v7y37cyGfLTz/9ZACzZMkSY4wxc+fONdWqVTN2\n",
              "u90sWrTI1KxZ0yQlJRm73W769OljgoODc+W9FpG8cbUG+v2x1157LXvdKVOmmA4dOhhjsj4LQkJC\n",
              "shspOTnZJCcnm/3795vo6GiTmJhojDFm7969JiAgIPtzKq8U+COrAAMGDACgUqVKNGvWjJ9//pnV\n",
              "q1dz4MAB7r77bsLDw2ndujUAu3fvxhjD6NGjqVu3LnXq1GHx4sU5ji6cOHGCZs2a8e6779K7d+9r\n",
              "vvbDDz+Mm5tb9m1XV1f69OkDQHR0NOXKlWPz5s0AeHp6Zv9XTf369fHy8qJly5YAREVFsXfv3tx4\n",
              "O0TkOvXs2ROA6tWr4+rqyvHjx3M8npSURGxsbPbnwB133EGTJk1yrPPAAw9QtGhRbDYbUVFR7N+/\n",
              "H4DWrVuzZMkSNm/eTFhYGHfeeSfLly9nyZIltGrVCoDLly8zYMAAateuTXR0NIcOHcr+LHrssceY\n",
              "Nm0aqampfPHFF0RFRREcHHzF/biRz5aQkJDs13/ooYc4fvw4CQkJLF26lC5duuDt7Y1lWfTv3/9m\n",
              "31YRuY2u1EC/69ev3xWfs3jxYnr16kXZsmUBKFq0KEWLFuX7779n3759NGvWjPDwcB588EFcXFyI\n",
              "j4/P030olCdRWpaFMYaaNWuyevXqvzw+c+ZMli1bxooVK/Dx8eHDDz9k2bJl2Y/7+fkRGhrKokWL\n",
              "uPPOO7Esix07dtCjRw8AGjduzMcffwyAl5fXdc0D5PiNETabDU9Pzxy3MzIybm6HReSm3Mzfwd//\n",
              "Pv/dNlq3bs3w4cOpUaMGrVu3pkyZMixZsoQ1a9bw6aefAln/tO/v78/mzZtxdXWlU6dOpKSkAFmn\n",
              "ETRr1oy5c+fy6aefZp+O9M477zBnzhwA/vOf/1CtWrVb+myxLOsv+3Sl/RSR/OHPf3evp1H+zBhD\n",
              "mzZtmDVrVm6PdU2F4sjq7+eaxcXFsXLlSpo2bUqjRo04ePBg9jmjALGxsaSlpXHu3Dn8/f3x8fHh\n",
              "woULOc4/g6yo/PLLLzl69CgDBw7EbrdTo0YNYmNjiY2NzQ7VK8nIyGDGjBkAxMTEcPToUV1dQCSf\n",
              "8vHxISwsjJkzZwJZ/zKzatWq63puuXLl8PX1ZezYsbRu3ZqWLVuyaNEi4uLiiIiIAODcuXNUqFAB\n",
              "V1dXdu/ezY8//phjG0899RQvvPAC58+fz/7XoX//+9/Zn0Xt2rW74X2Ki4vLPgdt3rx5lClThgoV\n",
              "KnDnnXcyf/58Ll68iDGGyZMn3/C2ReT2u1ID/Z3777+fmTNncuzYMQAuXbrEpUuXaNeuHUuWLGHL\n",
              "li3Z68bExOTN4H9SKI6sZmZmUrduXZKTk/nwww+zvxSwePFi/vnPfzJs2DDS09MJCgriq6++onfv\n",
              "3nz99ddUq1aNUqVK0bRpUw4dOpRjm25ubsyaNYsBAwbQs2dPZsyYcV3f9vf19WXbtm2EhYWRkZHB\n",
              "rFmz8Pb25syZM3mx6yKSx6ZPn06/fv147733sr985Ofnd13Pbd26NYsWLaJSpUoABAQEULduXVxc\n",
              "so4jvPjii/Tq1Ytp06ZRuXJl7rzzzhzPj46OxtfXl8GDB+fakc6aNWsydepUnnzySdzd3Zk9ezaW\n",
              "ZXHfffexbt06wsPD8fPzo3nz5te9nyLiOFdroGtp1qwZr7zyCu3atcOyLNzd3Zk3bx6hoaHMmjWL\n",
              "wYMHc+nSJdLS0qhbt26eH2m1fjvJtsCyLItz5845xYdqXFwc4eHhV712o4jkPxcvXqRYsWJYlsXB\n",
              "gwdp2LAh69evJzAwMM9f+8iRI9SvX589e/bg7e19y9tbvnw5Tz/9dI5z9P/swoULeHt7Y4xh2LBh\n",
              "XL58OfuUBRFxPs7UQLeiUBxZFRHJK6tXr+Zf//oXkHUEY/To0bclVF9++WUmT57MO++8kyuhej16\n",
              "9+5NXFwcKSkp1KxZk7Fjx96W1xWRwq3AH1kVERERkfyrUHzBSkRERETyJ8WqiIiIiDgtxaqIiIiI\n",
              "OC3FqoiIiIg4LcWqiIiIiDgtxaqIiIiIOC3FqoiIiIg4LcWqiIiIiDgtxaqIiIiIOK3/B1PfAt3y\n",
              "uew1AAAAAElFTkSuQmCC\n",
              "\">\n",
              "      </div>\n",
              "      <script type=\"text/javascript\">\n",
              "        (() => {\n",
              "          const chartElement = document.getElementById(\"chart-126afab7-a7e8-4330-a2f0-dbcc234c995d\");\n",
              "          async function getCodeForChartHandler(event) {\n",
              "            const chartCodeResponse =  await google.colab.kernel.invokeFunction(\n",
              "                'getCodeForChart', [\"chart-126afab7-a7e8-4330-a2f0-dbcc234c995d\"], {});\n",
              "            const responseJson = chartCodeResponse.data['application/json'];\n",
              "            await google.colab.notebook.addCell(responseJson.code, 'code');\n",
              "          }\n",
              "          chartElement.onclick = getCodeForChartHandler;\n",
              "        })();\n",
              "      </script>\n",
              "      <style>\n",
              "        .colab-quickchart-chart-with-code  {\n",
              "            display: block;\n",
              "            float: left;\n",
              "            border: 1px solid transparent;\n",
              "        }\n",
              "\n",
              "        .colab-quickchart-chart-with-code:hover {\n",
              "            cursor: pointer;\n",
              "            border: 1px solid #aaa;\n",
              "        }\n",
              "      </style>"
            ]
          },
          "metadata": {}
        },
        {
          "output_type": "display_data",
          "data": {
            "text/plain": [
              "from matplotlib import pyplot as plt\n",
              "_df_7['price'].plot(kind='line', figsize=(8, 4), title='price')\n",
              "plt.gca().spines[['top', 'right']].set_visible(False)"
            ],
            "text/html": [
              "      <div class=\"colab-quickchart-chart-with-code\" id=\"chart-40cd5ab0-b079-448a-98b0-ddebcd57e442\">\n",
              "        <img style=\"width: 180px;\" src=\"data:image/png;base64,iVBORw0KGgoAAAANSUhEUgAAAqsAAAFuCAYAAACm1lFrAAAAOXRFWHRTb2Z0d2FyZQBNYXRwbG90\n",
              "bGliIHZlcnNpb24zLjcuMSwgaHR0cHM6Ly9tYXRwbG90bGliLm9yZy/bCgiHAAAACXBIWXMAAA9h\n",
              "AAAPYQGoP6dpAABKi0lEQVR4nO3deVxU9f7H8fewi2yy7yAiKqgMKIhLpqVZLuDVyt1QUbt1s7Jb\n",
              "XSvr2u3+9N5Ks9vmigu5lNqF1KwoNS0VXAYXXEBBkGFRQXYGZub7+2NskiuUy8AZhvfz8Zg/OOcw\n",
              "fGbS8dWXM2dkQggBIiIiIiIjZCb1AEREREREzWGsEhEREZHRYqwSERERkdFirBIRERGR0WKsEhER\n",
              "EZHRYqwSERERkdFirBIRERGR0WKsEhEREZHRYqwSERERkdFirBIRGbGnn34aCQkJUo9BRCQZGT9u\n",
              "lYiIiIiMFVdWiYiMkEajgVarlXoMIiLJMVaJiFrJkCFD8Je//AXjxo2Dvb09goODsWHDBgDAvn37\n",
              "IJPJsGXLFoSEhMDW1hYlJSWIj4/H1KlT9fdRWlqKZ555Bp07d4a9vT26d++Ob7/9Vr9/w4YNCA8P\n",
              "h6OjI8LCwrBly5ZWf5xERIZkIfUARETtyZo1a/DFF1/giy++wHfffYexY8eiS5cu+v1bt27FoUOH\n",
              "YGdnBwuLxi/RQgiMHTsWdnZ22L9/P/z8/JCTk4O6ujoAwLp16/Dmm29ix44diIyMxC+//IKRI0fC\n",
              "19cXgwYNatXHSURkKDxnlYiolQwZMgQuLi7Yvn27ftuECRNgZ2eHadOmYejQoTh37hy6deum3x8f\n",
              "Hw+1Wo2kpCQcPXoU0dHRKC4uhpub223337t3bzz77LOYO3euftvs2bMhhMDq1atb9sEREbUQngZA\n",
              "RNSKOnfufNvX+fn5ze6/VU5ODjp16tRkqAJAVlYWXnrpJTg5OelvmzdvhlKpNMzwREQSYKwSEbWi\n",
              "3Nzc27729fXVf21m1vzLcmBgIMrKynDt2rUm93t6euKTTz7BjRs39Leqqirs3r3bILMTEUmBsUpE\n",
              "1Ip2796NXbt2QaPRYM+ePfjqq68wY8aMO/revn37YsCAAZgxYwauXLkCQLfaevbsWQDACy+8gH/8\n",
              "4x9IT0+HVquFSqVCeno6jh071mKPh4iopTFWiYha0cyZM7FmzRo4OTnh2WefxWeffYYHHnjgjr5X\n",
              "JpMhOTkZXl5e6N+/P+zt7TFy5Ej9aQTPP/88/v73v+Ppp5+Gs7MzfHx88PLLL6O6urolHxIRUYvi\n",
              "G6yIiFrJkCFDMGjQILzzzjtSj0JE1GZwZZWIiIiIjBZjlYiIiIiMFk8DICIiIiKjxZVVIiIiIjJa\n",
              "jFUiIiIiMlqMVSIiIiIyWoxVIiIiIjJaJhury5cvl3oEIiIiIrpPJhurly9flnoEIiIiIrpPJhur\n",
              "RERERNT2MVaJiIiIyGgxVomIiIjIaDFWiYiIiMhoMVaJiIiIyGgxVomIiIjIaDFWiYiIiMhoMVaJ\n",
              "iIiIyGi1SKzOmzcPgYGBkMlkUCgUzR63Zs0adO3aFV26dMHs2bPR0NBwR/uIiIiIqH1okVh9/PHH\n",
              "cfDgQQQEBDR7TE5ODhYuXIgDBw4gOzsbxcXFWLly5R/uIyIiIqL2o0VidfDgwfD19f3dY7Zt24bY\n",
              "2Fh4enpCJpPh6aefxubNm/9wHxEREREZXm29RuoRmiTZOat5eXmNVl4DAwORl5f3h/uaolKpUFFR\n",
              "0eim0RjnE05ERERkbHKuVePh9/dh27ErUo9yG5N4g9XixYvh6OjY6JaWlib1WERERERGL+daNSau\n",
              "PARleR1WH7iEBo1W6pEakSxW/f39cfnyZf3Xubm58Pf3/8N9TVmwYAHKy8sb3aKjo1tueCIiIiIT\n",
              "cPFqFSasOITiChW6edgjKaEfLM2Nay1TsmnGjx+PlJQUFBUVQQiBzz77DBMnTvzDfU2xtraGg4ND\n",
              "o5u5uXlrPRQiIiKiNufi1SpMWnkYJZUqdPe0x6bZ/eBqZy31WLdpkVidO3cufH19ceXKFYwYMQLB\n",
              "wcEAgISEBKSkpAAAgoKCsGjRIgwcOBDBwcFwc3PD3Llz/3AfEREREd2f7JIqTLwlVD9P6AcXIwxV\n",
              "AJAJIYTUQ7SE+fPnY+nSpVKPQURERGRUsksqMXHlEVyrUqGHlwM+T+gH545WUo/VLAupByAiIiKi\n",
              "1pFVXIlJqw7jWlU9Qm+GaicjDlXARK4GQERERES/78ItoRrm3TZCFeDKKhEREZHJO19UicmrDuN6\n",
              "dT16+jggaVY/ONkaf6gCjFUiIiIik3auqAKTVx1BaXU9evk4YuOs6DYTqgBjlYiIiMhknS2swJTV\n",
              "ulDt7euIjTP7wdHWUuqx7gpjlYiIiMgEZSorMGX1YZTVNCDc1xEbZvWDY4e2FaoAY5WIiIjI5JxR\n",
              "lmPK6iO4UdOAcD8nbJgZ3SZDFWCsEhEREZmU0wXlmLpGF6pyPydsmBUNB5u2GaoAY5WIiIjIZJwu\n",
              "0K2oltc2IMJft6Jq34ZDFWCsEhEREZmEU1fKMWX1YVTUqRHp74T1JhCqAGOViIiIqM07eeUGpq4+\n",
              "goo6NfoGdMK6mdGwszaNzDONR0FERETUTmXk38DUNUdQWadGVGAnJM4wnVAF+HGrRERERG2WIl+3\n",
              "olpZp0Z0oLPJhSrAlVUiIiKiNulEXhmmr0lDpUqN6M7OSIyPQkcTC1WAsUpERETU5hy7XIan1qah\n",
              "SqVGv87OSJwRBVsr08w603xURERERCbq2OVSPLU2HVUqNWKCnLE23nRDFWCsEhEREbUZR3NL8dTa\n",
              "NFTXazCgiwvWPBWFDlbmUo/VovgGKyIiIqI2IP2WUB0Y3D5CFeDKKhEREZHRS8spRXxiGmrqNRgU\n",
              "7IpV0/u2i1AFGKtERERERu3IpeuYsS4dNfUaPNBVF6o2lu0jVAHGKhEREZHROnzpOmYkpqO2QYPB\n",
              "IW5YOa1PuwpVgOesEhERERmlQxd/C9UH22moAlxZJSIiIjI6v2Rfw8z16ahr0GJINzd8NrV9hirA\n",
              "lVUiIiIio/LzLaE6tJsbVrTTFdVfcWWViIiIyEgczLqGWevToVJr8VB3d3w6NRLWFu03VAGurBIR\n",
              "EREZhQNZV/WhOqwHQ/VXXFklIiIiktj+C1cxe8NR1Ku1GNbDAx9PiWCo3sRYJSIiIpLQvvMlmLPx\n",
              "GOrVWgwP9cDHkyNhZcFffv+KzwQRERGRRPbeEqojwhiqTeHKKhEREZEE9p4rwdyNx1Cv0eLRME/8\n",
              "Z3IELM0Zqv+LzwgRERFRK/vhbLE+VB/ryVD9PVxZJSIiImpFqZnF+PPnx9CgERjVywsfTJQzVH9H\n",
              "izwzWVlZGDBgAEJCQhAVFYUzZ87cdkxiYiLkcrn+5urqinHjxgEAcnNzYW5u3mj/xYsXW2JUIiIi\n",
              "olbz/a2h2puheidaZGV17ty5mDNnDuLj47Ft2zbEx8cjPT290TEzZszAjBkz9F/37NkTU6ZM0X9t\n",
              "b28PhULREuMRERERtbrvzhTh2U3H0aARGBPujWVPhsOCofqHDP4MlZSU4OjRo5g6dSoAYPz48cjP\n",
              "z0d2dnaz33PkyBGUlJQgNjbW0OMQERERSW7P6SI887kuVGMZqnfF4M9Sfn4+vLy8YGGhW7SVyWTw\n",
              "9/dHXl5es9+zZs0aTJs2DZaWlvpt1dXViIqKQmRkJN5++21oNJpmv1+lUqGioqLR7feOJyIiImot\n",
              "e04X4i+bjkOtFYiTe2MpQ/WuSP5MVVdXY8uWLZg1a5Z+m5eXFwoKCpCeno7U1FQcOHAA77//frP3\n",
              "sXjxYjg6Oja6paWltcb4RERERM365lQhnt10AmqtwJ8ifLD0STlD9S4Z/Nny8/NDYWEh1Go1AEAI\n",
              "gby8PPj7+zd5/JdffomwsDCEhobqt1lbW8Pd3R0A4OzsjJkzZ+LAgQPN/swFCxagvLy80S06OtqA\n",
              "j4qIiIjo7uw6WYi/bD4BjVZgXIQP3nsiHOZmMqnHanMMHqvu7u6IjIxEUlISAGD79u3w9fVFcHBw\n",
              "k8evWbOm0aoqoDvvtaGhAYDuV/w7duxAREREsz/T2toaDg4OjW7m5vw8XSIiIpLGzpNKzNtyM1Qj\n",
              "ffAuQ/Wetcg69IoVK7BixQqEhIRgyZIlSExMBAAkJCQgJSVFf9z58+ehUCgwYcKERt9/8OBBRERE\n",
              "IDw8HJGRkfD09MTrr7/eEqMSERERGdTXGUo8v0UBjVbg8T6+ePdxhur9kAkhhNRDtIT58+dj6dKl\n",
              "Uo9BRERE7UiyogAvblVAK4An+vjiX+N7w4yhel94hi8RERGRAdwaqhP6+jFUDYSxSkRERHSfvjpx\n",
              "RR+qE6P8sHhcL4aqgbTIJ1gRERERtRc7jl/BX7/MgFYAk6L98c+xPRmqBsSVVSIiIqJ7tO3YFbx0\n",
              "M1Qn92OotgTGKhEREdE9+PJoPl7elgEhgKkx/ngnjqHaEngaABEREdFd+uJoPl7dfhJCANNiAvB2\n",
              "XBhkMoZqS+DKKhEREdFd2Jqepw/Vp/ozVFsaV1aJiIiI7tCWtDz8bccpAED8gEC8NSaUodrCGKtE\n",
              "REREd2DTkTy89pUuVGcMDMSboxmqrYGxSkRERPQHPj9yGa9/dRoAMHNgZywc3YOh2koYq0RERES/\n",
              "Y+Phy1j4X12oJgzqjNdHMVRbE2OViIiIqBkbD+ViYfIZAMCcwUFY8Fh3hmor49UAiIiIiJqw/pff\n",
              "QnUuQ1UyXFklIiIi+h/rfs7B37/OBAA8/WAXvPpoN4aqRBirRERERLdYezAHb+/UheozQ7rg5REM\n",
              "VSkxVomIiIhuWn3gEt7ZdRYA8OzQLvjrIwxVqTFWiYiIiNA4VJ97KBjzh4cwVI0AY5WIiIjavVU/\n",
              "XcI/d+tCdd7DXfHisK4MVSPBWCUiIqJ2bcX+i1j8zTkAwPMPd8WLw0MknohuxVglIiKiduvTfRfx\n",
              "rz26UH1hWFe8MIyhamwYq0RERNQufbIvG//ecx4AMH94COY93FXiiagpjFUiIiJqdz7em413v9WF\n",
              "6kvDQ/AcQ9VoMVaJiIioXfnPD1l4//sLAICXR3TDs0ODJZ6Ifg9jlYiIiNqND3/IwtKbofrKo93w\n",
              "zBCGqrFjrBIREVG78EHqBXyQmgUAePXR7vjzkC4ST0R3grFKREREJm/Z9xew/AddqC54rDvmPshQ\n",
              "bSsYq0RERGSyhBBYlpqFD2+G6usje2D24CCJp6K7wVglIiIikySEwNLvL+A/P2YDAN4Y1QMJDzBU\n",
              "2xrGKhEREZkcIQTe++48Pt57EQCwcHQoZg3qLPFUdC8Yq0RERGRShBB499vz+GSfLlTfHB2KmQzV\n",
              "NouxSkRERCZDCIF/7TmPz/brQvXvY0IRP5Ch2pYxVomIiMgkCCGw5JtzWPHTJQDA23FhmN4/UNqh\n",
              "6L6ZtcSdZmVlYcCAAQgJCUFUVBTOnDlz2zH79u1Dhw4dIJfL9bfa2lr9/jVr1qBr167o0qULZs+e\n",
              "jYaGhpYYlYiIiEyAEAKLbwnVfzBUTUaLxOrcuXMxZ84cXLhwAa+++iri4+ObPK5bt25QKBT6W4cO\n",
              "HQAAOTk5WLhwIQ4cOIDs7GwUFxdj5cqVLTEqERERtXFCCPxz11ms/DVUx/bENIaqyTB4rJaUlODo\n",
              "0aOYOnUqAGD8+PHIz89Hdnb2Hd/Htm3bEBsbC09PT8hkMjz99NPYvHmzoUclIiKiNk4IgX/sPIvV\n",
              "B3MAAP/8U09MiwmQeCoyJIPHan5+Pry8vGBhoTsdViaTwd/fH3l5ebcde/HiRURGRiIqKgqffPKJ\n",
              "fnteXh4CAn77gxYYGNjk9/9KpVKhoqKi0U2j0RjwUREREZGxEULg7Z2ZWPuzLlT/70+9MKUfQ9XU\n",
              "SPYGq8jISFy5cgWOjo64cuUKRo4cCVdXVzz55JN3fV+LFy/GokWLGm2LiYkx1KhERERkZIQQWPR1\n",
              "Jtb9kgsAWDKuFyZG+0s7FLUIg6+s+vn5obCwEGq1GoDuD1NeXh78/Rv/AXJwcICjoyMAwNfXF5Mm\n",
              "TcKBAwcAAP7+/rh8+bL+2Nzc3Nu+/1YLFixAeXl5o1t0dLShHxoREREZASEE/p5yBut+yYVMBvxr\n",
              "PEPVlBk8Vt3d3REZGYmkpCQAwPbt2+Hr64vg4OBGxxUWFkKr1QIAKisrsXPnTkRERADQneeakpKC\n",
              "oqIiCCHw2WefYeLEic3+TGtrazg4ODS6mZubG/qhERERkcSEEHgz+QzWH7qsC9VxvTEhiqFqylrk\n",
              "agArVqzAihUrEBISgiVLliAxMREAkJCQgJSUFAC6iO3VqxfCw8MRExOD4cOHY8aMGQCAoKAgLFq0\n",
              "CAMHDkRwcDDc3Nwwd+7clhiViIiI2gitVmBh8mlsPKwL1X+P740no/ykHotamEwIIaQeoiXMnz8f\n",
              "S5culXoMIiIiMoBfQ/XzI3mQyYB3Hw/H4318pR6LWgE/wYqIiIiMmlYr8Pp/T2Nzmi5U338iHOMi\n",
              "GartBWOViIiIjJZWK/DaV6ewJT0fZjLg/SfD8acIhmp7wlglIiIio6TVCizYcQpbj+pCddkEOeLk\n",
              "PlKPRa2MsUpERERGR6sVeHX7SXx57ApDtZ1jrBIREZFR0dwM1W3HrsDcTIYPJsgxJtxb6rFIIoxV\n",
              "IiIiMhoarcAr205i+3FdqC6fKMfo3gzV9oyxSkREREZBoxV4+csM7DhRAHMzGT6cGIFRvb2kHosk\n",
              "xlglIiIiyWm0An/9MgNfnSiAhZkM/5kUgcd6MVSJsUpEREQSU2u0eOnLDCQrlLAwk+GjyRF4tCdD\n",
              "lXQYq0RERCQZtUaL+V9kICXj11CNxKM9PaUei4wIY5WIiIgkodZo8eIXGfg6QwlLcxk+nhyJR8IY\n",
              "qtQYY5WIiIhanVqjxfNbFdh1shCW5jJ8MqUPhod6SD0WGSHGKhEREbWqBo0WL2xRYNcpXah+OqUP\n",
              "hjFUqRmMVSIiImo1DRot5m0+gW9OF8HK3AyfTo3Ewz0YqtQ8xioRERG1igaNFs9tOoE9Z3ShumJa\n",
              "Hwzt7i71WGTkGKtERETU4urVWjy3+Ti+PVMMK4ubodqNoUp/jLFKRERELapercWzm47j+0xdqK6c\n",
              "1gdDGKp0hxirRERE1GLq1Vo88/lxpJ7Vheqq6X3xYIib1GNRG8JYJSIiohahUmvw7OfHkXq2BNY3\n",
              "Q3UwQ5XuEmOViIiIDE6l1uDPScfx4zldqK55KgqDurpKPRa1QYxVIiIiMqi6Bg3+nHQMe89fhY2l\n",
              "LlQHBjNU6d4wVomIiMhg6ho0eDrpGPbdDNW1T0VhAEOV7gNjlYiIiAyirkGDuRuPYf+Fq+hgaY61\n",
              "8VHo38VF6rGojWOsEhER0X2ra9Bg9oajOJB1DR0szZE4IwoxQQxVun+MVSIiIrovt4aqrZU5EuOj\n",
              "0I+hSgbCWCUiIqJ7VluvC9WD2bpQXTcjGtGdnaUei0wIY5WIiIjuSW29Bgkb0vFz9nV0tDLHupnR\n",
              "iApkqJJhMVaJiIjortXUqzFr3VEcuqQL1fUzo9GXoUotgLFKREREd6WmXo2Z69Jx+FIp7KwtsH5m\n",
              "FPoEMFSpZTBWiYiI6I7V1KsxIzEdR3J+DdVo9AnoJPVYZMIYq0RERHRHqlVqzFiXjrScUthbW2D9\n",
              "rGhE+jNUqWUxVomIiOgPVat0K6ppuaWwt7HAxln9IPdzknosagcYq0RERPS7qlRqzEhMQ3puGext\n",
              "LJA0qx/CGarUSsxa4k6zsrIwYMAAhISEICoqCmfOnLntmB9//BHR0dEIDQ1FWFgYXnnlFWi1WgBA\n",
              "bm4uzM3NIZfL9beLFy+2xKhERET0OyrrGvDUWl2oOthY4PMEhiq1rhZZWZ07dy7mzJmD+Ph4bNu2\n",
              "DfHx8UhPT290TKdOnbBlyxYEBQWhrq4Ow4YNw4YNGxAfHw8AsLe3h0KhaInxiIiI6A78GqrH827A\n",
              "sYMlkmb1Qy9fR6nHonbG4CurJSUlOHr0KKZOnQoAGD9+PPLz85Gdnd3ouIiICAQFBQEAbGxsIJfL\n",
              "kZube08/U6VSoaKiotFNo9Hc1+MgIiJqzyrqGjD9llD9PIGhStIweKzm5+fDy8sLFha6RVuZTAZ/\n",
              "f3/k5eU1+z1FRUXYtm0bRo8erd9WXV2NqKgoREZG4u233/7d+Fy8eDEcHR0b3dLS0gz3oIiIiNqR\n",
              "iroGTF+ThhN5N+BkqwvVnj4MVZJGi5yzejcqKiowZswYvPLKK+jbty8AwMvLCwUFBUhPT0dqaioO\n",
              "HDiA999/v9n7WLBgAcrLyxvdoqOjW+shEBERmYzy2gZMW5MGRT5DlYyDwWPVz88PhYWFUKvVAAAh\n",
              "BPLy8uDv73/bsZWVlXj00UcRFxeH+fPn67dbW1vD3d0dAODs7IyZM2fiwIEDzf5Ma2trODg4NLqZ\n",
              "m5sb+JERERGZtvLaBkxfcwQZ+TfQydYSmxJiEObNUCVpGTxW3d3dERkZiaSkJADA9u3b4evri+Dg\n",
              "4EbHVVVV4dFHH8Wjjz6KN954o9G+kpISNDQ0ANCdj7pjxw5EREQYelQiIiK6qbymAdPWHEHGlXI4\n",
              "d7TCptkxCPV2kHosopY5DWDFihVYsWIFQkJCsGTJEiQmJgIAEhISkJKSAgBYvnw50tLSsGPHDv3l\n",
              "qf75z38CAA4ePIiIiAiEh4cjMjISnp6eeP3111tiVCIionavvKYBU9ccwUl9qPZDDy+GKhkHmRBC\n",
              "SD1ES5g/fz6WLl0q9RhERERG7UZNPaauOYLTBRVwubmi2s3TXuqxiPT4CVZERETtVFl1PaasPoLM\n",
              "wgq42ulCNcSDoUrGhbFKRETUDv1vqG6eHYOuDFUyQoxVIiKidqb0ZqieLayAq501Ns/ux1Alo8VY\n",
              "JSIiakeuV6kwZfURnCuqhJu9NTbPjkGwu53UYxE1S/IPBSAiIqLWwVCltogrq0RERO3AtSoVpqw6\n",
              "gvPFlXC3t8bmOTHo4sZQJePHWCUiIjJxVytVmLzqMLJKquDhoFtRDWKoUhvBWCUiIjJht4aqp4MN\n",
              "Ns+JQWfXjlKPRXTHGKtEREQmqqSyDpNXHUF2SRW8HG2weXYMAhmq1MYwVomIiExQSUUdJq06jItX\n",
              "q+HtqFtRDXBhqFLbw1glIiIyMSUVdZi46jAu3QzVLXP6w9/FVuqxiO4JY5WIiMiEFFfUYdLKw7h0\n",
              "rRo+Th2weXYMQ5XaNMYqERGRiSgq1/3qP+dmqG6ZEwM/Z4YqtW2MVSIiIhNQWF6LSSsPI/d6DXw7\n",
              "6VZUGapkChirREREbZzyRi0mrTqMyzdDdcucGPh2YqiSaWCsEhERtWEFN3QrqnmlNfBz7oAtc/rD\n",
              "x6mD1GMRGQxjlYiIqI0quFGLiSsPIb+0Fv7OttgyJwbeDFUyMYxVIiKiNuhKWQ0mrTqM/NJaBLjY\n",
              "YvNshiqZJsYqERFRG5NfqgvVK2W1CHSxxeY5MfByZKiSaWKsEhERtSH5pTWYuPIwCm7UorNrR2ye\n",
              "HQNPRxupxyJqMWZSD0BERER35tZQDWKoUjvBlVUiIqI2IO96DSauPARleR2C3HSh6uHAUCXTx1gl\n",
              "IiIycpevV2PiysMoLK9Dl5uh6s5QpXaCsUpERGTEcq9VY9KqW0J1Tgzc7Rmq1H4wVomIiIxUzrVq\n",
              "TFp5GEUVdejqbodNs2PgZm8t9VhErYqxSkREZIQuXa3CpFWHUVyhYqhSu8ZYJSIiMjIXr1Zh0srD\n",
              "KKlUIcRDF6qudgxVap8Yq0REREYku6QKk1fpQrW7pz0+T+gHF4YqtWOMVSIiIiORXaL71f9VhiqR\n",
              "HmOViIjICGSXVGLiyiO4VqUL1U2zY+Dc0UrqsYgkx1glIiKSWFZxJSatOoxrVfUI9XLA5wn90Imh\n",
              "SgSAsUpERCSpC8WVmLTyMK5X1yPM2wFJsxiqRLcya4k7zcrKwoABAxASEoKoqCicOXOmyePWrFmD\n",
              "rl27okuXLpg9ezYaGhruaB8REZEpOF/UOFS5okp0uxaJ1blz52LOnDm4cOECXn31VcTHx992TE5O\n",
              "DhYuXIgDBw4gOzsbxcXFWLly5R/uIyIiMgXniiowaZUuVHv5OOLzhH5wsmWoEv0vg8dqSUkJjh49\n",
              "iqlTpwIAxo8fj/z8fGRnZzc6btu2bYiNjYWnpydkMhmefvppbN68+Q/3ERERtXVnCyswaeVhlFbX\n",
              "o7evI5JmMVSJmmPwc1bz8/Ph5eUFCwvdXctkMvj7+yMvLw/BwcH64/Ly8hAQEKD/OjAwEHl5eX+4\n",
              "rykqlQoqlarRNo1GY5DHQ0REZEiZygpMWX0YZTUNCPd1xIZZ/eDYwVLqsYiMVoucBtDaFi9eDEdH\n",
              "x0a3tLQ0qcciIiJq5IyyHJN/DVU/J4Yq0R0weKz6+fmhsLAQarUaACCEQF5eHvz9/Rsd5+/vj8uX\n",
              "L+u/zs3N1R/ze/uasmDBApSXlze6RUdHG/JhERER3ZfTBeWYsvoIbtQ0QO7nhI2zohmqRHfA4LHq\n",
              "7u6OyMhIJCUlAQC2b98OX1/fRqcAALpzWVNSUlBUVAQhBD777DNMnDjxD/c1xdraGg4ODo1u5ubm\n",
              "hn5oRERE9+TWUI3wd8KGWdFwsGGoEt2JFjkNYMWKFVixYgVCQkKwZMkSJCYmAgASEhKQkpICAAgK\n",
              "CsKiRYswcOBABAcHw83NDXPnzv3DfURERG3JqSvlmLzqMMprGxDp74QNMxmqRHdDJoQQUg/REubP\n",
              "n4+lS5dKPQYREbVjJ6/cwNTVR1BRp0afgE5YPzMadtb8PB6iu2ESb7AiIiIyNhn5NzDlZqj2ZagS\n",
              "3TPGKhERkYEp8nUrqpV1akQHOmMdQ5XonvFvDhERkQGdyCvD9DVpqFSpEd3ZGYnxUejIUCW6Z1xZ\n",
              "JSIiMpBjl8sw7Wao9mOoEhkE/wYREREZwLHLpXhqbTqqVGrEBDljbXwUbK34zyzR/eLfIiIiovt0\n",
              "NLcUT61NQ3W9Bv2DXLA2PgodrHi9byJD4GkARERE9yH9llAd0IWhSmRoXFklIiK6R2k5pYhPTENN\n",
              "vQaDgl2xanpfhiqRgTFWiYiI7sGRS9cxY106auo1eKCrLlRtLBmqRIbG0wAMoEGjlXoEIiJqRYcv\n",
              "XUd8IkOVqDVwZdUA4j76Ga721ogL98YjYR6w52c+ExGZrEMXr2PmunTUNmgwOMQNK6f1YagStSDG\n",
              "6n26dLUKmYUVQCHw04WrsP7KDMN6eCBW7o0h3dxgbcEXMCIiU/FL9jXMXJ+OugYtHgxxwwqGKlGL\n",
              "Y6zepyA3O+z96xCkKJRIzijApavV2HWqELtOFcLBxgKP9fRCnNwb/YJcYG4mk3pcIiK6Rz9nX8Os\n",
              "m6E6tJsbPp3KUCVqDTIhhJB6iJYwf/58LF26tFV/phACZ5QVSFYU4OuMQhRV1On3udtbY0y4N+Lk\n",
              "3ujl4wiZjOFKRNRWHMzShapKrcVD3d3x6dRI/uaMqJUwVluIVitwJKcUKRkF2H2qCOW1Dfp9nV07\n",
              "IvZmuAa52Uk2IxER/bEDWVeRsP4oVGotHu7ujk8YqkStirHaClRqDX66cA3JigKkni1GXcNvVw/o\n",
              "5eOIOLk3Rvf2hqejjYRTEhHR/9p/4SpmbziKerUWw3p44OMpEQxVolbGc1ZbgbWFOYaHemB4qAeq\n",
              "VGp8n1mEFIUSP2Vdw6mCcpwqKMc/d59FTGcXxMm98VhPLzja8ooCRERS2ne+BHM2HkO9WovhoR74\n",
              "eHIkrCx4xUei1saVVQldr1Jh9+kipCgKkJ5bpt9uaS7DkG7uiJN74+HuHvw0FCKiVrb3fAnm3gzV\n",
              "R0I98BFDlUgyXFmVkIudNabFBGBaTACulNXg64xCJCsKcK6oEt9nFuP7zGJ0tDLHiDBPxMq9MSjY\n",
              "FRbmfLEkImpJe8/dDFWNFo+GeeI/kyNgyddeIslwZdUInS+qREpGAZIVSlwpq9Vvd+lohVG9dZfC\n",
              "ivTvxCsKEBEZ2A9ni/HnpOOo12jxWE9PfDiJoUokNcaqERNC4HjeDaQoCrDzZCGuV9fr9/l26nDz\n",
              "igI+6OZpL+GURESmITWzGH/+/BgaNAIje3li+USGKpExYKy2EWqNFj9fvI5kRQG+PV2E6nqNfl93\n",
              "T3vEyr0xprc3/JxtJZySiKht+j6zGM/cDNVRvb3wwQQ5Q5XISDBW26Daeg1+PFeCZEUB9p2/inrN\n",
              "b5fC6hvQCXFyb4zs5QUXO2sJpyQiahu+O1OEZzcdR4NGYPTNUOX7A4iMB2O1jSuvacCeM4VIVihx\n",
              "6NJ1/Ppf09xMhge6uiJO7o3hoZ6ws+Z76YiI/tee00X4y6bjUGsFxoR7Y9mT4QxVIiPDgmnjHG0t\n",
              "MSHKHxOi/FFcUYevM5RIyVDi5JVy7Dt/FfvOX4WN5SkM6+GB2HBvPNjNjRe0JiICsOd0If6y6QTU\n",
              "WoE4uTfef4KhSmSMuLJqoi5drUJKhhLJCiVyrlXrtzvYWGBkLy/Eyr3Rr7MLzM14RQEian++OVWI\n",
              "v2w+AY1WYKzcG+8/KefrIZGRYqyaOCEEThdUIFlRgK9PKlFcodLv83SwwZhwL8TJfRDm7cBLYRFR\n",
              "u7DrZCHmbdGF6rgIH7z7RDhDlciIMVbbEY1W4EjOdaQolNh9qhAVdWr9viDXjoiV6y6F1dm1o4RT\n",
              "EhG1nJ0nlXh+i0IXqpE+ePdxhiqRsWOstlMqtQb7z19FcoYSqZnFUKl/u6JAb19HxIZ7Y0y4Nzwc\n",
              "bCSckojIcL7OUOKFrbpQfbyPL/41vjdDlagNYKwSqlRqfHemCMkKJQ5mX4NGq/sjIZMB/YNcECf3\n",
              "xqM9veDYwVLiSYmI7k2yogAvblVAK4An+vhiCUOVqM1grFIj16pU2H1KdymsY5fL9NutzM0wpJsb\n",
              "4uQ+eLiHO2wseUUBImobbg3VCX39sHhcL5gxVInaDF66ihpxtbPG9P6BmN4/EPmlNTevKFCAC8VV\n",
              "+C6zGN9lFsPO2gKPhHkgTu6DgV1ceKkXIjJaX524gpe+yIBWABOj/PB/f2KoErU1Bq0MrVaL5557\n",
              "Dl26dEFwcDA++uijJo+rq6vD2LFjERISgvDwcAwfPhzZ2dn6/UOGDEHnzp0hl8shl8uxbNkyQ45J\n",
              "d8jP2RbPDg3Gdy8+iD0vPIA/D+kCH6cOqFKpseN4AZ5am4aYxT/greTTOHa5DCa6SE9EbdSO47+F\n",
              "6qRohipRW2XQldWkpCRkZmbiwoULKC8vR0REBIYOHYqwsLDbjp0zZw4ee+wxyGQyfPTRR0hISMC+\n",
              "ffv0+5ctW4axY8cacjy6D909HdD9UQe8/Eg3HM8rQ7JCiV2nCnGtqh7rD13G+kOX4efcAbHhuisK\n",
              "hHjYSz0yEbVj245dwcvbMiAEMLmfP96J68lQJWqjDLqyunXrVsyePRvm5uZwdnbGhAkTsHnz5tuO\n",
              "s7GxwciRI/XX9YyJiUFubq4hR6EWYmYmQ99AZ/xjbE8cee1hJM6Iwp8ifGBrZY780lp8vPciHln2\n",
              "Ex794Cd8uu8irpTVSD0yEbUzXx7N14fq1BiGKlFbZ9CV1by8PAQEBOi/DgwMxOHDh//w+5YvX464\n",
              "uLhG2/72t79h4cKFCA0NxeLFixEUFNTs96tUKqhUqkbbNBrNXU5Pd8vS3AxDu7ljaDd31NZrkHq2\n",
              "GMkKJfZfKMG5okqc23MO/9pzDlGBnRAr98GoXl5w7mgl9dhEZMK+OJqPV7efhBDAtJgAvB0Xxg88\n",
              "IWrj7ipW+/fvj6ysrCb3nThx4p4G+L//+z9kZ2fjhx9+0G/buHEj/Pz8IITAxx9/jNGjRyMzM7PZ\n",
              "+1i8eDEWLVrUaFtMTMw9zUP3poOVOcbcvDbrjZp67DmtuxTW4ZzrSM8tQ3puGRalnMEDXV0RJ/fB\n",
              "8FAPdLTm+/uIyHC2pufhbztOQQjgqf4B+HssQ5XIFBj00lWjRo3CtGnTMHHiRADAK6+8AisrK7zz\n",
              "zjtNHv/ee+9hy5YtSE1NhZOTU7P3a2Njg4KCAri4uDS5v6mV1YULF2L58uX39kDIYIrK6/B1hhLJ\n",
              "GQU4XVCh325jaYbhoZ6IC/fG4BA3WFnwigJEdO+2pOlCFQDiBwTirTGhDFUiE2HQpa0nnngCq1at\n",
              "whNPPIHy8nJs3boVO3fubPLYpUuXYvPmzbeFqlqtxvXr1+Hh4QEA2L59Ozw8PJoNVQCwtraGtbV1\n",
              "o23m5rwOqDHwdLTB7MFBmD04CBevViFFobsUVu71GnydocTXGUo4drDEyF5eiJN7IzrQmeeWEdFd\n",
              "2XQkD699pQvVGQMD8eZohiqRKTHoyqpGo8G8efPwzTffQCaTYd68eXj++ecBACkpKUhJScHq1atx\n",
              "5coV+Pn5ISgoCPb2uneNW1tb48iRI6iursaDDz4IlUoFMzMzuLq6YunSpQgPD7+rWfihAMZLCIFT\n",
              "BeVIVuhitaTyt1VxTwcbxMq9ERvujTBvB/6DQ0S/6/Mjl/H6V6cBADMHdsbC0T34ukFkYvgJViQp\n",
              "jVbgyKXrSFYosft0ISrr1Pp9Xdw6Ik7ug9hwbwS6dpRwSiIyRhsPX8bC/+pCNWFQZ7w+iqFKZIoY\n",
              "q2Q0VGoN9p2/ihSFEqlni6FSa/X7wv2cEBfujdG9veDuYCPhlERkDDYeysXC5DMAgNkPdMZrIxmq\n",
              "RKaKsUpGqbKuAd+dKUZyhhIHs65Ce/NPqZkMGNDFFbFyb4wI84RjB0tpByWiVrf+l1y8laIL1bmD\n",
              "g/C3x7ozVIlMGGOVjN7VShV2nypEsqIAx/Nu6LdbmZthaHc3jJX7YGh3d9hY8k11RKZu3c85+PvX\n",
              "uksZPv1gF7z6aDeGKpGJ44Uuyei52VvjqQGBeGpAIPKu1+Drk0r890QBskqq8O2ZYnx7phj21hYY\n",
              "0dMTcXJv9A9ygYU5L4VFZGrWHszB2zt1ofrnIV3wygiGKlF7wJVVapOEEDhXVKm/okDBjVr9Plc7\n",
              "a4zu7YVYuTci/Jz4jxmRCVh94BLe2XUWAPDs0C746yMMVaL2grFKbZ5WK3AsrwzJigLsOlmIspoG\n",
              "/T5/Z1vEhnsjTu6Nrh72Ek5JRPfq1lB97qFgzB8ewlAlakcYq2RSGjRaHMy6hmRFAb7LLEZNvUa/\n",
              "r4eXA+Lkuo+E9XHqIOGURHSnVv10Cf/crQvVeQ8F40WGKlG7w3NWyaRYmpthaHd3DO3ujpp6NVLP\n",
              "liBFUYB956/ibGEFzhZWYMk35xAd6IxYuTdG9vKCc0crqccmoias2H8Ri785BwB4/uGueHF4iMQT\n",
              "EZEUuLJK7UJZdT2+OV2EZEUBjuSU6rdbmMkwOMQNcXJvDOvhgY7W/P83ImPw6b6L+NceXai+MKwr\n",
              "XhjGUCVqr/gvM7ULnTpaYXI/f0zu5w/ljVrsPKlEskKJM8oK/HiuBD+eK0EHS3MMD/VAnNwbD3R1\n",
              "g5UFryhAJIVP9mXj33vOAwBeHBaC54d1lXgiIpISV1apXcsuqUSKQonkDCUuX6/Rb3eytcTIXl6I\n",
              "C/dGVKAzzMx4jhxRa/h4bzbe/VYXqi8ND8FzDzNUido7xioRdJfCyrhSjmRFAb7OKMS1KpV+n5ej\n",
              "DWLDvREr90aolwPf3EHUQv7zQxbe//4CAODlEd3w7NBgiSciImPAWCX6HxqtwKGL15GsKMCe00Wo\n",
              "VKn1+4Ld7RB3M1wDXDpKOCWRafnwhywsZagSURMYq0S/o65Bg33nS5CsUOKHcyWoV2v1++R+ToiT\n",
              "e2NUby+429tIOCVR2/ZB6gV8kJoFAHj10e7485AuEk9ERMaEsUp0hyrqGvDt6SKkZCjxc/Y1aG/+\n",
              "zTGTAQODXREb7o0RPT3hYGMp7aBEbciy7y9g+Q+6UF3wWHfMfZChSkSNMVaJ7kFJZR12nSxEskIJ\n",
              "Rf4N/XYrCzM83N0dcXJvDOnmDhtLc+mGJDJiQggsS83ChzdD9bWR3TFnMEOViG7HWCW6T5evV+uv\n",
              "KJBdUqXfbm9tgUd7eiJO7oP+XVxgzisKEAHQherS7y/gPz9mAwDeGNUDCQ8ESTwVERkrxiqRgQgh\n",
              "cLawEskZBfhaoYSyvE6/z9XOGmPCvRAn90G4ryOvKEDtlhAC7313Hh/vvQiAoUpEf4yxStQCtFqB\n",
              "o5fLkKwowK5ThbhR06DfF+Biq7+iQLC7vYRTErUuIQTe/fY8PtmnC9U3R4di5qDOEk9FRMaOsUrU\n",
              "wurVWhzMvopkhRLfnSlGbYNGvy/UywFxcm+MCfeGt1MHCackallCCPxrz3l8tl8Xqm+NCcWMgQxV\n",
              "Ivpj/LhVohZmZWGGh7p74KHuHqipV+P7zGKkKJTYf+EqMgsrkFlYgcXfnEN0Z2eMlfvgsZ6e6NTR\n",
              "SuqxiQxGCIEl35zDip8uAQAWxYbhqQGB0g5FRG0GV1aJJFJWXY/dp3VXFEjLKdVvtzSXYXBXN8TK\n",
              "vTE81AO2Vvx/Smq7hBBY/M05rLwZqm/HhWF6/0BphyKiNoX/ChJJpFNHK0zpF4Ap/QJQcKMWOzOU\n",
              "SFYokVlYgR/OleCHcyXoYGmOR8I8ECf3xgNd3WBpbib12ER3TAiBf+46i9UHcwAA/xjbE9NiAiSe\n",
              "iojaGq6sEhmZrOJKpNwM17zSGv32TraWGNlLd0WBvgGdYMZLYZERE0LgHzvPYu3PulB9Z2xPTGWo\n",
              "EtE9YKwSGSkhBBT5N5CsUGLnSSWuVdXr93k72mCM3Btx4T7o4WXPS2GRURFC4O2dmUj8ORcA8H9/\n",
              "6oXJ/fylHYqI2izGKlEboNZocejSdSQrlNhzughVKrV+X1d3O8TJvREb7gN/F1sJpyTSheqirzOx\n",
              "7pdcAMDicb0wKZqhSkT3jrFK1MbUNWiw91wJkhVK/HiuBPUarX5fhL8T4sK9Maq3N9zsrSWcktoj\n",
              "IQT+nnIG6w9dhkwGLBnXCxOiGKpEdH8Yq0RtWHltA749U4QUhRK/XLwG7c2/zWYyYGCwK+LkPhgR\n",
              "5gF7G0tpByWTJ4TAm8lnsPGwLlT/Na43nozyk3osIjIBjFUiE1FSUYedJwuRnKFERv4N/XYrCzMM\n",
              "6+GO2HAfDOnmBhtLc+mGJJOk1Qq8mXIaSYfzIJMB/x7fG0/0ZagSkWEwVolMUO61aqRkKPFfRQEu\n",
              "Xa3Wb7e3scBjPT0RJ/dBTJALzHlFAbpPWq3AG8mnsemILlTffTwcj/fxlXosIjIhjFUiEyaEwBll\n",
              "BVIylEhRKFFUUaff52ZvjTG9vREn90ZvX0deUYDumlYr8Pp/T2Nzmi5U338iHOMiGapEZFiMVaJ2\n",
              "QqsVSMstRbJCid2nClFe26DfF+hii1i5D2LDvRHsbifhlNRWaLUCr311ClvS82EmA95/Mhx/imCo\n",
              "EpHhGfTjcLRaLZ577jl06dIFwcHB+Oijj5o9NjAwEN26dYNcLodcLsfWrVv1+7KysjBgwACEhIQg\n",
              "KioKZ86cMeSYRO2SmZkMMUEuWDyuF9JfH4bV0/tiTLg3bCzNkHu9Bh/+kIVhS/dj9H8OYNVPl1BY\n",
              "Xiv1yGSktFqBBTt+C9WlT8oZqkTUYgz6catJSUnIzMzEhQsXUF5ejoiICAwdOhRhYWFNHr9161bI\n",
              "5fLbts+dOxdz5sxBfHw8tm3bhvj4eKSnpxtyVKJ2zcrCDMNCPTAs1APVKjW+zyxGsqIAP2Vdw+mC\n",
              "CpwuqMD/fXMW/To7I07ug8d6esLJ1krqsckIaLUCr24/iS+PXYGZDFg2QY44uY/UYxGRCTPoyurW\n",
              "rVsxe/ZsmJubw9nZGRMmTMDmzZvv6j5KSkpw9OhRTJ06FQAwfvx45OfnIzs725CjEtFNHa0tMDbC\n",
              "B4kzopH22sP4x9ieiA50hhDA4UulWLDjFKL+mYqE9UfxdYYStfUaqUcmiWi0Aq/cEqofTIxgqBJR\n",
              "izPoympeXh4CAn777OfAwEAcPny42eOnT58OIQSio6OxZMkSuLm5IT8/H15eXrCw0I0mk8ng7++P\n",
              "vLw8BAcHN3k/KpUKKpWq0TaNhv+gEt0tFztrTIsJwLSYABTcqMXXGUokK5Q4W1iB1LPFSD1bDFsr\n",
              "c4wI80RsuDcGdXWFpblB/5+XjJRGK/DytgzsOF4AczMZPpggx5hwb6nHIqJ24K5itX///sjKympy\n",
              "34kTJ+7qB//000/w9/dHQ0MD3njjDTz11FPYvXv3Xd3HrxYvXoxFixY12hYTE3NP90VEOj5OHfD0\n",
              "g13w9INdcKG4EikKJZIzCpBfWouvThTgqxMF6GRriVG9vRAn90Ef/04w46WwTJJGK/DylxnYcUIX\n",
              "qh9OjMCo3l5Sj0VE7YRBrwYwatQoTJs2DRMnTgQAvPLKK7CyssI777zzu99XWFiIkJAQVFZWoqSk\n",
              "BMHBwSgtLYWFhQWEEPDy8sLBgwfvamV14cKFWL58uWEeGBEB0F0K60T+DaQolNh5UolrVfX6fT5O\n",
              "HTAmXHcprB5eDhJOSYak0Qr89csMfHUzVP8zKQIjezFUiaj1GPT3d0888QRWrVoFjUaD0tJSbN26\n",
              "FRMmTLjtuOrqaty4cUP/9ebNmxEREQEAcHd3R2RkJJKSkgAA27dvh6+vb7OhCgDW1tZwcHBodDM3\n",
              "56f0EBmaTCZDpH8n/D02DIcXPIwNM6MxPtIXdtYWKLhRi8/2X8Rjyw/gkWX78fHebOSX1kg9Mt0H\n",
              "tUaL+V8o8NWJAliYyfARQ5WIJGDQlVWNRoN58+bhm2++gUwmw7x58/D8888DAFJSUpCSkoLVq1fj\n",
              "0qVLGD9+PDQaDYQQCAoKwvLlyxEYGAgAOH/+POLj43H9+nU4ODggMTERvXr1uqtZeJ1VotZT16DB\n",
              "j+dKkKwowN5zV1Gv0er3Rfo7IU7ug1G9veBqZy3hlHQ3dKGagZQMpS5UJ0fi0Z6eUo9FRO0QPxSA\n",
              "iAyqvLYB354uQnJGAX65eB2/vsKYm8kwMNgVceHeeCTMA/Y2ltIOSs1Sa7R48YsMfH0zVD+eEokR\n",
              "YQxVIpKGQa8GQETk2MEST0b54ckoPxRX1GHnyUKkKAqQcaUcP124ip8uXIX1V2YY1sMDsXJvDOnm\n",
              "BmsLnrZjLNQaLZ7fqsCuk4WwNJfh48mReIShSkQS4soqEbWKnGvVuisKKApw6Vq1fru9jQVG9vRC\n",
              "nNwb/YJcYM4rCkimQaPFC1sU2HVKF6qfTumDYaEeUo9FRO0cY5WIWpUQAmeUFUhWFCAlQ4niit+u\n",
              "5OFub62/okAvH0fIZAzX1tKg0WLe5hP45nQRrMzN8OnUSDzcg6FKRNJjrBKRZDRagbScUqRkFGDX\n",
              "yUJU1Kn1+zq7dkRsuDdi5d7o4mYn4ZSmr0GjxXObTmDPGV2ofjYtEg91Z6gSkXFgrBKRUVCpNfjp\n",
              "wjUkKwqQerYYdQ2/XVGgl48j4uTeGN3bG56ONhJOaXrq1Vo8t/k4vj1TDCsLM6yY1gdDu7lLPRYR\n",
              "kR7fYEVERsHawhzDQz0wPNQDVSo1vs8sQrJCiQNZ13CqoBynCsrxz91nEdPZBXFybzzW0wuOtryi\n",
              "wP2oV2vx7Kbj+D5TF6orp/XBEIYqERkZrqwSkVG7XqXC7lOFSFYocfRymX67pbkMQ7q5I07ujYe7\n",
              "e6CDFa8ocDfq1Vo88/lxpJ7Vheqq6X3xYIib1GMREd2GK6tEZNRc7KwxrX8gpvUPRH5pDb4+qUSK\n",
              "QolzRZX4PrMY32cWo6OVOUaEeSJW7o2Bwa6wNDfoh/OZHJVag2c/P47UsyWwvhmqgxmqRGSkuLJK\n",
              "RG3SuaKKm5fCUqLgRq1+u0tHK4zqrbsUVqR/J15R4H+o1Br8Oek4fjynC9U1T0VhUFdXqcciImoW\n",
              "Y5WI2jQhBI7nlSFZocSuk4W4Xl2v3+fbqQNiw70RJ/dBN097Cac0DnUNGvw56Rj2nr8KG0tdqA4M\n",
              "ZqgSkXFjrBKRyWjQaPFz9jWkKJT49kwRqus1+n3dPe0RK/fGmN7e8HO2lXBKadQ1aPB00jHsuxmq\n",
              "a5+KwgCGKhG1AYxVIjJJtfUa/HCuGMkKJfadL0GD5reXur4BnRAn98bIXl5wsbOWcMrWUdegwdyN\n",
              "x7D/ws1QjY/CgC4MVSJqGxirRGTyymsa8M1p3RUFDudcx6+veuZmMjzQ1RWx4d54JMwTdtam957T\n",
              "ugYNZm84igNZ19DB0hxr46PQv4uL1GMREd0x03tlJiL6H462lpgY7Y+J0f4oKq/DzpNKpGQocfJK\n",
              "Ofadv3rzV+On8HAPD8SFe+PBbm6wtmj7l8K6NVRtrcyRGB+FfkEMVSJqW7iySkTt1qWrVUhW6MI1\n",
              "51q1fruDjQVG9vJCrNwb/Tq7wNys7V1RoLZeF6oHs3Whum5GNKI7O0s9FhHRXWOsElG7J4TAqYJy\n",
              "pNwM15JKlX6fh4M1xvTWXVGgp49Dm7gUVm29Bgkb0vFz9nV0tDLHupnRiApkqBJR28RYJSK6hUYr\n",
              "cCTnOlIUSuw+VYiKOrV+X5BrR8TKdeHa2bWjhFM2r6ZejVnrjuLQJV2orp8Zjb4MVSJqwxirRETN\n",
              "UKk12H/+KpIzlEjNLIZKrdXv6+3riNhwb4wJ94aHg42EU/6mpl6NmevScfhSKeysLbB+ZhT6BDBU\n",
              "iahtY6wSEd2ByroGfJ+puxTWwexr0Gh1L50yGdA/yAVxcm88GuYFR1tLSearqVdjRmI6juT8GqrR\n",
              "6BPQSZJZiIgMibFKRHSXrlWpsPuU7lJYxy6X6bdbmZthSDc3xMl98HAPd9hYts4VBapVasxYl460\n",
              "nFLYW1tg/axoRPozVInINPDSVUREd8nVzhrT+wdiev9A5JfWICVDiWRFAS4UV+G7zGJ8l1kMO2sL\n",
              "PBLmgTi5DwZ2cYGFuVmLzFKt0q2opuXqQnXDrGhEMFSJyIRwZZWIyEDOFVXoLoWlUKLgRq1+u0tH\n",
              "K4zu7YVYuQ8i/Z0MdkWBKpUaMxLTkJ5bBnsbC2yc1Q9yPyeD3DcRkbFgrBIRGZhWK3A8rwzJCiV2\n",
              "nSpEaXW9fp9vpw6Iu3lFgRAP+3v+GZV1DYhPTMexy2VwsLFAUkI/9PZ1MsD0RETGhbFKRNSCGjRa\n",
              "HMy+hhSFEt+eKUJNvUa/r7unPeLkPhgT7gXfTrZ3fJ+VdQ14am0ajufdgIONBT5PiEEvX8eWGJ+I\n",
              "SHKMVSKiVlJbr0HqWd0VBfZfKEGD5reX36jAToiV+2BULy84d7Rq9j4qbobqibwbcOxgic8T+qGn\n",
              "D0OViEwXY5WISAI3aurxzekiJCsKcCSnFL++EluYyfBAV1fEyX0wPNQDHa1/ex9sRV0Dpq9JgyKf\n",
              "oUpE7QevBkBEJAEnWytMivbHpGh/FJbXYmdGIZIzCnC6oAJ7z1/F3vNXYWNphuGhnogL90aEvxNm\n",
              "rj+KjPwbcLK1RNIshioRtQ9cWSUiMiLZJVVIyVAiRVGA3Os1+u1mMkArgE62lvg8IQah3g4STklE\n",
              "1Hq4skpEZESC3e0wf3gIXhzWFSevlCNZocTXJ5W4WqliqBJRu8RYJSIyQjKZDOF+Tgj3c8Lro3pA\n",
              "kV8G30628HCwkXo0IqJWxVglIjJy5mYy9AlwlnoMIiJJtMzn/xERERERGYBBY1Wr1eK5555Dly5d\n",
              "EBwcjI8++qjJ465fvw65XK6/hYSEwMLCAqWlpQCAIUOGoHPnzvr9y5YtM+SYRERERNRGGPQ0gKSk\n",
              "JGRmZuLChQsoLy9HREQEhg4dirCwsEbHubi4QKFQ6L9+7733sH//fjg7//ZrrmXLlmHs2LGGHI+I\n",
              "iIiI2hiDrqxu3boVs2fPhrm5OZydnTFhwgRs3rz5D79vzZo1mDVrliFHISIiIiITYNBYzcvLQ0BA\n",
              "gP7rwMBA5OXl/e73/PLLLygrK8Po0aMbbf/b3/6GXr16YcKECbh06dLv3odKpUJFRUWjm0aj+d3v\n",
              "ISIiIiLjd1ex2r9/f7i6ujZ5y8/Pv6cB1qxZg+nTp8PC4rczEjZu3Ihz587h5MmTeOCBB24L2f+1\n",
              "ePFiODo6NrqlpaXd0zxEREREZDwM+glWo0aNwrRp0zBx4kQAwCuvvAIrKyu88847TR5fVVUFLy8v\n",
              "pKeno3v37s3er42NDQoKCuDi4tLkfpVKBZVK1WjbwoULsXz58nt8JERERERkDAx6GsATTzyBVatW\n",
              "QaPRoLS0FFu3bsWECROaPX7r1q0IDw9vFKpqtRrFxcX6r7dv3w4PD49mQxUArK2t4eDg0Ohmbm5u\n",
              "mAdFRERERJIx6NUApk2bhvT0dHTt2hUymQzz589Hr169AAApKSlISUnB6tWr9cevWbMGs2fPbnQf\n",
              "KpUKo0aNgkqlgpmZGVxdXZGSkmLIMYmIiIiojTDoaQDGZP78+Vi6dKnUYxARERHRfeAnWBERERGR\n",
              "0TLZldVx48YhMDCwVX6WRqNBWloaoqOjea7sLfi8NI/PTdP4vDSPz03T+Lw0j89N0/i8NE+K5yYg\n",
              "IADPP//87x5jsrHamioqKuDo6Ijy8nI4ODhIPY7R4PPSPD43TePz0jw+N03j89I8PjdN4/PSPGN9\n",
              "bngaABEREREZLcYqERERERktxioRERERGS3GqgFYW1vjrbfegrW1tdSjGBU+L83jc9M0Pi/N43PT\n",
              "ND4vzeNz0zQ+L80z1ueGb7AiIiIiIqPFlVUiIiIiMlqMVSIiIiIyWoxVIiIiIjJajNW7tG/fPsjl\n",
              "cqnHIKIWJpPJcOPGjSb3jRw5EufPn//D+4iPj8cHH3xg2MGIiFpASkoKXnzxRanHaJKF1AO0F2q1\n",
              "GhYWfLqJTMHu3bulHoGIyGDUajViY2MRGxsr9ShNMvmVVZlMhjfeeAMREREICQnB559/rt+Xnp6O\n",
              "hx56CH379kVERAS+/PJLALr/aCNGjEDfvn0RFhaGyZMno7q6+rb7rqiowCOPPIK33367yZ89ZMgQ\n",
              "zJs3D/3798cjjzyC3NxcODk54a9//St69+6NsLAwpKamAoB+38KFCxEZGYmuXbvi559/xosvvgi5\n",
              "XI6ePXvi9OnTLfAMEVFzPvnkE0RHR6Nz585ITEzUbw8MDIRCoQAAnDt3Dv3790dYWBjGjRuHRx55\n",
              "BOvWrdMfe/bsWTz88MMICQnBuHHjUF9fDwDw8fGBUqkEADz55JMYMGAAAEClUsHFxQUqlQqnTp3C\n",
              "oEGDEBkZidDQULzzzjsAgLq6Onh6eiI/P1//c1577TW8+uqrtz2Gu3lt2bdvH3r27Inp06ejZ8+e\n",
              "6NOnj/5xAsBbb72F4OBgREVF4Y033kBgYOB9P8dE1HJ+r4FkMhneeustREVFYcGCBVi3bh3Gjh2r\n",
              "35+YmAi5XI7w8HD07dsXubm5AIBvv/0WgwYNQp8+fRAdHY29e/e2/AMRJg6AeOONN4QQQly8eFF0\n",
              "6tRJ5OTkiLKyMiGXy4VSqRRCCHH16lXh5+cnrly5IrRarbh27ZoQQgitViuefvppsXjxYiGEEHv3\n",
              "7hXh4eEiLy9PREZGivXr1zf7sx988EExYsQIUV9fL4QQIicnRwAQq1evFkIIcejQIeHm5iYqKir0\n",
              "+7766ishhBCrV68WHTt2FD/++KMQQoh///vf4vHHHzf8E0RETQIg3nvvPSGEEGfPnhV2dnaioaFB\n",
              "CCFEQECAOHHihBBCiL59+4q1a9cKIYTIzMwU1tbWIjExUQghxFNPPSWio6NFdXW1UKvVYsCAAWLT\n",
              "pk1CCCGmTZsm1q9fLzQajQgJCRGhoaGivLxcpKamiuHDhwshhKioqBB1dXVCCCFqamqEXC4Xhw4d\n",
              "EkII8dprr4kFCxYIIYSoq6sTnp6eIjc397bHcTevLXv37hUARGpqqhBCiK1bt4pu3boJrVYrdu7c\n",
              "KcLCwkRFRYXQarUiPj5eBAQEGOS5JqKW0VwD/bpv0aJF+mMTExNFXFycEEL3WhAYGKhvpOrqalFd\n",
              "XS0uXrwoYmJiRHl5uRBCiKysLOHp6al/nWopJr+yCgAJCQkAgKCgIAwePBg//fQTfvnlF1y6dAmP\n",
              "PfYY5HI5hg0bBgA4f/48hBBYtmwZIiIi0Lt3b+zatavR6kJxcTEGDx6Mf//735g+ffrv/uypU6fC\n",
              "0tJS/7WFhQXi4+MBADExMfD29saJEycAADY2Nvr/q+nbty/s7OwwdOhQAEB0dDSysrIM8XQQ0R2a\n",
              "MmUKAKB79+6wsLBAUVFRo/0VFRVQKBT614EePXpg0KBBjY7505/+BFtbW5ibmyM6OhoXL14EAAwb\n",
              "Ngypqak4ceIEwsPD8dBDD2Hfvn1ITU3Fww8/DACora1FQkICevXqhZiYGFy+fFn/WvTMM89g/fr1\n",
              "UKlU+PLLLxEdHY2AgIAmH8fdvLYEBgbqf/6TTz6JoqIi5Ofn44cffsATTzwBe3t7yGQyzJo1616f\n",
              "ViJqRU010K9mzpzZ5Pfs2rUL06ZNg5eXFwDA1tYWtra22LNnD7KzszF48GDI5XI8/vjjMDMzQ15e\n",
              "Xos+hnZ5EqVMJoMQAmFhYfjll19u25+UlIQff/wR+/fvh4ODAz788EP8+OOP+v1OTk4IDg7Gzp07\n",
              "8dBDD0EmkyEzMxOTJ08GAAwcOBAff/wxAMDOzu6O5gHQ6BMjzM3NYWNj0+hrtVp9bw+YiO7Jvfwd\n",
              "/PXv8x/dx7Bhw7BgwQKEhoZi2LBh8PDwQGpqKg4dOoRPP/0UgO5X+66urjhx4gQsLCwwbtw41NXV\n",
              "AdCdRjB48GBs3boVn376qf50pCVLlmDLli0AgH/961/o1q3bfb22yGSy2x5TU4+TiNqGW//u3kmj\n",
              "3EoIgeHDh2PTpk2GHut3tYuV1V/PNcvNzcWBAwfwwAMPYMCAAcjJydGfMwoACoUC9fX1KCsrg6ur\n",
              "KxwcHFBZWdno/DNAF5U7duyAUqnE7NmzodVqERoaCoVCAYVCoQ/VpqjVamzcuBEAkJaWBqVSyasL\n",
              "ELVRDg4OCA8PR1JSEgDdb2YOHjx4R9/r7e0NR0dHfPbZZxg2bBiGDh2KnTt3Ijc3F5GRkQCAsrIy\n",
              "+Pr6wsLCAufPn8f333/f6D6ef/55vP7667hx44b+t0N/+9vf9K9FI0aMuOvHlJubqz8Hbdu2bfDw\n",
              "8ICvry8eeughbN++HVVVVRBCYO3atXd930TU+ppqoD8yZswYJCUlobCwEABQU1ODmpoajBgxAqmp\n",
              "qTh58qT+2LS0tJYZ/BbtYmVVo9EgIiIC1dXV+PDDD/VvCti1axf++te/4qWXXkJDQwP8/f3x3//+\n",
              "F9OnT0dycjK6desGNzc3PPDAA7h8+XKj+7S0tMSmTZuQkJCAKVOmYOPGjXf0bn9HR0ecPn0a4eHh\n",
              "UKvV2LRpE+zt7XH9+vWWeOhE1MI2bNiAmTNn4t1339W/+cjJyemOvnfYsGHYuXMngoKCAACenp6I\n",
              "iIiAmZluHeGNN97AtGnTsH79enTp0gUPPfRQo++PiYmBo6Mj5s6da7CVzrCwMKxbtw7z5s2DlZUV\n",
              "Nm/eDJlMhtGjR+PIkSOQy+VwcnLCgw8+eMePk4ik01wD/Z7BgwfjrbfewogRIyCTyWBlZYVt27Yh\n",
              "ODgYmzZtwty5c1FTU4P6+npERES0+Eqr7OZJtiZLJpOhrKzMKF5Uc3NzIZfLm712IxG1PVVVVejY\n",
              "sSNkMhlycnLQv39/pKenw8/Pr8V/dkFBAfr27YsLFy7A3t7+vu9v3759eOGFFxqdo3+ryspK2Nvb\n",
              "QwiBl156CbW1tfpTFojI+BhTA92PdrGySkTUUn755Re8/PLLAHQrGMuWLWuVUH3zzTexdu1aLFmy\n",
              "xCCheiemT5+O3Nxc1NXVISwsDJ999lmr/Fwiat9MfmWViIiIiNqudvEGKyIiIiJqmxirRERERGS0\n",
              "GKtEREREZLQYq0RERERktBirRERERGS0GKtEREREZLQYq0RERERktBirRERERGS0GKtEREREZLT+\n",
              "H4xDg6WiEwCJAAAAAElFTkSuQmCC\n",
              "\">\n",
              "      </div>\n",
              "      <script type=\"text/javascript\">\n",
              "        (() => {\n",
              "          const chartElement = document.getElementById(\"chart-40cd5ab0-b079-448a-98b0-ddebcd57e442\");\n",
              "          async function getCodeForChartHandler(event) {\n",
              "            const chartCodeResponse =  await google.colab.kernel.invokeFunction(\n",
              "                'getCodeForChart', [\"chart-40cd5ab0-b079-448a-98b0-ddebcd57e442\"], {});\n",
              "            const responseJson = chartCodeResponse.data['application/json'];\n",
              "            await google.colab.notebook.addCell(responseJson.code, 'code');\n",
              "          }\n",
              "          chartElement.onclick = getCodeForChartHandler;\n",
              "        })();\n",
              "      </script>\n",
              "      <style>\n",
              "        .colab-quickchart-chart-with-code  {\n",
              "            display: block;\n",
              "            float: left;\n",
              "            border: 1px solid transparent;\n",
              "        }\n",
              "\n",
              "        .colab-quickchart-chart-with-code:hover {\n",
              "            cursor: pointer;\n",
              "            border: 1px solid #aaa;\n",
              "        }\n",
              "      </style>"
            ]
          },
          "metadata": {}
        }
      ]
    },
    {
      "cell_type": "code",
      "source": [
        "width = 12\n",
        "height = 10\n",
        "plt.figure(figsize=(width, height))\n",
        "sns.residplot(x=df['highway-mpg'], y=df['price'])\n",
        "plt.show()"
      ],
      "metadata": {
        "colab": {
          "base_uri": "https://localhost:8080/",
          "height": 699
        },
        "id": "HbVRnxk9B6Yr",
        "outputId": "33e460b0-3215-4e28-8932-4f16d7cb33de"
      },
      "execution_count": 28,
      "outputs": [
        {
          "output_type": "display_data",
          "data": {
            "text/plain": [
              "<Figure size 1200x1000 with 1 Axes>"
            ],
            "image/png": "[encoded data removed]"
          },
          "metadata": {}
        }
      ]
    },
    {
      "cell_type": "code",
      "source": [
        "Y_hat = lm.predict(Z)"
      ],
      "metadata": {
        "id": "S19s8a6dB_Tf"
      },
      "execution_count": 29,
      "outputs": []
    },
    {
      "cell_type": "code",
      "source": [
        "plt.figure(figsize=(width, height))\n",
        "\n",
        "\n",
        "ax1 = sns.distplot(df['price'], hist=False, color=\"r\", label=\"Actual Value\")\n",
        "sns.distplot(Y_hat, hist=False, color=\"b\", label=\"Fitted Values\" , ax=ax1)\n",
        "\n",
        "\n",
        "plt.title('Actual vs Fitted Values for Price')\n",
        "plt.xlabel('Price (in dollars)')\n",
        "plt.ylabel('Proportion of Cars')\n",
        "\n",
        "plt.show()\n",
        "plt.close()"
      ],
      "metadata": {
        "colab": {
          "base_uri": "https://localhost:8080/",
          "height": 1000
        },
        "id": "z9UsKAYWCBP3",
        "outputId": "ca03cb13-c46e-4eea-d1f1-95f34c342649"
      },
      "execution_count": 30,
      "outputs": [
        {
          "output_type": "stream",
          "name": "stderr",
          "text": [
            "<ipython-input-30-7377bca648c1>:4: UserWarning: \n",
            "\n",
            "`distplot` is a deprecated function and will be removed in seaborn v0.14.0.\n",
            "\n",
            "Please adapt your code to use either `displot` (a figure-level function with\n",
            "similar flexibility) or `kdeplot` (an axes-level function for kernel density plots).\n",
            "\n",
            "For a guide to updating your code to use the new functions, please see\n",
            "https://gist.github.com/mwaskom/de44147ed2974457ad6372750bbe5751\n",
            "\n",
            "  ax1 = sns.distplot(df['price'], hist=False, color=\"r\", label=\"Actual Value\")\n",
            "<ipython-input-30-7377bca648c1>:5: UserWarning: \n",
            "\n",
            "`distplot` is a deprecated function and will be removed in seaborn v0.14.0.\n",
            "\n",
            "Please adapt your code to use either `displot` (a figure-level function with\n",
            "similar flexibility) or `kdeplot` (an axes-level function for kernel density plots).\n",
            "\n",
            "For a guide to updating your code to use the new functions, please see\n",
            "https://gist.github.com/mwaskom/de44147ed2974457ad6372750bbe5751\n",
            "\n",
            "  sns.distplot(Y_hat, hist=False, color=\"b\", label=\"Fitted Values\" , ax=ax1)\n"
          ]
        },
        {
          "output_type": "display_data",
          "data": {
            "text/plain": [
              "<Figure size 1200x1000 with 1 Axes>"
            ],
            "image/png": "[encoded data removed]"
          },
          "metadata": {}
        }
      ]
    },
    {
      "cell_type": "code",
      "source": [
        "def PlotPolly(model, independent_variable, dependent_variabble, Name):\n",
        "    x_new = np.linspace(15, 55, 100)\n",
        "    y_new = model(x_new)\n",
        "\n",
        "    plt.plot(independent_variable, dependent_variabble, '.', x_new, y_new, '-')\n",
        "    plt.title('Polynomial Fit with Matplotlib for Price ~ Length')\n",
        "    ax = plt.gca()\n",
        "    ax.set_facecolor((0.898, 0.898, 0.898))\n",
        "    fig = plt.gcf()\n",
        "    plt.xlabel(Name)\n",
        "    plt.ylabel('Price of Cars')\n",
        "\n",
        "    plt.show()\n",
        "    plt.close()"
      ],
      "metadata": {
        "id": "NnMtd-uICF9K"
      },
      "execution_count": 31,
      "outputs": []
    },
    {
      "cell_type": "code",
      "source": [
        "x = df['highway-mpg']\n",
        "y = df['price']"
      ],
      "metadata": {
        "id": "HKXEPsYCCI3u"
      },
      "execution_count": 32,
      "outputs": []
    },
    {
      "cell_type": "code",
      "source": [
        "# Here we use a polynomial of the 3rd order (cubic)\n",
        "f = np.polyfit(x, y, 3)\n",
        "p = np.poly1d(f)\n",
        "print(p)"
      ],
      "metadata": {
        "colab": {
          "base_uri": "https://localhost:8080/"
        },
        "id": "XEQ5lb_pCLCO",
        "outputId": "5569a3b1-86f8-4080-88f3-55c18e0c958a"
      },
      "execution_count": 33,
      "outputs": [
        {
          "output_type": "stream",
          "name": "stdout",
          "text": [
            "        3         2\n",
            "-1.557 x + 204.8 x - 8965 x + 1.379e+05\n"
          ]
        }
      ]
    },
    {
      "cell_type": "code",
      "source": [
        "PlotPolly(p, x, y, 'highway-mpg')"
      ],
      "metadata": {
        "colab": {
          "base_uri": "https://localhost:8080/",
          "height": 472
        },
        "id": "U9MLlG36CNJd",
        "outputId": "7436d90d-82d3-469c-a3c0-2c8fd872e84a"
      },
      "execution_count": 34,
      "outputs": [
        {
          "output_type": "display_data",
          "data": {
            "text/plain": [
              "<Figure size 640x480 with 1 Axes>"
            ],
            "image/png": "[encoded data removed]"
          },
          "metadata": {}
        }
      ]
    },
    {
      "cell_type": "code",
      "source": [
        "np.polyfit(x, y, 3)"
      ],
      "metadata": {
        "colab": {
          "base_uri": "https://localhost:8080/"
        },
        "id": "FTCAmQUVCO8w",
        "outputId": "823500a8-0ef1-4eeb-801e-784dd88b7a9a"
      },
      "execution_count": 35,
      "outputs": [
        {
          "output_type": "execute_result",
          "data": {
            "text/plain": [
              "array([-1.55663829e+00,  2.04754306e+02, -8.96543312e+03,  1.37923594e+05])"
            ]
          },
          "metadata": {},
          "execution_count": 35
        }
      ]
    },
    {
      "cell_type": "code",
      "source": [
        "# Here we use a polynomial of the 11rd order (cubic)\n",
        "f1 = np.polyfit(x, y, 11)\n",
        "p1 = np.poly1d(f1)\n",
        "print(p1)\n",
        "PlotPolly(p1,x,y, 'Highway MPG')"
      ],
      "metadata": {
        "colab": {
          "base_uri": "https://localhost:8080/",
          "height": 543
        },
        "id": "GI1G8CCsCRTM",
        "outputId": "0516c881-67f7-484e-9099-ea603ee1db0f"
      },
      "execution_count": 36,
      "outputs": [
        {
          "output_type": "stream",
          "name": "stdout",
          "text": [
            "            11             10             9           8         7\n",
            "-1.243e-08 x  + 4.722e-06 x  - 0.0008028 x + 0.08056 x - 5.297 x\n",
            "          6        5             4             3             2\n",
            " + 239.5 x - 7588 x + 1.684e+05 x - 2.565e+06 x + 2.551e+07 x - 1.491e+08 x + 3.879e+08\n"
          ]
        },
        {
          "output_type": "display_data",
          "data": {
            "text/plain": [
              "<Figure size 640x480 with 1 Axes>"
            ],
            "image/png": "[encoded data removed]"
          },
          "metadata": {}
        }
      ]
    },
    {
      "cell_type": "code",
      "source": [
        "from sklearn.preprocessing import PolynomialFeatures"
      ],
      "metadata": {
        "id": "3N48TgBgCTDy"
      },
      "execution_count": 37,
      "outputs": []
    },
    {
      "cell_type": "code",
      "source": [
        "pr=PolynomialFeatures(degree=2)\n",
        "pr"
      ],
      "metadata": {
        "colab": {
          "base_uri": "https://localhost:8080/",
          "height": 75
        },
        "id": "VabND4CQCVMY",
        "outputId": "f7d4935f-8998-47eb-93cd-1def391c19ad"
      },
      "execution_count": 38,
      "outputs": [
        {
          "output_type": "execute_result",
          "data": {
            "text/plain": [
              "PolynomialFeatures()"
            ],
            "text/html": [
              "<style>#sk-container-id-7 {color: black;}#sk-container-id-7 pre{padding: 0;}#sk-container-id-7 div.sk-toggleable {background-color: white;}#sk-container-id-7 label.sk-toggleable__label {cursor: pointer;display: block;width: 100%;margin-bottom: 0;padding: 0.3em;box-sizing: border-box;text-align: center;}#sk-container-id-7 label.sk-toggleable__label-arrow:before {content: \"▸\";float: left;margin-right: 0.25em;color: #696969;}#sk-container-id-7 label.sk-toggleable__label-arrow:hover:before {color: black;}#sk-container-id-7 div.sk-estimator:hover label.sk-toggleable__label-arrow:before {color: black;}#sk-container-id-7 div.sk-toggleable__content {max-height: 0;max-width: 0;overflow: hidden;text-align: left;background-color: #f0f8ff;}#sk-container-id-7 div.sk-toggleable__content pre {margin: 0.2em;color: black;border-radius: 0.25em;background-color: #f0f8ff;}#sk-container-id-7 input.sk-toggleable__control:checked~div.sk-toggleable__content {max-height: 200px;max-width: 100%;overflow: auto;}#sk-container-id-7 input.sk-toggleable__control:checked~label.sk-toggleable__label-arrow:before {content: \"▾\";}#sk-container-id-7 div.sk-estimator input.sk-toggleable__control:checked~label.sk-toggleable__label {background-color: #d4ebff;}#sk-container-id-7 div.sk-label input.sk-toggleable__control:checked~label.sk-toggleable__label {background-color: #d4ebff;}#sk-container-id-7 input.sk-hidden--visually {border: 0;clip: rect(1px 1px 1px 1px);clip: rect(1px, 1px, 1px, 1px);height: 1px;margin: -1px;overflow: hidden;padding: 0;position: absolute;width: 1px;}#sk-container-id-7 div.sk-estimator {font-family: monospace;background-color: #f0f8ff;border: 1px dotted black;border-radius: 0.25em;box-sizing: border-box;margin-bottom: 0.5em;}#sk-container-id-7 div.sk-estimator:hover {background-color: #d4ebff;}#sk-container-id-7 div.sk-parallel-item::after {content: \"\";width: 100%;border-bottom: 1px solid gray;flex-grow: 1;}#sk-container-id-7 div.sk-label:hover label.sk-toggleable__label {background-color: #d4ebff;}#sk-container-id-7 div.sk-serial::before {content: \"\";position: absolute;border-left: 1px solid gray;box-sizing: border-box;top: 0;bottom: 0;left: 50%;z-index: 0;}#sk-container-id-7 div.sk-serial {display: flex;flex-direction: column;align-items: center;background-color: white;padding-right: 0.2em;padding-left: 0.2em;position: relative;}#sk-container-id-7 div.sk-item {position: relative;z-index: 1;}#sk-container-id-7 div.sk-parallel {display: flex;align-items: stretch;justify-content: center;background-color: white;position: relative;}#sk-container-id-7 div.sk-item::before, #sk-container-id-7 div.sk-parallel-item::before {content: \"\";position: absolute;border-left: 1px solid gray;box-sizing: border-box;top: 0;bottom: 0;left: 50%;z-index: -1;}#sk-container-id-7 div.sk-parallel-item {display: flex;flex-direction: column;z-index: 1;position: relative;background-color: white;}#sk-container-id-7 div.sk-parallel-item:first-child::after {align-self: flex-end;width: 50%;}#sk-container-id-7 div.sk-parallel-item:last-child::after {align-self: flex-start;width: 50%;}#sk-container-id-7 div.sk-parallel-item:only-child::after {width: 0;}#sk-container-id-7 div.sk-dashed-wrapped {border: 1px dashed gray;margin: 0 0.4em 0.5em 0.4em;box-sizing: border-box;padding-bottom: 0.4em;background-color: white;}#sk-container-id-7 div.sk-label label {font-family: monospace;font-weight: bold;display: inline-block;line-height: 1.2em;}#sk-container-id-7 div.sk-label-container {text-align: center;}#sk-container-id-7 div.sk-container {/* jupyter's `normalize.less` sets `[hidden] { display: none; }` but bootstrap.min.css set `[hidden] { display: none !important; }` so we also need the `!important` here to be able to override the default hidden behavior on the sphinx rendered scikit-learn.org. See: https://github.com/scikit-learn/scikit-learn/issues/21755 */display: inline-block !important;position: relative;}#sk-container-id-7 div.sk-text-repr-fallback {display: none;}</style><div id=\"sk-container-id-7\" class=\"sk-top-container\"><div class=\"sk-text-repr-fallback\"><pre>PolynomialFeatures()</pre><b>In a Jupyter environment, please rerun this cell to show the HTML representation or trust the notebook. <br />On GitHub, the HTML representation is unable to render, please try loading this page with nbviewer.org.</b></div><div class=\"sk-container\" hidden><div class=\"sk-item\"><div class=\"sk-estimator sk-toggleable\"><input class=\"sk-toggleable__control sk-hidden--visually\" id=\"sk-estimator-id-7\" type=\"checkbox\" checked><label for=\"sk-estimator-id-7\" class=\"sk-toggleable__label sk-toggleable__label-arrow\">PolynomialFeatures</label><div class=\"sk-toggleable__content\"><pre>PolynomialFeatures()</pre></div></div></div></div></div>"
            ]
          },
          "metadata": {},
          "execution_count": 38
        }
      ]
    },
    {
      "cell_type": "code",
      "source": [
        "Z_pr=pr.fit_transform(Z)"
      ],
      "metadata": {
        "id": "iOXHtCHACWzD"
      },
      "execution_count": 39,
      "outputs": []
    },
    {
      "cell_type": "code",
      "source": [
        "Z.shape"
      ],
      "metadata": {
        "colab": {
          "base_uri": "https://localhost:8080/"
        },
        "id": "olk8dFIpCYRA",
        "outputId": "4f7f843c-51bf-44fd-a50e-7cb1cb74eec5"
      },
      "execution_count": 40,
      "outputs": [
        {
          "output_type": "execute_result",
          "data": {
            "text/plain": [
              "(201, 4)"
            ]
          },
          "metadata": {},
          "execution_count": 40
        }
      ]
    },
    {
      "cell_type": "code",
      "source": [
        "Z_pr.shape"
      ],
      "metadata": {
        "colab": {
          "base_uri": "https://localhost:8080/"
        },
        "id": "mwwkVLCACZv1",
        "outputId": "8c239d8d-fadc-4570-e585-3a1b0e6bebb8"
      },
      "execution_count": 41,
      "outputs": [
        {
          "output_type": "execute_result",
          "data": {
            "text/plain": [
              "(201, 15)"
            ]
          },
          "metadata": {},
          "execution_count": 41
        }
      ]
    },
    {
      "cell_type": "code",
      "source": [
        "from sklearn.pipeline import Pipeline\n",
        "from sklearn.preprocessing import StandardScaler"
      ],
      "metadata": {
        "id": "L0ouGmIfCbXo"
      },
      "execution_count": 42,
      "outputs": []
    },
    {
      "cell_type": "code",
      "source": [
        "Input=[('scale',StandardScaler()), ('polynomial', PolynomialFeatures(include_bias=False)), ('model',LinearRegression())]"
      ],
      "metadata": {
        "id": "PzxqXWi6CdW1"
      },
      "execution_count": 43,
      "outputs": []
    },
    {
      "cell_type": "code",
      "source": [
        "pipe=Pipeline(Input)\n",
        "pipe"
      ],
      "metadata": {
        "colab": {
          "base_uri": "https://localhost:8080/",
          "height": 161
        },
        "id": "QQvfMZrLCf-e",
        "outputId": "4a82df42-f122-4937-e644-80079e29882c"
      },
      "execution_count": 44,
      "outputs": [
        {
          "output_type": "execute_result",
          "data": {
            "text/plain": [
              "Pipeline(steps=[('scale', StandardScaler()),\n",
              "                ('polynomial', PolynomialFeatures(include_bias=False)),\n",
              "                ('model', LinearRegression())])"
            ],
            "text/html": [
              "<style>#sk-container-id-8 {color: black;}#sk-container-id-8 pre{padding: 0;}#sk-container-id-8 div.sk-toggleable {background-color: white;}#sk-container-id-8 label.sk-toggleable__label {cursor: pointer;display: block;width: 100%;margin-bottom: 0;padding: 0.3em;box-sizing: border-box;text-align: center;}#sk-container-id-8 label.sk-toggleable__label-arrow:before {content: \"▸\";float: left;margin-right: 0.25em;color: #696969;}#sk-container-id-8 label.sk-toggleable__label-arrow:hover:before {color: black;}#sk-container-id-8 div.sk-estimator:hover label.sk-toggleable__label-arrow:before {color: black;}#sk-container-id-8 div.sk-toggleable__content {max-height: 0;max-width: 0;overflow: hidden;text-align: left;background-color: #f0f8ff;}#sk-container-id-8 div.sk-toggleable__content pre {margin: 0.2em;color: black;border-radius: 0.25em;background-color: #f0f8ff;}#sk-container-id-8 input.sk-toggleable__control:checked~div.sk-toggleable__content {max-height: 200px;max-width: 100%;overflow: auto;}#sk-container-id-8 input.sk-toggleable__control:checked~label.sk-toggleable__label-arrow:before {content: \"▾\";}#sk-container-id-8 div.sk-estimator input.sk-toggleable__control:checked~label.sk-toggleable__label {background-color: #d4ebff;}#sk-container-id-8 div.sk-label input.sk-toggleable__control:checked~label.sk-toggleable__label {background-color: #d4ebff;}#sk-container-id-8 input.sk-hidden--visually {border: 0;clip: rect(1px 1px 1px 1px);clip: rect(1px, 1px, 1px, 1px);height: 1px;margin: -1px;overflow: hidden;padding: 0;position: absolute;width: 1px;}#sk-container-id-8 div.sk-estimator {font-family: monospace;background-color: #f0f8ff;border: 1px dotted black;border-radius: 0.25em;box-sizing: border-box;margin-bottom: 0.5em;}#sk-container-id-8 div.sk-estimator:hover {background-color: #d4ebff;}#sk-container-id-8 div.sk-parallel-item::after {content: \"\";width: 100%;border-bottom: 1px solid gray;flex-grow: 1;}#sk-container-id-8 div.sk-label:hover label.sk-toggleable__label {background-color: #d4ebff;}#sk-container-id-8 div.sk-serial::before {content: \"\";position: absolute;border-left: 1px solid gray;box-sizing: border-box;top: 0;bottom: 0;left: 50%;z-index: 0;}#sk-container-id-8 div.sk-serial {display: flex;flex-direction: column;align-items: center;background-color: white;padding-right: 0.2em;padding-left: 0.2em;position: relative;}#sk-container-id-8 div.sk-item {position: relative;z-index: 1;}#sk-container-id-8 div.sk-parallel {display: flex;align-items: stretch;justify-content: center;background-color: white;position: relative;}#sk-container-id-8 div.sk-item::before, #sk-container-id-8 div.sk-parallel-item::before {content: \"\";position: absolute;border-left: 1px solid gray;box-sizing: border-box;top: 0;bottom: 0;left: 50%;z-index: -1;}#sk-container-id-8 div.sk-parallel-item {display: flex;flex-direction: column;z-index: 1;position: relative;background-color: white;}#sk-container-id-8 div.sk-parallel-item:first-child::after {align-self: flex-end;width: 50%;}#sk-container-id-8 div.sk-parallel-item:last-child::after {align-self: flex-start;width: 50%;}#sk-container-id-8 div.sk-parallel-item:only-child::after {width: 0;}#sk-container-id-8 div.sk-dashed-wrapped {border: 1px dashed gray;margin: 0 0.4em 0.5em 0.4em;box-sizing: border-box;padding-bottom: 0.4em;background-color: white;}#sk-container-id-8 div.sk-label label {font-family: monospace;font-weight: bold;display: inline-block;line-height: 1.2em;}#sk-container-id-8 div.sk-label-container {text-align: center;}#sk-container-id-8 div.sk-container {/* jupyter's `normalize.less` sets `[hidden] { display: none; }` but bootstrap.min.css set `[hidden] { display: none !important; }` so we also need the `!important` here to be able to override the default hidden behavior on the sphinx rendered scikit-learn.org. See: https://github.com/scikit-learn/scikit-learn/issues/21755 */display: inline-block !important;position: relative;}#sk-container-id-8 div.sk-text-repr-fallback {display: none;}</style><div id=\"sk-container-id-8\" class=\"sk-top-container\"><div class=\"sk-text-repr-fallback\"><pre>Pipeline(steps=[(&#x27;scale&#x27;, StandardScaler()),\n",
              "                (&#x27;polynomial&#x27;, PolynomialFeatures(include_bias=False)),\n",
              "                (&#x27;model&#x27;, LinearRegression())])</pre><b>In a Jupyter environment, please rerun this cell to show the HTML representation or trust the notebook. <br />On GitHub, the HTML representation is unable to render, please try loading this page with nbviewer.org.</b></div><div class=\"sk-container\" hidden><div class=\"sk-item sk-dashed-wrapped\"><div class=\"sk-label-container\"><div class=\"sk-label sk-toggleable\"><input class=\"sk-toggleable__control sk-hidden--visually\" id=\"sk-estimator-id-8\" type=\"checkbox\" ><label for=\"sk-estimator-id-8\" class=\"sk-toggleable__label sk-toggleable__label-arrow\">Pipeline</label><div class=\"sk-toggleable__content\"><pre>Pipeline(steps=[(&#x27;scale&#x27;, StandardScaler()),\n",
              "                (&#x27;polynomial&#x27;, PolynomialFeatures(include_bias=False)),\n",
              "                (&#x27;model&#x27;, LinearRegression())])</pre></div></div></div><div class=\"sk-serial\"><div class=\"sk-item\"><div class=\"sk-estimator sk-toggleable\"><input class=\"sk-toggleable__control sk-hidden--visually\" id=\"sk-estimator-id-9\" type=\"checkbox\" ><label for=\"sk-estimator-id-9\" class=\"sk-toggleable__label sk-toggleable__label-arrow\">StandardScaler</label><div class=\"sk-toggleable__content\"><pre>StandardScaler()</pre></div></div></div><div class=\"sk-item\"><div class=\"sk-estimator sk-toggleable\"><input class=\"sk-toggleable__control sk-hidden--visually\" id=\"sk-estimator-id-10\" type=\"checkbox\" ><label for=\"sk-estimator-id-10\" class=\"sk-toggleable__label sk-toggleable__label-arrow\">PolynomialFeatures</label><div class=\"sk-toggleable__content\"><pre>PolynomialFeatures(include_bias=False)</pre></div></div></div><div class=\"sk-item\"><div class=\"sk-estimator sk-toggleable\"><input class=\"sk-toggleable__control sk-hidden--visually\" id=\"sk-estimator-id-11\" type=\"checkbox\" ><label for=\"sk-estimator-id-11\" class=\"sk-toggleable__label sk-toggleable__label-arrow\">LinearRegression</label><div class=\"sk-toggleable__content\"><pre>LinearRegression()</pre></div></div></div></div></div></div></div>"
            ]
          },
          "metadata": {},
          "execution_count": 44
        }
      ]
    },
    {
      "cell_type": "code",
      "source": [
        "Z = Z.astype(float)\n",
        "pipe.fit(Z,y)"
      ],
      "metadata": {
        "colab": {
          "base_uri": "https://localhost:8080/",
          "height": 161
        },
        "id": "I1MSbKVXCiRd",
        "outputId": "ea2b901f-33d1-4dcd-da5d-3df654b14b6c"
      },
      "execution_count": 45,
      "outputs": [
        {
          "output_type": "execute_result",
          "data": {
            "text/plain": [
              "Pipeline(steps=[('scale', StandardScaler()),\n",
              "                ('polynomial', PolynomialFeatures(include_bias=False)),\n",
              "                ('model', LinearRegression())])"
            ],
            "text/html": [
              "<style>#sk-container-id-9 {color: black;}#sk-container-id-9 pre{padding: 0;}#sk-container-id-9 div.sk-toggleable {background-color: white;}#sk-container-id-9 label.sk-toggleable__label {cursor: pointer;display: block;width: 100%;margin-bottom: 0;padding: 0.3em;box-sizing: border-box;text-align: center;}#sk-container-id-9 label.sk-toggleable__label-arrow:before {content: \"▸\";float: left;margin-right: 0.25em;color: #696969;}#sk-container-id-9 label.sk-toggleable__label-arrow:hover:before {color: black;}#sk-container-id-9 div.sk-estimator:hover label.sk-toggleable__label-arrow:before {color: black;}#sk-container-id-9 div.sk-toggleable__content {max-height: 0;max-width: 0;overflow: hidden;text-align: left;background-color: #f0f8ff;}#sk-container-id-9 div.sk-toggleable__content pre {margin: 0.2em;color: black;border-radius: 0.25em;background-color: #f0f8ff;}#sk-container-id-9 input.sk-toggleable__control:checked~div.sk-toggleable__content {max-height: 200px;max-width: 100%;overflow: auto;}#sk-container-id-9 input.sk-toggleable__control:checked~label.sk-toggleable__label-arrow:before {content: \"▾\";}#sk-container-id-9 div.sk-estimator input.sk-toggleable__control:checked~label.sk-toggleable__label {background-color: #d4ebff;}#sk-container-id-9 div.sk-label input.sk-toggleable__control:checked~label.sk-toggleable__label {background-color: #d4ebff;}#sk-container-id-9 input.sk-hidden--visually {border: 0;clip: rect(1px 1px 1px 1px);clip: rect(1px, 1px, 1px, 1px);height: 1px;margin: -1px;overflow: hidden;padding: 0;position: absolute;width: 1px;}#sk-container-id-9 div.sk-estimator {font-family: monospace;background-color: #f0f8ff;border: 1px dotted black;border-radius: 0.25em;box-sizing: border-box;margin-bottom: 0.5em;}#sk-container-id-9 div.sk-estimator:hover {background-color: #d4ebff;}#sk-container-id-9 div.sk-parallel-item::after {content: \"\";width: 100%;border-bottom: 1px solid gray;flex-grow: 1;}#sk-container-id-9 div.sk-label:hover label.sk-toggleable__label {background-color: #d4ebff;}#sk-container-id-9 div.sk-serial::before {content: \"\";position: absolute;border-left: 1px solid gray;box-sizing: border-box;top: 0;bottom: 0;left: 50%;z-index: 0;}#sk-container-id-9 div.sk-serial {display: flex;flex-direction: column;align-items: center;background-color: white;padding-right: 0.2em;padding-left: 0.2em;position: relative;}#sk-container-id-9 div.sk-item {position: relative;z-index: 1;}#sk-container-id-9 div.sk-parallel {display: flex;align-items: stretch;justify-content: center;background-color: white;position: relative;}#sk-container-id-9 div.sk-item::before, #sk-container-id-9 div.sk-parallel-item::before {content: \"\";position: absolute;border-left: 1px solid gray;box-sizing: border-box;top: 0;bottom: 0;left: 50%;z-index: -1;}#sk-container-id-9 div.sk-parallel-item {display: flex;flex-direction: column;z-index: 1;position: relative;background-color: white;}#sk-container-id-9 div.sk-parallel-item:first-child::after {align-self: flex-end;width: 50%;}#sk-container-id-9 div.sk-parallel-item:last-child::after {align-self: flex-start;width: 50%;}#sk-container-id-9 div.sk-parallel-item:only-child::after {width: 0;}#sk-container-id-9 div.sk-dashed-wrapped {border: 1px dashed gray;margin: 0 0.4em 0.5em 0.4em;box-sizing: border-box;padding-bottom: 0.4em;background-color: white;}#sk-container-id-9 div.sk-label label {font-family: monospace;font-weight: bold;display: inline-block;line-height: 1.2em;}#sk-container-id-9 div.sk-label-container {text-align: center;}#sk-container-id-9 div.sk-container {/* jupyter's `normalize.less` sets `[hidden] { display: none; }` but bootstrap.min.css set `[hidden] { display: none !important; }` so we also need the `!important` here to be able to override the default hidden behavior on the sphinx rendered scikit-learn.org. See: https://github.com/scikit-learn/scikit-learn/issues/21755 */display: inline-block !important;position: relative;}#sk-container-id-9 div.sk-text-repr-fallback {display: none;}</style><div id=\"sk-container-id-9\" class=\"sk-top-container\"><div class=\"sk-text-repr-fallback\"><pre>Pipeline(steps=[(&#x27;scale&#x27;, StandardScaler()),\n",
              "                (&#x27;polynomial&#x27;, PolynomialFeatures(include_bias=False)),\n",
              "                (&#x27;model&#x27;, LinearRegression())])</pre><b>In a Jupyter environment, please rerun this cell to show the HTML representation or trust the notebook. <br />On GitHub, the HTML representation is unable to render, please try loading this page with nbviewer.org.</b></div><div class=\"sk-container\" hidden><div class=\"sk-item sk-dashed-wrapped\"><div class=\"sk-label-container\"><div class=\"sk-label sk-toggleable\"><input class=\"sk-toggleable__control sk-hidden--visually\" id=\"sk-estimator-id-12\" type=\"checkbox\" ><label for=\"sk-estimator-id-12\" class=\"sk-toggleable__label sk-toggleable__label-arrow\">Pipeline</label><div class=\"sk-toggleable__content\"><pre>Pipeline(steps=[(&#x27;scale&#x27;, StandardScaler()),\n",
              "                (&#x27;polynomial&#x27;, PolynomialFeatures(include_bias=False)),\n",
              "                (&#x27;model&#x27;, LinearRegression())])</pre></div></div></div><div class=\"sk-serial\"><div class=\"sk-item\"><div class=\"sk-estimator sk-toggleable\"><input class=\"sk-toggleable__control sk-hidden--visually\" id=\"sk-estimator-id-13\" type=\"checkbox\" ><label for=\"sk-estimator-id-13\" class=\"sk-toggleable__label sk-toggleable__label-arrow\">StandardScaler</label><div class=\"sk-toggleable__content\"><pre>StandardScaler()</pre></div></div></div><div class=\"sk-item\"><div class=\"sk-estimator sk-toggleable\"><input class=\"sk-toggleable__control sk-hidden--visually\" id=\"sk-estimator-id-14\" type=\"checkbox\" ><label for=\"sk-estimator-id-14\" class=\"sk-toggleable__label sk-toggleable__label-arrow\">PolynomialFeatures</label><div class=\"sk-toggleable__content\"><pre>PolynomialFeatures(include_bias=False)</pre></div></div></div><div class=\"sk-item\"><div class=\"sk-estimator sk-toggleable\"><input class=\"sk-toggleable__control sk-hidden--visually\" id=\"sk-estimator-id-15\" type=\"checkbox\" ><label for=\"sk-estimator-id-15\" class=\"sk-toggleable__label sk-toggleable__label-arrow\">LinearRegression</label><div class=\"sk-toggleable__content\"><pre>LinearRegression()</pre></div></div></div></div></div></div></div>"
            ]
          },
          "metadata": {},
          "execution_count": 45
        }
      ]
    },
    {
      "cell_type": "code",
      "source": [
        "ypipe=pipe.predict(Z)\n",
        "ypipe[0:4]"
      ],
      "metadata": {
        "colab": {
          "base_uri": "https://localhost:8080/"
        },
        "id": "TyUEG_XgCjxX",
        "outputId": "0d537791-867e-4e48-a754-2cadf767ea1a"
      },
      "execution_count": 46,
      "outputs": [
        {
          "output_type": "execute_result",
          "data": {
            "text/plain": [
              "array([13102.74784201, 13102.74784201, 18225.54572197, 10390.29636555])"
            ]
          },
          "metadata": {},
          "execution_count": 46
        }
      ]
    },
    {
      "cell_type": "code",
      "source": [
        "Input=[('scale',StandardScaler()),('model',LinearRegression())]\n",
        "\n",
        "pipe=Pipeline(Input)\n",
        "\n",
        "pipe.fit(Z,y)\n",
        "\n",
        "ypipe=pipe.predict(Z)\n",
        "ypipe[0:10]"
      ],
      "metadata": {
        "colab": {
          "base_uri": "https://localhost:8080/"
        },
        "id": "CH6mkDc3CmJX",
        "outputId": "a152dff1-f05c-4a8a-870e-865b08a55135"
      },
      "execution_count": 47,
      "outputs": [
        {
          "output_type": "execute_result",
          "data": {
            "text/plain": [
              "array([13699.11161184, 13699.11161184, 19051.65470233, 10620.36193015,\n",
              "       15521.31420211, 13869.66673213, 15456.16196732, 15974.00907672,\n",
              "       17612.35917161, 10722.32509097])"
            ]
          },
          "metadata": {},
          "execution_count": 47
        }
      ]
    },
    {
      "cell_type": "code",
      "source": [
        "#highway_mpg_fit\n",
        "lm.fit(X, Y)\n",
        "# Find the R^2\n",
        "print('The R-square is: ', lm.score(X, Y))"
      ],
      "metadata": {
        "colab": {
          "base_uri": "https://localhost:8080/"
        },
        "id": "tSu4hck6Cok8",
        "outputId": "a8d5c54e-b9e9-4492-b5e7-712908f449d5"
      },
      "execution_count": 48,
      "outputs": [
        {
          "output_type": "stream",
          "name": "stdout",
          "text": [
            "The R-square is:  0.4965911884339176\n"
          ]
        }
      ]
    },
    {
      "cell_type": "code",
      "source": [
        "Yhat=lm.predict(X)\n",
        "print('The output of the first four predicted value is: ', Yhat[0:4])"
      ],
      "metadata": {
        "colab": {
          "base_uri": "https://localhost:8080/"
        },
        "id": "BW0l2BZsCqdy",
        "outputId": "53697457-fabb-4226-c282-c80de7828ee7"
      },
      "execution_count": 49,
      "outputs": [
        {
          "output_type": "stream",
          "name": "stdout",
          "text": [
            "The output of the first four predicted value is:  [16236.50464347 16236.50464347 17058.23802179 13771.3045085 ]\n"
          ]
        }
      ]
    },
    {
      "cell_type": "code",
      "source": [
        "from sklearn.metrics import mean_squared_error"
      ],
      "metadata": {
        "id": "-nzR_R6jCtuO"
      },
      "execution_count": 50,
      "outputs": []
    },
    {
      "cell_type": "code",
      "source": [
        "mse = mean_squared_error(df['price'], Yhat)\n",
        "print('The mean square error of price and predicted value is: ', mse)"
      ],
      "metadata": {
        "colab": {
          "base_uri": "https://localhost:8080/"
        },
        "id": "h6gGRjyDCwkN",
        "outputId": "7216e7db-bb85-4f1f-c5c5-8a61bdde47bb"
      },
      "execution_count": 51,
      "outputs": [
        {
          "output_type": "stream",
          "name": "stdout",
          "text": [
            "The mean square error of price and predicted value is:  31635042.944639888\n"
          ]
        }
      ]
    },
    {
      "cell_type": "code",
      "source": [
        "# fit the model\n",
        "lm.fit(Z, df['price'])\n",
        "# Find the R^2\n",
        "print('The R-square is: ', lm.score(Z, df['price']))"
      ],
      "metadata": {
        "colab": {
          "base_uri": "https://localhost:8080/"
        },
        "id": "vaj4nu-ECyrt",
        "outputId": "13d78d5d-8d3f-4e75-da01-90977d9cac2f"
      },
      "execution_count": 52,
      "outputs": [
        {
          "output_type": "stream",
          "name": "stdout",
          "text": [
            "The R-square is:  0.8093562806577457\n"
          ]
        }
      ]
    },
    {
      "cell_type": "code",
      "source": [
        "Y_predict_multifit = lm.predict(Z)"
      ],
      "metadata": {
        "id": "-wEwF272C0HL"
      },
      "execution_count": 53,
      "outputs": []
    },
    {
      "cell_type": "code",
      "source": [
        "print('The mean square error of price and predicted value using multifit is: ', \\\n",
        "      mean_squared_error(df['price'], Y_predict_multifit))"
      ],
      "metadata": {
        "colab": {
          "base_uri": "https://localhost:8080/"
        },
        "id": "DBr1oAfYC2Xm",
        "outputId": "0e17a21f-34a5-4015-bc12-f44e5492302e"
      },
      "execution_count": 54,
      "outputs": [
        {
          "output_type": "stream",
          "name": "stdout",
          "text": [
            "The mean square error of price and predicted value using multifit is:  11980366.87072649\n"
          ]
        }
      ]
    },
    {
      "cell_type": "code",
      "source": [
        "from sklearn.metrics import r2_score"
      ],
      "metadata": {
        "id": "aeEy6uxfC4CB"
      },
      "execution_count": 55,
      "outputs": []
    },
    {
      "cell_type": "code",
      "source": [
        "r_squared = r2_score(y, p(x))\n",
        "print('The R-square value is: ', r_squared)"
      ],
      "metadata": {
        "colab": {
          "base_uri": "https://localhost:8080/"
        },
        "id": "d35oX_7BC5oI",
        "outputId": "b6ebad9f-9e5a-4598-a505-48a954623e37"
      },
      "execution_count": 56,
      "outputs": [
        {
          "output_type": "stream",
          "name": "stdout",
          "text": [
            "The R-square value is:  0.674194666390652\n"
          ]
        }
      ]
    },
    {
      "cell_type": "code",
      "source": [
        "mean_squared_error(df['price'], p(x))"
      ],
      "metadata": {
        "colab": {
          "base_uri": "https://localhost:8080/"
        },
        "id": "XKVAZD_NC7y2",
        "outputId": "51897074-6379-48bd-e9ef-a1070df471a4"
      },
      "execution_count": 57,
      "outputs": [
        {
          "output_type": "execute_result",
          "data": {
            "text/plain": [
              "20474146.426361218"
            ]
          },
          "metadata": {},
          "execution_count": 57
        }
      ]
    },
    {
      "cell_type": "code",
      "source": [
        "import matplotlib.pyplot as plt\n",
        "import numpy as np\n",
        "\n",
        "%matplotlib inline"
      ],
      "metadata": {
        "id": "DRBVLWAMC9wv"
      },
      "execution_count": 58,
      "outputs": []
    },
    {
      "cell_type": "code",
      "source": [
        "new_input=np.arange(1, 100, 1).reshape(-1, 1)"
      ],
      "metadata": {
        "id": "y0oqJz5SC_uX"
      },
      "execution_count": 59,
      "outputs": []
    },
    {
      "cell_type": "code",
      "source": [
        "lm.fit(X, Y)\n",
        "lm"
      ],
      "metadata": {
        "colab": {
          "base_uri": "https://localhost:8080/",
          "height": 75
        },
        "id": "tAGKzPSrDBbF",
        "outputId": "f93448f2-2e5d-4feb-f774-a5929fe78993"
      },
      "execution_count": 60,
      "outputs": [
        {
          "output_type": "execute_result",
          "data": {
            "text/plain": [
              "LinearRegression()"
            ],
            "text/html": [
              "<style>#sk-container-id-10 {color: black;}#sk-container-id-10 pre{padding: 0;}#sk-container-id-10 div.sk-toggleable {background-color: white;}#sk-container-id-10 label.sk-toggleable__label {cursor: pointer;display: block;width: 100%;margin-bottom: 0;padding: 0.3em;box-sizing: border-box;text-align: center;}#sk-container-id-10 label.sk-toggleable__label-arrow:before {content: \"▸\";float: left;margin-right: 0.25em;color: #696969;}#sk-container-id-10 label.sk-toggleable__label-arrow:hover:before {color: black;}#sk-container-id-10 div.sk-estimator:hover label.sk-toggleable__label-arrow:before {color: black;}#sk-container-id-10 div.sk-toggleable__content {max-height: 0;max-width: 0;overflow: hidden;text-align: left;background-color: #f0f8ff;}#sk-container-id-10 div.sk-toggleable__content pre {margin: 0.2em;color: black;border-radius: 0.25em;background-color: #f0f8ff;}#sk-container-id-10 input.sk-toggleable__control:checked~div.sk-toggleable__content {max-height: 200px;max-width: 100%;overflow: auto;}#sk-container-id-10 input.sk-toggleable__control:checked~label.sk-toggleable__label-arrow:before {content: \"▾\";}#sk-container-id-10 div.sk-estimator input.sk-toggleable__control:checked~label.sk-toggleable__label {background-color: #d4ebff;}#sk-container-id-10 div.sk-label input.sk-toggleable__control:checked~label.sk-toggleable__label {background-color: #d4ebff;}#sk-container-id-10 input.sk-hidden--visually {border: 0;clip: rect(1px 1px 1px 1px);clip: rect(1px, 1px, 1px, 1px);height: 1px;margin: -1px;overflow: hidden;padding: 0;position: absolute;width: 1px;}#sk-container-id-10 div.sk-estimator {font-family: monospace;background-color: #f0f8ff;border: 1px dotted black;border-radius: 0.25em;box-sizing: border-box;margin-bottom: 0.5em;}#sk-container-id-10 div.sk-estimator:hover {background-color: #d4ebff;}#sk-container-id-10 div.sk-parallel-item::after {content: \"\";width: 100%;border-bottom: 1px solid gray;flex-grow: 1;}#sk-container-id-10 div.sk-label:hover label.sk-toggleable__label {background-color: #d4ebff;}#sk-container-id-10 div.sk-serial::before {content: \"\";position: absolute;border-left: 1px solid gray;box-sizing: border-box;top: 0;bottom: 0;left: 50%;z-index: 0;}#sk-container-id-10 div.sk-serial {display: flex;flex-direction: column;align-items: center;background-color: white;padding-right: 0.2em;padding-left: 0.2em;position: relative;}#sk-container-id-10 div.sk-item {position: relative;z-index: 1;}#sk-container-id-10 div.sk-parallel {display: flex;align-items: stretch;justify-content: center;background-color: white;position: relative;}#sk-container-id-10 div.sk-item::before, #sk-container-id-10 div.sk-parallel-item::before {content: \"\";position: absolute;border-left: 1px solid gray;box-sizing: border-box;top: 0;bottom: 0;left: 50%;z-index: -1;}#sk-container-id-10 div.sk-parallel-item {display: flex;flex-direction: column;z-index: 1;position: relative;background-color: white;}#sk-container-id-10 div.sk-parallel-item:first-child::after {align-self: flex-end;width: 50%;}#sk-container-id-10 div.sk-parallel-item:last-child::after {align-self: flex-start;width: 50%;}#sk-container-id-10 div.sk-parallel-item:only-child::after {width: 0;}#sk-container-id-10 div.sk-dashed-wrapped {border: 1px dashed gray;margin: 0 0.4em 0.5em 0.4em;box-sizing: border-box;padding-bottom: 0.4em;background-color: white;}#sk-container-id-10 div.sk-label label {font-family: monospace;font-weight: bold;display: inline-block;line-height: 1.2em;}#sk-container-id-10 div.sk-label-container {text-align: center;}#sk-container-id-10 div.sk-container {/* jupyter's `normalize.less` sets `[hidden] { display: none; }` but bootstrap.min.css set `[hidden] { display: none !important; }` so we also need the `!important` here to be able to override the default hidden behavior on the sphinx rendered scikit-learn.org. See: https://github.com/scikit-learn/scikit-learn/issues/21755 */display: inline-block !important;position: relative;}#sk-container-id-10 div.sk-text-repr-fallback {display: none;}</style><div id=\"sk-container-id-10\" class=\"sk-top-container\"><div class=\"sk-text-repr-fallback\"><pre>LinearRegression()</pre><b>In a Jupyter environment, please rerun this cell to show the HTML representation or trust the notebook. <br />On GitHub, the HTML representation is unable to render, please try loading this page with nbviewer.org.</b></div><div class=\"sk-container\" hidden><div class=\"sk-item\"><div class=\"sk-estimator sk-toggleable\"><input class=\"sk-toggleable__control sk-hidden--visually\" id=\"sk-estimator-id-16\" type=\"checkbox\" checked><label for=\"sk-estimator-id-16\" class=\"sk-toggleable__label sk-toggleable__label-arrow\">LinearRegression</label><div class=\"sk-toggleable__content\"><pre>LinearRegression()</pre></div></div></div></div></div>"
            ]
          },
          "metadata": {},
          "execution_count": 60
        }
      ]
    },
    {
      "cell_type": "code",
      "source": [
        "yhat=lm.predict(new_input)\n",
        "yhat[0:5]"
      ],
      "metadata": {
        "colab": {
          "base_uri": "https://localhost:8080/"
        },
        "id": "ur4IbmVoDDyw",
        "outputId": "468087db-f559-492a-c510-26756cc05324"
      },
      "execution_count": 61,
      "outputs": [
        {
          "output_type": "stream",
          "name": "stderr",
          "text": [
            "/usr/local/lib/python3.10/dist-packages/sklearn/base.py:465: UserWarning: X does not have valid feature names, but LinearRegression was fitted with feature names\n",
            "  warnings.warn(\n"
          ]
        },
        {
          "output_type": "execute_result",
          "data": {
            "text/plain": [
              "array([37601.57247984, 36779.83910151, 35958.10572319, 35136.37234487,\n",
              "       34314.63896655])"
            ]
          },
          "metadata": {},
          "execution_count": 61
        }
      ]
    },
    {
      "cell_type": "code",
      "source": [
        "plt.plot(new_input, yhat)\n",
        "plt.show()"
      ],
      "metadata": {
        "colab": {
          "base_uri": "https://localhost:8080/",
          "height": 430
        },
        "id": "dHP6rRBLDGFp",
        "outputId": "32024fec-10d2-47ba-f710-8addba726cea"
      },
      "execution_count": 62,
      "outputs": [
        {
          "output_type": "display_data",
          "data": {
            "text/plain": [
              "<Figure size 640x480 with 1 Axes>"
            ],
            "image/png": "[encoded data removed]"
          },
          "metadata": {}
        }
      ]
    }
  ]
}